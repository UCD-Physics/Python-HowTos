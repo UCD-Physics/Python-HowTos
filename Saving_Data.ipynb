{
 "cells": [
  {
   "cell_type": "markdown",
   "id": "cfd639c3",
   "metadata": {},
   "source": [
    "# Saving data to a file.\n",
    "\n",
    "In this How To we are only considering saving data to a text file and not a binary file.\n",
    "\n",
    "We will also assume that we have `import numpy as np`.\n",
    "\n",
    "In this section we will focus on saving data to a file using `np.savetxt()` and reading the data back using `np.loadtxt()`\n",
    "\n",
    "For a full description of `np.savetxt()` see [the NumPy documentation](https://numpy.org/doc/stable/reference/generated/numpy.savetxt.html)\n",
    "\n",
    "## Simplest usage (saves data row-wise)\n",
    "\n",
    "The simplest usage is `np.savetxt(filename, array)` where filename is a string which contains the name of the file and array is a 1D or 2D NumPy array. There are also options for specifying format of the numbers written and headers, comments, etc. \n",
    "\n",
    "As you can see, to save more than one array we need to combine them together into one 2D array. The simplest is to simply use square brackets, e.g. if we have arrays `x` and `y` we can use `[x, y]`, \n",
    "``` python\n",
    "np.savetxt(\"my_data.txt\", [x, y])\n",
    "```\n",
    "This will save the two arrays row-wise (`x` will be the first row and `y` will be the second row). For more than a few points this can be quite unreadable in a text editor or spreadsheet if you wish to inspect the data.\n",
    "\n",
    "Examples:"
   ]
  },
  {
   "cell_type": "markdown",
   "id": "2e2ee6f0",
   "metadata": {},
   "source": [
    "## `numpy.savetxt()` default row-wise."
   ]
  },
  {
   "cell_type": "code",
   "execution_count": 28,
   "id": "2d165dfd",
   "metadata": {},
   "outputs": [],
   "source": [
    "# example: saving a single array (row-wise by default)\n",
    "\n",
    "import numpy as np\n",
    "\n",
    "x = np.arange(10)\n",
    "\n",
    "np.savetxt(\"savetxt_1.txt\", x)"
   ]
  },
  {
   "cell_type": "code",
   "execution_count": 26,
   "id": "86739cb9",
   "metadata": {},
   "outputs": [],
   "source": [
    "# example: saving two arrays (row-wise by default)\n",
    "\n",
    "import numpy as np\n",
    "\n",
    "x = np.arange(10)\n",
    "y = 10 * x\n",
    "\n",
    "np.savetxt(\"savetxt_2.txt\", [x, y])"
   ]
  },
  {
   "cell_type": "markdown",
   "id": "2090ab4e",
   "metadata": {},
   "source": [
    "## Saving data column-wise\n",
    "\n",
    "To save the data column-wise we can use `np.column_stack([x,y])`:\n",
    "``` python\n",
    "np.savetxt(\"my_data.txt\", np.column_stack([x,y]))\n",
    "```\n",
    "\n",
    "Example:"
   ]
  },
  {
   "cell_type": "code",
   "execution_count": 26,
   "id": "2ff0f770",
   "metadata": {},
   "outputs": [],
   "source": [
    "# example: saving two arrays (column-wise)\n",
    "\n",
    "import numpy as np\n",
    "\n",
    "x = np.arange(10)\n",
    "y = 10 * x\n",
    "\n",
    "np.savetxt(\"savetxt_2.txt\", np.column_stack([x, y]))"
   ]
  },
  {
   "cell_type": "code",
   "execution_count": 27,
   "id": "4064a7f5",
   "metadata": {},
   "outputs": [
    {
     "name": "stdout",
     "output_type": "stream",
     "text": [
      "# Hello\r\n",
      "0 00.0\r\n",
      "1 10.0\r\n",
      "2 20.0\r\n",
      "3 30.0\r\n",
      "4 40.0\r\n",
      "5 50.0\r\n",
      "6 60.0\r\n",
      "7 70.0\r\n",
      "8 80.0\r\n",
      "9 90.0\r\n"
     ]
    }
   ],
   "source": [
    "!cat example_data_file.txt"
   ]
  },
  {
   "cell_type": "code",
   "execution_count": null,
   "id": "b2df36bc",
   "metadata": {},
   "outputs": [],
   "source": []
  }
 ],
 "metadata": {
  "kernelspec": {
   "display_name": "Python 3 (ipykernel)",
   "language": "python",
   "name": "python3"
  },
  "language_info": {
   "codemirror_mode": {
    "name": "ipython",
    "version": 3
   },
   "file_extension": ".py",
   "mimetype": "text/x-python",
   "name": "python",
   "nbconvert_exporter": "python",
   "pygments_lexer": "ipython3",
   "version": "3.9.7"
  },
  "latex_envs": {
   "LaTeX_envs_menu_present": true,
   "autoclose": true,
   "autocomplete": true,
   "bibliofile": "biblio.bib",
   "cite_by": "apalike",
   "current_citInitial": 1,
   "eqLabelWithNumbers": true,
   "eqNumInitial": 1,
   "hotkeys": {
    "equation": "Ctrl-E",
    "itemize": "Ctrl-I"
   },
   "labels_anchors": false,
   "latex_user_defs": false,
   "report_style_numbering": true,
   "user_envs_cfg": false
  },
  "toc": {
   "base_numbering": 1,
   "nav_menu": {},
   "number_sections": true,
   "sideBar": true,
   "skip_h1_title": false,
   "title_cell": "Table of Contents",
   "title_sidebar": "Contents",
   "toc_cell": false,
   "toc_position": {},
   "toc_section_display": true,
   "toc_window_display": false
  },
  "varInspector": {
   "cols": {
    "lenName": 16,
    "lenType": 16,
    "lenVar": 40
   },
   "kernels_config": {
    "python": {
     "delete_cmd_postfix": "",
     "delete_cmd_prefix": "del ",
     "library": "var_list.py",
     "varRefreshCmd": "print(var_dic_list())"
    },
    "r": {
     "delete_cmd_postfix": ") ",
     "delete_cmd_prefix": "rm(",
     "library": "var_list.r",
     "varRefreshCmd": "cat(var_dic_list()) "
    }
   },
   "types_to_exclude": [
    "module",
    "function",
    "builtin_function_or_method",
    "instance",
    "_Feature"
   ],
   "window_display": false
  }
 },
 "nbformat": 4,
 "nbformat_minor": 5
}
