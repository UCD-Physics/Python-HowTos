{
  "cells": [
    {
      "cell_type": "markdown",
      "metadata": {
        "id": "view-in-github",
        "colab_type": "text"
      },
      "source": [
        "<a href=\"https://colab.research.google.com/github/alvaphelan/Python-HowTos/blob/main/Matplotlib1.ipynb\" target=\"_parent\"><img src=\"https://colab.research.google.com/assets/colab-badge.svg\" alt=\"Open In Colab\"/></a>"
      ]
    },
    {
      "cell_type": "markdown",
      "id": "abae6bfe",
      "metadata": {
        "id": "abae6bfe"
      },
      "source": [
        "# Matplotlib\n",
        "\n",
        "Matplotlib is an extremely useful tool when it comes to plotting all types of data, and you will be using it frequently. Once again you must import this package before you start.\n"
      ]
    },
    {
      "cell_type": "code",
      "execution_count": 1,
      "id": "43b8e91b",
      "metadata": {
        "id": "43b8e91b"
      },
      "outputs": [],
      "source": [
        "import matplotlib.pyplot as plt\n",
        "#importing numpy too \n",
        "import numpy as np"
      ]
    },
    {
      "cell_type": "markdown",
      "id": "3982e17c",
      "metadata": {
        "id": "3982e17c"
      },
      "source": [
        "In this section, random functions will be used, but the same applies to all data that can be imported. \n",
        "\n",
        "*find section on how to import data here ([import_data](https://github.com/UCD-Physics/Python-HowTos/blob/main/Importing_Data.ipynb))*"
      ]
    },
    {
      "cell_type": "code",
      "execution_count": 2,
      "id": "9ef3ebc9",
      "metadata": {
        "id": "9ef3ebc9"
      },
      "outputs": [],
      "source": [
        "#creating functions to plot\n",
        "\n",
        "x = np.linspace(-50, 50, 40)\n",
        "y = 6*x -4 "
      ]
    },
    {
      "cell_type": "markdown",
      "id": "58a9caa7",
      "metadata": {
        "id": "58a9caa7"
      },
      "source": [
        "There are two ways to plot raw data, plt.scatter and plt.plot. Scatter is used if you are just looking to plot points, while plot will plot the shape of the data."
      ]
    },
    {
      "cell_type": "code",
      "execution_count": 3,
      "id": "5a0e2db0",
      "metadata": {
        "colab": {
          "base_uri": "https://localhost:8080/",
          "height": 282
        },
        "id": "5a0e2db0",
        "outputId": "c1081614-3bdd-40c6-88ee-6cfab0d44cf6"
      },
      "outputs": [
        {
          "output_type": "execute_result",
          "data": {
            "text/plain": [
              "<matplotlib.collections.PathCollection at 0x7fbf57ecb750>"
            ]
          },
          "metadata": {},
          "execution_count": 3
        },
        {
          "output_type": "display_data",
          "data": {
            "text/plain": [
              "<Figure size 432x288 with 1 Axes>"
            ],
            "image/png": "[encoded data removed]"
          },
          "metadata": {
            "needs_background": "light"
          }
        }
      ],
      "source": [
        "plt.scatter(x,y)"
      ]
    },
    {
      "cell_type": "code",
      "execution_count": 4,
      "id": "6c2c3a93",
      "metadata": {
        "colab": {
          "base_uri": "https://localhost:8080/",
          "height": 282
        },
        "id": "6c2c3a93",
        "outputId": "48663a4c-5d99-4952-87c3-dfc549cfed0c"
      },
      "outputs": [
        {
          "output_type": "execute_result",
          "data": {
            "text/plain": [
              "[<matplotlib.lines.Line2D at 0x7fbf579b9850>]"
            ]
          },
          "metadata": {},
          "execution_count": 4
        },
        {
          "output_type": "display_data",
          "data": {
            "text/plain": [
              "<Figure size 432x288 with 1 Axes>"
            ],
            "image/png": "[encoded data removed]"
          },
          "metadata": {
            "needs_background": "light"
          }
        }
      ],
      "source": [
        "plt.plot(x,y)"
      ]
    },
    {
      "cell_type": "markdown",
      "id": "b2509b70",
      "metadata": {
        "id": "b2509b70"
      },
      "source": [
        "Both can be useful for different things, but scatter is mostly used for experiments when plotting data obtained in the lab and then plot can be used to plot the theoretical values on top of it to see if they match.\n",
        "\n",
        "It is possible to change the way your function/data looks on the graph by using parameters in the plotting functions.\n",
        "\n",
        "- marker = '.' will allow you to change the size/shape of the data points (. for small dots, o for cirlces, x to make x's etc.) \n",
        "- color = 'red' will allow you to change the points to whatever colour you want. (*must be spelled the American way*)\n",
        "- label = 'data' will allow you to name the data and will be seen in the legend, this is useful when you have more than one line with different data on the same graph.\n",
        "\n",
        "\n",
        "The graphs can be manipulated in many ways in order to get them how you want them to look.\n",
        "\n",
        "- plt.grid(True) will add in a grid\n",
        "- plt.title(' ') will allow you to put in a title for your graph\n",
        "- plt.xlabel(' ') and plt.ylabel(' ') will allow you to put labels on the x and y axes\n",
        "- plt.legend(loc = 'upper left') will allow you to place a legend wherever you want on the graph"
      ]
    },
    {
      "cell_type": "code",
      "execution_count": 5,
      "id": "9ec2e054",
      "metadata": {
        "colab": {
          "base_uri": "https://localhost:8080/",
          "height": 312
        },
        "id": "9ec2e054",
        "outputId": "ef86fa99-8e84-4055-a0e5-c5d01c952028"
      },
      "outputs": [
        {
          "output_type": "execute_result",
          "data": {
            "text/plain": [
              "<matplotlib.legend.Legend at 0x7fbf57979890>"
            ]
          },
          "metadata": {},
          "execution_count": 5
        },
        {
          "output_type": "display_data",
          "data": {
            "text/plain": [
              "<Figure size 432x288 with 1 Axes>"
            ],
            "image/png": "[encoded data removed]"
          },
          "metadata": {
            "needs_background": "light"
          }
        }
      ],
      "source": [
        "#example\n",
        "plt.scatter(x, y, marker = '.', color = 'black', label = 'data')\n",
        "plt.plot(x, y, color = 'red', label = 'fit')\n",
        "plt.xlabel('X axis')\n",
        "plt.ylabel('Y axis')\n",
        "plt.title('Example Graph')\n",
        "plt.grid(True)\n",
        "plt.legend(loc = 'lower right')"
      ]
    },
    {
      "cell_type": "markdown",
      "id": "fe5e713a",
      "metadata": {
        "id": "fe5e713a"
      },
      "source": [
        "It is hugely important to label everything on your graphs. Having a title and labelling your axes can allow anyone looking to understand your graph straight away, they must be present on every graph you make. \n",
        "\n",
        "It is also vital to make the font size of your labels big enough so they can be read easily. This is done by the function 'plt.rcParams['font.size'] = '12''. This will default the parameters for the entire document and should be run *before* plotting."
      ]
    },
    {
      "cell_type": "code",
      "execution_count": 6,
      "id": "1c58cd1b",
      "metadata": {
        "colab": {
          "base_uri": "https://localhost:8080/",
          "height": 327
        },
        "id": "1c58cd1b",
        "outputId": "28ffcc1c-61c8-4f4b-f06c-efcd94008c0c"
      },
      "outputs": [
        {
          "output_type": "execute_result",
          "data": {
            "text/plain": [
              "<matplotlib.legend.Legend at 0x7fbf578ac0d0>"
            ]
          },
          "metadata": {},
          "execution_count": 6
        },
        {
          "output_type": "display_data",
          "data": {
            "text/plain": [
              "<Figure size 432x288 with 1 Axes>"
            ],
            "image/png": "[encoded data removed]"
          },
          "metadata": {
            "needs_background": "light"
          }
        }
      ],
      "source": [
        "#same example but changed font size\n",
        "plt.rcParams['font.size'] = '16' # 16 can be changed to whatever font size you're looking for\n",
        "plt.scatter(x, y, marker = '.', color = 'black', label = 'data')\n",
        "plt.plot(x, y, color = 'red', label = 'fit')\n",
        "plt.xlabel('X axis')\n",
        "plt.ylabel('Y axis')\n",
        "plt.title('Example Graph')\n",
        "plt.grid(True)\n",
        "plt.legend(loc = 'lower right')"
      ]
    },
    {
      "cell_type": "code",
      "execution_count": 6,
      "id": "ddb14ee5",
      "metadata": {
        "id": "ddb14ee5"
      },
      "outputs": [],
      "source": [
        ""
      ]
    },
    {
      "cell_type": "markdown",
      "source": [
        "It is also possible to save your graph in whatever format you want (pdf, png etc.) by the following:"
      ],
      "metadata": {
        "id": "ncpy7qGzlzPz"
      },
      "id": "ncpy7qGzlzPz"
    },
    {
      "cell_type": "code",
      "source": [
        "plt.savefig('example.pdf')"
      ],
      "metadata": {
        "colab": {
          "base_uri": "https://localhost:8080/",
          "height": 34
        },
        "id": "XOb-6RD2mqIP",
        "outputId": "67f822f6-91ac-4b6b-c35f-7f8bccf5cd8b"
      },
      "id": "XOb-6RD2mqIP",
      "execution_count": 7,
      "outputs": [
        {
          "output_type": "display_data",
          "data": {
            "text/plain": [
              "<Figure size 432x288 with 0 Axes>"
            ]
          },
          "metadata": {}
        }
      ]
    },
    {
      "cell_type": "code",
      "source": [
        ""
      ],
      "metadata": {
        "id": "9vWYYhKum01n"
      },
      "id": "9vWYYhKum01n",
      "execution_count": null,
      "outputs": []
    }
  ],
  "metadata": {
    "kernelspec": {
      "display_name": "Python 3",
      "language": "python",
      "name": "python3"
    },
    "language_info": {
      "codemirror_mode": {
        "name": "ipython",
        "version": 3
      },
      "file_extension": ".py",
      "mimetype": "text/x-python",
      "name": "python",
      "nbconvert_exporter": "python",
      "pygments_lexer": "ipython3",
      "version": "3.8.8"
    },
    "colab": {
      "name": "Matplotlib.ipynb",
      "provenance": [],
      "include_colab_link": true
    }
  },
  "nbformat": 4,
  "nbformat_minor": 5
}