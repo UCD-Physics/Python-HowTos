{
  "nbformat": 4,
  "nbformat_minor": 0,
  "metadata": {
    "colab": {
      "name": "f_strings.ipynb",
      "provenance": [],
      "include_colab_link": true
    },
    "kernelspec": {
      "name": "python3",
      "display_name": "Python 3"
    },
    "language_info": {
      "name": "python"
    }
  },
  "cells": [
    {
      "cell_type": "markdown",
      "metadata": {
        "id": "view-in-github",
        "colab_type": "text"
      },
      "source": [
        "<a href=\"https://colab.research.google.com/github/UCD-Physics/Python-HowTos/blob/main/f_strings.ipynb\" target=\"_parent\"><img src=\"https://colab.research.google.com/assets/colab-badge.svg\" alt=\"Open In Colab\"/></a>"
      ]
    },
    {
      "cell_type": "markdown",
      "source": [
        "# f-strings\n",
        "\n",
        "f-strings are an extremely useful tool for string formatting in python. \n",
        "\n",
        "They can be used for formatting for printing, saving to text files, and for formatting titles etc. for Matplotlib graphs.\n",
        "\n",
        "While there are other (older) ways to format strings in Python, f-strings are the modern and preferred way to format strings."
      ],
      "metadata": {
        "id": "akKpxgrffaoA"
      }
    },
    {
      "cell_type": "markdown",
      "source": [
        "## How to use f-strings?\n",
        "Begin by starting the string with an `f` or `F` and refer to the variables within the string between curly brackets `'{}'`, \n",
        "e.g. `f\"{pi}\" ` \n",
        "\n",
        "Optionally formatting can be specified using the ':' after the variable name and using format instructions (see here for the Python [format specification](https://docs.python.org/3/library/string.html#formatspec), e.g. `f\"{pi:.3f}\"`\n",
        "\n",
        "Calculations and functions can be done where the variable is specified, e.g. `f\"{2*pi}\" "
      ],
      "metadata": {
        "id": "7WeiTJMl20H2"
      }
    },
    {
      "cell_type": "markdown",
      "source": [
        "### Examples with strings"
      ],
      "metadata": {
        "id": "jHGhQznf9Sby"
      }
    },
    {
      "cell_type": "code",
      "source": [
        "# assign a variable\n",
        "\n",
        "place = 'ucd'\n",
        "\n",
        "# print out a statement\n",
        "\n",
        "print(f\"I'm studying in {place}\") # this gives an output\n",
        "\n",
        "print(f\"I'm studying in {place.upper()}\") # this gives an output"
      ],
      "metadata": {
        "colab": {
          "base_uri": "https://localhost:8080/"
        },
        "id": "CFNjdKKafTiQ",
        "outputId": "e533148b-40b9-4d8e-975f-208a0f0ee5fa"
      },
      "execution_count": 27,
      "outputs": [
        {
          "output_type": "stream",
          "name": "stdout",
          "text": [
            "I'm studying in ucd\n",
            "I'm studying in UCD\n"
          ]
        }
      ]
    },
    {
      "cell_type": "markdown",
      "source": [
        "## Examples with numbers\n",
        "\n",
        "These are also very useful when dealing with numbers as you can easily print out a desired number of decimal places."
      ],
      "metadata": {
        "id": "45b7o42WfkRP"
      }
    },
    {
      "cell_type": "code",
      "source": [
        "# pi as an example \n",
        "\n",
        "import math\n",
        "pi = math.pi\n",
        "\n",
        "#print out variable\n",
        "print(f\"pi has a value of {pi}\")"
      ],
      "metadata": {
        "colab": {
          "base_uri": "https://localhost:8080/"
        },
        "id": "p0VGHSxiffCb",
        "outputId": "3dadf51f-8c7f-48dd-fdc7-c7f97c541dc0"
      },
      "execution_count": 28,
      "outputs": [
        {
          "output_type": "stream",
          "name": "stdout",
          "text": [
            "pi has a value of 3.141592653589793\n"
          ]
        }
      ]
    },
    {
      "cell_type": "code",
      "source": [
        "# to a certain number of decimal places\n",
        "print(f\"pi has a value of {pi:.3f}\") #e.g. 3"
      ],
      "metadata": {
        "colab": {
          "base_uri": "https://localhost:8080/"
        },
        "id": "oQL6HYfkfnK_",
        "outputId": "1bb8560b-3388-452a-b2df-1c08e35b19f8"
      },
      "execution_count": 29,
      "outputs": [
        {
          "output_type": "stream",
          "name": "stdout",
          "text": [
            "pi has a value of 3.142\n"
          ]
        }
      ]
    },
    {
      "cell_type": "code",
      "source": [
        "# to a certain number of decimal places with padding\n",
        "print(f\"pi has a value of {pi:10.3f}\") #e.g. 10 characters with 3 decimal places\n",
        "print(f\"pi has a value of {pi:010.3f}\") #e.g. 10 characters with 3 decimal places, 0 padded"
      ],
      "metadata": {
        "id": "rEz4liLs6U6s",
        "outputId": "a687fe41-7850-4a76-9128-4ab6814a7bdd",
        "colab": {
          "base_uri": "https://localhost:8080/"
        }
      },
      "execution_count": 30,
      "outputs": [
        {
          "output_type": "stream",
          "name": "stdout",
          "text": [
            "pi has a value of      3.142\n",
            "pi has a value of 000003.142\n"
          ]
        }
      ]
    },
    {
      "cell_type": "code",
      "source": [
        "# using scientific notation\n",
        "\n",
        "h = 6.626e-34\n",
        "print(f\"Planck's constant has the value of {h:.4e}\")"
      ],
      "metadata": {
        "colab": {
          "base_uri": "https://localhost:8080/"
        },
        "id": "wj31h4Ipfp1i",
        "outputId": "2640f031-0038-4999-ec8e-7bdae9707e8b"
      },
      "execution_count": 43,
      "outputs": [
        {
          "output_type": "stream",
          "name": "stdout",
          "text": [
            "Planck's constant has the value of 6.6260e-34\n"
          ]
        }
      ]
    },
    {
      "cell_type": "code",
      "source": [
        "# automatically selecting whether to use scientific notation using :g\n",
        "\n",
        "x = 12.6\n",
        "h = 6.626e-34\n",
        "f\"{x:g} {h:g} {h:G}\""
      ],
      "metadata": {
        "id": "WzqcyTJs9y-l",
        "outputId": "6dbeb186-793f-4fee-a42f-b46b92fb5a17",
        "colab": {
          "base_uri": "https://localhost:8080/",
          "height": 37
        }
      },
      "execution_count": 42,
      "outputs": [
        {
          "output_type": "execute_result",
          "data": {
            "text/plain": [
              "'12.6 6.626e-34 6.626E-34'"
            ],
            "application/vnd.google.colaboratory.intrinsic+json": {
              "type": "string"
            }
          },
          "metadata": {},
          "execution_count": 42
        }
      ]
    },
    {
      "cell_type": "code",
      "source": [
        "# calculations\n",
        "\n",
        "angle_deg = 90\n",
        "print(f\"angle: {angle_deg:.2f} degrees = {angle_deg*pi/180.0:.2f} radians\")"
      ],
      "metadata": {
        "id": "IxzRf0mb622D",
        "outputId": "9199742e-1915-4777-c0ef-110da5bd01e2",
        "colab": {
          "base_uri": "https://localhost:8080/"
        }
      },
      "execution_count": 32,
      "outputs": [
        {
          "output_type": "stream",
          "name": "stdout",
          "text": [
            "angle: 90.00 degrees = 1.57 radians\n"
          ]
        }
      ]
    },
    {
      "cell_type": "code",
      "source": [
        "# functions\n",
        "\n",
        "import numpy as np\n",
        "\n",
        "angle_deg = 90\n",
        "print(f\"angle: {angle_deg:.2f} degrees = {np.deg2rad(angle_deg):.2f} radians\")\n",
        "\n"
      ],
      "metadata": {
        "id": "vFa1xl-g68D8",
        "outputId": "a8f549ce-4f46-4001-8c61-8d5452b2662f",
        "colab": {
          "base_uri": "https://localhost:8080/"
        }
      },
      "execution_count": 26,
      "outputs": [
        {
          "output_type": "stream",
          "name": "stdout",
          "text": [
            "angle: 90.00 degrees = 1.57 radians\n"
          ]
        }
      ]
    },
    {
      "cell_type": "markdown",
      "source": [
        "## Further reading\n",
        "\n",
        "There are many different things you can do with f-strings, including easily making things all upper or lower case as well as getting the length of your variable. These are explained in more detail here https://realpython.com/python-f-strings/. \n"
      ],
      "metadata": {
        "id": "_KabFsNKfvWF"
      }
    },
    {
      "cell_type": "code",
      "source": [],
      "metadata": {
        "id": "08dCeXjNfslA"
      },
      "execution_count": null,
      "outputs": []
    }
  ]
}