{
  "nbformat": 4,
  "nbformat_minor": 0,
  "metadata": {
    "colab": {
      "name": "matplotlib",
      "provenance": [],
      "authorship_tag": "ABX9TyPN8GGWfoll7iJ6dB/eDx/Q",
      "include_colab_link": true
    },
    "kernelspec": {
      "name": "python3",
      "display_name": "Python 3"
    },
    "language_info": {
      "name": "python"
    }
  },
  "cells": [
    {
      "cell_type": "markdown",
      "metadata": {
        "id": "view-in-github",
        "colab_type": "text"
      },
      "source": [
        "<a href=\"https://colab.research.google.com/github/alvaphelan/Python-HowTos/blob/main/matplotlib.ipynb\" target=\"_parent\"><img src=\"https://colab.research.google.com/assets/colab-badge.svg\" alt=\"Open In Colab\"/></a>"
      ]
    },
    {
      "cell_type": "code",
      "source": [
        ""
      ],
      "metadata": {
        "id": "_wleeabdvv6m"
      },
      "execution_count": null,
      "outputs": []
    },
    {
      "cell_type": "markdown",
      "source": [
        "# Matplotlib \n",
        "\n",
        "Matplotlib is an extremely useful tool when it comes to plotting all types of data, and you will be using it frequently. Once again you must import this package before you start."
      ],
      "metadata": {
        "id": "C603yplpCJFm"
      }
    },
    {
      "cell_type": "code",
      "source": [
        "import matplotlib.pyplot as plt\n",
        "#importing numpy too \n",
        "import numpy as np"
      ],
      "metadata": {
        "id": "q9-hwbuKB5_3"
      },
      "execution_count": 2,
      "outputs": []
    },
    {
      "cell_type": "markdown",
      "source": [
        "In this section, random functions will be used, but the same applies to all data that can is imported. \n",
        "\n",
        "*find section on how to import data here (link)*"
      ],
      "metadata": {
        "id": "FBOVylKECr8_"
      }
    },
    {
      "cell_type": "code",
      "source": [
        "#creating functions to plot\n",
        "\n",
        "x = np.linspace(-50, 100, 40)\n",
        "y = 6*x -4 "
      ],
      "metadata": {
        "id": "oPJV2vjUCwhK"
      },
      "execution_count": 3,
      "outputs": []
    },
    {
      "cell_type": "markdown",
      "source": [
        "There are two ways to plot raw data, plt.scatter and plt.plot. Scatter is used if you are just looking to plot points, while plot will plot the shape of the data."
      ],
      "metadata": {
        "id": "jmx-wuRDC0EY"
      }
    },
    {
      "cell_type": "code",
      "source": [
        "plt.scatter(x,y)"
      ],
      "metadata": {
        "colab": {
          "base_uri": "https://localhost:8080/",
          "height": 282
        },
        "id": "oNnmsyDnCyV5",
        "outputId": "1aa70706-0e05-4a28-f1f5-72fa9b421e95"
      },
      "execution_count": 4,
      "outputs": [
        {
          "output_type": "execute_result",
          "data": {
            "text/plain": [
              "<matplotlib.collections.PathCollection at 0x7fe69cb54790>"
            ]
          },
          "metadata": {},
          "execution_count": 4
        },
        {
          "output_type": "display_data",
          "data": {
            "text/plain": [
              "<Figure size 432x288 with 1 Axes>"
            ],
            "image/png": "[encoded data removed]"
          },
          "metadata": {
            "needs_background": "light"
          }
        }
      ]
    },
    {
      "cell_type": "code",
      "source": [
        ""
      ],
      "metadata": {
        "id": "8-Thc1dsC4Yr"
      },
      "execution_count": null,
      "outputs": []
    }
  ]
}