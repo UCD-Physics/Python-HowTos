{
 "cells": [
  {
   "cell_type": "markdown",
   "id": "e8568625",
   "metadata": {
    "colab_type": "text",
    "id": "view-in-github"
   },
   "source": [
    "<a href=\"https://colab.research.google.com/github/UCD-Physics/Python-HowTos/blob/main/While_Loops.ipynb\" target=\"_parent\"><img src=\"https://colab.research.google.com/assets/colab-badge.svg\" alt=\"Open In Colab\"/></a>"
   ]
  },
  {
   "cell_type": "markdown",
   "id": "98a40503",
   "metadata": {
    "id": "98a40503"
   },
   "source": [
    "# How to write 'While' loops\n",
    "\n",
    "Loops are very helpful for iterating a calculation and are used a lot when interfacing in order to collect data. \n",
    "\n",
    "In Python there are two main type of loops: `for` loops and `while` loops.\n",
    "\n",
    "`for` loops are used for looping over iterables (e.g. values in a list) and `while` loops are used to loop until some condition is met. Please see a separate how-to notebook for `for` loops.\n",
    "\n",
    "\n",
    "Topics covered in this notebook:\n",
    " * Basics of `while` loops\n",
    " * skipping the rest of the current loop with continue\n",
    " * exiting the for loop with break"
   ]
  },
  {
   "cell_type": "markdown",
   "id": "db84eda9",
   "metadata": {
    "id": "db84eda9"
   },
   "source": [
    "## `While` loops\n",
    "\n",
    "`while` loops repeatedly execute while some condition is true.\n",
    "\n",
    "The basic `while` loop syntax is:\n",
    "```\n",
    "while condition:\n",
    "    execute_statements1\n",
    "else:\n",
    "    execute_statements2\n",
    "```\n",
    "where\n",
    " * `condition` is bool and the loop gets executed as long as it is true \n",
    " * `execute_statements` are blocks of statements defined by indentation.\n",
    " * the `else` clause is optional and rarely used - it only gets executed if the main loop terminates without a break statement.\n",
    "\n",
    "After each iteration of the while loop, it returns and checks the condition agin, and if still true, it executes the loop again. \n",
    "\n",
    "This is best illustrated through examples:"
   ]
  },
  {
   "cell_type": "markdown",
   "id": "u13epN8cGG_K",
   "metadata": {
    "id": "u13epN8cGG_K"
   },
   "source": [
    "Suppose you want every number from 0 to 5 to be multiplied by 2.\n",
    "- Create a counter variable and set it to your start point (`i=0`)\n",
    "- Set the logical condition (`while i <= 5:`) \n",
    "- Print the operation of the loop `(print(2*i))` \n",
    "- Add 1 to your counter variable `(i += 1)`"
   ]
  },
  {
   "cell_type": "code",
   "execution_count": 5,
   "id": "OPC1tgoOGPhf",
   "metadata": {
    "colab": {
     "base_uri": "https://localhost:8080/"
    },
    "id": "OPC1tgoOGPhf",
    "outputId": "3f503c23-7709-4f0e-b8c7-d34313bf49bc"
   },
   "outputs": [
    {
     "name": "stdout",
     "output_type": "stream",
     "text": [
      "0\n",
      "2\n",
      "4\n",
      "6\n",
      "8\n",
      "10\n"
     ]
    }
   ],
   "source": [
    "# while loop example\n",
    "\n",
    "i = 0\n",
    "\n",
    "while i <= 5:\n",
    "    print(2 * i)\n",
    "    i += 1"
   ]
  },
  {
   "cell_type": "markdown",
   "id": "e0f1b63e",
   "metadata": {},
   "source": [
    "## Continue and Break\n",
    "\n",
    "A `continue` statement in a `while` loop causes the rest of the loop to be skipped and execution to return to the start of the loop where the conditional test is performed. \n",
    "\n",
    "An example of where this might be useful is if you are reading data from an instrument and an error or warning occurred and you want to repeat the reading. \n",
    "\n",
    "A `break` statement causes the loop to exit"
   ]
  },
  {
   "cell_type": "code",
   "execution_count": 4,
   "id": "21e6d6bf",
   "metadata": {},
   "outputs": [
    {
     "name": "stdout",
     "output_type": "stream",
     "text": [
      "Please enter a number between 1 and 6:6\n",
      "Sorry, please try again!\n",
      "Please enter a number between 1 and 6:6\n",
      "Sorry, please try again!\n",
      "Please enter a number between 1 and 6:1\n",
      "Sorry, please try again!\n",
      "Please enter a number between 1 and 6:2\n",
      "Congratulations - you guessed correctly!\n"
     ]
    }
   ],
   "source": [
    "# While loop example with continue and break\n",
    "\n",
    "# a guessing game: guess the value of a die thrown at random\n",
    "\n",
    "from random import randint\n",
    "\n",
    "die = randint(1,6) # generate a random integer between 1 and 6\n",
    "\n",
    "# Note: while True is an infinite loop - to end we must break from it!\n",
    "while True:\n",
    "    guess = int(input(\"Please enter a number between 1 and 6: \"))\n",
    "\n",
    "    if guess < 1 or guess > 6:\n",
    "        print(\"out of range - please try again!\")\n",
    "        continue\n",
    "    elif guess == die:\n",
    "        print(\"Congratulations - you guessed correctly!\")\n",
    "        break\n",
    "    else:\n",
    "        print(\"Sorry, please try again!\")\n",
    "    "
   ]
  }
 ],
 "metadata": {
  "colab": {
   "include_colab_link": true,
   "name": "Writing Loops.ipynb",
   "provenance": []
  },
  "kernelspec": {
   "display_name": "Python 3 (ipykernel)",
   "language": "python",
   "name": "python3"
  },
  "language_info": {
   "codemirror_mode": {
    "name": "ipython",
    "version": 3
   },
   "file_extension": ".py",
   "mimetype": "text/x-python",
   "name": "python",
   "nbconvert_exporter": "python",
   "pygments_lexer": "ipython3",
   "version": "3.9.7"
  },
  "latex_envs": {
   "LaTeX_envs_menu_present": true,
   "autoclose": true,
   "autocomplete": true,
   "bibliofile": "biblio.bib",
   "cite_by": "apalike",
   "current_citInitial": 1,
   "eqLabelWithNumbers": true,
   "eqNumInitial": 1,
   "hotkeys": {
    "equation": "Ctrl-E",
    "itemize": "Ctrl-I"
   },
   "labels_anchors": false,
   "latex_user_defs": false,
   "report_style_numbering": true,
   "user_envs_cfg": false
  },
  "toc": {
   "base_numbering": 1,
   "nav_menu": {},
   "number_sections": true,
   "sideBar": true,
   "skip_h1_title": false,
   "title_cell": "Table of Contents",
   "title_sidebar": "Contents",
   "toc_cell": false,
   "toc_position": {},
   "toc_section_display": true,
   "toc_window_display": false
  },
  "varInspector": {
   "cols": {
    "lenName": 16,
    "lenType": 16,
    "lenVar": 40
   },
   "kernels_config": {
    "python": {
     "delete_cmd_postfix": "",
     "delete_cmd_prefix": "del ",
     "library": "var_list.py",
     "varRefreshCmd": "print(var_dic_list())"
    },
    "r": {
     "delete_cmd_postfix": ") ",
     "delete_cmd_prefix": "rm(",
     "library": "var_list.r",
     "varRefreshCmd": "cat(var_dic_list()) "
    }
   },
   "types_to_exclude": [
    "module",
    "function",
    "builtin_function_or_method",
    "instance",
    "_Feature"
   ],
   "window_display": false
  }
 },
 "nbformat": 4,
 "nbformat_minor": 5
}
