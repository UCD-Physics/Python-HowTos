{
  "cells": [
    {
      "cell_type": "markdown",
      "metadata": {
        "id": "view-in-github",
        "colab_type": "text"
      },
      "source": [
        "<a href=\"https://colab.research.google.com/github/UCD-Physics/Python-HowTos/blob/main/How_to_use_markdown_cells.ipynb\" target=\"_parent\"><img src=\"https://colab.research.google.com/assets/colab-badge.svg\" alt=\"Open In Colab\"/></a>"
      ]
    },
    {
      "cell_type": "markdown",
      "id": "b557343c",
      "metadata": {
        "id": "b557343c"
      },
      "source": [
        "# Writing your code well\n",
        "\n",
        "### When coding, it is extremelly important to make your code clear and concise.\n",
        "You are not going to be the only person reading your code and so it must be easy to follow. It is also very easy to forget why you did something when reading back on it yourself days or week after you've written it. This is helped by using markdown cells and commenting your code.\n",
        "\n",
        "#### Markdown Cells\n",
        "Markdown cells are what are used to write text. This is extremely useful to title and explain your code. Markdown cells are created by clicking on the cell and hittting  the 'm' key. An example of how to use a markdown cell can be seen below.\n"
      ]
    },
    {
      "cell_type": "code",
      "execution_count": null,
      "id": "936c0ef2",
      "metadata": {
        "id": "936c0ef2"
      },
      "outputs": [],
      "source": [
        "# This will create a title \n",
        "\n",
        "### This will create a subtitle\n",
        "\n",
        "#### This will create a smaller subtitle\n",
        "\n",
        "#      *this will emphasise a word* (# not needed in the markdown cell for normal text)\n",
        "#      ** this will further emphasise a word in bold**\n",
        "#      **_this will emphasise a word using bold and italics_**\n",
        "\n",
        "# how this will look in a markdown cell can be seen below "
      ]
    },
    {
      "cell_type": "markdown",
      "source": [
        "# This will create a title \n",
        "\n",
        "### This will create a subtitle\n",
        "\n",
        "#### This will create a smaller subtitle\n",
        "\n",
        "*this will emphasise a word in italics* \n",
        "\n",
        "**this will further emphasise a word in bold**\n",
        "\n",
        "**_this will emphasise a word using bold and italics_**"
      ],
      "metadata": {
        "id": "Z--JzmfND61r"
      },
      "id": "Z--JzmfND61r"
    },
    {
      "cell_type": "markdown",
      "id": "d597121e",
      "metadata": {
        "id": "d597121e"
      },
      "source": [
        "### Equations\n",
        "\n",
        "It is also possible to write equations out in a markdown cell, which makes them much clearer than in a code cell. These should be written in between $$, and with LateX. An example of how to write it can be seen below, with how it looks in a markdown cell after it.\n",
        "\n",
        "\n",
        "*Here is a link to a LateX cheat sheet if you are not familiar with it, https://wch.github.io/latexsheet/*"
      ]
    },
    {
      "cell_type": "code",
      "execution_count": null,
      "id": "50fbf464",
      "metadata": {
        "id": "50fbf464"
      },
      "outputs": [],
      "source": [
        "#### This is the equation \n",
        "\n",
        "# $ f(x) = \\frac{x^3}{2x + 4} + \\sin{(3x)}$ (# is not needed in the markdown cell for the equation)"
      ]
    },
    {
      "cell_type": "markdown",
      "id": "a23c45c9",
      "metadata": {
        "id": "a23c45c9"
      },
      "source": [
        "### This is the equation \n",
        "\n",
        " $ f(x) = \\frac{x^3}{2x + 4} + \\sin{(3x)}$"
      ]
    },
    {
      "cell_type": "markdown",
      "id": "a59de44d",
      "metadata": {
        "id": "a59de44d"
      },
      "source": [
        "This is a link to a markdown cheat sheet if you want to expand beyond the basics!\n",
        "https://github.com/adam-p/markdown-here/wiki/Markdown-Cheatsheet"
      ]
    },
    {
      "cell_type": "markdown",
      "source": [
        "#### Lists"
      ],
      "metadata": {
        "id": "BRV_hIXcEipW"
      },
      "id": "BRV_hIXcEipW"
    },
    {
      "cell_type": "code",
      "source": [
        "#It is also possible to create lists. For ordered lists simply writing a number next to it will do that:\n",
        "\n",
        "#1. first item\n",
        "#2. second item\n",
        "\n",
        "#Unordered lists can be accomplished by using a star (*), a minus (-) or a plus (+):\n",
        "\n",
        "#* random item\n",
        "#- another item \n",
        "#+ last item\n",
        "\n",
        "# an example in markdown can be seen below: (# is not needed in markdown cell)"
      ],
      "metadata": {
        "id": "RGErIvNyElft"
      },
      "id": "RGErIvNyElft",
      "execution_count": null,
      "outputs": []
    },
    {
      "cell_type": "markdown",
      "source": [
        "It is also possible to create lists. For ordered lists simply writing a number next to it will do that:\n",
        "\n",
        "1. first item\n",
        "2. second item\n",
        "\n",
        "Unordered lists can be accomplished by using a star (*), a minus (-) or a plus (+):\n",
        "\n",
        "* random item\n",
        "- another item \n",
        "+ last item"
      ],
      "metadata": {
        "id": "HhImVYQMEKxF"
      },
      "id": "HhImVYQMEKxF"
    },
    {
      "cell_type": "code",
      "source": [
        ""
      ],
      "metadata": {
        "id": "XnIBS_7waehj"
      },
      "id": "XnIBS_7waehj",
      "execution_count": null,
      "outputs": []
    }
  ],
  "metadata": {
    "kernelspec": {
      "display_name": "Python 3",
      "language": "python",
      "name": "python3"
    },
    "language_info": {
      "codemirror_mode": {
        "name": "ipython",
        "version": 3
      },
      "file_extension": ".py",
      "mimetype": "text/x-python",
      "name": "python",
      "nbconvert_exporter": "python",
      "pygments_lexer": "ipython3",
      "version": "3.8.8"
    },
    "colab": {
      "name": "How to use markdown cells.ipynb",
      "provenance": [],
      "include_colab_link": true
    }
  },
  "nbformat": 4,
  "nbformat_minor": 5
}