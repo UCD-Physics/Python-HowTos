{
  "cells": [
    {
      "cell_type": "markdown",
      "metadata": {
        "id": "view-in-github",
        "colab_type": "text"
      },
      "source": [
        "<a href=\"https://colab.research.google.com/github/alvaphelan/Python-HowTos/blob/main/Matplotlib.ipynb\" target=\"_parent\"><img src=\"https://colab.research.google.com/assets/colab-badge.svg\" alt=\"Open In Colab\"/></a>"
      ]
    },
    {
      "cell_type": "markdown",
      "id": "abae6bfe",
      "metadata": {
        "id": "abae6bfe"
      },
      "source": [
        "# Matplotlib\n",
        "\n",
        "Matplotlib is an extremely useful tool when it comes to plotting all types of data, and you will be using it frequently. Once again you must import this package before you start.\n"
      ]
    },
    {
      "cell_type": "code",
      "execution_count": 1,
      "id": "43b8e91b",
      "metadata": {
        "id": "43b8e91b"
      },
      "outputs": [],
      "source": [
        "import matplotlib.pyplot as plt\n",
        "#importing numpy too \n",
        "import numpy as np"
      ]
    },
    {
      "cell_type": "markdown",
      "id": "3982e17c",
      "metadata": {
        "id": "3982e17c"
      },
      "source": [
        "In this section, random functions will be used, but the same applies to all data that can be imported. \n",
        "\n",
        "*find section on how to import data here ([importing data](https://github.com/alvaphelan/Python-HowTos/blob/main/Importing_Data.ipynb))*"
      ]
    },
    {
      "cell_type": "code",
      "execution_count": 2,
      "id": "9ef3ebc9",
      "metadata": {
        "id": "9ef3ebc9"
      },
      "outputs": [],
      "source": [
        "#creating functions to plot\n",
        "\n",
        "x = np.linspace(-50, 50, 40)\n",
        "y = 6*x -4 "
      ]
    },
    {
      "cell_type": "markdown",
      "id": "58a9caa7",
      "metadata": {
        "id": "58a9caa7"
      },
      "source": [
        "There are two ways to plot raw data, plt.scatter and plt.plot. Scatter is used if you are just looking to plot points, while plot will plot the shape of the data."
      ]
    },
    {
      "cell_type": "code",
      "execution_count": 3,
      "id": "5a0e2db0",
      "metadata": {
        "colab": {
          "base_uri": "https://localhost:8080/",
          "height": 282
        },
        "id": "5a0e2db0",
        "outputId": "d33e5ac6-d7ed-4f08-8d40-ab6b8e9b953d"
      },
      "outputs": [
        {
          "output_type": "execute_result",
          "data": {
            "text/plain": [
              "<matplotlib.collections.PathCollection at 0x7f4618adc210>"
            ]
          },
          "metadata": {},
          "execution_count": 3
        },
        {
          "output_type": "display_data",
          "data": {
            "text/plain": [
              "<Figure size 432x288 with 1 Axes>"
            ],
            "image/png": "[encoded data removed]"
          },
          "metadata": {
            "needs_background": "light"
          }
        }
      ],
      "source": [
        "plt.scatter(x,y)"
      ]
    },
    {
      "cell_type": "code",
      "execution_count": 4,
      "id": "6c2c3a93",
      "metadata": {
        "colab": {
          "base_uri": "https://localhost:8080/",
          "height": 282
        },
        "id": "6c2c3a93",
        "outputId": "3bd63606-bbbd-4f14-d4a1-8c8d5ee22871"
      },
      "outputs": [
        {
          "output_type": "execute_result",
          "data": {
            "text/plain": [
              "[<matplotlib.lines.Line2D at 0x7f46125afd50>]"
            ]
          },
          "metadata": {},
          "execution_count": 4
        },
        {
          "output_type": "display_data",
          "data": {
            "text/plain": [
              "<Figure size 432x288 with 1 Axes>"
            ],
            "image/png": "[encoded data removed]"
          },
          "metadata": {
            "needs_background": "light"
          }
        }
      ],
      "source": [
        "plt.plot(x,y)"
      ]
    },
    {
      "cell_type": "markdown",
      "id": "b2509b70",
      "metadata": {
        "id": "b2509b70"
      },
      "source": [
        "Both can be useful for different things, but scatter is mostly used for experiments when plotting data obtained in the lab and then plot can be used to plot the theoretical values on top of it to see if they match.\n",
        "\n",
        "It is possible to change the way your function/data looks on the graph by using parameters in the plotting functions.\n",
        "\n",
        "- marker = '.' will allow you to change the size/shape of the data points (. for small dots, o for cirlces, x to make x's etc.) \n",
        "- color = 'red' will allow you to change the points to whatever colour you want. (*must be spelled the American way*)\n",
        "- label = 'data' will allow you to name the data and will be seen in the legend, this is useful when you have more than one line with different data on the same graph.\n",
        "\n",
        "\n",
        "The graphs can be manipulated in many ways in order to get them how you want them to look.\n",
        "\n",
        "- plt.grid(True) will add in a grid\n",
        "- plt.title(' ') will allow you to put in a title for your graph\n",
        "- plt.xlabel(' ') and plt.ylabel(' ') will allow you to put labels on the x and y axes\n",
        "- plt.legend(loc = 'upper left') will allow you to place a legend wherever you want on the graph"
      ]
    },
    {
      "cell_type": "code",
      "execution_count": 5,
      "id": "9ec2e054",
      "metadata": {
        "colab": {
          "base_uri": "https://localhost:8080/",
          "height": 312
        },
        "id": "9ec2e054",
        "outputId": "9f521981-f65a-4a35-91ac-059e86dc32ac"
      },
      "outputs": [
        {
          "output_type": "execute_result",
          "data": {
            "text/plain": [
              "<matplotlib.legend.Legend at 0x7f4612016610>"
            ]
          },
          "metadata": {},
          "execution_count": 5
        },
        {
          "output_type": "display_data",
          "data": {
            "text/plain": [
              "<Figure size 432x288 with 1 Axes>"
            ],
            "image/png": "[encoded data removed]"
          },
          "metadata": {
            "needs_background": "light"
          }
        }
      ],
      "source": [
        "#example\n",
        "plt.scatter(x, y, marker = '.', color = 'black', label = 'data')\n",
        "plt.plot(x, y, color = 'red', label = 'fit')\n",
        "plt.xlabel('X axis')\n",
        "plt.ylabel('Y axis')\n",
        "plt.title('Example Graph')\n",
        "plt.grid(True)\n",
        "plt.legend(loc = 'lower right')"
      ]
    },
    {
      "cell_type": "markdown",
      "id": "89adfcbe",
      "metadata": {
        "id": "89adfcbe"
      },
      "source": [
        "### Fitting curves to data\n",
        "\n",
        "Another extremely important aspect of graphing data is using curve_fit in order to fit lines and curves to data. This is useful when comparing theoretical and experimental values.\n",
        "\n",
        "#### How it works\n",
        "\n",
        "First, you must import the curve fit function from scipy"
      ]
    },
    {
      "cell_type": "code",
      "execution_count": 6,
      "id": "0172eee8",
      "metadata": {
        "id": "0172eee8"
      },
      "outputs": [],
      "source": [
        "from scipy.optimize import curve_fit"
      ]
    },
    {
      "cell_type": "markdown",
      "id": "dac9081d",
      "metadata": {
        "id": "dac9081d"
      },
      "source": [
        "Then, you must define the function you want to fit to the data. In this example, we will go through a simple straight linear line but this can be done with quadratics, exponentials etc. "
      ]
    },
    {
      "cell_type": "code",
      "execution_count": 7,
      "id": "9a95b648",
      "metadata": {
        "id": "9a95b648"
      },
      "outputs": [],
      "source": [
        "def func(x, m, c):\n",
        "    y = m*x + c\n",
        "    return y"
      ]
    },
    {
      "cell_type": "markdown",
      "id": "6d3bda79",
      "metadata": {
        "id": "6d3bda79"
      },
      "source": [
        "Taking m as the slope and c as the intercept, this is the generic form for a straight line. \n",
        "\n",
        "Then, it is time to use curve_fit. This will provide you with two matrices, popt and pcov."
      ]
    },
    {
      "cell_type": "code",
      "execution_count": 9,
      "id": "76d8b21e",
      "metadata": {
        "id": "76d8b21e"
      },
      "outputs": [],
      "source": [
        "popt, pcov = curve_fit(func, x, y)"
      ]
    },
    {
      "cell_type": "markdown",
      "id": "806a70a1",
      "metadata": {
        "id": "806a70a1"
      },
      "source": [
        "Popt is an array with the optimum parameters for the function (m and c in this case), and they are in the same order as defined in the function. They can be accessed by the following (*as explained in section ([how-to-use-numpy](https://github.com/alvaphelan/Python-HowTos/blob/main/Numpy.ipynb))*)"
      ]
    },
    {
      "cell_type": "code",
      "execution_count": 10,
      "id": "02a70edf",
      "metadata": {
        "colab": {
          "base_uri": "https://localhost:8080/"
        },
        "id": "02a70edf",
        "outputId": "8689bc56-266f-448c-bb1b-c61a10eeac29"
      },
      "outputs": [
        {
          "output_type": "stream",
          "name": "stdout",
          "text": [
            "The optimum slope for this function is 6.0 and intercept is -3.999999999999995\n"
          ]
        }
      ],
      "source": [
        "m = popt[0]\n",
        "c = popt[1]\n",
        "print(f\"The optimum slope for this function is {m} and intercept is {c}\")"
      ]
    },
    {
      "cell_type": "markdown",
      "id": "1cec0440",
      "metadata": {
        "id": "1cec0440"
      },
      "source": [
        "Pcov returns the covariance matrix (explained in more detail here ([errors](https://veritas.ucd.ie/~apl/labs_master/docs/2020/DA/Error_Propagation.pdf))), but put simply, the errors on the parameters are the square root of the diagonal elements of the matrix, in this case"
      ]
    },
    {
      "cell_type": "code",
      "execution_count": 11,
      "id": "79fd4f1f",
      "metadata": {
        "id": "79fd4f1f"
      },
      "outputs": [],
      "source": [
        "m_error = np.sqrt(pcov[0, 0])\n",
        "c_error = np.sqrt(pcov[1, 1])"
      ]
    },
    {
      "cell_type": "markdown",
      "id": "4ee657d2",
      "metadata": {
        "id": "4ee657d2"
      },
      "source": [
        "It is then possible to create a yfit to this function\n"
      ]
    },
    {
      "cell_type": "code",
      "execution_count": 12,
      "id": "665e2604",
      "metadata": {
        "colab": {
          "base_uri": "https://localhost:8080/",
          "height": 312
        },
        "id": "665e2604",
        "outputId": "e86bacd2-8f64-4098-c6b1-c9ea334efacd"
      },
      "outputs": [
        {
          "output_type": "execute_result",
          "data": {
            "text/plain": [
              "<matplotlib.legend.Legend at 0x7f4606bc43d0>"
            ]
          },
          "metadata": {},
          "execution_count": 12
        },
        {
          "output_type": "display_data",
          "data": {
            "text/plain": [
              "<Figure size 432x288 with 1 Axes>"
            ],
            "image/png": "[encoded data removed]"
          },
          "metadata": {
            "needs_background": "light"
          }
        }
      ],
      "source": [
        "yfit = popt[0]*x + popt[1]\n",
        "\n",
        "#and can then graph the data and yfit\n",
        "plt.scatter(x, y, marker = '.', color = 'black', label = 'data')\n",
        "plt.plot(x, yfit, color = 'red', label = 'yfit using curve_fit')\n",
        "plt.xlabel('X axis')\n",
        "plt.ylabel('Y axis')\n",
        "plt.title('Example Graph')\n",
        "plt.grid(True)\n",
        "plt.legend(loc = 'lower right')"
      ]
    },
    {
      "cell_type": "code",
      "execution_count": null,
      "id": "9d5dc81e",
      "metadata": {
        "id": "9d5dc81e"
      },
      "outputs": [],
      "source": [
        ""
      ]
    }
  ],
  "metadata": {
    "kernelspec": {
      "display_name": "Python 3",
      "language": "python",
      "name": "python3"
    },
    "language_info": {
      "codemirror_mode": {
        "name": "ipython",
        "version": 3
      },
      "file_extension": ".py",
      "mimetype": "text/x-python",
      "name": "python",
      "nbconvert_exporter": "python",
      "pygments_lexer": "ipython3",
      "version": "3.8.8"
    },
    "colab": {
      "name": "Matplotlib.ipynb",
      "provenance": [],
      "include_colab_link": true
    }
  },
  "nbformat": 4,
  "nbformat_minor": 5
}