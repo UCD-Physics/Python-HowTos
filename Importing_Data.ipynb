{
  "cells": [
    {
      "cell_type": "markdown",
      "metadata": {
        "id": "view-in-github",
        "colab_type": "text"
      },
      "source": [
        "<a href=\"https://colab.research.google.com/github/UCD-Physics/Python-HowTos/blob/main/Importing_Data.ipynb\" target=\"_parent\"><img src=\"https://colab.research.google.com/assets/colab-badge.svg\" alt=\"Open In Colab\"/></a>"
      ]
    },
    {
      "cell_type": "markdown",
      "id": "b134353e",
      "metadata": {
        "id": "b134353e"
      },
      "source": [
        "# Importing Data\n",
        "\n",
        "Being able to import data efficiently is hugely important in order to analyse and graph it. There are many ways to do this but in this section we will go over the basic way to do it using numpy."
      ]
    },
    {
      "cell_type": "code",
      "execution_count": 4,
      "id": "80f89158",
      "metadata": {
        "id": "80f89158"
      },
      "outputs": [],
      "source": [
        "import numpy as np"
      ]
    },
    {
      "cell_type": "markdown",
      "source": [
        "*In order to upload the sample data used in this section, run the following line of code in order to clone the UCD Physics 'how-to' repository. Then, in the 'files' section on the left hand-side of the screen, click the 'Python-HowTos' to see the drop-down of files. Lastly, drag the 'mass_volt1.txt' and 'sampledata.txt' files out of the python how-tos and drop them in order to upload them to the session storage.*"
      ],
      "metadata": {
        "id": "6jazCxOVS8PP"
      },
      "id": "6jazCxOVS8PP"
    },
    {
      "cell_type": "code",
      "source": [
        "!git clone https://github.com/UCD-Physics/Python-HowTos"
      ],
      "metadata": {
        "id": "6yjvtKfxTFd9",
        "outputId": "421f4665-459a-4652-9196-a49361051522",
        "colab": {
          "base_uri": "https://localhost:8080/"
        }
      },
      "id": "6yjvtKfxTFd9",
      "execution_count": 5,
      "outputs": [
        {
          "output_type": "stream",
          "name": "stdout",
          "text": [
            "Cloning into 'Python-HowTos'...\n",
            "remote: Enumerating objects: 205, done.\u001b[K\n",
            "remote: Counting objects: 100% (118/118), done.\u001b[K\n",
            "remote: Compressing objects: 100% (87/87), done.\u001b[K\n",
            "remote: Total 205 (delta 77), reused 36 (delta 31), pack-reused 87\u001b[K\n",
            "Receiving objects: 100% (205/205), 361.25 KiB | 2.47 MiB/s, done.\n",
            "Resolving deltas: 100% (114/114), done.\n"
          ]
        }
      ]
    },
    {
      "cell_type": "markdown",
      "id": "5ea582be",
      "metadata": {
        "id": "5ea582be"
      },
      "source": [
        "The easiest way to go about this is to save your data to a text file (.txt) or a csv file (.csv) and transfer it to the same folder your jupyter noebook is in. You can then use the function 'np.loadtxt('data.txt')' with the name of your file in the brackets. This will just load the data into the notebook.\n",
        "\n",
        "It is usually best to assign a variable to the data in order to easily manipulate it."
      ]
    },
    {
      "cell_type": "code",
      "execution_count": 6,
      "id": "439d12a9",
      "metadata": {
        "colab": {
          "base_uri": "https://localhost:8080/"
        },
        "id": "439d12a9",
        "outputId": "a0d78d19-eb8f-45d7-86f5-79b4d54f31ba"
      },
      "outputs": [
        {
          "output_type": "stream",
          "name": "stdout",
          "text": [
            "[2.30770842 2.30797343 2.30820785 2.30822824 2.30824862 2.30822824\n",
            " 2.30817727 2.30859516 2.30847285 2.30875824 2.30882959 2.30878882\n",
            " 2.30891113 2.27945513 2.23846134 2.23949078 2.24038771 2.2413356\n",
            " 2.24198791 2.24296638 2.24407735 2.24496409 2.24568775 2.24687006\n",
            " 2.24742045 2.24821546 2.24935701 2.25039663 2.25076356 2.25179299\n",
            " 2.25236376 2.25304665 2.25357665 2.25420858 2.25406589]\n"
          ]
        }
      ],
      "source": [
        "#example data\n",
        "\n",
        "data = np.loadtxt(\"mass_volt1.txt\")\n",
        "print(data)"
      ]
    },
    {
      "cell_type": "markdown",
      "id": "22160e9d",
      "metadata": {
        "id": "22160e9d"
      },
      "source": [
        "There are many parameters that can be used in order to load your data in a more efficient manner and to get it the way you want. First, if there's more than one column of data, you can assign multiple variables to it in order to easily split it up.\n",
        "\n",
        "For example, if you have a table with three columns, one with the actual data, one with a corresponding error to each data point and one with the time each data point was taken, there are two possible ways to assign the data to these variables:\n",
        "\n",
        "\n",
        "*note: the number of variables you assign must be equal to the number of columns saved to your data, or there will be an error*"
      ]
    },
    {
      "cell_type": "code",
      "source": [
        "data1, data_error1, time1 = np.loadtxt('sampledata.txt', unpack = 'true')\n"
      ],
      "metadata": {
        "id": "6axs0mOzclbG"
      },
      "id": "6axs0mOzclbG",
      "execution_count": 7,
      "outputs": []
    },
    {
      "cell_type": "markdown",
      "source": [
        "or"
      ],
      "metadata": {
        "id": "i_TQUr2bcra5"
      },
      "id": "i_TQUr2bcra5"
    },
    {
      "cell_type": "code",
      "source": [
        "the_data = np.loadtxt('sampledata.txt')\n",
        "data2 = the_data[:,0]\n",
        "data_error2 = the_data[:,1]\n",
        "time2 = the_data[:,2]\n"
      ],
      "metadata": {
        "id": "U022h1NJcsr4"
      },
      "id": "U022h1NJcsr4",
      "execution_count": 8,
      "outputs": []
    },
    {
      "cell_type": "markdown",
      "id": "7fbe58af",
      "metadata": {
        "id": "7fbe58af"
      },
      "source": [
        "There are also lots of options to include in the 'loadtxt' function. If the data you are importing has a header, you can skip this and only include numerical data by the command \n",
        "\n",
        "skiprows = 1\n",
        "\n",
        "If your data is seperated by commas you can use the delimiter function to seperate the data points\n",
        "\n",
        "delimiter =','\n",
        "\n",
        "It can also be useful to tell what type of data is being read, e.g. float, integer, string \n",
        "\n",
        "dtype = 'float, int, S24'\n",
        "*note S24 means to expect a string with a max of 24 characters*\n",
        "\n",
        "In order to only use certain columns, you can use the following function, remembering that it begins at 0\n",
        "\n",
        "usecols = (0,2,4) for the first, third and fifth columns\n",
        "\n",
        "It is also important to set unpack = True when loading the data into more than 1 variable. \n",
        "\n",
        "An example of what this could look like is:\n",
        "\n",
        "blue_data, blue_data_error, blueext, blueint = np.loadtxt(\"data.csv\", delimiter=',', skiprows =1,  unpack = True, usecols = range(8,12))\n"
      ]
    },
    {
      "cell_type": "code",
      "execution_count": 8,
      "id": "dd226cbd",
      "metadata": {
        "id": "dd226cbd"
      },
      "outputs": [],
      "source": [
        ""
      ]
    },
    {
      "cell_type": "code",
      "execution_count": null,
      "id": "c1a187ca",
      "metadata": {
        "id": "c1a187ca"
      },
      "outputs": [],
      "source": [
        ""
      ]
    }
  ],
  "metadata": {
    "kernelspec": {
      "display_name": "Python 3",
      "language": "python",
      "name": "python3"
    },
    "language_info": {
      "codemirror_mode": {
        "name": "ipython",
        "version": 3
      },
      "file_extension": ".py",
      "mimetype": "text/x-python",
      "name": "python",
      "nbconvert_exporter": "python",
      "pygments_lexer": "ipython3",
      "version": "3.8.8"
    },
    "colab": {
      "name": "Importing Data.ipynb",
      "provenance": [],
      "include_colab_link": true
    }
  },
  "nbformat": 4,
  "nbformat_minor": 5
}