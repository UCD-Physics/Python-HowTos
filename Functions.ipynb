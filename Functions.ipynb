{
  "cells": [
    {
      "cell_type": "markdown",
      "metadata": {
        "id": "view-in-github",
        "colab_type": "text"
      },
      "source": [
        "<a href=\"https://colab.research.google.com/github/alvaphelan/Python-HowTos/blob/main/Functions.ipynb\" target=\"_parent\"><img src=\"https://colab.research.google.com/assets/colab-badge.svg\" alt=\"Open In Colab\"/></a>"
      ]
    },
    {
      "cell_type": "markdown",
      "id": "844a7c9a",
      "metadata": {
        "id": "844a7c9a"
      },
      "source": [
        "# Funtions\n",
        "\n",
        "Defining your own functions in python can be very useful, especially if you're doing repeat calculations with the same equations. The easiest way to define your function is to use the 'def' command. You can name your function whatever you like, but a descriptive name is always best."
      ]
    },
    {
      "cell_type": "code",
      "execution_count": 42,
      "id": "ebacc2fd",
      "metadata": {
        "id": "ebacc2fd"
      },
      "outputs": [],
      "source": [
        "import numpy as np"
      ]
    },
    {
      "cell_type": "code",
      "execution_count": 43,
      "id": "21d167f0",
      "metadata": {
        "id": "21d167f0"
      },
      "outputs": [],
      "source": [
        "# example\n",
        "\n",
        "# changing degrees to radians\n",
        "\n",
        "def deg_to_rad(d):\n",
        "    #radians are equal to degrees multiplied by pi/180\n",
        "    r = d * np.pi/180\n",
        "    #return radians\n",
        "    return r"
      ]
    },
    {
      "cell_type": "code",
      "execution_count": 44,
      "id": "c044ced3",
      "metadata": {
        "id": "c044ced3",
        "outputId": "bbdf5394-5a0c-43f5-d944-01967cff59c0",
        "colab": {
          "base_uri": "https://localhost:8080/"
        }
      },
      "outputs": [
        {
          "output_type": "stream",
          "name": "stdout",
          "text": [
            "90 degrees is 1.571 rad\n"
          ]
        }
      ],
      "source": [
        "#see if it works\n",
        "print(f'90 degrees is {deg_to_rad(90):.3f} rad')"
      ]
    },
    {
      "cell_type": "markdown",
      "id": "6c4e0e6b",
      "metadata": {
        "id": "6c4e0e6b"
      },
      "source": [
        "When doing calculations with lots of variables, it is much more clear if all of them are defined before the equation. This can help avoid mistakes and keeps the code much neater. For example, in an experiment examining the hall effect, voltage and current are measured while the magnetic field is kept constant. This relationship follows the equation:\n",
        "\n",
        "$ R_H = \\frac{V_H w}{IB}$\n",
        "\n",
        "Putting in the form of a straight line:\n",
        "\n",
        "$V_H = \\frac{R_H B}{w}I$\n",
        "\n",
        "So in this case if you were looking for the hall constant($R_H$), the slope of the graph (m) achieved would be equal to\n",
        "\n",
        "$m = \\frac{R_H B}{w}$\n",
        "\n",
        "If looking at multiple graphs, you could easily make a function to make this calculation easier."
      ]
    },
    {
      "cell_type": "code",
      "execution_count": 45,
      "id": "76791060",
      "metadata": {
        "id": "76791060",
        "outputId": "a505676b-ba56-4630-896d-2193e4b85ca5",
        "colab": {
          "base_uri": "https://localhost:8080/"
        }
      },
      "outputs": [
        {
          "output_type": "stream",
          "name": "stdout",
          "text": [
            "The hall constant was found to be 0.262\n"
          ]
        }
      ],
      "source": [
        "#define the variables (using random data)\n",
        "m = -8.5\n",
        "w = 0.0012\n",
        "B = -0.039\n",
        "\n",
        "def hall_constant(m, w, B):\n",
        "    R = (m*w)/B\n",
        "    return R\n",
        "\n",
        "#in this case\n",
        "print(f\"The hall constant was found to be {hall_constant(m, w, B):.3f}\")"
      ]
    },
    {
      "cell_type": "markdown",
      "id": "49ea9964",
      "metadata": {
        "id": "49ea9964"
      },
      "source": [
        "Creating functions like this allows you to easily see what you're doing and change the variables without having to rewrite the equation every time."
      ]
    },
    {
      "cell_type": "markdown",
      "source": [
        "#### Default arguments in functions"
      ],
      "metadata": {
        "id": "2frOTRiK99jn"
      },
      "id": "2frOTRiK99jn"
    },
    {
      "cell_type": "markdown",
      "source": [
        "Default argument values in functions can also be very useful. These are arguments that you set when defining the function and will automatically be used unless you specify a different value when using the function. \n",
        "\n",
        "For example:"
      ],
      "metadata": {
        "id": "J9IsKDCt0tAg"
      },
      "id": "J9IsKDCt0tAg"
    },
    {
      "cell_type": "code",
      "execution_count": 46,
      "id": "6842e092",
      "metadata": {
        "id": "6842e092",
        "outputId": "8761c02a-ed2f-4a76-f57b-639cb34e339f",
        "colab": {
          "base_uri": "https://localhost:8080/"
        }
      },
      "outputs": [
        {
          "output_type": "stream",
          "name": "stdout",
          "text": [
            "6\n"
          ]
        }
      ],
      "source": [
        "#numerical example\n",
        "\n",
        "#creating a function that mulitplies two numbers together\n",
        "def multiply(x, y):\n",
        "  z = x * y\n",
        "  return z\n",
        "\n",
        "print(multiply(2, 3))"
      ]
    },
    {
      "cell_type": "code",
      "source": [
        "#now if you want to default one number to be 4\n",
        "def multiply_byfour(x, y = 4):\n",
        "  z = x * y\n",
        "  return z\n",
        "\n",
        "print(f'function using default argument (2 times 4) is {multiply_byfour(2)}')\n",
        "\n",
        "#but it is also possible to override the default argument by just placing to values into the function\n",
        "\n",
        "print(f'function not using default argurment (2 times 5) is {multiply_byfour(2,5)} ')\n"
      ],
      "metadata": {
        "id": "IP1jvzgb4tsy",
        "outputId": "551c04a4-8d3e-4c46-ba58-5e6aa3a670b2",
        "colab": {
          "base_uri": "https://localhost:8080/"
        }
      },
      "id": "IP1jvzgb4tsy",
      "execution_count": 47,
      "outputs": [
        {
          "output_type": "stream",
          "name": "stdout",
          "text": [
            "function using default argument (2 times 4) is 8\n",
            "function not using default argurment (2 times 5) is 10 \n"
          ]
        }
      ]
    },
    {
      "cell_type": "markdown",
      "source": [
        "#### Functions returning more than 1 value\n",
        "\n",
        "It is also possible to create functions that return more than one value. This can be useful for a range of things but something to make the output of functions like these much clearer is to use f strings. This ensures the reader knows exactly what each output relates to:"
      ],
      "metadata": {
        "id": "W-tn3Ujk-cfp"
      },
      "id": "W-tn3Ujk-cfp"
    },
    {
      "cell_type": "code",
      "source": [
        "# an example\n",
        "\n",
        "#creating a function to return the sum, difference, multiplication and division of two numbers\n",
        "\n",
        "def calculations(num1, num2):\n",
        "\n",
        "  sum = num1 + num2\n",
        "  diff = num1 - num2\n",
        "  mult = num1 * num2\n",
        "  div = num1/num2\n",
        "\n",
        "  return f'the sum of these numbers is {sum}, the difference between these numbers is {diff}, the product of these numbers is {mult} and the division of these numbers is {div}'\n",
        " "
      ],
      "metadata": {
        "id": "vAaq8D6B5Ehi"
      },
      "id": "vAaq8D6B5Ehi",
      "execution_count": 48,
      "outputs": []
    },
    {
      "cell_type": "code",
      "source": [
        "calculations(2,3)"
      ],
      "metadata": {
        "id": "wzaDnS0x8AJE",
        "outputId": "164dfbb7-8795-4c8a-fafd-cb3d05c5a92e",
        "colab": {
          "base_uri": "https://localhost:8080/",
          "height": 36
        }
      },
      "id": "wzaDnS0x8AJE",
      "execution_count": 49,
      "outputs": [
        {
          "output_type": "execute_result",
          "data": {
            "text/plain": [
              "'the sum of these numbers is 5, the difference between these numbers is -1, the product of these numbers is 6 and the division of these numbers is 0.6666666666666666'"
            ],
            "application/vnd.google.colaboratory.intrinsic+json": {
              "type": "string"
            }
          },
          "metadata": {},
          "execution_count": 49
        }
      ]
    },
    {
      "cell_type": "code",
      "source": [
        ""
      ],
      "metadata": {
        "id": "FUTGLGUC8sew"
      },
      "id": "FUTGLGUC8sew",
      "execution_count": 49,
      "outputs": []
    },
    {
      "cell_type": "code",
      "source": [
        ""
      ],
      "metadata": {
        "id": "ZT4yYm2UA_XF"
      },
      "id": "ZT4yYm2UA_XF",
      "execution_count": null,
      "outputs": []
    }
  ],
  "metadata": {
    "kernelspec": {
      "display_name": "Python 3",
      "language": "python",
      "name": "python3"
    },
    "language_info": {
      "codemirror_mode": {
        "name": "ipython",
        "version": 3
      },
      "file_extension": ".py",
      "mimetype": "text/x-python",
      "name": "python",
      "nbconvert_exporter": "python",
      "pygments_lexer": "ipython3",
      "version": "3.8.8"
    },
    "colab": {
      "name": "Functions.ipynb",
      "provenance": [],
      "include_colab_link": true
    }
  },
  "nbformat": 4,
  "nbformat_minor": 5
}