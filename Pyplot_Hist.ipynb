{
 "cells": [
  {
   "cell_type": "markdown",
   "id": "29cb98c9",
   "metadata": {},
   "source": [
    "<a href=\"https://colab.research.google.com/github/UCD-Physics/Python-HowTos/blob/main/Pyplot_Hist.ipynb\" target=\"_parent\"><img src=\"https://colab.research.google.com/assets/colab-badge.svg\" alt=\"Open In Colab\"/></a>"
   ]
  },
  {
   "cell_type": "markdown",
   "id": "6b568947",
   "metadata": {},
   "source": [
    "# How to use PyPlot histograms\n",
    "\n",
    "Histograms allow the distributions of properties of data to be viewed and compared to expected distributions. \n",
    "\n",
    "PyPlot has a `hist()` function which generates histograms from data and returns the bins and bin values. It uses the NumPy histogram function and adds graphing.\n",
    "\n",
    "For more detailed information see the [online documentation](https://matplotlib.org/stable/api/_as_gen/matplotlib.pyplot.hist.html).\n",
    "\n",
    "In this notebook only a subset of the capabilities are demonstrated:\n",
    " * automatic binning\n",
    " * specifying the number of bins\n",
    " * specifying the bin edges\n",
    " * plotting a denisty histogram."
   ]
  },
  {
   "cell_type": "code",
   "execution_count": 25,
   "id": "876ca774",
   "metadata": {},
   "outputs": [],
   "source": [
    "import numpy as np\n",
    "import matplotlib.pyplot as plt\n",
    "\n",
    "# standard normal random number generator for makeing sample data:\n",
    "rand_norm = np.random.default_rng().standard_normal"
   ]
  },
  {
   "cell_type": "code",
   "execution_count": 26,
   "id": "a5a71321",
   "metadata": {},
   "outputs": [],
   "source": [
    "plt.rcParams['figure.figsize'] = (6,4)\n",
    "plt.rcParams['font.size'] = 12\n",
    "plt.rcParams['savefig.bbox'] = 'tight'  "
   ]
  },
  {
   "cell_type": "markdown",
   "id": "d40ce309",
   "metadata": {},
   "source": [
    "## Automatic Binning\n",
    "\n",
    "The most basic usage is \n",
    "```\n",
    "plt.hist(data);\n",
    "```\n",
    "where a histogram will be plotted with 10 automatically determined bins.\n",
    "\n",
    "Example:"
   ]
  },
  {
   "cell_type": "code",
   "execution_count": 27,
   "id": "283a10da",
   "metadata": {},
   "outputs": [
    {
     "data": {
      "text/plain": [
       "(array([ 19.,  63., 155., 235., 225., 171.,  97.,  28.,   5.,   2.]),\n",
       " array([-2.63099003, -2.00835143, -1.38571284, -0.76307425, -0.14043565,\n",
       "         0.48220294,  1.10484153,  1.72748013,  2.35011872,  2.97275732,\n",
       "         3.59539591]),\n",
       " <BarContainer object of 10 artists>)"
      ]
     },
     "execution_count": 27,
     "metadata": {},
     "output_type": "execute_result"
    },
    {
     "data": {
      "image/png": "[encoded data removed]",
      "text/plain": [
       "<Figure size 432x288 with 1 Axes>"
      ]
     },
     "metadata": {
      "needs_background": "light"
     },
     "output_type": "display_data"
    }
   ],
   "source": [
    "x = rand_norm(1000)\n",
    "\n",
    "plt.hist(x)"
   ]
  },
  {
   "cell_type": "markdown",
   "id": "20266ea9",
   "metadata": {},
   "source": [
    "As you see above, `plt.hist()` returns a tuple three elements:\n",
    " * bin values (10 by default)\n",
    " * bin edges (nbins + 1 values)\n",
    " * bar graph\n",
    " \n",
    "Remember you can suppress the printing of these by placing a semicolon at the end of the command, or you can save them and use the numbers in calculation or later plotting with `plt.bar()` or `plt.stairs()`."
   ]
  },
  {
   "cell_type": "code",
   "execution_count": 28,
   "id": "e5b33aa9",
   "metadata": {},
   "outputs": [
    {
     "data": {
      "image/png": "[encoded data removed]",
      "text/plain": [
       "<Figure size 432x288 with 1 Axes>"
      ]
     },
     "metadata": {
      "needs_background": "light"
     },
     "output_type": "display_data"
    }
   ],
   "source": [
    "counts, binedges, bar = plt.hist(x)"
   ]
  },
  {
   "cell_type": "markdown",
   "id": "86ee2063",
   "metadata": {},
   "source": [
    "## Specifying the number of bins:\n",
    "\n",
    "You can specify the number of bins or the actual bins to use by using the `bins=n` optional argument where `n` is the number of bins.\n",
    "\n",
    "Note, you can also specify a range for the bins with the `range=(lower,upper)` option."
   ]
  },
  {
   "cell_type": "code",
   "execution_count": 18,
   "id": "d964b0a4",
   "metadata": {},
   "outputs": [
    {
     "data": {
      "image/png": "[encoded data removed]",
      "text/plain": [
       "<Figure size 432x288 with 1 Axes>"
      ]
     },
     "metadata": {
      "needs_background": "light"
     },
     "output_type": "display_data"
    }
   ],
   "source": [
    "plt.hist(x, bins=25);"
   ]
  },
  {
   "cell_type": "markdown",
   "id": "af7127b7",
   "metadata": {},
   "source": [
    "## Specifying the bin edges:\n",
    "\n",
    "You can specify the number of bins or the actual bins to use by using the `bins=n` optional argument where `n` is the number of bins.\n",
    "\n",
    "Note, you can also specify a range for the bins with the `range=(lower,upper)` option.\n",
    "\n",
    "If you provide a sequence then the sequence is treated as the bin edges, allowing you to specify the bins exactly. \n",
    "\n",
    "### Example: specify bins centred on integers from -3 to +3:"
   ]
  },
  {
   "cell_type": "code",
   "execution_count": 23,
   "id": "3e44dfbb",
   "metadata": {},
   "outputs": [
    {
     "data": {
      "image/png": "[encoded data removed]",
      "text/plain": [
       "<Figure size 432x288 with 1 Axes>"
      ]
     },
     "metadata": {
      "needs_background": "light"
     },
     "output_type": "display_data"
    }
   ],
   "source": [
    "# bin edges from -3.5 to + 3.5 in steps of 1\n",
    "\n",
    "bins = np.arange(-3.5, 4.5, 1)\n",
    "\n",
    "plt.hist(x, bins=bins);"
   ]
  },
  {
   "cell_type": "markdown",
   "id": "a88494b3",
   "metadata": {},
   "source": [
    "## Create a density histogram"
   ]
  },
  {
   "cell_type": "code",
   "execution_count": 24,
   "id": "30dd36c4",
   "metadata": {},
   "outputs": [
    {
     "data": {
      "image/png": "[encoded data removed]",
      "text/plain": [
       "<Figure size 432x288 with 1 Axes>"
      ]
     },
     "metadata": {
      "needs_background": "light"
     },
     "output_type": "display_data"
    }
   ],
   "source": [
    "plt.hist(x, bins=25, density=True);"
   ]
  },
  {
   "cell_type": "code",
   "execution_count": null,
   "id": "da3941f3",
   "metadata": {},
   "outputs": [],
   "source": []
  }
 ],
 "metadata": {
  "hide_input": false,
  "kernelspec": {
   "display_name": "Python 3 (ipykernel)",
   "language": "python",
   "name": "python3"
  },
  "language_info": {
   "codemirror_mode": {
    "name": "ipython",
    "version": 3
   },
   "file_extension": ".py",
   "mimetype": "text/x-python",
   "name": "python",
   "nbconvert_exporter": "python",
   "pygments_lexer": "ipython3",
   "version": "3.9.12"
  },
  "toc": {
   "base_numbering": 1,
   "nav_menu": {},
   "number_sections": true,
   "sideBar": true,
   "skip_h1_title": false,
   "title_cell": "Table of Contents",
   "title_sidebar": "Contents",
   "toc_cell": false,
   "toc_position": {},
   "toc_section_display": true,
   "toc_window_display": false
  }
 },
 "nbformat": 4,
 "nbformat_minor": 5
}
