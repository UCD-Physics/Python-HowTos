{
  "nbformat": 4,
  "nbformat_minor": 0,
  "metadata": {
    "colab": {
      "provenance": [],
      "authorship_tag": "ABX9TyMXOYFVIDk+xMsOy+uxEI65",
      "include_colab_link": true
    },
    "kernelspec": {
      "name": "python3",
      "display_name": "Python 3"
    },
    "language_info": {
      "name": "python"
    }
  },
  "cells": [
    {
      "cell_type": "markdown",
      "metadata": {
        "id": "view-in-github",
        "colab_type": "text"
      },
      "source": [
        "<a href=\"https://colab.research.google.com/github/UCD-Physics/Python-HowTos/blob/main/Lists.ipynb\" target=\"_parent\"><img src=\"https://colab.research.google.com/assets/colab-badge.svg\" alt=\"Open In Colab\"/></a>"
      ]
    },
    {
      "cell_type": "markdown",
      "source": [
        "# Python Lists\n",
        "\n",
        "Lists are amongst the most common and useful containers in Python and you will encounter them on many occasions.\n",
        "\n",
        "Lists are dynamic and can grow and shrink as items are added and removed. They can store different types of objects and even other lists, dictionaries etc.\n",
        "\n",
        "In this notebook some of the key features of lists are demonstrated. For further reading see: \n",
        "- https://docs.python.org/3/tutorial/introduction.html#lists\n",
        "- https://docs.python.org/3/tutorial/datastructures.html\n",
        "\n",
        "Examples here are from the official Python tutorials above. "
      ],
      "metadata": {
        "id": "_6hkMVLJQAiA"
      }
    },
    {
      "cell_type": "markdown",
      "source": [
        "## List creation and clearing\n",
        "\n",
        "Lists may be created using either `[]` or `list()` commands. \n",
        "\n",
        "Lists may also be created by copying other lists (more below).\n",
        "\n",
        "Items can be added to a list with the `append()` method.\n",
        "\n",
        "All the elements of a list can be removed with the `clear()` method."
      ],
      "metadata": {
        "id": "iV9yCjEiQ-FJ"
      }
    },
    {
      "cell_type": "code",
      "execution_count": 20,
      "metadata": {
        "colab": {
          "base_uri": "https://localhost:8080/"
        },
        "id": "Eye_YSJsP_bz",
        "outputId": "fe4da539-be40-45fe-d621-e0b65ca745ac"
      },
      "outputs": [
        {
          "output_type": "execute_result",
          "data": {
            "text/plain": [
              "[1, 4, 9, 16, 25]"
            ]
          },
          "metadata": {},
          "execution_count": 20
        }
      ],
      "source": [
        "# create a list with some elements\n",
        "\n",
        "squares = [1, 4, 9, 16, 25]\n",
        "\n",
        "squares"
      ]
    },
    {
      "cell_type": "code",
      "source": [
        "# create an empty list and add elements using append\n",
        "# note: there is a better way to do this example using list \n",
        "# comprehension - see below\n",
        "\n",
        "squares = []\n",
        "\n",
        "for i in range(1,6):\n",
        "  squares.append(i**2)\n",
        "\n",
        "squares"
      ],
      "metadata": {
        "colab": {
          "base_uri": "https://localhost:8080/"
        },
        "id": "mg5guRV-Rv0K",
        "outputId": "15d5eddb-915c-4229-a2c4-39ac16eb0093"
      },
      "execution_count": 65,
      "outputs": [
        {
          "output_type": "execute_result",
          "data": {
            "text/plain": [
              "[1, 4, 9, 16, 25]"
            ]
          },
          "metadata": {},
          "execution_count": 65
        }
      ]
    },
    {
      "cell_type": "code",
      "source": [
        "squares.clear()\n",
        "squares"
      ],
      "metadata": {
        "colab": {
          "base_uri": "https://localhost:8080/"
        },
        "id": "KKW0lmTWaMJ6",
        "outputId": "8b9fd28f-5862-459c-ab91-24c45517d21b"
      },
      "execution_count": 66,
      "outputs": [
        {
          "output_type": "execute_result",
          "data": {
            "text/plain": [
              "[]"
            ]
          },
          "metadata": {},
          "execution_count": 66
        }
      ]
    },
    {
      "cell_type": "markdown",
      "source": [
        "## How many elements are in the list?\n",
        "\n",
        "The number of elements in a list can be obtained using the `len()` function:"
      ],
      "metadata": {
        "id": "Hp1Q1kQjTMSd"
      }
    },
    {
      "cell_type": "code",
      "source": [
        "squares = [1, 4, 9, 16, 25]\n",
        "\n",
        "len(squares)"
      ],
      "metadata": {
        "colab": {
          "base_uri": "https://localhost:8080/"
        },
        "id": "HKhTmDQkTM0i",
        "outputId": "00d15dcf-13db-4abf-eb91-aba973514f7a"
      },
      "execution_count": 67,
      "outputs": [
        {
          "output_type": "execute_result",
          "data": {
            "text/plain": [
              "5"
            ]
          },
          "metadata": {},
          "execution_count": 67
        }
      ]
    },
    {
      "cell_type": "markdown",
      "source": [
        "## Combining and repeating lists\n",
        "\n",
        "Lists may be joined using the `+` operator and repeated using the `*` operator"
      ],
      "metadata": {
        "id": "ETSz0ftenIFh"
      }
    },
    {
      "cell_type": "code",
      "source": [
        "a = [1, 2, 3]\n",
        "b = [40, 50]\n",
        "a + b"
      ],
      "metadata": {
        "colab": {
          "base_uri": "https://localhost:8080/"
        },
        "id": "VKlGzF1anOSk",
        "outputId": "129badf3-7865-4bb5-f498-49b12db65ca9"
      },
      "execution_count": 68,
      "outputs": [
        {
          "output_type": "execute_result",
          "data": {
            "text/plain": [
              "[1, 2, 3, 40, 50]"
            ]
          },
          "metadata": {},
          "execution_count": 68
        }
      ]
    },
    {
      "cell_type": "code",
      "source": [
        "a = [1, 2, 3]\n",
        "a * 4"
      ],
      "metadata": {
        "colab": {
          "base_uri": "https://localhost:8080/"
        },
        "id": "nvyHIioVnr_z",
        "outputId": "acf050a6-a32c-459d-bf16-e0b876df1a4f"
      },
      "execution_count": 69,
      "outputs": [
        {
          "output_type": "execute_result",
          "data": {
            "text/plain": [
              "[1, 2, 3, 1, 2, 3, 1, 2, 3, 1, 2, 3]"
            ]
          },
          "metadata": {},
          "execution_count": 69
        }
      ]
    },
    {
      "cell_type": "markdown",
      "source": [
        "## List indexing\n",
        "\n",
        "List elements may be accessed using the `[]` notation with the index of the element you are interested in inside the brackets.\n",
        "\n",
        "Indexes start from `0` and go to `n-1` where `n` is the number of elements in the list.\n",
        "\n",
        "Individual elements can be deleted from a list with the Pythin `del()` function.\n",
        "\n"
      ],
      "metadata": {
        "id": "cUb9gx0QSVOl"
      }
    },
    {
      "cell_type": "code",
      "source": [
        "letters = ['a', 'b', 'c', 'd', 'e', 'f', 'g']\n",
        "\n",
        "print(letters[0]) # print 1st element\n",
        "\n",
        "print(letters[5]) # print 6th element\n",
        "\n",
        "letters[5] = 'F'  # replace 6th element\n",
        "print(letters)\n",
        "\n",
        "del(letters[5])   # remove the 6th element\n",
        "print(letters)"
      ],
      "metadata": {
        "colab": {
          "base_uri": "https://localhost:8080/"
        },
        "id": "NEXgjaHWSlX_",
        "outputId": "51c9ca33-4b6f-4325-e53c-856e590c1b0d"
      },
      "execution_count": 70,
      "outputs": [
        {
          "output_type": "stream",
          "name": "stdout",
          "text": [
            "a\n",
            "f\n",
            "['a', 'b', 'c', 'd', 'e', 'F', 'g']\n",
            "['a', 'b', 'c', 'd', 'e', 'g']\n"
          ]
        }
      ]
    },
    {
      "cell_type": "markdown",
      "source": [
        "## List slicing\n",
        "\n",
        "### List slicing using the `:` operator\n",
        "\n",
        "Ranges can be selected using the `:` operator, e.g. `squares[1:4]` returns a list that is a shallow copy of second, third and fourth elements of `squares`.\n",
        "\n",
        "A shallow copy means the copied and original list share elements as much as possible. Shallow and deep copies are a complicated subject, especially when it comes to things mutable objects within lists - please ask or for further reading see, for example:\n",
        "- https://docs.python.org/3/library/copy.html#shallow-vs-deep-copy\n",
        "- https://towardsdatascience.com/assignment-shallow-or-deep-a-story-about-pythons-memory-management-b8fad87bfa6c\n",
        "\n",
        "\n",
        "If the start or end index is left out then the start or end of the list is assumed.\n",
        "\n"
      ],
      "metadata": {
        "id": "C-DDZvrCUxLp"
      }
    },
    {
      "cell_type": "code",
      "source": [
        "# shallow list copy example \n",
        "\n",
        "letters = ['a', 'b', 'c', 'd', 'e', 'f', 'g']\n",
        "\n",
        "letters[2:5]  # a shallow copy"
      ],
      "metadata": {
        "colab": {
          "base_uri": "https://localhost:8080/"
        },
        "id": "7usZ06spW8OV",
        "outputId": "ea78869c-f1b8-4931-ce75-97f895c5fd1b"
      },
      "execution_count": 73,
      "outputs": [
        {
          "output_type": "execute_result",
          "data": {
            "text/plain": [
              "['c', 'd', 'e']"
            ]
          },
          "metadata": {},
          "execution_count": 73
        }
      ]
    },
    {
      "cell_type": "code",
      "source": [
        "letters = ['a', 'b', 'c', 'd', 'e', 'f', 'g']\n",
        "\n",
        "print(letters[:3])   # first to third\n",
        "print(letters[3:])   # fourth to end of list\n",
        "print(letters[:])    # entire list"
      ],
      "metadata": {
        "colab": {
          "base_uri": "https://localhost:8080/"
        },
        "id": "6knZTYTtb3UE",
        "outputId": "75a44a62-7ccd-442d-8b96-92f5843533b9"
      },
      "execution_count": 75,
      "outputs": [
        {
          "output_type": "stream",
          "name": "stdout",
          "text": [
            "['a', 'b', 'c']\n",
            "['d', 'e', 'f', 'g']\n",
            "['a', 'b', 'c', 'd', 'e', 'f', 'g']\n"
          ]
        }
      ]
    },
    {
      "cell_type": "code",
      "source": [
        "# changing elemeents of a list\n",
        "\n",
        "letters = ['a', 'b', 'c', 'd', 'e', 'f', 'g']\n",
        "\n",
        "letters[2:5] = ['C', 'D', 'E']   # changes the list\n",
        "letters"
      ],
      "metadata": {
        "colab": {
          "base_uri": "https://localhost:8080/"
        },
        "id": "dq5EI6O_YpwV",
        "outputId": "0868e593-f4b5-4c7b-a9f9-000d13657f98"
      },
      "execution_count": 74,
      "outputs": [
        {
          "output_type": "execute_result",
          "data": {
            "text/plain": [
              "['a', 'b', 'C', 'D', 'E', 'f', 'g']"
            ]
          },
          "metadata": {},
          "execution_count": 74
        }
      ]
    },
    {
      "cell_type": "code",
      "source": [
        "# another way to clear a list!\n",
        "\n",
        "letters[:] = []\n",
        "letters"
      ],
      "metadata": {
        "colab": {
          "base_uri": "https://localhost:8080/"
        },
        "id": "yP-6CbfmpL4A",
        "outputId": "4f5df4ef-48f4-4563-ab61-bb959ee75ea3"
      },
      "execution_count": 76,
      "outputs": [
        {
          "output_type": "execute_result",
          "data": {
            "text/plain": [
              "[]"
            ]
          },
          "metadata": {},
          "execution_count": 76
        }
      ]
    },
    {
      "cell_type": "markdown",
      "source": [
        "### Reverse indexing and slicing\n",
        "\n",
        "Negative numbers may be used in indexing and slicing where and index of `-1` is the last element, `-2` second last etc. "
      ],
      "metadata": {
        "id": "2z5GP8tWW53U"
      }
    },
    {
      "cell_type": "code",
      "source": [
        "letters = ['a', 'b', 'c', 'd', 'e', 'f', 'g']\n",
        "\n",
        "print(letters[-1])\n",
        "\n",
        "print(letters[-2:])\n",
        "\n",
        "print(letters[:-3])"
      ],
      "metadata": {
        "colab": {
          "base_uri": "https://localhost:8080/"
        },
        "id": "QSiNAhndbi3W",
        "outputId": "7f9b7b2c-fcd7-4c9f-a753-ac8b3703b330"
      },
      "execution_count": 58,
      "outputs": [
        {
          "output_type": "stream",
          "name": "stdout",
          "text": [
            "g\n",
            "['f', 'g']\n",
            "['a', 'b', 'c', 'd']\n"
          ]
        }
      ]
    },
    {
      "cell_type": "markdown",
      "source": [
        "## List ranges using `::`\n",
        "\n",
        "The `::` notation can be used to select elements in steps where the step size is given after the second `:`. \n",
        "\n",
        "The step can be negative.\n",
        "\n",
        "Examples: "
      ],
      "metadata": {
        "id": "wmsu7gxJcclm"
      }
    },
    {
      "cell_type": "code",
      "source": [
        "letters = ['a', 'b', 'c', 'd', 'e', 'f', 'g']\n",
        "\n",
        "letters[::2]  # steps of two..."
      ],
      "metadata": {
        "colab": {
          "base_uri": "https://localhost:8080/"
        },
        "id": "sLSlvRsebopW",
        "outputId": "797843a3-7ec8-4c58-8896-f7bb921f5874"
      },
      "execution_count": 77,
      "outputs": [
        {
          "output_type": "execute_result",
          "data": {
            "text/plain": [
              "['a', 'c', 'e', 'g']"
            ]
          },
          "metadata": {},
          "execution_count": 77
        }
      ]
    },
    {
      "cell_type": "code",
      "source": [
        "letters[::-1]\n",
        "\n"
      ],
      "metadata": {
        "colab": {
          "base_uri": "https://localhost:8080/"
        },
        "id": "mOqFtZ2sdnXz",
        "outputId": "b6ae30c5-b452-4f7a-fa15-c758d26f184b"
      },
      "execution_count": 40,
      "outputs": [
        {
          "output_type": "execute_result",
          "data": {
            "text/plain": [
              "['G', 'f', 'e', 'd', 'c', 'b', 'a']"
            ]
          },
          "metadata": {},
          "execution_count": 40
        }
      ]
    },
    {
      "cell_type": "code",
      "source": [
        "letters = ['a', 'b', 'c', 'd', 'e', 'f', 'g']\n",
        "\n",
        "letters[::-1]  # reverse the list"
      ],
      "metadata": {
        "colab": {
          "base_uri": "https://localhost:8080/"
        },
        "id": "vCCrrrlrdAjY",
        "outputId": "f43ce0d2-2b0d-4cb7-a45a-8cba0fdf34f1"
      },
      "execution_count": 35,
      "outputs": [
        {
          "output_type": "execute_result",
          "data": {
            "text/plain": [
              "['g', 'f', 'e', 'd', 'c', 'b', 'a']"
            ]
          },
          "metadata": {},
          "execution_count": 35
        }
      ]
    },
    {
      "cell_type": "markdown",
      "source": [
        "## List Comprehensions\n",
        "Consider the example shown earlier:\n",
        "\n",
        "```\n",
        "squares = []\n",
        "\n",
        "for i in range(1,6):\n",
        "  squares.append(i**2)\n",
        "\n",
        "squares\n",
        "```\n",
        "\n",
        "This can be acheieved in an easier and more efficient way using list comprehensions (see, e.g. [here](https://docs.python.org/3/whatsnew/2.0.html#list-comprehensions) for more details).\n",
        "\n",
        "Here is the equivalent of the above code using a list comprehension:"
      ],
      "metadata": {
        "id": "LMblnstfdeZX"
      }
    },
    {
      "cell_type": "code",
      "source": [
        "squares = [i**2 for i in range(1,6)]\n",
        "squares"
      ],
      "metadata": {
        "colab": {
          "base_uri": "https://localhost:8080/"
        },
        "id": "eg5OlAHNprol",
        "outputId": "941d34fa-9587-4bc7-c17b-7bccab3fd6cc"
      },
      "execution_count": 78,
      "outputs": [
        {
          "output_type": "execute_result",
          "data": {
            "text/plain": [
              "[1, 4, 9, 16, 25]"
            ]
          },
          "metadata": {},
          "execution_count": 78
        }
      ]
    },
    {
      "cell_type": "markdown",
      "source": [
        "List comprehensions can have conditions included, e.g."
      ],
      "metadata": {
        "id": "UNMK7TCoqIb3"
      }
    },
    {
      "cell_type": "code",
      "source": [
        "# calculate squares of all numbers between 1 and 19\n",
        "# that are evenly divisible by 3\n",
        "\n",
        "squares = [i**2 for i in range(1,20) if i%3 == 0 ]\n",
        "squares"
      ],
      "metadata": {
        "colab": {
          "base_uri": "https://localhost:8080/"
        },
        "id": "xlLal94CqAug",
        "outputId": "c1970918-3066-49ad-a7f4-2e0e918f9cfc"
      },
      "execution_count": 80,
      "outputs": [
        {
          "output_type": "execute_result",
          "data": {
            "text/plain": [
              "[9, 36, 81, 144, 225, 324]"
            ]
          },
          "metadata": {},
          "execution_count": 80
        }
      ]
    },
    {
      "cell_type": "markdown",
      "source": [
        "List comprehensions can also loop over two or more lists at the same time. See online documentation for examples."
      ],
      "metadata": {
        "id": "0vuEhkhdqg2n"
      }
    },
    {
      "cell_type": "code",
      "source": [],
      "metadata": {
        "id": "iUABL0i1qT1r"
      },
      "execution_count": null,
      "outputs": []
    }
  ]
}