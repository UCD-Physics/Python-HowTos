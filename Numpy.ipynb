{
  "cells": [
    {
      "cell_type": "markdown",
      "metadata": {
        "id": "view-in-github",
        "colab_type": "text"
      },
      "source": [
        "<a href=\"https://colab.research.google.com/github/UCD-Physics/Python-HowTos/blob/main/Numpy.ipynb\" target=\"_parent\"><img src=\"https://colab.research.google.com/assets/colab-badge.svg\" alt=\"Open In Colab\"/></a>"
      ]
    },
    {
      "cell_type": "markdown",
      "id": "c16166b4",
      "metadata": {
        "id": "c16166b4"
      },
      "source": [
        "## Numpy\n",
        "\n",
        "Numpy is an extremely useful library that lets python work with data at a high speed. You will be using it regularly throughout your code. First, you need to import the package at the start of your notebook."
      ]
    },
    {
      "cell_type": "code",
      "execution_count": 1,
      "id": "3eb2436a",
      "metadata": {
        "id": "3eb2436a"
      },
      "outputs": [],
      "source": [
        "import numpy as np"
      ]
    },
    {
      "cell_type": "markdown",
      "id": "90fdd78f",
      "metadata": {
        "id": "90fdd78f"
      },
      "source": [
        "One of the most important things numpy can do is import data, but this will be dealt with in it's own section here ([importing data](https://github.com/alvaphelan/Python-HowTos/blob/main/Importing_Data.ipynb)).\n",
        "\n",
        "Arrays are a very useful aspect of numpy and are used widely. An array is just a grid of values and can be one or multidimensional. "
      ]
    },
    {
      "cell_type": "code",
      "execution_count": 2,
      "id": "c2eda541",
      "metadata": {
        "id": "c2eda541"
      },
      "outputs": [],
      "source": [
        "# example of 1 dimensional array\n",
        "one_d = np.array([2, 4, 6, 8, 10])\n",
        "# example of 2 dimensional array \n",
        "two_d = np.array([(1,3,5), (2,4,6)]) #(2x3 matrix in this case)"
      ]
    },
    {
      "cell_type": "markdown",
      "id": "73ee6616",
      "metadata": {
        "id": "73ee6616"
      },
      "source": [
        "Numpy has a lot of tools to find out about arrays (very useful if dealing with long ones) and creating them!\n",
        "\n",
        "#### **Finding information about arrays**\n",
        "\n",
        "It is possible to find the size of an array by using the command 'np.size()', or you can use the pure python function 'len()'.\n"
      ]
    },
    {
      "cell_type": "code",
      "execution_count": null,
      "id": "0de59e40",
      "metadata": {
        "colab": {
          "base_uri": "https://localhost:8080/"
        },
        "id": "0de59e40",
        "outputId": "6ee8d9bc-ae74-46cd-8a5b-11ae5c79185d"
      },
      "outputs": [
        {
          "output_type": "stream",
          "name": "stdout",
          "text": [
            "5\n",
            "5\n"
          ]
        }
      ],
      "source": [
        "print(np.size(one_d))\n",
        "print(len(one_d))"
      ]
    },
    {
      "cell_type": "markdown",
      "id": "44fc2004",
      "metadata": {
        "id": "44fc2004"
      },
      "source": [
        "However, you have to be careful with the 'len()' function, as for two dimensional arrays, it only returns the number of rows!\n"
      ]
    },
    {
      "cell_type": "code",
      "execution_count": null,
      "id": "2019d593",
      "metadata": {
        "colab": {
          "base_uri": "https://localhost:8080/"
        },
        "id": "2019d593",
        "outputId": "4aaecf65-1ef0-4782-bf1d-269e3e760947"
      },
      "outputs": [
        {
          "output_type": "stream",
          "name": "stdout",
          "text": [
            "6\n",
            "2\n"
          ]
        }
      ],
      "source": [
        "print(np.size(two_d))\n",
        "print(len(two_d))"
      ]
    },
    {
      "cell_type": "markdown",
      "source": [
        "For multidimensional arrays, np.shape will give you the dimensions of the matrix."
      ],
      "metadata": {
        "id": "6jB2bMb5sSmC"
      },
      "id": "6jB2bMb5sSmC"
    },
    {
      "cell_type": "code",
      "source": [
        "print(np.shape(two_d))"
      ],
      "metadata": {
        "colab": {
          "base_uri": "https://localhost:8080/"
        },
        "id": "4FfhYeWisbd4",
        "outputId": "846e0d8a-0b5e-46dd-a88b-39bce6fbbc3b"
      },
      "id": "4FfhYeWisbd4",
      "execution_count": null,
      "outputs": [
        {
          "output_type": "stream",
          "name": "stdout",
          "text": [
            "(2, 3)\n"
          ]
        }
      ]
    },
    {
      "cell_type": "markdown",
      "id": "b3891b6e",
      "metadata": {
        "id": "b3891b6e"
      },
      "source": [
        "It is possible to get certain elements by the name of the array, followed by a square bracket surrounding the position of interest.\n",
        "\n",
        "\n",
        "*note: the index of the first element is always 0, not 1!*"
      ]
    },
    {
      "cell_type": "code",
      "execution_count": null,
      "id": "e0ee271b",
      "metadata": {
        "colab": {
          "base_uri": "https://localhost:8080/"
        },
        "id": "e0ee271b",
        "outputId": "1b970444-73a4-4119-f746-e2ec5411e493"
      },
      "outputs": [
        {
          "output_type": "stream",
          "name": "stdout",
          "text": [
            "2\n",
            "6\n"
          ]
        }
      ],
      "source": [
        "#to find the first and third element of the one d array\n",
        "print(one_d[0])\n",
        "print(one_d[2])"
      ]
    },
    {
      "cell_type": "markdown",
      "id": "7697426c",
      "metadata": {
        "id": "7697426c"
      },
      "source": [
        "The same works for a two dimensional array, but remember to put in the full position!"
      ]
    },
    {
      "cell_type": "code",
      "execution_count": null,
      "id": "e69d5f11",
      "metadata": {
        "colab": {
          "base_uri": "https://localhost:8080/"
        },
        "id": "e69d5f11",
        "outputId": "2d85861b-2d36-4b93-b050-9fdc5c9ac01a"
      },
      "outputs": [
        {
          "output_type": "stream",
          "name": "stdout",
          "text": [
            "5\n"
          ]
        }
      ],
      "source": [
        "#to find the element in the first row, third column\n",
        "print(two_d[0, 2])"
      ]
    },
    {
      "cell_type": "markdown",
      "id": "7407056f",
      "metadata": {
        "id": "7407056f"
      },
      "source": [
        "##### **Slicing**\n",
        "If creating a smaller array from a larger one that already exists, e.g. looking at a particular part of interest, slicing is a good way to do so. It works similarly to getting a specific element, except in this case you put a ':' in between the first element of interest and the one after the last. (for example, [2:6] means the third element up to but not including the 7th element).\n",
        "\n",
        "*note: simply putting [:] will return the original array, while [:4] will return all points up to but not inlcuding the fifth element and vice versa."
      ]
    },
    {
      "cell_type": "code",
      "execution_count": null,
      "id": "f53ac007",
      "metadata": {
        "colab": {
          "base_uri": "https://localhost:8080/"
        },
        "id": "f53ac007",
        "outputId": "4fdc2eeb-f639-4b1e-de34-b5ddb9e11fd4"
      },
      "outputs": [
        {
          "output_type": "stream",
          "name": "stdout",
          "text": [
            "[ 4  6  8 10]\n"
          ]
        }
      ],
      "source": [
        "#for example, to make a smaller array of the second, third and fourth element of the one d array\n",
        "sliced_array = one_d[1:5]\n",
        "print(sliced_array)"
      ]
    },
    {
      "cell_type": "markdown",
      "id": "cfb9704b",
      "metadata": {
        "id": "cfb9704b"
      },
      "source": [
        "This also works for two dimensional arrays, you just need to put a , in between."
      ]
    },
    {
      "cell_type": "code",
      "execution_count": null,
      "id": "43a4cb7c",
      "metadata": {
        "colab": {
          "base_uri": "https://localhost:8080/"
        },
        "id": "43a4cb7c",
        "outputId": "d645fa82-5167-42da-9e93-973c2e659487"
      },
      "outputs": [
        {
          "output_type": "stream",
          "name": "stdout",
          "text": [
            "[2 4 6]\n",
            "[3 4]\n"
          ]
        }
      ],
      "source": [
        "# to get second row, all columns\n",
        "print(two_d[1,:])\n",
        "# to get all rows but second column\n",
        "print(two_d[:,1])"
      ]
    },
    {
      "cell_type": "markdown",
      "source": [
        "Negative values can aslo be used when slicing, for example getting all elements except the last:"
      ],
      "metadata": {
        "id": "ZbjD_uk-jCLQ"
      },
      "id": "ZbjD_uk-jCLQ"
    },
    {
      "cell_type": "code",
      "source": [
        "print(one_d[:-1])"
      ],
      "metadata": {
        "id": "U1--WY-4jNTX",
        "outputId": "c0640745-a8b5-47b4-da03-3f080bdeae48",
        "colab": {
          "base_uri": "https://localhost:8080/"
        }
      },
      "id": "U1--WY-4jNTX",
      "execution_count": null,
      "outputs": [
        {
          "output_type": "stream",
          "name": "stdout",
          "text": [
            "[2 4 6 8]\n"
          ]
        }
      ]
    },
    {
      "cell_type": "markdown",
      "source": [
        "It is also possible to easily reverse an array by using negative values. Example:"
      ],
      "metadata": {
        "id": "ii8ewD2RiJVQ"
      },
      "id": "ii8ewD2RiJVQ"
    },
    {
      "cell_type": "code",
      "source": [
        "reverse = one_d[::-1]\n",
        "print(reverse)"
      ],
      "metadata": {
        "id": "qoz_-ckYiUsj",
        "outputId": "fe88df5b-76ff-4188-81cf-cab5de956a16",
        "colab": {
          "base_uri": "https://localhost:8080/"
        }
      },
      "id": "qoz_-ckYiUsj",
      "execution_count": null,
      "outputs": [
        {
          "output_type": "stream",
          "name": "stdout",
          "text": [
            "[10  8  6  4  2]\n"
          ]
        }
      ]
    },
    {
      "cell_type": "markdown",
      "source": [
        "#### **Creating arrays**"
      ],
      "metadata": {
        "id": "RzApcrn4tQhm"
      },
      "id": "RzApcrn4tQhm"
    },
    {
      "cell_type": "markdown",
      "id": "ca451921",
      "metadata": {
        "id": "ca451921"
      },
      "source": [
        "If creating an array from scratch, it is possible to make an evenly spaced out array where you customise the start point, end point and step size. \n",
        "\n",
        "*Be mindful, as in the slicing, it is up to but not including the end point*"
      ]
    },
    {
      "cell_type": "code",
      "execution_count": null,
      "id": "b6ca7421",
      "metadata": {
        "colab": {
          "base_uri": "https://localhost:8080/"
        },
        "id": "b6ca7421",
        "outputId": "bb7006a2-cc5b-4c71-b876-9b4f5b528d7d"
      },
      "outputs": [
        {
          "output_type": "stream",
          "name": "stdout",
          "text": [
            "[1.  1.5 2.  2.5 3.  3.5 4.  4.5 5. ]\n"
          ]
        }
      ],
      "source": [
        "# for example to get from 1 to 5 in steps of 0.5\n",
        "space = np.arange(1, 5.5, 0.5)\n",
        "print(space)"
      ]
    },
    {
      "cell_type": "markdown",
      "id": "65b3e450",
      "metadata": {
        "id": "65b3e450"
      },
      "source": [
        "If you want to create an array but with a certain number of steps, rather than a step size, you can use the function 'np.linspace()' where you customise the start point, endpoint and number of steps"
      ]
    },
    {
      "cell_type": "code",
      "execution_count": null,
      "id": "cd5acfee",
      "metadata": {
        "colab": {
          "base_uri": "https://localhost:8080/"
        },
        "id": "cd5acfee",
        "outputId": "5fc1c12f-af77-4bf5-c488-653563866ccd"
      },
      "outputs": [
        {
          "output_type": "stream",
          "name": "stdout",
          "text": [
            "[ 1.    3.25  5.5   7.75 10.  ]\n"
          ]
        }
      ],
      "source": [
        "# for example go from 1 to 10 in 5 steps\n",
        "numbers = np.linspace(1,10,5)\n",
        "print(numbers)"
      ]
    },
    {
      "cell_type": "markdown",
      "source": [
        "Another function similar to linspace is 'np.logspace()'. This function returns an array of evenly spaced numbers on a logarithmic scale. It has the following parameters:\n",
        "numpy.logspace(start,stop, num = 50, endpoint = True, base = 10.0)\n",
        "Start and stop refer to the beginning and end of your array, 'num' is the number of points you want, base is the log base you want and setting the endpoint equal to 'True' includes the last point of your array.\n",
        "Example:"
      ],
      "metadata": {
        "id": "3K8lLmqMpFwx"
      },
      "id": "3K8lLmqMpFwx"
    },
    {
      "cell_type": "code",
      "source": [
        "print(np.logspace(2, 4, num = 6, endpoint = True, base = 10))"
      ],
      "metadata": {
        "id": "nZK7IDCkqOAE",
        "outputId": "45b8027f-a6cd-495f-e364-879fdcc7ebce",
        "colab": {
          "base_uri": "https://localhost:8080/"
        }
      },
      "id": "nZK7IDCkqOAE",
      "execution_count": null,
      "outputs": [
        {
          "output_type": "stream",
          "name": "stdout",
          "text": [
            "[  100.           251.18864315   630.95734448  1584.89319246\n",
            "  3981.07170553 10000.        ]\n"
          ]
        }
      ]
    },
    {
      "cell_type": "markdown",
      "source": [
        "The function 'np.geomspace()' works very similarly, but the startpoint and endpoint are the specific start and end of the array (already on a log scale).\n",
        "Example:"
      ],
      "metadata": {
        "id": "C2tkyuWDrefz"
      },
      "id": "C2tkyuWDrefz"
    },
    {
      "cell_type": "code",
      "source": [
        "print(np.geomspace(2, 4, num = 6, endpoint = True))"
      ],
      "metadata": {
        "id": "Tk4IjM58rEm6",
        "outputId": "b359bd66-98de-4dc6-b29c-90697c7b2784",
        "colab": {
          "base_uri": "https://localhost:8080/"
        }
      },
      "id": "Tk4IjM58rEm6",
      "execution_count": null,
      "outputs": [
        {
          "output_type": "stream",
          "name": "stdout",
          "text": [
            "[2.         2.29739671 2.63901582 3.03143313 3.48220225 4.        ]\n"
          ]
        }
      ]
    },
    {
      "cell_type": "markdown",
      "source": [
        "Another useful function is 'np.repeat()' which will return a certain value repeated a certain number of times."
      ],
      "metadata": {
        "id": "b725352KjdlU"
      },
      "id": "b725352KjdlU"
    },
    {
      "cell_type": "code",
      "source": [
        "#to repeat a value of 0.5 12 times:\n",
        "print(np.repeat(0.5, 12))"
      ],
      "metadata": {
        "id": "44gHu8bajqJX",
        "outputId": "d7e0323b-eac8-4629-8ce6-4da4ae7b886a",
        "colab": {
          "base_uri": "https://localhost:8080/"
        }
      },
      "id": "44gHu8bajqJX",
      "execution_count": null,
      "outputs": [
        {
          "output_type": "stream",
          "name": "stdout",
          "text": [
            "[0.5 0.5 0.5 0.5 0.5 0.5 0.5 0.5 0.5 0.5 0.5 0.5]\n"
          ]
        }
      ]
    },
    {
      "cell_type": "markdown",
      "id": "852b81b6",
      "metadata": {
        "id": "852b81b6"
      },
      "source": [
        "##### **Various Arrays**\n",
        "\n",
        "There are many numpy functions that can be used to create arrays. If looking to create one containing only 0's, you can use 'np.zeros()' and fill in the bracket with the length of the array you want, 'np.ones()' will do the same but fill with only 1's, 'np.eye(4)' will create a 4x4 identity matrix (fill with whatever square matrix is needed). \n",
        "\n",
        "You can also easily create a matrix full of ones or zeros in the same dimensions as an array already defined by the functions 'np.ones_like()' or 'np.zeros_like()'. \n",
        "\n",
        "For example:"
      ]
    },
    {
      "cell_type": "code",
      "source": [
        "print(np.zeros_like(two_d))"
      ],
      "metadata": {
        "colab": {
          "base_uri": "https://localhost:8080/"
        },
        "id": "pGaihW_X_hjt",
        "outputId": "93ca7bc3-12e3-4276-b67b-7d495fd34c0f"
      },
      "id": "pGaihW_X_hjt",
      "execution_count": 3,
      "outputs": [
        {
          "output_type": "stream",
          "name": "stdout",
          "text": [
            "[[0 0 0]\n",
            " [0 0 0]]\n"
          ]
        }
      ]
    },
    {
      "cell_type": "markdown",
      "id": "80282932",
      "metadata": {
        "id": "80282932"
      },
      "source": [
        "#### **Operations on arrays**\n",
        "\n",
        "In order to perform an operation on every item in an array, it is possible to create a for loop (as seen in [this section](https://github.com/UCD-Physics/Python-HowTos/blob/main/Writing_Loops.ipynb)), however a much faster way to do this is by simply performing an operation on the whole array at once. In addition to being faster, it also produces easier to read code which is far less prone to errors.\n",
        "\n",
        "For example, if needed to multiply every element by 3:\n"
      ]
    },
    {
      "cell_type": "code",
      "source": [
        "one_d_by_three = 3*one_d\n",
        "print(one_d_by_three)"
      ],
      "metadata": {
        "colab": {
          "base_uri": "https://localhost:8080/"
        },
        "id": "CW_d7JMp5Avn",
        "outputId": "b656ff16-c3bf-44c9-87ac-d5bc058839e5"
      },
      "id": "CW_d7JMp5Avn",
      "execution_count": 5,
      "outputs": [
        {
          "output_type": "stream",
          "name": "stdout",
          "text": [
            "[ 6 12 18 24 30]\n"
          ]
        }
      ]
    },
    {
      "cell_type": "markdown",
      "source": [
        "or if you want to create a log/log plot you can just plot the log of the array:"
      ],
      "metadata": {
        "id": "lzfE8lYe6-lc"
      },
      "id": "lzfE8lYe6-lc"
    },
    {
      "cell_type": "code",
      "source": [
        "print(np.log(one_d))"
      ],
      "metadata": {
        "colab": {
          "base_uri": "https://localhost:8080/"
        },
        "id": "YY5J4gVZ7RIC",
        "outputId": "ab3378bb-af4d-4dc2-fa60-5487485aec57"
      },
      "id": "YY5J4gVZ7RIC",
      "execution_count": 6,
      "outputs": [
        {
          "output_type": "stream",
          "name": "stdout",
          "text": [
            "[0.69314718 1.38629436 1.79175947 2.07944154 2.30258509]\n"
          ]
        }
      ]
    },
    {
      "cell_type": "markdown",
      "source": [
        "There are also many functions to find out various bits of information about the array without having to create a loop, such as:"
      ],
      "metadata": {
        "id": "QwOK3W0v7V1z"
      },
      "id": "QwOK3W0v7V1z"
    },
    {
      "cell_type": "code",
      "execution_count": 7,
      "id": "9dd7ecdb",
      "metadata": {
        "colab": {
          "base_uri": "https://localhost:8080/"
        },
        "id": "9dd7ecdb",
        "outputId": "acf2725e-3c72-4979-d069-4b7d2669d287"
      },
      "outputs": [
        {
          "output_type": "stream",
          "name": "stdout",
          "text": [
            "max value in array is 10\n",
            "min value in array is 2\n",
            "sum of all numbers in array is 30\n",
            "mean of the numbers in array is 6.0\n",
            "standard deviation of numbers in array is 2.828\n"
          ]
        }
      ],
      "source": [
        "print(f\"max value in array is {np.max(one_d)}\")\n",
        "print(f\"min value in array is {np.min(one_d)}\")\n",
        "print(f\"sum of all numbers in array is {np.sum(one_d)}\")\n",
        "print(f\"mean of the numbers in array is {np.mean(one_d)}\")\n",
        "print(f\"standard deviation of numbers in array is {np.std(one_d):.3f}\")"
      ]
    },
    {
      "cell_type": "markdown",
      "id": "ba974f90",
      "metadata": {
        "id": "ba974f90"
      },
      "source": [
        "#### **Min and Max**\n",
        "\n",
        "To find the position of the maximum and minimum in the array, you can use the 'argmax' and 'argmin' function. Important not to mix the two up.\n"
      ]
    },
    {
      "cell_type": "code",
      "execution_count": 8,
      "id": "0e41b9ee",
      "metadata": {
        "colab": {
          "base_uri": "https://localhost:8080/"
        },
        "id": "0e41b9ee",
        "outputId": "df704917-ade3-4227-ef81-9bf246c1794b"
      },
      "outputs": [
        {
          "output_type": "stream",
          "name": "stdout",
          "text": [
            "The max value in the array is 10 and occurs at the position 4\n",
            "The min value in the array is 2 and occurs at the position 0\n"
          ]
        }
      ],
      "source": [
        "print(f\"The max value in the array is {np.max(one_d)} and occurs at the position {np.argmax(one_d)}\")\n",
        "print(f\"The min value in the array is {np.min(one_d)} and occurs at the position {np.argmin(one_d)}\")\n"
      ]
    },
    {
      "cell_type": "markdown",
      "source": [
        "#### **Matrix Operations**\n",
        "\n",
        "Matrices can be very useful and numpy has a lot of 'built-in' functions to deal with them. As seen before with the two dimensional array, this is a 2x3 matrix. Each row is seperated by a ','.\n",
        "An example of a 3x4 matrix is:"
      ],
      "metadata": {
        "id": "wkZFeVRZtK4x"
      },
      "id": "wkZFeVRZtK4x"
    },
    {
      "cell_type": "code",
      "execution_count": 9,
      "id": "94e45bbd",
      "metadata": {
        "id": "94e45bbd"
      },
      "outputs": [],
      "source": [
        "three_by_four = np.array([[0, 2, 4, 6], \n",
        "                 [3, 2, 1, 5], \n",
        "                 [2, 4, 2, 1]])"
      ]
    },
    {
      "cell_type": "code",
      "source": [
        "# remember, np.shape will return the amount of rowsxcolumns\n",
        "np.shape(three_by_four)"
      ],
      "metadata": {
        "colab": {
          "base_uri": "https://localhost:8080/"
        },
        "id": "ugsEzIeL84MX",
        "outputId": "44763e6d-9fa1-49bf-e017-476a01b345b1"
      },
      "id": "ugsEzIeL84MX",
      "execution_count": 10,
      "outputs": [
        {
          "output_type": "execute_result",
          "data": {
            "text/plain": [
              "(3, 4)"
            ]
          },
          "metadata": {},
          "execution_count": 10
        }
      ]
    },
    {
      "cell_type": "markdown",
      "source": [
        "It is possible to easily transpose this matrix by the 'np.transpose()' function."
      ],
      "metadata": {
        "id": "NmWhRD_NvK5v"
      },
      "id": "NmWhRD_NvK5v"
    },
    {
      "cell_type": "code",
      "source": [
        "three_by_four_t = np.transpose(three_by_four)\n",
        "print(three_by_four_t)"
      ],
      "metadata": {
        "id": "M-K8rHBMumXC",
        "outputId": "ef39a00a-7e17-4628-9f21-1bf79bb4ff55",
        "colab": {
          "base_uri": "https://localhost:8080/"
        }
      },
      "id": "M-K8rHBMumXC",
      "execution_count": 11,
      "outputs": [
        {
          "output_type": "stream",
          "name": "stdout",
          "text": [
            "[[0 3 2]\n",
            " [2 2 4]\n",
            " [4 1 2]\n",
            " [6 5 1]]\n"
          ]
        }
      ]
    },
    {
      "cell_type": "markdown",
      "source": [
        "Another useful function is 'np.reshape'. This can reshape a matrix that's already defined into a new 'n x m' matrix.\n",
        "\n",
        "Example:"
      ],
      "metadata": {
        "id": "zLCUzbZvvoR2"
      },
      "id": "zLCUzbZvvoR2"
    },
    {
      "cell_type": "code",
      "source": [
        "#changing 3x4 matrix to 6x2\n",
        "np.reshape(three_by_four, (6,2))\n",
        "#note: there must be an equal amount of elements or you will get an error"
      ],
      "metadata": {
        "id": "yyCcWWqQu4w4",
        "outputId": "fc8d03d6-2058-49dd-b3d7-1337f3b1f525",
        "colab": {
          "base_uri": "https://localhost:8080/"
        }
      },
      "id": "yyCcWWqQu4w4",
      "execution_count": 13,
      "outputs": [
        {
          "output_type": "execute_result",
          "data": {
            "text/plain": [
              "array([[0, 2],\n",
              "       [4, 6],\n",
              "       [3, 2],\n",
              "       [1, 5],\n",
              "       [2, 4],\n",
              "       [2, 1]])"
            ]
          },
          "metadata": {},
          "execution_count": 13
        }
      ]
    },
    {
      "cell_type": "markdown",
      "source": [
        "Numpy also makes it very easy to add and multiply matrices when they're defined as arrays. Suppose you have two matrices M1 and M2:"
      ],
      "metadata": {
        "id": "05sg-RIk8Cuf"
      },
      "id": "05sg-RIk8Cuf"
    },
    {
      "cell_type": "code",
      "source": [
        "#defining matrices\n",
        "M1 = np.array([[2, 8, 12], [3, 4, 5], [9, -2, 1]])\n",
        "M2 = np.array([[1,2,3], [-4, 6, 7], [8, 5, 2]])\n"
      ],
      "metadata": {
        "id": "8KFKm2cBwANd"
      },
      "id": "8KFKm2cBwANd",
      "execution_count": 14,
      "outputs": []
    },
    {
      "cell_type": "markdown",
      "source": [
        "The matrices can simply be added, element by element, by:"
      ],
      "metadata": {
        "id": "1n_Y_EuR8q3O"
      },
      "id": "1n_Y_EuR8q3O"
    },
    {
      "cell_type": "code",
      "source": [
        "#adding matrices\n",
        "M3 = M1 + M2\n",
        "print(M3)"
      ],
      "metadata": {
        "id": "_g1EqgVXwb1M",
        "outputId": "6df1ea98-c792-4854-d9fa-767fc59e462c",
        "colab": {
          "base_uri": "https://localhost:8080/"
        }
      },
      "id": "_g1EqgVXwb1M",
      "execution_count": 15,
      "outputs": [
        {
          "output_type": "stream",
          "name": "stdout",
          "text": [
            "[[ 3 10 15]\n",
            " [-1 10 12]\n",
            " [17  3  3]]\n"
          ]
        }
      ]
    },
    {
      "cell_type": "markdown",
      "source": [
        "Subtraction also works the same way:"
      ],
      "metadata": {
        "id": "fh3yrSQd9EzG"
      },
      "id": "fh3yrSQd9EzG"
    },
    {
      "cell_type": "code",
      "source": [
        "#subtracting matrices\n",
        "M4 = M1 - M2\n",
        "print(M4)"
      ],
      "metadata": {
        "id": "EWVUnAxt8nFZ",
        "outputId": "d55f69ef-ae64-4f5f-80fb-c640589c45a1",
        "colab": {
          "base_uri": "https://localhost:8080/"
        }
      },
      "id": "EWVUnAxt8nFZ",
      "execution_count": 16,
      "outputs": [
        {
          "output_type": "stream",
          "name": "stdout",
          "text": [
            "[[ 1  6  9]\n",
            " [ 7 -2 -2]\n",
            " [ 1 -7 -1]]\n"
          ]
        }
      ]
    },
    {
      "cell_type": "markdown",
      "source": [
        "There are many ways to perform matrix multiplication, but the easiest is definitely to use the 'np.dot()' function. This function gets the standard dot product between two matrices (as seen in the image below)."
      ],
      "metadata": {
        "id": "5MGo8l5E-WQ_"
      },
      "id": "5MGo8l5E-WQ_"
    },
    {
      "cell_type": "markdown",
      "source": [
        "![matrix_multiplication.png](data:image/png;base64,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)"
      ],
      "metadata": {
        "id": "RupAIdH09V_N"
      },
      "id": "RupAIdH09V_N"
    },
    {
      "cell_type": "code",
      "source": [
        "\n",
        "#multiplying matrices\n",
        "M5 = np.dot(M1, M2)\n",
        "print(M5)"
      ],
      "metadata": {
        "id": "H4EQuPWF9Kv_",
        "outputId": "8c147670-3379-445d-bfba-0428e389358d",
        "colab": {
          "base_uri": "https://localhost:8080/"
        }
      },
      "id": "H4EQuPWF9Kv_",
      "execution_count": 19,
      "outputs": [
        {
          "output_type": "stream",
          "name": "stdout",
          "text": [
            "[[ 66 112  86]\n",
            " [ 27  55  47]\n",
            " [ 25  11  15]]\n"
          ]
        }
      ]
    },
    {
      "cell_type": "markdown",
      "source": [
        "An alternative to 'np.dot()' is by using an '@' symbol for metric multiplication. It works the same way and can simplify your code:"
      ],
      "metadata": {
        "id": "kVe-wtc7bsIr"
      },
      "id": "kVe-wtc7bsIr"
    },
    {
      "cell_type": "code",
      "source": [
        "M6 = M1 @ M2\n",
        "print(M6)"
      ],
      "metadata": {
        "id": "3zZEMyc1cB_9",
        "outputId": "3560e6f5-b4dc-4f31-dcfa-1cf28ff66954",
        "colab": {
          "base_uri": "https://localhost:8080/"
        }
      },
      "id": "3zZEMyc1cB_9",
      "execution_count": 20,
      "outputs": [
        {
          "output_type": "stream",
          "name": "stdout",
          "text": [
            "[[ 66 112  86]\n",
            " [ 27  55  47]\n",
            " [ 25  11  15]]\n"
          ]
        }
      ]
    },
    {
      "cell_type": "markdown",
      "source": [
        "Multiplying matrices manually (with a '*') will multiply element by element, which is usually not what you want. It is also possible to create loops to multiply them but the 'np.dot()' function is by far the most efficient. "
      ],
      "metadata": {
        "id": "DI2KOpS1_E1m"
      },
      "id": "DI2KOpS1_E1m"
    },
    {
      "cell_type": "code",
      "source": [
        ""
      ],
      "metadata": {
        "id": "ZmF4Uf-s-pSR"
      },
      "id": "ZmF4Uf-s-pSR",
      "execution_count": 18,
      "outputs": []
    },
    {
      "cell_type": "code",
      "source": [
        ""
      ],
      "metadata": {
        "id": "QZtgFz1Y_eOr"
      },
      "id": "QZtgFz1Y_eOr",
      "execution_count": null,
      "outputs": []
    }
  ],
  "metadata": {
    "kernelspec": {
      "display_name": "Python 3",
      "language": "python",
      "name": "python3"
    },
    "language_info": {
      "codemirror_mode": {
        "name": "ipython",
        "version": 3
      },
      "file_extension": ".py",
      "mimetype": "text/x-python",
      "name": "python",
      "nbconvert_exporter": "python",
      "pygments_lexer": "ipython3",
      "version": "3.8.8"
    },
    "colab": {
      "name": "Numpy.ipynb",
      "provenance": [],
      "include_colab_link": true
    }
  },
  "nbformat": 4,
  "nbformat_minor": 5
}