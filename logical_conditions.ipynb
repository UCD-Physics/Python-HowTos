{
  "nbformat": 4,
  "nbformat_minor": 0,
  "metadata": {
    "colab": {
      "name": "logical_conditions.ipynb",
      "provenance": [],
      "authorship_tag": "ABX9TyN76Q9sOidXa6AUUz3gSGmk",
      "include_colab_link": true
    },
    "kernelspec": {
      "name": "python3",
      "display_name": "Python 3"
    },
    "language_info": {
      "name": "python"
    }
  },
  "cells": [
    {
      "cell_type": "markdown",
      "metadata": {
        "id": "view-in-github",
        "colab_type": "text"
      },
      "source": [
        "<a href=\"https://colab.research.google.com/github/UCD-Physics/Python-HowTos/blob/main/logical_conditions.ipynb\" target=\"_parent\"><img src=\"https://colab.research.google.com/assets/colab-badge.svg\" alt=\"Open In Colab\"/></a>"
      ]
    },
    {
      "cell_type": "markdown",
      "source": [
        "# Logical Conditions\n",
        "\n",
        "Conditional statements are very useful when coding. This allows you to do something that meets a condition, and if not it can do something else. Again this will be looked at through examples:"
      ],
      "metadata": {
        "id": "tIwVN0c8iAi5"
      }
    },
    {
      "cell_type": "code",
      "source": [
        "# letting x and y equal values\n",
        "x = 2 * 8\n",
        "y = 2 + 8\n",
        "\n",
        "#setting a condition\n",
        "if x > y:\n",
        "    print(\"2 multiplied by 8 is greater than 2 plus 8\")\n",
        "else:\n",
        "    print(\"2 multiplied by 8 is less than 2 plus 8\")"
      ],
      "metadata": {
        "colab": {
          "base_uri": "https://localhost:8080/"
        },
        "id": "2pxqfNJ6ifs-",
        "outputId": "edfe7751-96b5-45ea-b267-3a0f981e859c"
      },
      "execution_count": 1,
      "outputs": [
        {
          "output_type": "stream",
          "name": "stdout",
          "text": [
            "2 multiplied by 8 is greater than 2 plus 8\n"
          ]
        }
      ]
    },
    {
      "cell_type": "markdown",
      "source": [
        "There is also an 'elif' command, corresponding to 'else if'. This is simply used to keep code a bit neater and to avoid more lines and too much indentation.\n"
      ],
      "metadata": {
        "id": "O1TREsWsio9c"
      }
    },
    {
      "cell_type": "code",
      "source": [
        "#some variable\n",
        "\n",
        "z = 120\n",
        "\n",
        "if z < 100:\n",
        "    print('z is less than 100')\n",
        "elif z == 100:\n",
        "    print('z is equal to 100')\n",
        "elif z > 100:\n",
        "    print('z is more than 100')"
      ],
      "metadata": {
        "colab": {
          "base_uri": "https://localhost:8080/"
        },
        "id": "4i1ntO7SilGH",
        "outputId": "13cbac6f-7b40-4ae4-ea7c-07b92b985c62"
      },
      "execution_count": 2,
      "outputs": [
        {
          "output_type": "stream",
          "name": "stdout",
          "text": [
            "z is more than 100\n"
          ]
        }
      ]
    },
    {
      "cell_type": "markdown",
      "source": [
        "To see if multiple conditions are true at once, you can use the 'and' command. Combine two conditions and python will return 'true' or 'false' based on whether both are satisfied or not."
      ],
      "metadata": {
        "id": "wky9YzOWi06O"
      }
    },
    {
      "cell_type": "code",
      "source": [
        "f = 6.8\n",
        "f > 6 and f <7"
      ],
      "metadata": {
        "colab": {
          "base_uri": "https://localhost:8080/"
        },
        "id": "uklxCkyOisps",
        "outputId": "c343e2b7-10d7-4642-a353-708519ee649a"
      },
      "execution_count": 3,
      "outputs": [
        {
          "output_type": "execute_result",
          "data": {
            "text/plain": [
              "True"
            ]
          },
          "metadata": {},
          "execution_count": 3
        }
      ]
    },
    {
      "cell_type": "code",
      "source": [
        "f > 6 and f < 6.5"
      ],
      "metadata": {
        "colab": {
          "base_uri": "https://localhost:8080/"
        },
        "id": "toSQEqvfjLF0",
        "outputId": "01c45c5f-d04e-4bcf-ef27-dcf6e98c1756"
      },
      "execution_count": 4,
      "outputs": [
        {
          "output_type": "execute_result",
          "data": {
            "text/plain": [
              "False"
            ]
          },
          "metadata": {},
          "execution_count": 4
        }
      ]
    },
    {
      "cell_type": "markdown",
      "source": [
        "Another similar operator is 'or'. It works the same as 'and' but it will return 'true' even if only one condition is satisfied. It will only return 'false' if neither condition is  fufilled."
      ],
      "metadata": {
        "id": "icohoTuajsrT"
      }
    },
    {
      "cell_type": "code",
      "source": [
        "f > 6 or f < 6.5"
      ],
      "metadata": {
        "colab": {
          "base_uri": "https://localhost:8080/"
        },
        "id": "6ftpPP15jozp",
        "outputId": "06cdbd14-9c23-4a0d-a9f9-c8a06dac5d0c"
      },
      "execution_count": 5,
      "outputs": [
        {
          "output_type": "execute_result",
          "data": {
            "text/plain": [
              "True"
            ]
          },
          "metadata": {},
          "execution_count": 5
        }
      ]
    },
    {
      "cell_type": "code",
      "source": [
        "f < 6 or f < 6.5"
      ],
      "metadata": {
        "colab": {
          "base_uri": "https://localhost:8080/"
        },
        "id": "8CfrZGBzkLRa",
        "outputId": "924c41e0-65fa-4c1b-d1ae-11a6afe49d43"
      },
      "execution_count": 6,
      "outputs": [
        {
          "output_type": "execute_result",
          "data": {
            "text/plain": [
              "False"
            ]
          },
          "metadata": {},
          "execution_count": 6
        }
      ]
    },
    {
      "cell_type": "code",
      "source": [
        ""
      ],
      "metadata": {
        "id": "MQ7M3b_RkPCN"
      },
      "execution_count": null,
      "outputs": []
    }
  ]
}