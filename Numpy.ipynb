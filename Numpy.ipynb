{
  "cells": [
    {
      "cell_type": "markdown",
      "metadata": {
        "id": "view-in-github",
        "colab_type": "text"
      },
      "source": [
        "<a href=\"https://colab.research.google.com/github/alvaphelan/Python-HowTos/blob/main/Numpy.ipynb\" target=\"_parent\"><img src=\"https://colab.research.google.com/assets/colab-badge.svg\" alt=\"Open In Colab\"/></a>"
      ]
    },
    {
      "cell_type": "markdown",
      "id": "c16166b4",
      "metadata": {
        "id": "c16166b4"
      },
      "source": [
        "## Numpy\n",
        "\n",
        "Numpy is an extremely useful library that lets python work with data at a high speed. You will be using it regularly throughout your code. First, you need to import the package at the start of your notebook."
      ]
    },
    {
      "cell_type": "code",
      "execution_count": 22,
      "id": "3eb2436a",
      "metadata": {
        "id": "3eb2436a"
      },
      "outputs": [],
      "source": [
        "import numpy as np"
      ]
    },
    {
      "cell_type": "markdown",
      "id": "90fdd78f",
      "metadata": {
        "id": "90fdd78f"
      },
      "source": [
        "One of the most important things numpy can do is import data, but this will be dealt with in it's own section here ([importing data](https://github.com/alvaphelan/Python-HowTos/blob/main/Importing_Data.ipynb)).\n",
        "\n",
        "Arrays are a very useful aspect of numpy and are used widely. An array is just a grid of values and can be one or multidimensional. "
      ]
    },
    {
      "cell_type": "code",
      "execution_count": 23,
      "id": "c2eda541",
      "metadata": {
        "id": "c2eda541"
      },
      "outputs": [],
      "source": [
        "# example of 1 dimensional array\n",
        "one_d = np.array([2, 4, 6, 8, 10])\n",
        "# example of 2 dimensional array \n",
        "two_d = np.array([(1,3,5), (2,4,6)]) #(2x3 matrix in this case)"
      ]
    },
    {
      "cell_type": "markdown",
      "id": "73ee6616",
      "metadata": {
        "id": "73ee6616"
      },
      "source": [
        "Numpy has a lot of tools to find out about arrays (very useful if dealing with long ones) and creating them!\n",
        "\n",
        "#### **Finding information about arrays**\n",
        "\n",
        "It is possible to find the size of an array by using the command 'np.size()', or you can use the pure python function 'len()'.\n"
      ]
    },
    {
      "cell_type": "code",
      "execution_count": 24,
      "id": "0de59e40",
      "metadata": {
        "colab": {
          "base_uri": "https://localhost:8080/"
        },
        "id": "0de59e40",
        "outputId": "87cc470c-d00d-42bc-d8b7-b6b1cc562efd"
      },
      "outputs": [
        {
          "output_type": "stream",
          "name": "stdout",
          "text": [
            "5\n",
            "5\n"
          ]
        }
      ],
      "source": [
        "print(np.size(one_d))\n",
        "print(len(one_d))"
      ]
    },
    {
      "cell_type": "markdown",
      "id": "44fc2004",
      "metadata": {
        "id": "44fc2004"
      },
      "source": [
        "However, you have to be careful with the 'len()' function, as for two dimensional arrays, it only returns the number of rows!\n"
      ]
    },
    {
      "cell_type": "code",
      "execution_count": 25,
      "id": "2019d593",
      "metadata": {
        "colab": {
          "base_uri": "https://localhost:8080/"
        },
        "id": "2019d593",
        "outputId": "f1ef6d1a-a11a-4547-bcf9-fb5646506882"
      },
      "outputs": [
        {
          "output_type": "stream",
          "name": "stdout",
          "text": [
            "6\n",
            "2\n"
          ]
        }
      ],
      "source": [
        "print(np.size(two_d))\n",
        "print(len(two_d))"
      ]
    },
    {
      "cell_type": "markdown",
      "source": [
        "For multidimensional arrays, np.shape will give you the dimensions of the matrix."
      ],
      "metadata": {
        "id": "6jB2bMb5sSmC"
      },
      "id": "6jB2bMb5sSmC"
    },
    {
      "cell_type": "code",
      "source": [
        "print(np.shape(two_d))"
      ],
      "metadata": {
        "colab": {
          "base_uri": "https://localhost:8080/"
        },
        "id": "4FfhYeWisbd4",
        "outputId": "35a0aee0-1dbd-4651-b3bd-a7e6e8c82351"
      },
      "id": "4FfhYeWisbd4",
      "execution_count": 26,
      "outputs": [
        {
          "output_type": "stream",
          "name": "stdout",
          "text": [
            "(2, 3)\n"
          ]
        }
      ]
    },
    {
      "cell_type": "markdown",
      "id": "b3891b6e",
      "metadata": {
        "id": "b3891b6e"
      },
      "source": [
        "It is possible to get certain elements by the name of the array, followed by a square bracket surrounding the position of interest.\n",
        "\n",
        "\n",
        "*note: the first element is always 0, not 1!*"
      ]
    },
    {
      "cell_type": "code",
      "execution_count": 27,
      "id": "e0ee271b",
      "metadata": {
        "colab": {
          "base_uri": "https://localhost:8080/"
        },
        "id": "e0ee271b",
        "outputId": "9cde742e-9c2a-4ace-8f78-b728e31c8675"
      },
      "outputs": [
        {
          "output_type": "stream",
          "name": "stdout",
          "text": [
            "2\n",
            "6\n"
          ]
        }
      ],
      "source": [
        "#to find the first and third element of the one d array\n",
        "print(one_d[0])\n",
        "print(one_d[2])"
      ]
    },
    {
      "cell_type": "markdown",
      "id": "7697426c",
      "metadata": {
        "id": "7697426c"
      },
      "source": [
        "The same works for a two dimensional array, but remember to put in the full position!"
      ]
    },
    {
      "cell_type": "code",
      "execution_count": 28,
      "id": "e69d5f11",
      "metadata": {
        "colab": {
          "base_uri": "https://localhost:8080/"
        },
        "id": "e69d5f11",
        "outputId": "8607f16c-6d8c-48ad-aadf-1d259c45bac7"
      },
      "outputs": [
        {
          "output_type": "stream",
          "name": "stdout",
          "text": [
            "5\n"
          ]
        }
      ],
      "source": [
        "#to find the element in the first row, third column\n",
        "print(two_d[0, 2])"
      ]
    },
    {
      "cell_type": "markdown",
      "id": "7407056f",
      "metadata": {
        "id": "7407056f"
      },
      "source": [
        "##### **Slicing**\n",
        "If creating a smaller array from a larger one that already exists, e.g. looking at a particular part of interest, slicing is a good way to do so. It works similarly to getting a specific element, except in this case you put a ':' in between the first element of interest and the one after the last. (for example, [2:6] means the third element up to but not including the 7th element).\n",
        "\n",
        "*note: simply putting [:] will return the original array, while [:4] will return all points up to but not inlcuding the fifth element and vice versa."
      ]
    },
    {
      "cell_type": "code",
      "execution_count": 29,
      "id": "f53ac007",
      "metadata": {
        "colab": {
          "base_uri": "https://localhost:8080/"
        },
        "id": "f53ac007",
        "outputId": "26e5e3a6-eb78-49dc-be24-9279fadf1112"
      },
      "outputs": [
        {
          "output_type": "stream",
          "name": "stdout",
          "text": [
            "[ 4  6  8 10]\n"
          ]
        }
      ],
      "source": [
        "#for example, to make a smaller array of the second, third and fourth element of the one d array\n",
        "sliced_array = one_d[1:5]\n",
        "print(sliced_array)"
      ]
    },
    {
      "cell_type": "markdown",
      "id": "cfb9704b",
      "metadata": {
        "id": "cfb9704b"
      },
      "source": [
        "This also works for two dimensional arrays, you just need to put a , in between."
      ]
    },
    {
      "cell_type": "code",
      "execution_count": 30,
      "id": "43a4cb7c",
      "metadata": {
        "colab": {
          "base_uri": "https://localhost:8080/"
        },
        "id": "43a4cb7c",
        "outputId": "a81c8b65-4c73-47cf-ee78-a7619b3deed8"
      },
      "outputs": [
        {
          "output_type": "stream",
          "name": "stdout",
          "text": [
            "[2 4 6]\n",
            "[3 4]\n"
          ]
        }
      ],
      "source": [
        "# to get second row, all columns\n",
        "print(two_d[1,:])\n",
        "# to get all rows but second column\n",
        "print(two_d[:,1])"
      ]
    },
    {
      "cell_type": "markdown",
      "source": [
        "#### **Creating arrays**"
      ],
      "metadata": {
        "id": "RzApcrn4tQhm"
      },
      "id": "RzApcrn4tQhm"
    },
    {
      "cell_type": "markdown",
      "id": "ca451921",
      "metadata": {
        "id": "ca451921"
      },
      "source": [
        "If creating an array from scratch, it is possible to make an evenly spaced out array where you customise the start point, end point and step size. \n",
        "\n",
        "*Be mindful, as in the slicing, it is up to but not including the end point*"
      ]
    },
    {
      "cell_type": "code",
      "execution_count": 35,
      "id": "b6ca7421",
      "metadata": {
        "colab": {
          "base_uri": "https://localhost:8080/"
        },
        "id": "b6ca7421",
        "outputId": "2fd2da7b-f285-43f3-8d1f-69d56450d29c"
      },
      "outputs": [
        {
          "output_type": "stream",
          "name": "stdout",
          "text": [
            "[1.  1.5 2.  2.5 3.  3.5 4.  4.5 5. ]\n"
          ]
        }
      ],
      "source": [
        "# for example to get from 1 to 5 in steps of 0.5\n",
        "space = np.arange(1, 5.5, 0.5)\n",
        "print(space)"
      ]
    },
    {
      "cell_type": "markdown",
      "id": "65b3e450",
      "metadata": {
        "id": "65b3e450"
      },
      "source": [
        "If you want to create an array but with a certain number of steps, rather than a step size, you can use the function 'np.linspace()' where you customise the start point, endpoint and number of steps"
      ]
    },
    {
      "cell_type": "code",
      "execution_count": 36,
      "id": "cd5acfee",
      "metadata": {
        "colab": {
          "base_uri": "https://localhost:8080/"
        },
        "id": "cd5acfee",
        "outputId": "4fef9c19-f763-4d7d-e870-5dacb0cea4cc"
      },
      "outputs": [
        {
          "output_type": "stream",
          "name": "stdout",
          "text": [
            "[ 1.    3.25  5.5   7.75 10.  ]\n"
          ]
        }
      ],
      "source": [
        "# for example go from 1 to 10 in 5 steps\n",
        "numbers = np.linspace(1,10,5)\n",
        "print(numbers)"
      ]
    },
    {
      "cell_type": "markdown",
      "source": [
        "Another function similar to linspace is 'np.logspace()'. This function returns an array of evenly spaced numbers on a logarithmic scale. It has the following parameters:\n",
        "numpy.logspace(start,stop, num = 50, endpoint = True, base = 10.0)\n",
        "Start and stop refer to the beginning and end of your array, 'num' is the number of points you want, base is the log base you want and setting the endpoint equal to 'True' includes the last point of your array.\n",
        "Example:"
      ],
      "metadata": {
        "id": "3K8lLmqMpFwx"
      },
      "id": "3K8lLmqMpFwx"
    },
    {
      "cell_type": "code",
      "source": [
        "print(np.logspace(2, 4, num = 6, endpoint = True, base = 10))"
      ],
      "metadata": {
        "id": "nZK7IDCkqOAE",
        "outputId": "72de8cb4-c718-4739-e4aa-b9e743082f5f",
        "colab": {
          "base_uri": "https://localhost:8080/"
        }
      },
      "id": "nZK7IDCkqOAE",
      "execution_count": 37,
      "outputs": [
        {
          "output_type": "stream",
          "name": "stdout",
          "text": [
            "[  100.           251.18864315   630.95734448  1584.89319246\n",
            "  3981.07170553 10000.        ]\n"
          ]
        }
      ]
    },
    {
      "cell_type": "markdown",
      "source": [
        "The function 'np.geomspace()' works very similarly, but the startpoint and endpoint are the specific start and end of the array (already on a log scale).\n",
        "Example:"
      ],
      "metadata": {
        "id": "C2tkyuWDrefz"
      },
      "id": "C2tkyuWDrefz"
    },
    {
      "cell_type": "code",
      "source": [
        "print(np.geomspace(2, 4, num = 6, endpoint = True))"
      ],
      "metadata": {
        "id": "Tk4IjM58rEm6",
        "outputId": "a9700c71-8f42-4895-dc0c-51e821670a00",
        "colab": {
          "base_uri": "https://localhost:8080/"
        }
      },
      "id": "Tk4IjM58rEm6",
      "execution_count": 38,
      "outputs": [
        {
          "output_type": "stream",
          "name": "stdout",
          "text": [
            "[2.         2.29739671 2.63901582 3.03143313 3.48220225 4.        ]\n"
          ]
        }
      ]
    },
    {
      "cell_type": "markdown",
      "id": "852b81b6",
      "metadata": {
        "id": "852b81b6"
      },
      "source": [
        "##### **Various Arrays**\n",
        "\n",
        "There are many numpy functions that can be used to create arrays. If looking to create one containing only 0's, you can use 'np.zeros()' and fill in the bracket with the length of the array you want, 'np.ones()' will do the same but fill with only 1's, 'np.eye(4)' will create a 4x4 identity matrix (fill with whatever square matrix is needed). \n",
        "\n",
        "You can also easily create a matrix full of ones or zeros in the same dimensions as an array already defined by the functions 'np.ones_like()' or 'np.zeros_like()'. \n",
        "\n",
        "For example:"
      ]
    },
    {
      "cell_type": "code",
      "source": [
        "print(np.zeros_like(two_d))"
      ],
      "metadata": {
        "colab": {
          "base_uri": "https://localhost:8080/"
        },
        "id": "pGaihW_X_hjt",
        "outputId": "4ba08253-881d-4bc8-d9c5-bb2f42571b8b"
      },
      "id": "pGaihW_X_hjt",
      "execution_count": 39,
      "outputs": [
        {
          "output_type": "stream",
          "name": "stdout",
          "text": [
            "[[0 0 0]\n",
            " [0 0 0]]\n"
          ]
        }
      ]
    },
    {
      "cell_type": "markdown",
      "id": "80282932",
      "metadata": {
        "id": "80282932"
      },
      "source": [
        "#### **Operations on arrays**\n",
        "\n",
        "In order to perform an operation on every item in an array, it is possible to create a for loop (as seen in [this section](https://github.com/UCD-Physics/Python-HowTos/blob/main/Writing_Loops.ipynb)), however a much faster way to do this is by simply performing an operation on the whole array at once.\n",
        "\n",
        "For example, if needed to multiply every element by 3:\n"
      ]
    },
    {
      "cell_type": "code",
      "source": [
        "one_d_by_three = 3*one_d\n",
        "print(one_d_by_three)"
      ],
      "metadata": {
        "colab": {
          "base_uri": "https://localhost:8080/"
        },
        "id": "CW_d7JMp5Avn",
        "outputId": "8f1f3e54-cb7c-4a6e-cd1a-d73bf87051da"
      },
      "id": "CW_d7JMp5Avn",
      "execution_count": 40,
      "outputs": [
        {
          "output_type": "stream",
          "name": "stdout",
          "text": [
            "[ 6 12 18 24 30]\n"
          ]
        }
      ]
    },
    {
      "cell_type": "markdown",
      "source": [
        "or if you want to create a log/log plot you can just plot the log of the array:"
      ],
      "metadata": {
        "id": "lzfE8lYe6-lc"
      },
      "id": "lzfE8lYe6-lc"
    },
    {
      "cell_type": "code",
      "source": [
        "print(np.log(one_d))"
      ],
      "metadata": {
        "colab": {
          "base_uri": "https://localhost:8080/"
        },
        "id": "YY5J4gVZ7RIC",
        "outputId": "cba02d5d-2869-4f73-d08a-0e0ece773908"
      },
      "id": "YY5J4gVZ7RIC",
      "execution_count": 41,
      "outputs": [
        {
          "output_type": "stream",
          "name": "stdout",
          "text": [
            "[0.69314718 1.38629436 1.79175947 2.07944154 2.30258509]\n"
          ]
        }
      ]
    },
    {
      "cell_type": "markdown",
      "source": [
        "There are also many functions to find out various bits of information about the array without having to create a loop, such as:"
      ],
      "metadata": {
        "id": "QwOK3W0v7V1z"
      },
      "id": "QwOK3W0v7V1z"
    },
    {
      "cell_type": "code",
      "execution_count": 42,
      "id": "9dd7ecdb",
      "metadata": {
        "colab": {
          "base_uri": "https://localhost:8080/"
        },
        "id": "9dd7ecdb",
        "outputId": "5c3b4d67-1552-459c-f2a6-7e18b03be42c"
      },
      "outputs": [
        {
          "output_type": "stream",
          "name": "stdout",
          "text": [
            "max value in array is 10\n",
            "min value in array is 2\n",
            "sum of all numbers in array is 30\n",
            "mean of the numbers in array is 6.0\n",
            "standard deviation of numbers in array is 2.828\n"
          ]
        }
      ],
      "source": [
        "print(f\"max value in array is {np.max(one_d)}\")\n",
        "print(f\"min value in array is {np.min(one_d)}\")\n",
        "print(f\"sum of all numbers in array is {np.sum(one_d)}\")\n",
        "print(f\"mean of the numbers in array is {np.mean(one_d)}\")\n",
        "print(f\"standard deviation of numbers in array is {np.std(one_d):.3f}\")"
      ]
    },
    {
      "cell_type": "markdown",
      "id": "ba974f90",
      "metadata": {
        "id": "ba974f90"
      },
      "source": [
        "#### **Min and Max**\n",
        "\n",
        "To find the position of the maximum and minimum in the array, you can use the 'argmax' and 'argmin' function. Important not to mix the two up.\n"
      ]
    },
    {
      "cell_type": "code",
      "execution_count": 43,
      "id": "0e41b9ee",
      "metadata": {
        "colab": {
          "base_uri": "https://localhost:8080/"
        },
        "id": "0e41b9ee",
        "outputId": "f9d08d8e-3f2b-4488-ee37-2749a70f0553"
      },
      "outputs": [
        {
          "output_type": "stream",
          "name": "stdout",
          "text": [
            "The max value in the array is 10 and occurs at the position 4\n",
            "The min value in the array is 2 and occurs at the position 0\n"
          ]
        }
      ],
      "source": [
        "print(f\"The max value in the array is {np.max(one_d)} and occurs at the position {np.argmax(one_d)}\")\n",
        "print(f\"The min value in the array is {np.min(one_d)} and occurs at the position {np.argmin(one_d)}\")\n"
      ]
    },
    {
      "cell_type": "markdown",
      "source": [
        "#### **Matrix Operations**\n",
        "\n",
        "Matrices can be very useful and numpy has a lot of 'built-in' functions to deal with them. As seen before with the two dimensional array, this is a 2x3 matrix. Each row is seperated by a ','.\n",
        "An example of a 3x4 matrix is:"
      ],
      "metadata": {
        "id": "wkZFeVRZtK4x"
      },
      "id": "wkZFeVRZtK4x"
    },
    {
      "cell_type": "code",
      "execution_count": 51,
      "id": "94e45bbd",
      "metadata": {
        "id": "94e45bbd"
      },
      "outputs": [],
      "source": [
        "three_by_four = ([0, 2, 4, 6], \n",
        "                 [3, 2, 1, 5], \n",
        "                 [2, 4, 2, 1])"
      ]
    },
    {
      "cell_type": "code",
      "source": [
        "# remember, np.shape will return the amount of rowsxcolumns\n",
        "np.shape(three_by_four)"
      ],
      "metadata": {
        "colab": {
          "base_uri": "https://localhost:8080/"
        },
        "id": "ugsEzIeL84MX",
        "outputId": "ec00868e-2db8-4552-bf36-e8e8c5ae8340"
      },
      "id": "ugsEzIeL84MX",
      "execution_count": 56,
      "outputs": [
        {
          "output_type": "execute_result",
          "data": {
            "text/plain": [
              "(3, 4)"
            ]
          },
          "metadata": {},
          "execution_count": 56
        }
      ]
    },
    {
      "cell_type": "markdown",
      "source": [
        "It is possible to easily transpose this matrix by the 'np.transpose()' function."
      ],
      "metadata": {
        "id": "NmWhRD_NvK5v"
      },
      "id": "NmWhRD_NvK5v"
    },
    {
      "cell_type": "code",
      "source": [
        "three_by_four_t = np.transpose(three_by_four)\n",
        "print(three_by_four_t)"
      ],
      "metadata": {
        "id": "M-K8rHBMumXC",
        "outputId": "1ff6e428-a293-40f2-8bfe-76e90c8ac8f3",
        "colab": {
          "base_uri": "https://localhost:8080/"
        }
      },
      "id": "M-K8rHBMumXC",
      "execution_count": 57,
      "outputs": [
        {
          "output_type": "stream",
          "name": "stdout",
          "text": [
            "[[0 3 2]\n",
            " [2 2 4]\n",
            " [4 1 2]\n",
            " [6 5 1]]\n"
          ]
        }
      ]
    },
    {
      "cell_type": "markdown",
      "source": [
        "Another useful function is 'np.reshape'. This can reshape a matrix that's already defined into a new nxm matrix.\n",
        "\n",
        "Example:"
      ],
      "metadata": {
        "id": "zLCUzbZvvoR2"
      },
      "id": "zLCUzbZvvoR2"
    },
    {
      "cell_type": "code",
      "source": [
        "#changing 3x4 matrix to 6x2\n",
        "np.reshape(three_by_four, (6,2))\n",
        "#note: there must be an equal amount of elements or you will get an error"
      ],
      "metadata": {
        "id": "yyCcWWqQu4w4",
        "outputId": "ab02435e-2040-47ea-dfe3-0b37919c1e22",
        "colab": {
          "base_uri": "https://localhost:8080/"
        }
      },
      "id": "yyCcWWqQu4w4",
      "execution_count": 63,
      "outputs": [
        {
          "output_type": "execute_result",
          "data": {
            "text/plain": [
              "array([[0, 2],\n",
              "       [4, 6],\n",
              "       [3, 2],\n",
              "       [1, 5],\n",
              "       [2, 4],\n",
              "       [2, 1]])"
            ]
          },
          "metadata": {},
          "execution_count": 63
        }
      ]
    },
    {
      "cell_type": "code",
      "source": [
        ""
      ],
      "metadata": {
        "id": "8KFKm2cBwANd"
      },
      "id": "8KFKm2cBwANd",
      "execution_count": 62,
      "outputs": []
    },
    {
      "cell_type": "code",
      "source": [
        ""
      ],
      "metadata": {
        "id": "_g1EqgVXwb1M"
      },
      "id": "_g1EqgVXwb1M",
      "execution_count": null,
      "outputs": []
    }
  ],
  "metadata": {
    "kernelspec": {
      "display_name": "Python 3",
      "language": "python",
      "name": "python3"
    },
    "language_info": {
      "codemirror_mode": {
        "name": "ipython",
        "version": 3
      },
      "file_extension": ".py",
      "mimetype": "text/x-python",
      "name": "python",
      "nbconvert_exporter": "python",
      "pygments_lexer": "ipython3",
      "version": "3.8.8"
    },
    "colab": {
      "name": "Numpy.ipynb",
      "provenance": [],
      "include_colab_link": true
    }
  },
  "nbformat": 4,
  "nbformat_minor": 5
}