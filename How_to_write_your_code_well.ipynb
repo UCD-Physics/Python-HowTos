{
  "cells": [
    {
      "cell_type": "markdown",
      "metadata": {
        "id": "view-in-github",
        "colab_type": "text"
      },
      "source": [
        "<a href=\"https://colab.research.google.com/github/alvaphelan/Python-HowTos/blob/main/How_to_write_your_code_well.ipynb\" target=\"_parent\"><img src=\"https://colab.research.google.com/assets/colab-badge.svg\" alt=\"Open In Colab\"/></a>"
      ]
    },
    {
      "cell_type": "markdown",
      "id": "99b0463f",
      "metadata": {
        "id": "99b0463f"
      },
      "source": [
        "# Writing your code well\n",
        "\n",
        "Making your code as simple and clear as possible is very important. Anyone must be able to look at your code and be able to understand it. This is also vital in order to easily spot mistakes/errors, as in code that is not well commented it is near impossible to find what is causing an error, even when it's something simple. \n",
        "\n",
        "Commenting can be done by placing a '#' before the text explaining what that line of code is doing. \n",
        "\n",
        "One thing to note however is that well written code shouldn't need too much commenting. If your code and variables are clear, comments should just be a support or to clarify.\n",
        "\n",
        "For example:"
      ]
    },
    {
      "cell_type": "code",
      "execution_count": null,
      "id": "05f7ed7c",
      "metadata": {
        "id": "05f7ed7c"
      },
      "outputs": [],
      "source": [
        "import numpy as np\n",
        "\n",
        "# creating an array of temperatures \n",
        "x = np.array([25, 23, 28, 19, 22])\n",
        "# x = temperature "
      ]
    },
    {
      "cell_type": "markdown",
      "id": "5c3d6fbe",
      "metadata": {
        "id": "5c3d6fbe"
      },
      "source": [
        "Instead, it would be easier to not comment and simply write"
      ]
    },
    {
      "cell_type": "code",
      "execution_count": null,
      "id": "7c7ab441",
      "metadata": {
        "id": "7c7ab441"
      },
      "outputs": [],
      "source": [
        "temperature = np.array([25, 23, 28, 19, 22])"
      ]
    },
    {
      "cell_type": "markdown",
      "id": "69bbbd2b",
      "metadata": {
        "id": "69bbbd2b"
      },
      "source": [
        "There are many other coding guidelines and good practice that is important to follow, these can be found [here](https://physicslabs.ucd.ie/docs/python/040_coding_guidelines/)"
      ]
    },
    {
      "cell_type": "code",
      "execution_count": null,
      "id": "e7deaa76",
      "metadata": {
        "id": "e7deaa76"
      },
      "outputs": [],
      "source": [
        ""
      ]
    }
  ],
  "metadata": {
    "kernelspec": {
      "display_name": "Python 3",
      "language": "python",
      "name": "python3"
    },
    "language_info": {
      "codemirror_mode": {
        "name": "ipython",
        "version": 3
      },
      "file_extension": ".py",
      "mimetype": "text/x-python",
      "name": "python",
      "nbconvert_exporter": "python",
      "pygments_lexer": "ipython3",
      "version": "3.8.8"
    },
    "colab": {
      "name": "How to write your code well.ipynb",
      "provenance": [],
      "include_colab_link": true
    }
  },
  "nbformat": 4,
  "nbformat_minor": 5
}