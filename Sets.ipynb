{
  "nbformat": 4,
  "nbformat_minor": 0,
  "metadata": {
    "colab": {
      "provenance": [],
      "authorship_tag": "ABX9TyPde+eJ4gSouK9L+7ZE8o84",
      "include_colab_link": true
    },
    "kernelspec": {
      "name": "python3",
      "display_name": "Python 3"
    },
    "language_info": {
      "name": "python"
    }
  },
  "cells": [
    {
      "cell_type": "markdown",
      "metadata": {
        "id": "view-in-github",
        "colab_type": "text"
      },
      "source": [
        "<a href=\"https://colab.research.google.com/github/UCD-Physics/Python-HowTos/blob/main/Sets.ipynb\" target=\"_parent\"><img src=\"https://colab.research.google.com/assets/colab-badge.svg\" alt=\"Open In Colab\"/></a>"
      ]
    },
    {
      "cell_type": "markdown",
      "source": [
        "# How to use sets\n",
        "\n",
        "Python sets are used to store multiple unique items and the items are not ordered, modifiable (they can be removed or added but not changed) nor indexed.\n",
        "\n",
        "Sets are created with the curly braces `{}` or woth the `set()` command.\n",
        "\n",
        "Items can be added to a set with its `add()` method.\n",
        "\n",
        "There are lots of methods to compare sets to other sets (difference, intersection, ...) but they can be very useful for counting unique items. \n",
        "\n",
        "Examples:"
      ],
      "metadata": {
        "id": "WH4cKItZu-nC"
      }
    },
    {
      "cell_type": "code",
      "source": [
        "\n",
        "\n",
        "s = {1, 2, 3, 1, 5, 3, 2, 6, 3, 4, 8, 1, 1}\n",
        "s"
      ],
      "metadata": {
        "colab": {
          "base_uri": "https://localhost:8080/"
        },
        "id": "S3wo4e-Ivfo_",
        "outputId": "614a0f15-5d97-4887-b905-4d1a954f4a69"
      },
      "execution_count": 6,
      "outputs": [
        {
          "output_type": "execute_result",
          "data": {
            "text/plain": [
              "{1, 2, 3, 4, 5, 6, 8}"
            ]
          },
          "metadata": {},
          "execution_count": 6
        }
      ]
    },
    {
      "cell_type": "code",
      "source": [
        "len(s)"
      ],
      "metadata": {
        "colab": {
          "base_uri": "https://localhost:8080/"
        },
        "id": "d1VNs0uhvgpM",
        "outputId": "22b007d9-55f5-4af2-f068-9bd62a58236a"
      },
      "execution_count": 7,
      "outputs": [
        {
          "output_type": "execute_result",
          "data": {
            "text/plain": [
              "7"
            ]
          },
          "metadata": {},
          "execution_count": 7
        }
      ]
    },
    {
      "cell_type": "code",
      "source": [
        "s.add(1)   # no effect as 1 already present \n",
        "len(s)"
      ],
      "metadata": {
        "colab": {
          "base_uri": "https://localhost:8080/"
        },
        "id": "OhovC30owXwX",
        "outputId": "4a0f7ac8-6ada-4d47-d133-79187d46bd55"
      },
      "execution_count": 8,
      "outputs": [
        {
          "output_type": "execute_result",
          "data": {
            "text/plain": [
              "7"
            ]
          },
          "metadata": {},
          "execution_count": 8
        }
      ]
    },
    {
      "cell_type": "code",
      "source": [
        "s.add(10) # \n",
        "print(s)\n",
        "len(s)"
      ],
      "metadata": {
        "colab": {
          "base_uri": "https://localhost:8080/"
        },
        "id": "oVtIXRsgwwkz",
        "outputId": "7c916855-1a1b-4787-ca89-f62120b69385"
      },
      "execution_count": 10,
      "outputs": [
        {
          "output_type": "stream",
          "name": "stdout",
          "text": [
            "{1, 2, 3, 4, 5, 6, 8, 10}\n"
          ]
        },
        {
          "output_type": "execute_result",
          "data": {
            "text/plain": [
              "8"
            ]
          },
          "metadata": {},
          "execution_count": 10
        }
      ]
    },
    {
      "cell_type": "code",
      "source": [],
      "metadata": {
        "id": "BR8WOIDEwvzn"
      },
      "execution_count": null,
      "outputs": []
    }
  ]
}