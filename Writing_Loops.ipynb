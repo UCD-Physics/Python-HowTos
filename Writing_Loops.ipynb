{
  "cells": [
    {
      "cell_type": "markdown",
      "metadata": {
        "id": "view-in-github",
        "colab_type": "text"
      },
      "source": [
        "<a href=\"https://colab.research.google.com/github/alvaphelan/Python-HowTos/blob/main/Writing_Loops.ipynb\" target=\"_parent\"><img src=\"https://colab.research.google.com/assets/colab-badge.svg\" alt=\"Open In Colab\"/></a>"
      ]
    },
    {
      "cell_type": "markdown",
      "id": "98a40503",
      "metadata": {
        "id": "98a40503"
      },
      "source": [
        "# How to write loops\n",
        "\n",
        "Loops are very helpful for iterrating a calculation and are used a lot when interfacing in order to collect data. There are many different types of loops, the main ones are explained below."
      ]
    },
    {
      "cell_type": "markdown",
      "id": "9c598951",
      "metadata": {
        "id": "9c598951"
      },
      "source": [
        "## While loops\n",
        "\n",
        "While loops work by setting a condition that must be true while the loop does something, and the loop stops once the condition is not met anymore. These are best understood by an example:\n",
        "Suppose you want every number from 0 to 5 to be multiplied by 2.\n",
        "- Create a variable and set it to your start point (i=0)\n",
        "- Set the condition (while i <= 5:) (*<= i less than or equal to*)\n",
        "- Print the operation of the loop (print(2*i)) \n",
        "- Add 1 to your variable (i = 1 + i)"
      ]
    },
    {
      "cell_type": "code",
      "execution_count": 2,
      "id": "62401243",
      "metadata": {
        "id": "62401243",
        "outputId": "51421357-ebf7-484b-eb89-aee2e252b48e",
        "colab": {
          "base_uri": "https://localhost:8080/"
        }
      },
      "outputs": [
        {
          "output_type": "stream",
          "name": "stdout",
          "text": [
            "0\n",
            "2\n",
            "4\n",
            "6\n",
            "8\n",
            "10\n"
          ]
        }
      ],
      "source": [
        "#in code \n",
        "\n",
        "#creating variable\n",
        "i = 0\n",
        "#creating condition that must be satisfied\n",
        "while i<=5:\n",
        "    #print the outcome of the operation\n",
        "    print(2*i)\n",
        "    ##move to the next number\n",
        "    i = i +1"
      ]
    },
    {
      "cell_type": "markdown",
      "id": "882b2ba1",
      "metadata": {
        "id": "882b2ba1"
      },
      "source": [
        "There is often many ways to execute a loop, just ensure to do what makes sense to you.\n",
        "\n",
        "*using comments is extremely important in making your loop clear and to let anyone reading understand what is going on.*"
      ]
    },
    {
      "cell_type": "markdown",
      "id": "db84eda9",
      "metadata": {
        "id": "db84eda9"
      },
      "source": [
        "## For loops\n",
        "\n",
        "For loops are very useful to iterate over an array of elements in a container. Again, this is best seen through examples:"
      ]
    },
    {
      "cell_type": "code",
      "execution_count": 3,
      "id": "3036abc0",
      "metadata": {
        "id": "3036abc0",
        "outputId": "5da7638c-da34-48a8-c819-0f4953f8ad1d",
        "colab": {
          "base_uri": "https://localhost:8080/"
        }
      },
      "outputs": [
        {
          "output_type": "stream",
          "name": "stdout",
          "text": [
            "sunny\n",
            "cloudy\n",
            "rainy\n",
            "windy\n"
          ]
        }
      ],
      "source": [
        "# to print out all the values in an array\n",
        "\n",
        "#start with some array, weather for example\n",
        "weather = ([\"sunny\", \"cloudy\", \"rainy\", \"windy\"])\n",
        "\n",
        "#then say for the variables (x) in the array (weather), print out the variables\n",
        "for x in weather:\n",
        "    print(x)"
      ]
    },
    {
      "cell_type": "markdown",
      "id": "647939a9",
      "metadata": {
        "id": "647939a9"
      },
      "source": [
        "It is possible to stop the current iteration and go back to the start of the loop by the command 'continue':"
      ]
    },
    {
      "cell_type": "code",
      "execution_count": 4,
      "id": "596d12de",
      "metadata": {
        "id": "596d12de",
        "outputId": "5c9975ff-b683-4068-ce21-9f99cfce04d8",
        "colab": {
          "base_uri": "https://localhost:8080/"
        }
      },
      "outputs": [
        {
          "output_type": "stream",
          "name": "stdout",
          "text": [
            "0\n",
            "3\n",
            "6\n",
            "9\n",
            "12\n"
          ]
        }
      ],
      "source": [
        "#to print out multiples of 3 up to 15\n",
        "\n",
        "#for all numbers up to 15\n",
        "for n in range(15):\n",
        "    #if there is a remainder when divided by 3, continue \n",
        "    if n%3 == 1 or n%3 == 2:\n",
        "        continue\n",
        "    #any numbers that have no remainder (n%3 ==0) will be printed out    \n",
        "    print(n)"
      ]
    },
    {
      "cell_type": "markdown",
      "id": "60229b91",
      "metadata": {
        "id": "60229b91"
      },
      "source": [
        "It is also possible to stop the iteration and jump to the end of the loop by the command 'break':"
      ]
    },
    {
      "cell_type": "code",
      "execution_count": 5,
      "id": "21b78173",
      "metadata": {
        "id": "21b78173",
        "outputId": "ba56c959-2bcc-4e7d-85b0-34fc52c1c75b",
        "colab": {
          "base_uri": "https://localhost:8080/"
        }
      },
      "outputs": [
        {
          "output_type": "stream",
          "name": "stdout",
          "text": [
            "0\n",
            "1\n",
            "2\n",
            "3\n",
            "4\n",
            "5\n",
            "6\n",
            "7\n",
            "You have reached the halfway point\n"
          ]
        }
      ],
      "source": [
        "#to stop the loop when a certain number is reached\n",
        "\n",
        "#for all numbers up to 16\n",
        "for n in range(16):\n",
        "    #once the loop reaches the number that is half of 16, break the loop\n",
        "    if n == 16/2:\n",
        "        break\n",
        "    print(n)\n",
        "print('You have reached the halfway point')"
      ]
    },
    {
      "cell_type": "markdown",
      "id": "cb645942",
      "metadata": {
        "id": "cb645942"
      },
      "source": [
        "If needed, the 'enumerate()' function can be used to number the outputs, and the 'zip()' command can be used to loop over muliple arrays at once:\n"
      ]
    },
    {
      "cell_type": "code",
      "execution_count": 6,
      "id": "7dec743c",
      "metadata": {
        "id": "7dec743c",
        "outputId": "f953ff12-905f-461f-e7fb-ef6e897bedd0",
        "colab": {
          "base_uri": "https://localhost:8080/"
        }
      },
      "outputs": [
        {
          "output_type": "stream",
          "name": "stdout",
          "text": [
            "0 July 2nd\n",
            "1 July 3rd\n",
            "2 July 4th\n",
            "3 July 5th\n",
            "4 July 6th\n"
          ]
        }
      ],
      "source": [
        "#random lists\n",
        "date = ['July 2nd', 'July 3rd', 'July 4th', 'July 5th', 'July 6th']\n",
        "wind_speed = [22, 25, 36, 11, 15]\n",
        "\n",
        "#to number the dates\n",
        "for i, day in enumerate(date):\n",
        "    print(i, day)\n"
      ]
    },
    {
      "cell_type": "code",
      "execution_count": 7,
      "id": "0db452fb",
      "metadata": {
        "id": "0db452fb",
        "outputId": "d44fbb06-ab61-4936-f4de-80a0d8026acd",
        "colab": {
          "base_uri": "https://localhost:8080/"
        }
      },
      "outputs": [
        {
          "output_type": "stream",
          "name": "stdout",
          "text": [
            "July 2nd 22\n",
            "July 3rd 25\n",
            "July 4th 36\n",
            "July 5th 11\n",
            "July 6th 15\n"
          ]
        }
      ],
      "source": [
        "#to print out the date next to the wind speed\n",
        "for day, speed in zip(date, wind_speed):\n",
        "    print(day, speed)"
      ]
    },
    {
      "cell_type": "markdown",
      "id": "091690b6",
      "metadata": {
        "id": "091690b6"
      },
      "source": [
        "## If/else\n",
        "\n",
        "Conditional statements are very useful when coding. This allows you to do something that meets a condition, and if not it can do something else. Again this will be looked at through examples:\n"
      ]
    },
    {
      "cell_type": "code",
      "execution_count": 8,
      "id": "7196c178",
      "metadata": {
        "id": "7196c178",
        "outputId": "e0c4b885-2fc4-49bd-c399-41d2aef5dd0b",
        "colab": {
          "base_uri": "https://localhost:8080/"
        }
      },
      "outputs": [
        {
          "output_type": "stream",
          "name": "stdout",
          "text": [
            "2 multiplied by 8 is greater than 2 plus 8\n"
          ]
        }
      ],
      "source": [
        "# letting x and y equal values\n",
        "x = 2 * 8\n",
        "y = 2 + 8\n",
        "\n",
        "#setting a condition\n",
        "if x > y:\n",
        "    print(\"2 multiplied by 8 is greater than 2 plus 8\")\n",
        "else:\n",
        "    print(\"2 multiplied by 8 is less than 2 plus 8\")"
      ]
    },
    {
      "cell_type": "markdown",
      "id": "9e39bb98",
      "metadata": {
        "id": "9e39bb98"
      },
      "source": [
        "There is also an 'elif' command, corresponding to 'else if'. This is simply used to keep code a bit neater and to avoid more lines and too much indentation.\n"
      ]
    },
    {
      "cell_type": "code",
      "execution_count": 9,
      "id": "7e7143d7",
      "metadata": {
        "id": "7e7143d7",
        "outputId": "70ae70c5-dea5-4772-9e64-b97145e790f3",
        "colab": {
          "base_uri": "https://localhost:8080/"
        }
      },
      "outputs": [
        {
          "output_type": "stream",
          "name": "stdout",
          "text": [
            "z is more than 100\n"
          ]
        }
      ],
      "source": [
        "#some variable\n",
        "\n",
        "z = 120\n",
        "\n",
        "if z < 100:\n",
        "    print('z is less than 100')\n",
        "elif z == 100:\n",
        "    print('z is equal to 100')\n",
        "elif z > 100:\n",
        "    print('z is more than 100')"
      ]
    },
    {
      "cell_type": "markdown",
      "id": "dcc2e854",
      "metadata": {
        "id": "dcc2e854"
      },
      "source": [
        "## Nested loops\n",
        "\n",
        "It is possible to combine all of these types of loops to create a sophisticated command. However, when doing this it is *extremely* important to comment your code as you go.\n",
        "\n"
      ]
    },
    {
      "cell_type": "code",
      "execution_count": 10,
      "id": "0732fad2",
      "metadata": {
        "id": "0732fad2",
        "outputId": "8a58f78e-963f-4b67-ab5a-d6b72690b370",
        "colab": {
          "base_uri": "https://localhost:8080/"
        }
      },
      "outputs": [
        {
          "output_type": "stream",
          "name": "stdout",
          "text": [
            "v is between 100 and 300\n"
          ]
        }
      ],
      "source": [
        "z = 70\n",
        "w = 3\n",
        "v = z*w\n",
        "\n",
        "#if v is greater than 100\n",
        "if v > 100:\n",
        "    #all these conditions are indented as they only apply if v>100\n",
        "    \n",
        "    #if v is greater than 500\n",
        "    if v > 500:\n",
        "        print('v is greater than 500')\n",
        "        \n",
        "    #if v is not greater than 500\n",
        "    else:\n",
        "        #these are indented as they only apply if 100<v<500\n",
        "        \n",
        "        #if v is between 400 and 500\n",
        "        if v < 500 and v > 400:\n",
        "            print('v is between 400 and 500')\n",
        "        #else if v is between 300 and 400    \n",
        "        elif v < 400 and v > 300:\n",
        "            print('v is between 300 and 400')\n",
        "        #else it is between 100 and 300    \n",
        "        else:\n",
        "            print('v is between 100 and 300')\n",
        "        \n",
        "#this is not indented as it only apllies if v is not greater than 100\n",
        "\n",
        "#if v is equal to 100\n",
        "elif v == 100:\n",
        "    print('v is 100')\n",
        "#otherwise v is less than 100    \n",
        "else:\n",
        "    print('v is less than 100')\n",
        "    \n",
        "    \n",
        "#feel free to chnage the varibales and see if it still works!"
      ]
    },
    {
      "cell_type": "code",
      "execution_count": null,
      "id": "6baac464",
      "metadata": {
        "id": "6baac464"
      },
      "outputs": [],
      "source": [
        ""
      ]
    }
  ],
  "metadata": {
    "kernelspec": {
      "display_name": "Python 3",
      "language": "python",
      "name": "python3"
    },
    "language_info": {
      "codemirror_mode": {
        "name": "ipython",
        "version": 3
      },
      "file_extension": ".py",
      "mimetype": "text/x-python",
      "name": "python",
      "nbconvert_exporter": "python",
      "pygments_lexer": "ipython3",
      "version": "3.8.8"
    },
    "colab": {
      "name": "Writing Loops.ipynb",
      "provenance": [],
      "include_colab_link": true
    }
  },
  "nbformat": 4,
  "nbformat_minor": 5
}