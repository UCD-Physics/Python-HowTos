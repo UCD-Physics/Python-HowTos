{
  "cells": [
    {
      "cell_type": "markdown",
      "metadata": {
        "id": "view-in-github",
        "colab_type": "text"
      },
      "source": [
        "<a href=\"https://colab.research.google.com/github/UCD-Physics/Python-HowTos/blob/main/Curve_fit.ipynb\" target=\"_parent\"><img src=\"https://colab.research.google.com/assets/colab-badge.svg\" alt=\"Open In Colab\"/></a>"
      ]
    },
    {
      "cell_type": "markdown",
      "id": "580c91fe",
      "metadata": {
        "id": "580c91fe"
      },
      "source": [
        "## Fitting curves to data\n",
        "\n",
        "Another important function is curve_fit which can be used in order to fit lines and curves to data. This is useful when comparing theoretical and experimental values.\n",
        "\n",
        "### How it works\n",
        "\n",
        "First, you must import the curve fit function from scipy"
      ]
    },
    {
      "cell_type": "code",
      "execution_count": 1,
      "id": "c8ba3ec7",
      "metadata": {
        "id": "c8ba3ec7"
      },
      "outputs": [],
      "source": [
        "from scipy.optimize import curve_fit\n",
        "\n",
        "import numpy as np\n",
        "import matplotlib.pyplot as plt"
      ]
    },
    {
      "cell_type": "code",
      "execution_count": 2,
      "id": "2d5a1996",
      "metadata": {
        "id": "2d5a1996"
      },
      "outputs": [],
      "source": [
        "#creating x and y to work with\n",
        "x = np.linspace(-50, 50, 40)\n",
        "y = 6*x -4 "
      ]
    },
    {
      "cell_type": "markdown",
      "id": "d1f27092",
      "metadata": {
        "id": "d1f27092"
      },
      "source": [
        "Then, you must define the function you want to fit to the data. In this example, we will go through a simple straight linear line but this can be done with quadratics, exponentials etc. "
      ]
    },
    {
      "cell_type": "code",
      "execution_count": 3,
      "id": "936062d5",
      "metadata": {
        "id": "936062d5"
      },
      "outputs": [],
      "source": [
        "def func(x, m, c):\n",
        "    y = m*x + c\n",
        "    return y"
      ]
    },
    {
      "cell_type": "markdown",
      "id": "8954d366",
      "metadata": {
        "id": "8954d366"
      },
      "source": [
        "Taking m as the slope and c as the intercept, this is the generic form for a straight line. \n",
        "\n",
        "Then, it is time to use curve_fit. This will provide you with two matrices, popt and pcov."
      ]
    },
    {
      "cell_type": "code",
      "execution_count": 4,
      "id": "eb208907",
      "metadata": {
        "id": "eb208907"
      },
      "outputs": [],
      "source": [
        "popt, pcov = curve_fit(func, x, y)"
      ]
    },
    {
      "cell_type": "markdown",
      "id": "cf23f016",
      "metadata": {
        "id": "cf23f016"
      },
      "source": [
        "Popt is an array with the optimum parameters for the function (m and c in this case), and they are in the same order as defined in the function. They can be accessed by the following (*as explained in section regarding [numpy](https://github.com/UCD-Physics/Python-HowTos/blob/main/Numpy.ipynb)*)"
      ]
    },
    {
      "cell_type": "code",
      "execution_count": 5,
      "id": "be6d8980",
      "metadata": {
        "id": "be6d8980",
        "outputId": "65268942-4e47-4aff-f13a-cf70506a4692",
        "colab": {
          "base_uri": "https://localhost:8080/"
        }
      },
      "outputs": [
        {
          "output_type": "stream",
          "name": "stdout",
          "text": [
            "The optimum slope for this function is 6.0 and intercept is -3.999999999999995\n"
          ]
        }
      ],
      "source": [
        "m = popt[0]\n",
        "c = popt[1]\n",
        "print(f\"The optimum slope for this function is {m} and intercept is {c}\")"
      ]
    },
    {
      "cell_type": "markdown",
      "id": "119e9740",
      "metadata": {
        "id": "119e9740"
      },
      "source": [
        "Pcov returns the covariance matrix (explained in more detail [here](https://veritas.ucd.ie/~apl/labs_master/docs/2020/DA/Error_Propagation.pdf)), but simply put, the errors on the parameters are the square root of the diagonal elements of the matrix, in this case"
      ]
    },
    {
      "cell_type": "code",
      "execution_count": 6,
      "id": "c4b6b364",
      "metadata": {
        "id": "c4b6b364"
      },
      "outputs": [],
      "source": [
        "m_error = np.sqrt(pcov[0, 0])\n",
        "c_error = np.sqrt(pcov[1, 1])\n"
      ]
    },
    {
      "cell_type": "markdown",
      "id": "c02a42dc",
      "metadata": {
        "id": "c02a42dc"
      },
      "source": [
        "It is then possible to create a yfit to this function"
      ]
    },
    {
      "cell_type": "code",
      "execution_count": 7,
      "id": "8cf9b590",
      "metadata": {
        "id": "8cf9b590",
        "outputId": "8e2478cb-f48a-4cae-99a8-ef6f420dbdc4",
        "colab": {
          "base_uri": "https://localhost:8080/",
          "height": 295
        }
      },
      "outputs": [
        {
          "output_type": "display_data",
          "data": {
            "text/plain": [
              "<Figure size 432x288 with 1 Axes>"
            ],
            "image/png": "[encoded data removed]"
          },
          "metadata": {
            "needs_background": "light"
          }
        }
      ],
      "source": [
        "yfit = func(x, popt[0],popt[1])\n",
        "\n",
        "#you can also use the * notation (unpacking) to automatically expand and fill\n",
        "\n",
        "yfit1 = func(x, *popt)\n",
        "\n",
        "#and can then graph the data and yfit\n",
        "plt.scatter(x, y, marker = '.', color = 'black', label = 'data')\n",
        "plt.plot(x, yfit1, color = 'red', label = 'yfit using curve_fit')\n",
        "plt.xlabel('X axis')\n",
        "plt.ylabel('Y axis')\n",
        "plt.title('Example Graph')\n",
        "plt.grid(True)\n",
        "plt.legend(loc = 'lower right');"
      ]
    },
    {
      "cell_type": "markdown",
      "source": [
        "The curve_fit function has an option to include errors in the calculation in order to increase the accuracy of the slope and interncept as seen in the error bar section [here](https://github.com/UCD-Physics/Python-HowTos/blob/main/Error_Bars.ipynb).\n",
        "\n",
        "Curve fit can be used for any type of function, in the next example we will cover an exponential decay. First we'll import data (as seen in [this section](https://github.com/UCD-Physics/Python-HowTos/blob/main/Importing_Data.ipynb))."
      ],
      "metadata": {
        "id": "6FVHPpbvhmzo"
      },
      "id": "6FVHPpbvhmzo"
    },
    {
      "cell_type": "code",
      "execution_count": 9,
      "id": "b9fce21a",
      "metadata": {
        "id": "b9fce21a"
      },
      "outputs": [],
      "source": [
        "x_data, y_data = np.loadtxt('exp_data.txt', unpack = True)"
      ]
    },
    {
      "cell_type": "code",
      "execution_count": 10,
      "id": "0407ae7d",
      "metadata": {
        "id": "0407ae7d",
        "outputId": "84175058-6ee8-4c2d-fc8b-421999d68f18",
        "colab": {
          "base_uri": "https://localhost:8080/",
          "height": 279
        }
      },
      "outputs": [
        {
          "output_type": "display_data",
          "data": {
            "text/plain": [
              "<Figure size 432x288 with 1 Axes>"
            ],
            "image/png": "[encoded data removed]"
          },
          "metadata": {
            "needs_background": "light"
          }
        }
      ],
      "source": [
        "#plot the raw data\n",
        "plt.scatter(x_data, y_data, marker ='.', color = 'black', label = 'data')\n",
        "plt.grid(True)\n",
        "plt.xlabel('x data')\n",
        "plt.ylabel('y data')\n",
        "plt.legend(loc = 'upper right');"
      ]
    },
    {
      "cell_type": "markdown",
      "source": [
        "For non-linear fitting, it is important to use a starting guess in the curve_fit function. The best way to do this is to plot a guess at a function over the data first to get an idea of the right values, and then use these values in the function. \n",
        "For example, plot a generic exponential over the data (in this example $e^{-3x}$)"
      ],
      "metadata": {
        "id": "cx5SAgDzkBkY"
      },
      "id": "cx5SAgDzkBkY"
    },
    {
      "cell_type": "code",
      "source": [
        "#plot the raw data\n",
        "plt.scatter(x_data, y_data, marker ='.', color = 'black', label = 'data')\n",
        "plt.grid(True)\n",
        "plt.xlabel('x data')\n",
        "plt.ylabel('y data')\n",
        "\n",
        "\n",
        "#plot exponential over\n",
        "\n",
        "#creating same range of x values\n",
        "x = np.linspace(0, 30, 100)\n",
        "plt.plot(x, np.exp(-3*x), color = 'red', label = 'guess fit')\n",
        "plt.legend(loc = 'upper right');"
      ],
      "metadata": {
        "id": "ATFHOlaIkway",
        "outputId": "5fdf59ca-f4c0-4d95-f6ea-600aecf04c73",
        "colab": {
          "base_uri": "https://localhost:8080/",
          "height": 279
        }
      },
      "id": "ATFHOlaIkway",
      "execution_count": 11,
      "outputs": [
        {
          "output_type": "display_data",
          "data": {
            "text/plain": [
              "<Figure size 432x288 with 1 Axes>"
            ],
            "image/png": "[encoded data removed]"
          },
          "metadata": {
            "needs_background": "light"
          }
        }
      ]
    },
    {
      "cell_type": "markdown",
      "source": [
        "From this, it can be seen that the guess function is way steeper than the data, so we will now try $e^{-0.5x}$."
      ],
      "metadata": {
        "id": "_huy_p5LmJWc"
      },
      "id": "_huy_p5LmJWc"
    },
    {
      "cell_type": "code",
      "source": [
        "#plot the raw data\n",
        "plt.scatter(x_data, y_data, marker ='.', color = 'black', label = 'data')\n",
        "plt.grid(True)\n",
        "plt.xlabel('x data')\n",
        "plt.ylabel('y data')\n",
        "\n",
        "\n",
        "#plot exponential over\n",
        "\n",
        "#creating same range of x values\n",
        "x = np.linspace(0, 30, 100)\n",
        "plt.plot(x, np.exp(-0.5*x), color = 'red', label = 'guess fit')\n",
        "plt.legend(loc = 'upper right');"
      ],
      "metadata": {
        "id": "kX-9d83unWR-",
        "outputId": "1986bb7a-179c-4bf0-c481-927514774d7b",
        "colab": {
          "base_uri": "https://localhost:8080/",
          "height": 279
        }
      },
      "id": "kX-9d83unWR-",
      "execution_count": 12,
      "outputs": [
        {
          "output_type": "display_data",
          "data": {
            "text/plain": [
              "<Figure size 432x288 with 1 Axes>"
            ],
            "image/png": "[encoded data removed]"
          },
          "metadata": {
            "needs_background": "light"
          }
        }
      ]
    },
    {
      "cell_type": "markdown",
      "source": [
        "While it is not perfect, it's a very close guess so now it is possible to use this value in the curve_fit function."
      ],
      "metadata": {
        "id": "oefNHNoBnVU5"
      },
      "id": "oefNHNoBnVU5"
    },
    {
      "cell_type": "code",
      "source": [
        "#then define function for best fit\n",
        "#use generic function for exponential decay\n",
        "\n",
        "def func(x, a):\n",
        "  return np.exp(a*x)\n",
        "\n",
        "#use curve_fit\n",
        "popt, pcov = curve_fit(func, x_data, y_data, p0 =[-0.5])\n",
        "a1 = popt[0]\n",
        "a1_error = pcov[0, 0]\n",
        "\n",
        "#best fit\n",
        "\n",
        "#creating same x interval to include in y fit\n",
        "x = np.linspace(0, 30, 30)\n",
        "y_fit = np.exp(a1*x)\n",
        "plt.plot(x, y_fit, color = 'red', label = 'best fit')\n",
        "#original plot\n",
        "plt.scatter(x_data, y_data, marker ='.', color = 'black', label = 'data')\n",
        "plt.grid(True)\n",
        "plt.xlabel('x data')\n",
        "plt.ylabel('y data')\n",
        "plt.legend(loc = 'upper right');\n"
      ],
      "metadata": {
        "id": "UGcXmMk4rotA",
        "outputId": "ad02109a-8a73-41c9-ebed-47b9eef0cb3f",
        "colab": {
          "base_uri": "https://localhost:8080/",
          "height": 279
        }
      },
      "id": "UGcXmMk4rotA",
      "execution_count": 13,
      "outputs": [
        {
          "output_type": "display_data",
          "data": {
            "text/plain": [
              "<Figure size 432x288 with 1 Axes>"
            ],
            "image/png": "[encoded data removed]"
          },
          "metadata": {
            "needs_background": "light"
          }
        }
      ]
    },
    {
      "cell_type": "code",
      "source": [
        "f'The value of a1 was found to be {a1:.3f}, which is similar to our guess of -0.5'"
      ],
      "metadata": {
        "id": "UEzKmP0JsQrT",
        "outputId": "fe002cf3-da1c-4e54-ae9c-6bc6cb79d3a2",
        "colab": {
          "base_uri": "https://localhost:8080/",
          "height": 36
        }
      },
      "id": "UEzKmP0JsQrT",
      "execution_count": 14,
      "outputs": [
        {
          "output_type": "execute_result",
          "data": {
            "text/plain": [
              "'The value of a1 was found to be -0.360, which is similar to our guess of -0.5'"
            ],
            "application/vnd.google.colaboratory.intrinsic+json": {
              "type": "string"
            }
          },
          "metadata": {},
          "execution_count": 14
        }
      ]
    },
    {
      "cell_type": "markdown",
      "source": [
        "This works for functions with many varibles, they just need to be entered into the p0 parameter as an array in the order they're definied in the function."
      ],
      "metadata": {
        "id": "qSzgBVeCn4yU"
      },
      "id": "qSzgBVeCn4yU"
    },
    {
      "cell_type": "code",
      "source": [
        ""
      ],
      "metadata": {
        "id": "WeuSOcvqwhgY"
      },
      "id": "WeuSOcvqwhgY",
      "execution_count": null,
      "outputs": []
    }
  ],
  "metadata": {
    "kernelspec": {
      "display_name": "Python 3",
      "language": "python",
      "name": "python3"
    },
    "language_info": {
      "codemirror_mode": {
        "name": "ipython",
        "version": 3
      },
      "file_extension": ".py",
      "mimetype": "text/x-python",
      "name": "python",
      "nbconvert_exporter": "python",
      "pygments_lexer": "ipython3",
      "version": "3.8.8"
    },
    "colab": {
      "name": "Curve_fit.ipynb",
      "provenance": [],
      "include_colab_link": true
    }
  },
  "nbformat": 4,
  "nbformat_minor": 5
}