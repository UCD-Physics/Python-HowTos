{
 "cells": [
  {
   "cell_type": "markdown",
   "metadata": {
    "colab_type": "text",
    "id": "view-in-github"
   },
   "source": [
    "<a href=\"https://colab.research.google.com/github/UCD-Physics/Python-HowTos/blob/main/Logic.ipynb\" target=\"_parent\"><img src=\"https://colab.research.google.com/assets/colab-badge.svg\" alt=\"Open In Colab\"/></a>"
   ]
  },
  {
   "cell_type": "markdown",
   "metadata": {
    "id": "tIwVN0c8iAi5"
   },
   "source": [
    "# Logical Conditions\n",
    "\n",
    "Making decisions based on logic is an essential part of any programming languge.\n",
    "\n",
    "## Python bool type\n",
    "\n",
    "Python has a type called `bool` which is either `True` or `False` and set of conditions and logical statements which evaluate to a `bool` (i.e. they are either `True` or `False`). \n",
    "\n",
    "Bools are used with `if` and `while` statements to conditionally execute statements (example below).\n",
    "\n",
    "There is also a bool function (`bool()`) which give you the boolean result of any expression.\n",
    "\n",
    "## Python expressions evaluated as bools\n",
    "\n",
    "Python evaluates the results of certain expressions as boolean for logical conditions (e.g. in an `if` statement). Examples are numbers (a value of 0 or 0.0 is `False` while a non-zero value evaluates as `True`) and lists (an empty list evaluates to a boolean equivalent of `False` while a non-empty list evaluates to a boolean value of `True`). \n",
    "\n",
    "This feature sometimes leads to code which may not be obvious to read unless you are familiar with the rules!\n",
    "\n",
    "### Examples:"
   ]
  },
  {
   "cell_type": "code",
   "execution_count": 1,
   "metadata": {},
   "outputs": [
    {
     "data": {
      "text/plain": [
       "bool"
      ]
     },
     "execution_count": 1,
     "metadata": {},
     "output_type": "execute_result"
    }
   ],
   "source": [
    "type(True)"
   ]
  },
  {
   "cell_type": "code",
   "execution_count": 2,
   "metadata": {},
   "outputs": [
    {
     "data": {
      "text/plain": [
       "False"
      ]
     },
     "execution_count": 2,
     "metadata": {},
     "output_type": "execute_result"
    }
   ],
   "source": [
    "x = 0\n",
    "bool(x)"
   ]
  },
  {
   "cell_type": "code",
   "execution_count": 3,
   "metadata": {},
   "outputs": [
    {
     "data": {
      "text/plain": [
       "True"
      ]
     },
     "execution_count": 3,
     "metadata": {},
     "output_type": "execute_result"
    }
   ],
   "source": [
    "x = 0.001\n",
    "bool(x)"
   ]
  },
  {
   "cell_type": "code",
   "execution_count": 4,
   "metadata": {},
   "outputs": [
    {
     "data": {
      "text/plain": [
       "False"
      ]
     },
     "execution_count": 4,
     "metadata": {},
     "output_type": "execute_result"
    }
   ],
   "source": [
    "x = []\n",
    "bool(x)"
   ]
  },
  {
   "cell_type": "code",
   "execution_count": 5,
   "metadata": {},
   "outputs": [
    {
     "data": {
      "text/plain": [
       "True"
      ]
     },
     "execution_count": 5,
     "metadata": {},
     "output_type": "execute_result"
    }
   ],
   "source": [
    "x = [1, 2]\n",
    "bool(x)"
   ]
  },
  {
   "cell_type": "markdown",
   "metadata": {},
   "source": [
    "## Logical operators in Python\n",
    "\n",
    "The following Python operators are use for boolean operations and comparisons:\n",
    "\n",
    "| Operator | Description | Example |\n",
    "|----------|-------------|---------|\n",
    "| `in` / `not in` | Membership operator | `\"c\" not in [\"abcde\"]` returns `False`|\n",
    "| `is` / `is not` | identity operator | `value is None`, `type(2.14) is float` |  \n",
    "| `not`    | logical NOT operator |  `\"x\" not in [\"abcde\"]` returns `True`|\n",
    "| `and`    | logical AND operator for two bools | `a and b` where `a` and `b` are bools (or `bool()` result of expression)|\n",
    "| `or`     | logical OR operator on two bools | `a or b`  where `a` and `b` are bools (or `bool()` result of expression)|\n",
    "|`<, <=, >, >=,  !=, ==` | Comparison operators which return bools | `2 <= 3` returns `True` |\n",
    "\n",
    "Please note: the operator to test for equality is `==` and the operator to test for not equal is `!=`.\n",
    "\n",
    "### Shorthand \n",
    "To compare if a number is in a specified range, the test would be, for example ` lower < x and x <= upper` but Python also allows this combined notation: `lower < x <= upper` (note: works with all of the comparison operators).\n",
    "\n",
    "Examples:"
   ]
  },
  {
   "cell_type": "code",
   "execution_count": 14,
   "metadata": {},
   "outputs": [
    {
     "data": {
      "text/plain": [
       "True"
      ]
     },
     "execution_count": 14,
     "metadata": {},
     "output_type": "execute_result"
    }
   ],
   "source": [
    "x = 15\n",
    "\n",
    "x > 10 and x < 20"
   ]
  },
  {
   "cell_type": "markdown",
   "metadata": {},
   "source": [
    "Python also allows the follow notation to combine the two operations (also works with `<=` ...) :"
   ]
  },
  {
   "cell_type": "code",
   "execution_count": 15,
   "metadata": {},
   "outputs": [
    {
     "data": {
      "text/plain": [
       "True"
      ]
     },
     "execution_count": 15,
     "metadata": {},
     "output_type": "execute_result"
    }
   ],
   "source": [
    "x = 15\n",
    "\n",
    "10 < x < 20"
   ]
  },
  {
   "cell_type": "markdown",
   "metadata": {},
   "source": [
    "## Logical operator precedence and order\n",
    "\n",
    "In Python the order of precedence of logical operators is, in order:\n",
    "\n",
    "|  Operator | Description |\n",
    "|----------|--------------|\n",
    "| `==, !=, >, >=, <, <=, is, is not, in, not in` | comparison, identity, membership|\n",
    "| `not` | logical NOT |\n",
    "| `and` | logical AND |\n",
    "| `or`  | logical OR |\n",
    "\n",
    "Logical expressions are evaluated using the above precedence, with parentesised conditions having highest priority.\n",
    "Examples (taken from: https://www.pythontutorial.net/python-basics/python-logical-operators/):\n",
    "\n",
    "| conditional statement | how it is evaluated |\n",
    "|-----------|---------------------|\n",
    "|`a or b and c` | `a or (b and c)` |\n",
    "| `a and b or c and d` | `(a and b) or (c and d)` |\n",
    "| `a and b and c or d` | `((a and b) and c) or d` |\n",
    "| `not a and b or c`| `((not a) and b) or c` | \n",
    "| `not (a and b) or c`| `(not (a and b)) or c` | "
   ]
  },
  {
   "cell_type": "markdown",
   "metadata": {},
   "source": [
    "## Python if-elif-else statements\n",
    "\n",
    "Conditional execution of logical statement is achieved using Python's `if-elif-else` statements.\n",
    "\n",
    "The basic format is:\n",
    "```\n",
    "if condition_1:\n",
    "    statement_block_1\n",
    "elif condition_2:\n",
    "    statement_block_2\n",
    "else:\n",
    "    statement_block_3\n",
    "```\n",
    "Notes\n",
    " * the `elif` and `else` statemements are optional and statement blocks are determined by indentation.\n",
    " * the conditions can be made from multiple logical statements as described above \n",
    "\n",
    "### Shorthand for a single if-else\n",
    "\n",
    "Python also has a short-hand notation for statements with one if and one else:\n",
    "\n",
    "```\n",
    "statement1 if condition else statement2\n",
    "```\n",
    "\n",
    "Examples:"
   ]
  },
  {
   "cell_type": "code",
   "execution_count": 34,
   "metadata": {},
   "outputs": [
    {
     "name": "stdout",
     "output_type": "stream",
     "text": [
      "Enter a number: 19\n",
      "Enter another number: 2\n",
      "The larger number is 19.0\n"
     ]
    }
   ],
   "source": [
    "# calculate the maximum of two numbers:\n",
    "\n",
    "a = float(input(\"Enter a number: \"))\n",
    "b = float(input(\"Enter another number: \"))\n",
    "\n",
    "if (a > b):\n",
    "    max_val = a\n",
    "else: \n",
    "    max_val = b\n",
    "    \n",
    "print(f\"The larger number is {max_val}\")"
   ]
  },
  {
   "cell_type": "code",
   "execution_count": 35,
   "metadata": {},
   "outputs": [
    {
     "name": "stdout",
     "output_type": "stream",
     "text": [
      "Enter a number: 29\n",
      "Enter another number: 102\n",
      "The larger number is 102.0\n"
     ]
    }
   ],
   "source": [
    "# or equivalently:\n",
    "\n",
    "a = float(input(\"Enter a number: \"))\n",
    "b = float(input(\"Enter another number: \"))\n",
    "    \n",
    "max_val = a if (a > b) else b\n",
    "\n",
    "print(f\"The larger number is {max_val}\")"
   ]
  },
  {
   "cell_type": "markdown",
   "metadata": {},
   "source": [
    "### Example: function to convert bools to \"Yes\" / \"No\""
   ]
  },
  {
   "cell_type": "code",
   "execution_count": 1,
   "metadata": {},
   "outputs": [
    {
     "name": "stdout",
     "output_type": "stream",
     "text": [
      "No!\n",
      "Yes!\n"
     ]
    }
   ],
   "source": [
    "# convert bool to \"Yes\" or \"No\"\n",
    "\n",
    "def bool_to_text(value):\n",
    "    return \"Yes!\" if value else \"No!\"\n",
    "\n",
    "print(bool_to_text(10>20))\n",
    "print(bool_to_text(10))  # confusing? 10 gets evaluated as true since non-zero "
   ]
  },
  {
   "cell_type": "markdown",
   "metadata": {},
   "source": [
    "### Example of if, elif, else statements in converting dog to human years"
   ]
  },
  {
   "cell_type": "code",
   "execution_count": 37,
   "metadata": {},
   "outputs": [
    {
     "name": "stdout",
     "output_type": "stream",
     "text": [
      "Age of the dog (whole years): 3\n",
      "Human years:  27\n"
     ]
    }
   ],
   "source": [
    "# Convert dog years to human years:\n",
    "\n",
    "age = int(input(\"Age of the dog (whole years): \"))\n",
    "\n",
    "if age <= 0:\n",
    "    print(\"This can hardly be true!\")\n",
    "elif age == 1:\n",
    "    print(\"About 14 human years\")\n",
    "elif age == 2:\n",
    "    print(\"About 22 human years\")\n",
    "else:\n",
    "    human = 22 + (age - 2) * 5\n",
    "    print(\"Human years: \", human)"
   ]
  },
  {
   "cell_type": "code",
   "execution_count": null,
   "metadata": {},
   "outputs": [],
   "source": []
  }
 ],
 "metadata": {
  "colab": {
   "authorship_tag": "ABX9TyN76Q9sOidXa6AUUz3gSGmk",
   "include_colab_link": true,
   "name": "logical_conditions.ipynb",
   "provenance": []
  },
  "kernelspec": {
   "display_name": "Python 3 (ipykernel)",
   "language": "python",
   "name": "python3"
  },
  "language_info": {
   "codemirror_mode": {
    "name": "ipython",
    "version": 3
   },
   "file_extension": ".py",
   "mimetype": "text/x-python",
   "name": "python",
   "nbconvert_exporter": "python",
   "pygments_lexer": "ipython3",
   "version": "3.9.7"
  },
  "latex_envs": {
   "LaTeX_envs_menu_present": true,
   "autoclose": true,
   "autocomplete": true,
   "bibliofile": "biblio.bib",
   "cite_by": "apalike",
   "current_citInitial": 1,
   "eqLabelWithNumbers": true,
   "eqNumInitial": 1,
   "hotkeys": {
    "equation": "Ctrl-E",
    "itemize": "Ctrl-I"
   },
   "labels_anchors": false,
   "latex_user_defs": false,
   "report_style_numbering": true,
   "user_envs_cfg": false
  },
  "toc": {
   "base_numbering": 1,
   "nav_menu": {},
   "number_sections": true,
   "sideBar": true,
   "skip_h1_title": false,
   "title_cell": "Table of Contents",
   "title_sidebar": "Contents",
   "toc_cell": false,
   "toc_position": {},
   "toc_section_display": true,
   "toc_window_display": false
  },
  "varInspector": {
   "cols": {
    "lenName": 16,
    "lenType": 16,
    "lenVar": 40
   },
   "kernels_config": {
    "python": {
     "delete_cmd_postfix": "",
     "delete_cmd_prefix": "del ",
     "library": "var_list.py",
     "varRefreshCmd": "print(var_dic_list())"
    },
    "r": {
     "delete_cmd_postfix": ") ",
     "delete_cmd_prefix": "rm(",
     "library": "var_list.r",
     "varRefreshCmd": "cat(var_dic_list()) "
    }
   },
   "types_to_exclude": [
    "module",
    "function",
    "builtin_function_or_method",
    "instance",
    "_Feature"
   ],
   "window_display": false
  }
 },
 "nbformat": 4,
 "nbformat_minor": 1
}
