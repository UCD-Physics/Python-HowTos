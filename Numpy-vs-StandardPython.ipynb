{
 "cells": [
  {
   "cell_type": "markdown",
   "id": "aa354b0a",
   "metadata": {},
   "source": [
    "<a href=\"https://colab.research.google.com/github/UCD-Physics/Python-HowTos/blob/main/Numpy-vs-StandardPython.ipynb\" target=\"_parent\"><img src=\"https://colab.research.google.com/assets/colab-badge.svg\" alt=\"Open In Colab\"/></a>"
   ]
  },
  {
   "cell_type": "markdown",
   "id": "ee506ce1",
   "metadata": {},
   "source": [
    "# Numpy vs Standard Python\n",
    "\n",
    "Numpy should be preferred over standard Python lists and looping for performing calculations or arrays of numbers since Numpy is optimised for array-wise operations making code easier to write and read with less errors, and it executes much faster.\n",
    "\n",
    "This notebook demonstrates some of the main benefits of using Numpy for array-wise calculations. \n",
    "\n",
    "Note: Numpy replaces the math library - both are included here as we compare the two."
   ]
  },
  {
   "cell_type": "code",
   "execution_count": 7,
   "id": "4ffb40d1",
   "metadata": {},
   "outputs": [],
   "source": [
    "import numpy as np\n",
    "import math"
   ]
  },
  {
   "cell_type": "markdown",
   "id": "c6c963ff",
   "metadata": {},
   "source": [
    "## Make a range of numbers in numpy\n",
    "\n",
    "`np.arange()` arguments are: `end` or `start, end` or `start, end, step`.\n",
    "\n",
    "Notes: \n",
    " * `end` is not included.\n",
    " * values do not have to be integers\n",
    " \n",
    "Examples:"
   ]
  },
  {
   "cell_type": "code",
   "execution_count": 8,
   "id": "fd1b001f",
   "metadata": {},
   "outputs": [
    {
     "data": {
      "text/plain": [
       "array([0, 1, 2, 3, 4, 5, 6, 7, 8, 9])"
      ]
     },
     "execution_count": 8,
     "metadata": {},
     "output_type": "execute_result"
    }
   ],
   "source": [
    "xn = np.arange(10)\n",
    "xn"
   ]
  },
  {
   "cell_type": "code",
   "execution_count": 9,
   "id": "fff79a51",
   "metadata": {},
   "outputs": [
    {
     "data": {
      "text/plain": [
       "array([0.1, 0.6, 1.1, 1.6, 2.1, 2.6, 3.1, 3.6, 4.1, 4.6, 5.1, 5.6, 6.1,\n",
       "       6.6, 7.1, 7.6, 8.1, 8.6, 9.1, 9.6])"
      ]
     },
     "execution_count": 9,
     "metadata": {},
     "output_type": "execute_result"
    }
   ],
   "source": [
    "xn = np.arange(0.1,10,0.5)\n",
    "xn"
   ]
  },
  {
   "cell_type": "markdown",
   "id": "459e0cf9",
   "metadata": {},
   "source": [
    "## Array-wise calculations using standard arithmetic and numpy functions!"
   ]
  },
  {
   "cell_type": "code",
   "execution_count": 10,
   "id": "06b5a28c",
   "metadata": {},
   "outputs": [
    {
     "data": {
      "text/plain": [
       "array([1.000e-02, 3.600e-01, 1.210e+00, 2.560e+00, 4.410e+00, 6.760e+00,\n",
       "       9.610e+00, 1.296e+01, 1.681e+01, 2.116e+01, 2.601e+01, 3.136e+01,\n",
       "       3.721e+01, 4.356e+01, 5.041e+01, 5.776e+01, 6.561e+01, 7.396e+01,\n",
       "       8.281e+01, 9.216e+01])"
      ]
     },
     "execution_count": 10,
     "metadata": {},
     "output_type": "execute_result"
    }
   ],
   "source": [
    "xn**2"
   ]
  },
  {
   "cell_type": "markdown",
   "id": "fbbebfb0",
   "metadata": {},
   "source": [
    "### even for your own functions!"
   ]
  },
  {
   "cell_type": "code",
   "execution_count": 11,
   "id": "acfecdba",
   "metadata": {},
   "outputs": [],
   "source": [
    "def my_fnc(x):\n",
    "    return x**3 + np.cos(x) + 3"
   ]
  },
  {
   "cell_type": "code",
   "execution_count": 12,
   "id": "0db9accf",
   "metadata": {},
   "outputs": [
    {
     "data": {
      "text/plain": [
       "array([  3.99600417,   4.04133561,   4.78459612,   7.06680048,\n",
       "        11.7561539 ,  19.71911125,  31.79186485,  48.75924158,\n",
       "        71.34617605, 100.22384747, 136.02897774, 179.39156588,\n",
       "       230.96426844, 291.44623259, 361.59554667, 442.22725984,\n",
       "       534.19745585, 638.37727995, 755.6232784 , 886.75131214])"
      ]
     },
     "execution_count": 12,
     "metadata": {},
     "output_type": "execute_result"
    }
   ],
   "source": [
    "my_fnc(xn)"
   ]
  },
  {
   "cell_type": "markdown",
   "id": "08b7d8b4",
   "metadata": {},
   "source": [
    "## Numpy is much faster than looping!\n",
    "\n",
    "Notes, the command used below for timing `%%timeit` is a [cell magic](https://ipython.readthedocs.io/en/stable/interactive/magics.html#cell-magics) command. There is also [line magic](https://ipython.readthedocs.io/en/stable/interactive/magics.html#line-magics)\n",
    "\n",
    "\n",
    "### test speed of numpy..."
   ]
  },
  {
   "cell_type": "code",
   "execution_count": 32,
   "id": "85bb940e",
   "metadata": {},
   "outputs": [],
   "source": [
    "N = 1_000_000\n",
    "\n",
    "xn = np.linspace(0, 10, N)"
   ]
  },
  {
   "cell_type": "code",
   "execution_count": 33,
   "id": "6d230505",
   "metadata": {},
   "outputs": [
    {
     "name": "stdout",
     "output_type": "stream",
     "text": [
      "9.39 ms ± 87.5 µs per loop (mean ± std. dev. of 7 runs, 100 loops each)\n"
     ]
    }
   ],
   "source": [
    "%%timeit  \n",
    "# %%timeit times how long it takes to run the cell \n",
    "# multiple times and calculates averagre and std dev.\n",
    "\n",
    "yn = np.cos(xn) ** 2"
   ]
  },
  {
   "cell_type": "markdown",
   "id": "a2049dd5",
   "metadata": {},
   "source": [
    "### test speed of Python using List Comprehension"
   ]
  },
  {
   "cell_type": "code",
   "execution_count": 34,
   "id": "2f6320b9",
   "metadata": {},
   "outputs": [],
   "source": [
    "N = 1_000_000\n",
    "\n",
    "step = (10 - 0) / N\n",
    "\n",
    "x = [i * step for i in range(N + 1)]"
   ]
  },
  {
   "cell_type": "code",
   "execution_count": 35,
   "id": "45b5d26b",
   "metadata": {},
   "outputs": [
    {
     "name": "stdout",
     "output_type": "stream",
     "text": [
      "173 ms ± 1.11 ms per loop (mean ± std. dev. of 7 runs, 10 loops each)\n"
     ]
    }
   ],
   "source": [
    "%%timeit\n",
    "\n",
    "y = [math.cos(xi) ** 2 for xi in x]"
   ]
  },
  {
   "cell_type": "markdown",
   "id": "a24c1b4f",
   "metadata": {},
   "source": [
    "### test speed of pythons using list and append\n",
    "\n",
    "using already defined `x` list..."
   ]
  },
  {
   "cell_type": "code",
   "execution_count": 36,
   "id": "2135455b",
   "metadata": {},
   "outputs": [
    {
     "name": "stdout",
     "output_type": "stream",
     "text": [
      "222 ms ± 2.06 ms per loop (mean ± std. dev. of 7 runs, 1 loop each)\n"
     ]
    }
   ],
   "source": [
    "%%timeit\n",
    "\n",
    "N = 1_000_000\n",
    "\n",
    "y = []\n",
    "\n",
    "for xi in range(N + 1):\n",
    "    y.append(math.cos(xi) ** 2)"
   ]
  },
  {
   "cell_type": "markdown",
   "id": "e9ce292c",
   "metadata": {},
   "source": [
    "## Complete examples \n",
    "\n",
    "### Complete examples in standard Python using Loops"
   ]
  },
  {
   "cell_type": "code",
   "execution_count": 37,
   "id": "08dc158b",
   "metadata": {},
   "outputs": [
    {
     "name": "stdout",
     "output_type": "stream",
     "text": [
      "317 ms ± 4.1 ms per loop (mean ± std. dev. of 7 runs, 1 loop each)\n"
     ]
    }
   ],
   "source": [
    "%%timeit\n",
    "\n",
    "N = 1_000_000\n",
    "step = (10 - 0) / N\n",
    "\n",
    "x = []\n",
    "y = []\n",
    "\n",
    "for xi in range(N + 1):\n",
    "    x.append(xi * step)\n",
    "    y.append(math.cos(xi) ** 2)"
   ]
  },
  {
   "cell_type": "markdown",
   "id": "2b6c80e1",
   "metadata": {},
   "source": [
    "### Complete example in standard Python using List Comprehension"
   ]
  },
  {
   "cell_type": "code",
   "execution_count": 27,
   "id": "7b6852e5",
   "metadata": {},
   "outputs": [
    {
     "name": "stdout",
     "output_type": "stream",
     "text": [
      "242 ms ± 1.97 ms per loop (mean ± std. dev. of 7 runs, 1 loop each)\n"
     ]
    }
   ],
   "source": [
    "%%timeit\n",
    "\n",
    "N = 1_000_000\n",
    "\n",
    "step = (10 - 0) / N\n",
    "\n",
    "x = [i * step for i in range(N + 1)]\n",
    "y = [math.cos(xi) ** 2 for xi in x]"
   ]
  },
  {
   "cell_type": "markdown",
   "id": "2407c2fe",
   "metadata": {},
   "source": [
    "### Complete example in Numpy"
   ]
  },
  {
   "cell_type": "code",
   "execution_count": 39,
   "id": "28ac1a6d",
   "metadata": {},
   "outputs": [
    {
     "name": "stdout",
     "output_type": "stream",
     "text": [
      "10.9 ms ± 31.1 µs per loop (mean ± std. dev. of 7 runs, 100 loops each)\n"
     ]
    }
   ],
   "source": [
    "%%timeit\n",
    "\n",
    "N = 1_000_000\n",
    "\n",
    "xn = np.linspace(0, 10, N)\n",
    "yn = np.cos(xn) ** 2"
   ]
  },
  {
   "cell_type": "markdown",
   "id": "ffccbfe9",
   "metadata": {},
   "source": [
    "## Summary: learn and use Numpy\n",
    "\n",
    "For doing calculations on arrays of numbers NumPy is preferable for the following reasons:\n",
    " * Code is more compact, less error prone and easier to read\n",
    " * The code may execute many times faster (x10+) without having to do anything other than use numpy arrays\n",
    " * Numpy is extensive and powerful (e.g. 2D arrays, array, column-wise, row-wise and matrix operations, conditions ...)\n",
    " * Many libraries are built to use Numpy Arrays (e.g. SciPy, AstroPy....)"
   ]
  },
  {
   "cell_type": "markdown",
   "id": "5168e6eb",
   "metadata": {},
   "source": [
    "## Cavaets\n",
    "\n",
    "Numpy arrays cannot be extended once made - values stored in the array can be changed but the size of the array cannot. \n",
    "\n",
    "Please read help on functions you use and understand what is happening!\n",
    "\n",
    "Example: sequential operations such as taking data in a loop or iterative calculations that cannot be done array wise. Many people use `np.append()`....\n",
    "\n",
    "It is better to use a Python list and append to it or, if you know how many points will be needed, then pre-allocate the numpy array and fill the values using indices.  "
   ]
  },
  {
   "cell_type": "markdown",
   "id": "287565af",
   "metadata": {},
   "source": [
    "### Appending to a Python list:"
   ]
  },
  {
   "cell_type": "code",
   "execution_count": 40,
   "id": "3ccc0859",
   "metadata": {},
   "outputs": [
    {
     "name": "stdout",
     "output_type": "stream",
     "text": [
      "95.5 ms ± 883 µs per loop (mean ± std. dev. of 7 runs, 10 loops each)\n"
     ]
    }
   ],
   "source": [
    "%%timeit\n",
    "\n",
    "N = 1_000_000\n",
    "\n",
    "x = []\n",
    "\n",
    "for i in range(N):\n",
    "    x.append(i/2)"
   ]
  },
  {
   "cell_type": "markdown",
   "id": "af6b7e33",
   "metadata": {},
   "source": [
    "### Filling a pre-allocated NumPy array:"
   ]
  },
  {
   "cell_type": "code",
   "execution_count": 41,
   "id": "9bc52be3",
   "metadata": {},
   "outputs": [
    {
     "name": "stdout",
     "output_type": "stream",
     "text": [
      "109 ms ± 6.1 ms per loop (mean ± std. dev. of 7 runs, 10 loops each)\n"
     ]
    }
   ],
   "source": [
    "%%timeit\n",
    "\n",
    "N = 1_000_000\n",
    "\n",
    "x = np.empty(N, dtype=float)\n",
    "\n",
    "for i in range(N):\n",
    "    x[i] = i/2"
   ]
  },
  {
   "cell_type": "markdown",
   "id": "bc4126c6",
   "metadata": {},
   "source": [
    "### Numpy.append() - do not use this in a loop with a lot of appends!\n",
    "\n",
    "The cell below takes a very long time to run....."
   ]
  },
  {
   "cell_type": "code",
   "execution_count": null,
   "id": "1c02c435",
   "metadata": {},
   "outputs": [],
   "source": [
    "%%timeit\n",
    "\n",
    "N = 1_000_000\n",
    "\n",
    "xn = np.array([], dtype=float)\n",
    "\n",
    "for i in range(N):\n",
    "    xn = np.append(xn, i/2)"
   ]
  },
  {
   "cell_type": "code",
   "execution_count": null,
   "id": "f9752158",
   "metadata": {},
   "outputs": [],
   "source": []
  }
 ],
 "metadata": {
  "hide_input": false,
  "kernelspec": {
   "display_name": "Python 3 (ipykernel)",
   "language": "python",
   "name": "python3"
  },
  "language_info": {
   "codemirror_mode": {
    "name": "ipython",
    "version": 3
   },
   "file_extension": ".py",
   "mimetype": "text/x-python",
   "name": "python",
   "nbconvert_exporter": "python",
   "pygments_lexer": "ipython3",
   "version": "3.9.12"
  },
  "toc": {
   "base_numbering": 1,
   "nav_menu": {},
   "number_sections": true,
   "sideBar": true,
   "skip_h1_title": false,
   "title_cell": "Table of Contents",
   "title_sidebar": "Contents",
   "toc_cell": false,
   "toc_position": {},
   "toc_section_display": true,
   "toc_window_display": false
  },
  "varInspector": {
   "cols": {
    "lenName": 16,
    "lenType": 16,
    "lenVar": 40
   },
   "kernels_config": {
    "python": {
     "delete_cmd_postfix": "",
     "delete_cmd_prefix": "del ",
     "library": "var_list.py",
     "varRefreshCmd": "print(var_dic_list())"
    },
    "r": {
     "delete_cmd_postfix": ") ",
     "delete_cmd_prefix": "rm(",
     "library": "var_list.r",
     "varRefreshCmd": "cat(var_dic_list()) "
    }
   },
   "types_to_exclude": [
    "module",
    "function",
    "builtin_function_or_method",
    "instance",
    "_Feature"
   ],
   "window_display": false
  }
 },
 "nbformat": 4,
 "nbformat_minor": 5
}
