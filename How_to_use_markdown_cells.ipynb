{
 "cells": [
  {
   "cell_type": "markdown",
   "id": "225c06b6",
   "metadata": {
    "colab_type": "text",
    "id": "view-in-github"
   },
   "source": [
    "<a href=\"https://colab.research.google.com/github/UCD-Physics/Python-HowTos/blob/main/How_to_use_markdown_cells.ipynb\" target=\"_parent\"><img src=\"https://colab.research.google.com/assets/colab-badge.svg\" alt=\"Open In Colab\"/></a>"
   ]
  },
  {
   "cell_type": "markdown",
   "id": "b557343c",
   "metadata": {
    "id": "b557343c"
   },
   "source": [
    "# Formatting your Jupyter Notebooks with Markdown\n",
    "\n",
    "Markdown is a text-based formatting language used to format Jupyter Notebook markdown cells (make sure you change the cell type from 'Code' to 'Markdown').\n",
    "\n",
    "Markdown allows you to provide additional information to explain and supplement the code and results of any calculations. It allows headings, subheadings, bold and italic fonts, tables, lists, sample code, figures etc to be included. \n",
    "\n",
    "In addition LaTeX equations can be embedded and rendered in Markdown cells, making Jupyter Notebooks extremely useful for documenting scientific calculations. There is a separate document on using LaTeX in Jupyter notebooks\n",
    "\n",
    "A markdown reference is available [here](https://www.markdownguide.org/basic-syntax/) and a\n",
    "Jupyter Notebook Markdown Cheat Sheet can be found [here](https://notebook.community/tschinz/iPython_Workspace/00_Admin/CheatSheet/Markdown%20CheatSheet).\n",
    "\n",
    "Topics covered\n",
    " - [Titles and subtitles](#Titles_and_Subtitles)\n",
    " - [Formatting text](#Formatting_text)\n",
    " - [Line breaks and rules](#Line_breaks_and_Rules)\n",
    " - [Code](#Code)\n",
    " - [Lists](#Lists)\n",
    " - [Tables](#Tables)\n",
    " - [Links](#Links)\n"
   ]
  },
  {
   "cell_type": "markdown",
   "id": "Z--JzmfND61r",
   "metadata": {
    "id": "Z--JzmfND61r"
   },
   "source": [
    "<a id='Titles_and_Subtitles'></a>\n",
    "\n",
    "## Titles and Subtitles \n",
    "\n",
    "The following markdown code \n",
    "```markdown\n",
    "# Title H1\n",
    "\n",
    "## Title H2\n",
    "\n",
    "### Title H3\n",
    "\n",
    "#### Title H4\n",
    "```\n",
    "\n",
    "produces:\n",
    "\n",
    "\n",
    "# Title H1\n",
    "\n",
    "## Title H2\n",
    "\n",
    "### Title H3\n",
    "\n",
    "#### Title H4"
   ]
  },
  {
   "cell_type": "markdown",
   "id": "d527d855",
   "metadata": {},
   "source": [
    "<a id='Formatting_text'></a>\n",
    "\n",
    "## Formatting text <a id='Formatting_Text'></a>\n",
    "\n",
    "The following markdown code:\n",
    "```markdown\n",
    "*single asterix* or _single underscore_ will emphasise text in italics \n",
    "\n",
    "**double asterix** or __double underscore__ will emphasise text in bold.\n",
    "\n",
    "**_double asterix with underscore_** will emphasise text in bold and italics\n",
    "\n",
    "~~double tilde~~ will strikethrough text.\n",
    "```\n",
    "produces:\n",
    "\n",
    "*single asterix* or _single underscore_ will emphasise text in italics \n",
    "\n",
    "**double asterix** or __double underscore__ will emphasise text in bold.\n",
    "\n",
    "**_double asterix with underscore_** will emphasise text in bold and italics\n",
    "\n",
    "~~double tilde~~ will strikethrough text.\n",
    "\n",
    "\n",
    "---\n",
    "\n",
    "In addition, there is a block-quote feature using \">\"\n",
    "\n",
    "The following markdown code:\n",
    "```markdown\n",
    "> this is a quoted piece of text\n",
    "> said by someone very important\n",
    "```\n",
    "\n",
    "produces:\n",
    "> this is a quoted piece of text\n",
    "> said by someone very important"
   ]
  },
  {
   "cell_type": "markdown",
   "id": "50db126c",
   "metadata": {},
   "source": [
    "<a id='Line_breaks_and_Rules'></a>\n",
    "\n",
    "## Line breaks and Rules \n",
    "\n",
    "Line breaks can be achieved with a double space between lines or inserting a `<br>` at the end of a line.\n",
    "\n",
    "Horizontal rules can be achieved with three hyphens, asterisks or underscores,\n",
    "\n",
    "e.g. the following markdown\n",
    "```markdown\n",
    "---\n",
    "```\n",
    "produces\n",
    "\n",
    "---\n",
    "\n",
    "the horizontal rule above.\n"
   ]
  },
  {
   "cell_type": "markdown",
   "id": "ae2c3439",
   "metadata": {},
   "source": [
    "<a id='Code'></a>\n",
    "\n",
    "## Code:\n",
    "\n",
    "Code may be included inline in text using single back quotes, for example \\`import numpy as np\\` produces `import numpy as np`.\n",
    "\n",
    "\n",
    "---\n",
    "\n",
    "Code blocks may be included using triple quotes:\n",
    "\n",
    "The following markdown code: <br/>\n",
    "\\`\\`\\`<br/>\n",
    "import numpy as np\n",
    "\n",
    "x = np.arange(10) <br/>\n",
    "\\`\\`\\`\n",
    "\n",
    "produces:\n",
    "\n",
    "```\n",
    "import numpy as np\n",
    "\n",
    "x = np.arange(10)\n",
    "```\n",
    "\n",
    "---\n",
    "\n",
    "If you specify that the code is a **particular language**, then for many languages you get **syntax highlighting**:\n",
    "\n",
    "The following markdown code: <br/>\n",
    "\\`\\`\\`python<br/>\n",
    "import numpy as np\n",
    "\n",
    "x = np.arange(10) <br/>\n",
    "\\`\\`\\`\n",
    "\n",
    "produces:\n",
    "\n",
    "```python\n",
    "import numpy as np\n",
    "\n",
    "x = np.arange(10)\n",
    "```\n"
   ]
  },
  {
   "cell_type": "markdown",
   "id": "2f975b57",
   "metadata": {},
   "source": [
    "<a id='Lists'></a>\n",
    "\n",
    "## Lists\n",
    "\n",
    "Ordered lists and sublists can be produced by placing numbers in front of text, examples:\n",
    "\n",
    "The following markdown:\n",
    "```markdown\n",
    "1. outer first\n",
    "2. outer second\n",
    "  1. inner first\n",
    "  2. inner second\n",
    "  3. inner third\n",
    "3. outer third\n",
    "``` \n",
    "produces\n",
    "\n",
    "1. outer first\n",
    "2. outer second\n",
    "  1. inner first\n",
    "  2. inner second\n",
    "  3. inner third\n",
    "3. outer third\n",
    "\n",
    "Unordered lists can be produced with asterix, plus signs or minus signs:\n",
    "\n",
    "```markdown\n",
    "- outer first\n",
    "- outer second\n",
    "  - inner first\n",
    "  - inner second\n",
    "  - inner third\n",
    "- outer third\n",
    "```\n",
    "\n",
    "- outer first\n",
    "- outer second\n",
    "  - inner first\n",
    "  - inner second\n",
    "  - inner third\n",
    "- outer third\n",
    "\n",
    "\n",
    "The ordered and unordered can be mixed:\n",
    "\n",
    "```markdown\n",
    "1. outer first\n",
    "2. outer second\n",
    "  - inner first\n",
    "  - inner second\n",
    "  - inner third\n",
    "3. outer third\n",
    "```\n",
    "\n",
    "1. outer first\n",
    "2. outer second\n",
    "  - inner first\n",
    "  - inner second\n",
    "  - inner third\n",
    "3. outer third"
   ]
  },
  {
   "cell_type": "markdown",
   "id": "5773ce5a",
   "metadata": {},
   "source": [
    "<a id='Tables'></a>\n",
    "\n",
    "## Tables\n",
    "\n",
    "Tables are made as illustrated below and do not need to be formatted nicely to render correctly, but it is helpful! \n",
    "\n",
    "Best illustrated with an example:\n",
    "\n",
    "The following markdown:\n",
    "```markdown\n",
    "| x (m)   | T (K) | \n",
    "| --------|-------|\n",
    "| 1.0     | 293.0 |\n",
    "| 2.0     | 298.0 |\n",
    "| 3.0     | 305.0 |\n",
    "```\n",
    "\n",
    "produces:\n",
    "\n",
    "| x (m)   | T (K) | \n",
    "|---------|-------|\n",
    "| 1.0     | 293.0 |\n",
    "| 2.0     | 298.0 |\n",
    "| 3.0     | 305.0 |"
   ]
  },
  {
   "cell_type": "markdown",
   "id": "682cdfa9",
   "metadata": {},
   "source": [
    "## Links\n",
    "\n",
    "Hyperlinks and links to files etc can be included in markdown.\n",
    "\n",
    "To link to an extenal url use `[link name](url)`, e.g. `[Duck Duck Go](https://duckduckgo.com)` gives [Duck Duck Go](https://duckduckgo.com)\n",
    "\n",
    "You can also link to sections of the Jupyter notebook (as is done in this notebook) - for information see [here](https://sebastianraschka.com/Articles/2014_ipython_internal_links.html)"
   ]
  },
  {
   "cell_type": "markdown",
   "id": "d597121e",
   "metadata": {
    "id": "d597121e"
   },
   "source": [
    "### Equations\n",
    "\n",
    "It is also possible to write equations out in a markdown cell, which makes them much clearer than in a code cell. These should be written in between $$, and with LateX. An example of how to write it can be seen below, with how it looks in a markdown cell after it.\n",
    "\n",
    "\n",
    "*Here is a link to a LateX cheat sheet if you are not familiar with it, https://wch.github.io/latexsheet/*"
   ]
  },
  {
   "cell_type": "code",
   "execution_count": 3,
   "id": "50fbf464",
   "metadata": {
    "id": "50fbf464"
   },
   "outputs": [],
   "source": [
    "#### This is the equation \n",
    "\n",
    "# $ f(x) = \\frac{x^3}{2x + 4} + \\sin{(3x)}$ (# is not needed in the markdown cell for the equation)"
   ]
  },
  {
   "cell_type": "markdown",
   "id": "a23c45c9",
   "metadata": {
    "id": "a23c45c9"
   },
   "source": [
    "### This is the equation \n",
    "\n",
    " $ f(x) = \\frac{x^3}{2x + 4} + \\sin{(3x)}$"
   ]
  },
  {
   "cell_type": "markdown",
   "id": "a59de44d",
   "metadata": {
    "id": "a59de44d"
   },
   "source": [
    "This is a link to a markdown cheat sheet if you want to expand beyond the basics!\n",
    "https://github.com/adam-p/markdown-here/wiki/Markdown-Cheatsheet"
   ]
  },
  {
   "cell_type": "markdown",
   "id": "BRV_hIXcEipW",
   "metadata": {
    "id": "BRV_hIXcEipW"
   },
   "source": [
    "#### Lists"
   ]
  },
  {
   "cell_type": "code",
   "execution_count": 4,
   "id": "RGErIvNyElft",
   "metadata": {
    "id": "RGErIvNyElft"
   },
   "outputs": [],
   "source": [
    "#It is also possible to create lists. For ordered lists simply writing a number next to it will do that:\n",
    "\n",
    "#1. first item\n",
    "#2. second item\n",
    "\n",
    "#Unordered lists can be accomplished by using a star (*), a minus (-) or a plus (+):\n",
    "\n",
    "#* random item\n",
    "#- another item \n",
    "#+ last item\n",
    "\n",
    "# an example in markdown can be seen below: (# is not needed in markdown cell)"
   ]
  },
  {
   "cell_type": "code",
   "execution_count": null,
   "id": "XnIBS_7waehj",
   "metadata": {
    "id": "XnIBS_7waehj"
   },
   "outputs": [],
   "source": []
  },
  {
   "cell_type": "markdown",
   "id": "HhImVYQMEKxF",
   "metadata": {
    "id": "HhImVYQMEKxF"
   },
   "source": [
    "It is also possible to create lists. For ordered lists simply writing a number next to it will do that:\n",
    "\n",
    "1. first item\n",
    "2. second item\n",
    "\n",
    "Unordered lists can be accomplished by using a star (*), a minus (-) or a plus (+):\n",
    "\n",
    "* random item\n",
    "- another item \n",
    "+ last item"
   ]
  }
 ],
 "metadata": {
  "colab": {
   "include_colab_link": true,
   "name": "How to use markdown cells.ipynb",
   "provenance": []
  },
  "kernelspec": {
   "display_name": "Python 3 (ipykernel)",
   "language": "python",
   "name": "python3"
  },
  "language_info": {
   "codemirror_mode": {
    "name": "ipython",
    "version": 3
   },
   "file_extension": ".py",
   "mimetype": "text/x-python",
   "name": "python",
   "nbconvert_exporter": "python",
   "pygments_lexer": "ipython3",
   "version": "3.9.7"
  },
  "latex_envs": {
   "LaTeX_envs_menu_present": true,
   "autoclose": true,
   "autocomplete": true,
   "bibliofile": "biblio.bib",
   "cite_by": "apalike",
   "current_citInitial": 1,
   "eqLabelWithNumbers": true,
   "eqNumInitial": 1,
   "hotkeys": {
    "equation": "Ctrl-E",
    "itemize": "Ctrl-I"
   },
   "labels_anchors": false,
   "latex_user_defs": false,
   "report_style_numbering": true,
   "user_envs_cfg": false
  },
  "toc": {
   "base_numbering": 1,
   "nav_menu": {},
   "number_sections": true,
   "sideBar": true,
   "skip_h1_title": false,
   "title_cell": "Table of Contents",
   "title_sidebar": "Contents",
   "toc_cell": false,
   "toc_position": {},
   "toc_section_display": true,
   "toc_window_display": false
  },
  "varInspector": {
   "cols": {
    "lenName": 16,
    "lenType": 16,
    "lenVar": 40
   },
   "kernels_config": {
    "python": {
     "delete_cmd_postfix": "",
     "delete_cmd_prefix": "del ",
     "library": "var_list.py",
     "varRefreshCmd": "print(var_dic_list())"
    },
    "r": {
     "delete_cmd_postfix": ") ",
     "delete_cmd_prefix": "rm(",
     "library": "var_list.r",
     "varRefreshCmd": "cat(var_dic_list()) "
    }
   },
   "types_to_exclude": [
    "module",
    "function",
    "builtin_function_or_method",
    "instance",
    "_Feature"
   ],
   "window_display": false
  }
 },
 "nbformat": 4,
 "nbformat_minor": 5
}
