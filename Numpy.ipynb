{
  "cells": [
    {
      "cell_type": "markdown",
      "metadata": {
        "id": "view-in-github",
        "colab_type": "text"
      },
      "source": [
        "<a href=\"https://colab.research.google.com/github/alvaphelan/Python-HowTos/blob/main/Numpy.ipynb\" target=\"_parent\"><img src=\"https://colab.research.google.com/assets/colab-badge.svg\" alt=\"Open In Colab\"/></a>"
      ]
    },
    {
      "cell_type": "markdown",
      "id": "0652355d",
      "metadata": {
        "id": "0652355d"
      },
      "source": [
        "# Using Packages in Python \n",
        "\n",
        "While python is extremely useful on it's own, many packages can be used to help make life a bit easier. "
      ]
    },
    {
      "cell_type": "markdown",
      "id": "c16166b4",
      "metadata": {
        "id": "c16166b4"
      },
      "source": [
        "## Numpy\n",
        "\n",
        "Numpy is an extremely useful library that lets python work with data at a high speed. You will be using it regularly throughout your code. First, you need to import the package at the start of your notebook."
      ]
    },
    {
      "cell_type": "code",
      "execution_count": 2,
      "id": "3eb2436a",
      "metadata": {
        "id": "3eb2436a"
      },
      "outputs": [],
      "source": [
        "import numpy as np"
      ]
    },
    {
      "cell_type": "markdown",
      "id": "90fdd78f",
      "metadata": {
        "id": "90fdd78f"
      },
      "source": [
        "One of the most important things numpy can do is import data, but this will be dealt with in it's own section here ([importing data](https://github.com/alvaphelan/Python-HowTos/blob/main/Importing_Data.ipynb)).\n",
        "\n",
        "Arrays are a very useful aspect of numpy and are used widely. An array is just a grid of values and can be both 1 or 2 dimensional. "
      ]
    },
    {
      "cell_type": "code",
      "execution_count": 3,
      "id": "c2eda541",
      "metadata": {
        "id": "c2eda541"
      },
      "outputs": [],
      "source": [
        "# example of 1 dimensional array\n",
        "one_d = np.array([2, 4, 6, 8, 10])\n",
        "# example of 2 dimensional array \n",
        "two_d = np.array([(1,3,5), (2,4,6)]) #(2x3 matrix in this case)"
      ]
    },
    {
      "cell_type": "markdown",
      "id": "73ee6616",
      "metadata": {
        "id": "73ee6616"
      },
      "source": [
        "Numpy has a lot of tools to find out about arrays (very useful if dealing with long ones) and creating them!\n",
        "\n",
        "#### Finding information about arrays\n",
        "\n",
        "It is possible to find the size of an array by using the command 'np.size()', or you can use the pure python function 'len()'.\n"
      ]
    },
    {
      "cell_type": "code",
      "execution_count": 4,
      "id": "0de59e40",
      "metadata": {
        "colab": {
          "base_uri": "https://localhost:8080/"
        },
        "id": "0de59e40",
        "outputId": "3270e16c-f02c-4674-a89e-65f65df89dca"
      },
      "outputs": [
        {
          "output_type": "stream",
          "name": "stdout",
          "text": [
            "5\n",
            "5\n"
          ]
        }
      ],
      "source": [
        "print(np.size(one_d))\n",
        "print(len(one_d))"
      ]
    },
    {
      "cell_type": "markdown",
      "id": "44fc2004",
      "metadata": {
        "id": "44fc2004"
      },
      "source": [
        "However, you have to be careful with the 'len()' function, as for two dimensional arrays, it only returns the number of rows!\n"
      ]
    },
    {
      "cell_type": "code",
      "execution_count": 5,
      "id": "2019d593",
      "metadata": {
        "colab": {
          "base_uri": "https://localhost:8080/"
        },
        "id": "2019d593",
        "outputId": "17ebb9b1-0436-4c84-e120-8c55949b356c"
      },
      "outputs": [
        {
          "output_type": "stream",
          "name": "stdout",
          "text": [
            "6\n",
            "2\n"
          ]
        }
      ],
      "source": [
        "print(np.size(two_d))\n",
        "print(len(two_d))"
      ]
    },
    {
      "cell_type": "markdown",
      "id": "b3891b6e",
      "metadata": {
        "id": "b3891b6e"
      },
      "source": [
        "It is possible to get certain elements by the name of the array, followed by a square bracket surrounding the position of interest.\n",
        "\n",
        "\n",
        "*note: the first element is always 0, not 1!*"
      ]
    },
    {
      "cell_type": "code",
      "execution_count": 6,
      "id": "e0ee271b",
      "metadata": {
        "colab": {
          "base_uri": "https://localhost:8080/"
        },
        "id": "e0ee271b",
        "outputId": "2dd66c91-7df2-4e50-998a-57c6bfe6e486"
      },
      "outputs": [
        {
          "output_type": "stream",
          "name": "stdout",
          "text": [
            "2\n",
            "6\n"
          ]
        }
      ],
      "source": [
        "#to find the first and third element of the one d array\n",
        "print(one_d[0])\n",
        "print(one_d[2])"
      ]
    },
    {
      "cell_type": "markdown",
      "id": "7697426c",
      "metadata": {
        "id": "7697426c"
      },
      "source": [
        "The same works for a two dimensional array, but remember to put in the full position!"
      ]
    },
    {
      "cell_type": "code",
      "execution_count": 7,
      "id": "e69d5f11",
      "metadata": {
        "colab": {
          "base_uri": "https://localhost:8080/"
        },
        "id": "e69d5f11",
        "outputId": "5edfde61-f71d-4ca5-9e19-13098790d323"
      },
      "outputs": [
        {
          "output_type": "stream",
          "name": "stdout",
          "text": [
            "5\n"
          ]
        }
      ],
      "source": [
        "#to find the element in the first row, third column\n",
        "print(two_d[0, 2])"
      ]
    },
    {
      "cell_type": "markdown",
      "id": "7407056f",
      "metadata": {
        "id": "7407056f"
      },
      "source": [
        "#### Creating arrays\n",
        "\n",
        "\n",
        "##### Slicing\n",
        "If creating a smaller array from a larger one that already exists, e.g. looking at a particular part of interest, slicing is a good way to do so. It works similarly to getting a specific element, except in this case you put a ':' in between the first element of interest and the one after the last. (for example, [2:6] means the third element up to but not including the 7th element).\n",
        "\n",
        "*note: simply putting [:] will return the original array, while [:4] will return all points up to but not inlcuding the fifth element and vice versa."
      ]
    },
    {
      "cell_type": "code",
      "execution_count": 9,
      "id": "f53ac007",
      "metadata": {
        "colab": {
          "base_uri": "https://localhost:8080/"
        },
        "id": "f53ac007",
        "outputId": "a5ecd82b-a064-4e91-bd40-ea9e8cc5e89b"
      },
      "outputs": [
        {
          "output_type": "stream",
          "name": "stdout",
          "text": [
            "[ 4  6  8 10]\n"
          ]
        }
      ],
      "source": [
        "#for example, to make a smaller array of the second, third and fourth element of the one d array\n",
        "sliced_array = one_d[1:5]\n",
        "print(sliced_array)"
      ]
    },
    {
      "cell_type": "markdown",
      "id": "cfb9704b",
      "metadata": {
        "id": "cfb9704b"
      },
      "source": [
        "This also works for two dimensional arrays, you just need to put a , in between."
      ]
    },
    {
      "cell_type": "code",
      "execution_count": 10,
      "id": "43a4cb7c",
      "metadata": {
        "colab": {
          "base_uri": "https://localhost:8080/"
        },
        "id": "43a4cb7c",
        "outputId": "1b945086-681e-4e4e-9ed6-402a29963e42"
      },
      "outputs": [
        {
          "output_type": "stream",
          "name": "stdout",
          "text": [
            "[2 4 6]\n",
            "[3 4]\n"
          ]
        }
      ],
      "source": [
        "# to get second row, all columns\n",
        "print(two_d[1,:])\n",
        "# to get all rows but second column\n",
        "print(two_d[:,1])"
      ]
    },
    {
      "cell_type": "markdown",
      "id": "ca451921",
      "metadata": {
        "id": "ca451921"
      },
      "source": [
        "##### Aranging\n",
        "If creating an array from scratch, it is possible to make an evenly spaced out array where you customise the start point, end point and step size. \n",
        "\n",
        "*Be mindful, as in the slicing, it is up to but not including the end point*"
      ]
    },
    {
      "cell_type": "code",
      "execution_count": 11,
      "id": "b6ca7421",
      "metadata": {
        "colab": {
          "base_uri": "https://localhost:8080/"
        },
        "id": "b6ca7421",
        "outputId": "2c103f2c-6895-4c5b-d620-167dafa5e85f"
      },
      "outputs": [
        {
          "output_type": "stream",
          "name": "stdout",
          "text": [
            "[1.  1.5 2.  2.5 3.  3.5 4.  4.5 5. ]\n"
          ]
        }
      ],
      "source": [
        "# for example to get from 1 to 5 in steps of 0.5\n",
        "space = np.arange(1, 5.5, 0.5)\n",
        "print(space)"
      ]
    },
    {
      "cell_type": "markdown",
      "id": "65b3e450",
      "metadata": {
        "id": "65b3e450"
      },
      "source": [
        "If you want to create an array but with a certain number of steps, rather than a step size, you can use the function 'np.linspace()' where you customise the start point, endpoint and number of steps"
      ]
    },
    {
      "cell_type": "code",
      "execution_count": 12,
      "id": "cd5acfee",
      "metadata": {
        "colab": {
          "base_uri": "https://localhost:8080/"
        },
        "id": "cd5acfee",
        "outputId": "5a7a5297-4c21-40f5-b54a-45e2d52559e6"
      },
      "outputs": [
        {
          "output_type": "stream",
          "name": "stdout",
          "text": [
            "[ 1.    3.25  5.5   7.75 10.  ]\n"
          ]
        }
      ],
      "source": [
        "# for example go from 1 to 10 in 5 steps\n",
        "numbers = np.linspace(1,10,5)\n",
        "print(numbers)"
      ]
    },
    {
      "cell_type": "markdown",
      "id": "852b81b6",
      "metadata": {
        "id": "852b81b6"
      },
      "source": [
        "##### Various Arrays\n",
        "\n",
        "There are many numpy functions that can be used to create arrays. If looking to create one containing only 0's, you can use 'np.zeros()' and fill in the bracket with the length of the array you want, 'np.ones()' will do the same but fill with only 1's, 'np.eye(4)' will create a 4x4 identity matrix (fill with whatever square matrix is needed). "
      ]
    },
    {
      "cell_type": "markdown",
      "id": "80282932",
      "metadata": {
        "id": "80282932"
      },
      "source": [
        "#### Operations on arrays\n",
        "\n",
        "It is possible to perform many operations on arrays. There are functions to find the minimum, maximum, mean, standard deviation and sum of numbers in the array.\n"
      ]
    },
    {
      "cell_type": "code",
      "execution_count": 13,
      "id": "9dd7ecdb",
      "metadata": {
        "colab": {
          "base_uri": "https://localhost:8080/"
        },
        "id": "9dd7ecdb",
        "outputId": "7c2fcdb4-0ee9-4dde-e29f-979f1f685b41"
      },
      "outputs": [
        {
          "output_type": "stream",
          "name": "stdout",
          "text": [
            "max value in array is 10\n",
            "min value in array is 2\n",
            "sum of all numbers in array is 30\n",
            "mean of the numbers in array is 6.0\n",
            "standard deviation of numbers in array is 2.828\n"
          ]
        }
      ],
      "source": [
        "print(f\"max value in array is {np.max(one_d)}\")\n",
        "print(f\"min value in array is {np.min(one_d)}\")\n",
        "print(f\"sum of all numbers in array is {np.sum(one_d)}\")\n",
        "print(f\"mean of the numbers in array is {np.mean(one_d)}\")\n",
        "print(f\"standard deviation of numbers in array is {np.std(one_d):.3f}\")"
      ]
    },
    {
      "cell_type": "markdown",
      "id": "ba974f90",
      "metadata": {
        "id": "ba974f90"
      },
      "source": [
        "To find the position of the maximum and minimum in the array, you can use the 'argmax' and 'argmin' function. Important not to mix the two up.\n"
      ]
    },
    {
      "cell_type": "code",
      "execution_count": 14,
      "id": "0e41b9ee",
      "metadata": {
        "colab": {
          "base_uri": "https://localhost:8080/"
        },
        "id": "0e41b9ee",
        "outputId": "3c3dd50d-1ccd-4112-ef00-4238bf7ed51f"
      },
      "outputs": [
        {
          "output_type": "stream",
          "name": "stdout",
          "text": [
            "The max value in the array is 10 and occurs at the position 4\n",
            "The min value in the array is 2 and occurs at the position 0\n"
          ]
        }
      ],
      "source": [
        "print(f\"The max value in the array is {np.max(one_d)} and occurs at the position {np.argmax(one_d)}\")\n",
        "print(f\"The min value in the array is {np.min(one_d)} and occurs at the position {np.argmin(one_d)}\")\n"
      ]
    },
    {
      "cell_type": "code",
      "execution_count": null,
      "id": "94e45bbd",
      "metadata": {
        "id": "94e45bbd"
      },
      "outputs": [],
      "source": [
        ""
      ]
    }
  ],
  "metadata": {
    "kernelspec": {
      "display_name": "Python 3",
      "language": "python",
      "name": "python3"
    },
    "language_info": {
      "codemirror_mode": {
        "name": "ipython",
        "version": 3
      },
      "file_extension": ".py",
      "mimetype": "text/x-python",
      "name": "python",
      "nbconvert_exporter": "python",
      "pygments_lexer": "ipython3",
      "version": "3.8.8"
    },
    "colab": {
      "name": "Numpy.ipynb",
      "provenance": [],
      "include_colab_link": true
    }
  },
  "nbformat": 4,
  "nbformat_minor": 5
}