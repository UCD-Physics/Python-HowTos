{
 "cells": [
  {
   "cell_type": "markdown",
   "id": "1293b1bd",
   "metadata": {},
   "source": [
    "<a href=\"https://colab.research.google.com/github/UCD-Physics/Python-HowTos/blob/main/Saving_Data_Numpy.ipynb\" target=\"_parent\"><img src=\"https://colab.research.google.com/assets/colab-badge.svg\" alt=\"Open In Colab\"/></a>"
   ]
  },
  {
   "cell_type": "markdown",
   "id": "6771d89f",
   "metadata": {},
   "source": [
    "# Saving data to a text file using Numpy.\n",
    "\n",
    "In this How To we are only considering saving data to a text file and not a binary file.\n",
    "\n",
    "In this notebook we will focus on **saving the data column-wise**.\n",
    "\n",
    "We will save the data to a file using Numpy `savetxt()` and reading the data back using Numpy `loadtxt()`.\n",
    "\n",
    "For a full description of Numpy `savetxt()` see the [NumPy savetxt() documentation](https://numpy.org/doc/stable/reference/generated/numpy.savetxt.html)"
   ]
  },
  {
   "cell_type": "markdown",
   "id": "2e2ee6f0",
   "metadata": {},
   "source": [
    "## Saving a single array\n",
    "\n",
    "The way to save a single 1D array to a text file is:\n",
    "```python\n",
    "np.savetxt(filename, array)\n",
    "```"
   ]
  },
  {
   "cell_type": "code",
   "execution_count": 23,
   "id": "2d165dfd",
   "metadata": {},
   "outputs": [],
   "source": [
    "# example: saving a single array (column-wise by default)\n",
    "\n",
    "import numpy as np\n",
    "\n",
    "x = np.arange(1,10)\n",
    "\n",
    "np.savetxt(\"my_data_1.txt\", x)"
   ]
  },
  {
   "cell_type": "code",
   "execution_count": 24,
   "id": "b6afd6b2",
   "metadata": {},
   "outputs": [
    {
     "name": "stdout",
     "output_type": "stream",
     "text": [
      "1.000000000000000000e+00\r\n",
      "2.000000000000000000e+00\r\n",
      "3.000000000000000000e+00\r\n",
      "4.000000000000000000e+00\r\n",
      "5.000000000000000000e+00\r\n",
      "6.000000000000000000e+00\r\n",
      "7.000000000000000000e+00\r\n",
      "8.000000000000000000e+00\r\n",
      "9.000000000000000000e+00\r\n"
     ]
    }
   ],
   "source": [
    "# note: cat is a Unix shell command to view\n",
    "# contents of a text file so this cell will only\n",
    "# work on Mac / Linux systems and Google colab\n",
    "# \n",
    "# If on windows use \"!type my_data_1.txt\"\n",
    "\n",
    "!cat my_data_1.txt"
   ]
  },
  {
   "cell_type": "markdown",
   "id": "8dc063e1",
   "metadata": {},
   "source": [
    "## Saving more than one array\n",
    "\n",
    "To save more than one (1D) array we need to combine them together into one 2D array. The simplest is to simply use square brackets, e.g. if we have arrays `x` and `y` we can use `[x, y]`, \n",
    "``` python\n",
    "np.savetxt(\"my_data.txt\", [x, y])\n",
    "```\n",
    "**However this will save the two arrays row-wise** (`x` will be the first row and `y` will be the second row). For more than a few points this can be quite unreadable in a text editor or spreadsheet if you wish to inspect the data.\n",
    "**We strongly recommend saving data column-wise!**\n",
    "\n",
    "### Saving data column-wise\n",
    "\n",
    "To save data column-wise use `np.column_stack([x,y])` or `np.c_[x,y]:\n",
    "``` python\n",
    "np.savetxt(\"my_data.txt\", np.column_stack([x,y]))\n",
    "```\n",
    "or\n",
    "\n",
    "``` python\n",
    "np.savetxt(\"my_data.txt\", np.c_[x,y])\n",
    "```\n",
    "\n",
    "Example:"
   ]
  },
  {
   "cell_type": "code",
   "execution_count": 25,
   "id": "2ff0f770",
   "metadata": {},
   "outputs": [],
   "source": [
    "# example: saving two arrays (column-wise)\n",
    "\n",
    "import numpy as np\n",
    "\n",
    "x = np.arange(1,10)\n",
    "y = 10 * x\n",
    "\n",
    "#np.savetxt(\"my_data_2.txt\", np.column_stack([x, y]))\n",
    "np.savetxt(\"my_data_2.txt\", np.c_[x, y])"
   ]
  },
  {
   "cell_type": "code",
   "execution_count": 26,
   "id": "5f57f9cb",
   "metadata": {},
   "outputs": [
    {
     "name": "stdout",
     "output_type": "stream",
     "text": [
      "1.000000000000000000e+00 1.000000000000000000e+01\r\n",
      "2.000000000000000000e+00 2.000000000000000000e+01\r\n",
      "3.000000000000000000e+00 3.000000000000000000e+01\r\n",
      "4.000000000000000000e+00 4.000000000000000000e+01\r\n",
      "5.000000000000000000e+00 5.000000000000000000e+01\r\n",
      "6.000000000000000000e+00 6.000000000000000000e+01\r\n",
      "7.000000000000000000e+00 7.000000000000000000e+01\r\n",
      "8.000000000000000000e+00 8.000000000000000000e+01\r\n",
      "9.000000000000000000e+00 9.000000000000000000e+01\r\n"
     ]
    }
   ],
   "source": [
    "# note: cat is a Unix shell command to view\n",
    "# contents of a text file so this cell will only\n",
    "# work on Mac / Linux systems and Google colab\n",
    "# \n",
    "# If on windows use \"!type my_data_1.txt\"\n",
    "\n",
    "!cat my_data_2.txt"
   ]
  },
  {
   "cell_type": "markdown",
   "id": "358b35c5",
   "metadata": {},
   "source": [
    "## Saving as a CSV file\n",
    "\n",
    "While there are dedicated libraries for writing CVS files, simple CSV files can be easily made with `np.savetxt()` by using the `delimeter` option to specify to use a comma instead of the default space.\n",
    "\n",
    "Example:"
   ]
  },
  {
   "cell_type": "code",
   "execution_count": 27,
   "id": "0c689ab7",
   "metadata": {},
   "outputs": [],
   "source": [
    "# example: saving two arrays (column-wise) to a CSV file\n",
    "\n",
    "import numpy as np\n",
    "\n",
    "x = np.arange(1,10)\n",
    "y = 10 * x\n",
    "\n",
    "np.savetxt(\"my_data_3.csv\", np.column_stack([x, y]), delimiter=\", \")"
   ]
  },
  {
   "cell_type": "code",
   "execution_count": 28,
   "id": "23270cd8",
   "metadata": {},
   "outputs": [
    {
     "name": "stdout",
     "output_type": "stream",
     "text": [
      "1.000000000000000000e+00, 1.000000000000000000e+01\r\n",
      "2.000000000000000000e+00, 2.000000000000000000e+01\r\n",
      "3.000000000000000000e+00, 3.000000000000000000e+01\r\n",
      "4.000000000000000000e+00, 4.000000000000000000e+01\r\n",
      "5.000000000000000000e+00, 5.000000000000000000e+01\r\n",
      "6.000000000000000000e+00, 6.000000000000000000e+01\r\n",
      "7.000000000000000000e+00, 7.000000000000000000e+01\r\n",
      "8.000000000000000000e+00, 8.000000000000000000e+01\r\n",
      "9.000000000000000000e+00, 9.000000000000000000e+01\r\n"
     ]
    }
   ],
   "source": [
    "# note: cat is a Unix shell command to view\n",
    "# contents of a text file so this cell will only\n",
    "# work on Mac / Linux systems and Google colab\n",
    "# \n",
    "# If on windows use \"!type my_data_1.txt\"\n",
    "\n",
    "!cat my_data_3.csv"
   ]
  },
  {
   "cell_type": "markdown",
   "id": "b79dc36f",
   "metadata": {},
   "source": [
    "## Specifying the numeric format\n",
    "\n",
    "`np.savetxt()` default format for the numeric values is `.18e` (scientific notation with 18 decimal places). One can change that using the `fmt` option.\n",
    "\n",
    "Example:"
   ]
  },
  {
   "cell_type": "code",
   "execution_count": 29,
   "id": "b8ab7946",
   "metadata": {},
   "outputs": [],
   "source": [
    "# example: save two columns with the first formatted as integers \n",
    "# and second as floats four digits wide with one decimal place and\n",
    "# left zero padded\n",
    "\n",
    "import numpy as np\n",
    "\n",
    "x = np.arange(1,10)\n",
    "y = 10 * x\n",
    "\n",
    "np.savetxt(\"my_data_4.txt\", np.column_stack([x, y]), fmt=\"%d %4.1f\")"
   ]
  },
  {
   "cell_type": "code",
   "execution_count": 30,
   "id": "d2c01f91",
   "metadata": {},
   "outputs": [
    {
     "name": "stdout",
     "output_type": "stream",
     "text": [
      "1 10.0\r\n",
      "2 20.0\r\n",
      "3 30.0\r\n",
      "4 40.0\r\n",
      "5 50.0\r\n",
      "6 60.0\r\n",
      "7 70.0\r\n",
      "8 80.0\r\n",
      "9 90.0\r\n"
     ]
    }
   ],
   "source": [
    "# note: cat is a Unix shell command to view\n",
    "# contents of a text file so this cell will only\n",
    "# work on Mac / Linux systems and Google colab\n",
    "# \n",
    "# If on windows use \"!type my_data_1.txt\"\n",
    "\n",
    "!cat my_data_4.txt"
   ]
  },
  {
   "cell_type": "markdown",
   "id": "f14d1221",
   "metadata": {},
   "source": [
    "## Adding a header and comments\n",
    "\n",
    "A header can be added using the `header`.\n",
    "Note, there is a `comments` option which prepends a comment string to the start of each line of the header. By default it is set to `# ` as this is what `np.loadtxt()` uses to identify comment lines.\n",
    "\n",
    "Example:"
   ]
  },
  {
   "cell_type": "code",
   "execution_count": 31,
   "id": "fc61a235",
   "metadata": {},
   "outputs": [],
   "source": [
    "# Example to save a header and comments\n",
    "# Note: the voltages and currents are fictional\n",
    "# nd not related to an actual experiment.\n",
    "\n",
    "import numpy as np\n",
    "from datetime import datetime\n",
    "\n",
    "filament_current = 90\n",
    "\n",
    "volts = np.arange(1,10)\n",
    "current = 10 * volts\n",
    "\n",
    "date_and_time = datetime.now().strftime(\"%Y-%m-%d %H:%M\")\n",
    "header = f\"Nuvistor triode data for {filament_current} mA taken: {date_and_time}\\n\"\n",
    "header += \"Columns are Voltage (V) and Current (A)\"\n",
    "\n",
    "np.savetxt(\n",
    "    \"my_data_5.txt\", \n",
    "    np.column_stack([volts, current]), \n",
    "    header=header\n",
    ")"
   ]
  },
  {
   "cell_type": "code",
   "execution_count": 32,
   "id": "92a64a6e",
   "metadata": {},
   "outputs": [
    {
     "name": "stdout",
     "output_type": "stream",
     "text": [
      "# Nuvistor triode data for 90 mA taken: 2022-09-12 18:21\r\n",
      "# Columns are Voltage (V) and Current (A)\r\n",
      "1.000000000000000000e+00 1.000000000000000000e+01\r\n",
      "2.000000000000000000e+00 2.000000000000000000e+01\r\n",
      "3.000000000000000000e+00 3.000000000000000000e+01\r\n",
      "4.000000000000000000e+00 4.000000000000000000e+01\r\n",
      "5.000000000000000000e+00 5.000000000000000000e+01\r\n",
      "6.000000000000000000e+00 6.000000000000000000e+01\r\n",
      "7.000000000000000000e+00 7.000000000000000000e+01\r\n",
      "8.000000000000000000e+00 8.000000000000000000e+01\r\n",
      "9.000000000000000000e+00 9.000000000000000000e+01\r\n"
     ]
    }
   ],
   "source": [
    "# note: cat is a Unix shell command to view\n",
    "# contents of a text file so this cell will only\n",
    "# work on Mac / Linux systems and Google colab\n",
    "# \n",
    "# If on windows use \"!type my_data_1.txt\"\n",
    "\n",
    "!cat my_data_5.txt"
   ]
  },
  {
   "cell_type": "code",
   "execution_count": null,
   "id": "d1a3e317",
   "metadata": {},
   "outputs": [],
   "source": []
  }
 ],
 "metadata": {
  "kernelspec": {
   "display_name": "Python 3 (ipykernel)",
   "language": "python",
   "name": "python3"
  },
  "language_info": {
   "codemirror_mode": {
    "name": "ipython",
    "version": 3
   },
   "file_extension": ".py",
   "mimetype": "text/x-python",
   "name": "python",
   "nbconvert_exporter": "python",
   "pygments_lexer": "ipython3",
   "version": "3.9.7"
  },
  "latex_envs": {
   "LaTeX_envs_menu_present": true,
   "autoclose": true,
   "autocomplete": true,
   "bibliofile": "biblio.bib",
   "cite_by": "apalike",
   "current_citInitial": 1,
   "eqLabelWithNumbers": true,
   "eqNumInitial": 1,
   "hotkeys": {
    "equation": "Ctrl-E",
    "itemize": "Ctrl-I"
   },
   "labels_anchors": false,
   "latex_user_defs": false,
   "report_style_numbering": true,
   "user_envs_cfg": false
  },
  "toc": {
   "base_numbering": 1,
   "nav_menu": {},
   "number_sections": true,
   "sideBar": true,
   "skip_h1_title": false,
   "title_cell": "Table of Contents",
   "title_sidebar": "Contents",
   "toc_cell": false,
   "toc_position": {},
   "toc_section_display": true,
   "toc_window_display": false
  },
  "varInspector": {
   "cols": {
    "lenName": 16,
    "lenType": 16,
    "lenVar": 40
   },
   "kernels_config": {
    "python": {
     "delete_cmd_postfix": "",
     "delete_cmd_prefix": "del ",
     "library": "var_list.py",
     "varRefreshCmd": "print(var_dic_list())"
    },
    "r": {
     "delete_cmd_postfix": ") ",
     "delete_cmd_prefix": "rm(",
     "library": "var_list.r",
     "varRefreshCmd": "cat(var_dic_list()) "
    }
   },
   "types_to_exclude": [
    "module",
    "function",
    "builtin_function_or_method",
    "instance",
    "_Feature"
   ],
   "window_display": false
  }
 },
 "nbformat": 4,
 "nbformat_minor": 5
}
