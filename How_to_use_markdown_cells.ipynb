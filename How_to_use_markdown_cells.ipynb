{
  "cells": [
    {
      "cell_type": "markdown",
      "metadata": {
        "id": "view-in-github",
        "colab_type": "text"
      },
      "source": [
        "<a href=\"https://colab.research.google.com/github/alvaphelan/Python-HowTos/blob/main/How_to_use_markdown_cells.ipynb\" target=\"_parent\"><img src=\"https://colab.research.google.com/assets/colab-badge.svg\" alt=\"Open In Colab\"/></a>"
      ]
    },
    {
      "cell_type": "markdown",
      "id": "b557343c",
      "metadata": {
        "id": "b557343c"
      },
      "source": [
        "# Writing your code well\n",
        "\n",
        "### When coding, it is extremelly important to make your code clear and concise.\n",
        "You are not going to be the only person reading your code and so it must be easy to follow. It is also very easy to forget why you did something when reading back on it yourself days or week after you've written it. This is helped by using markdown cells and commenting your code.\n",
        "\n",
        "#### Markdown Cells\n",
        "Markdown cells are what are used to write text. This is extremely useful to title and explain your code. Markdown cells are created by clicking on the cell and hittting  the 'm' key. An example of how to use a markdown cell can be seen below.\n"
      ]
    },
    {
      "cell_type": "code",
      "execution_count": 1,
      "id": "936c0ef2",
      "metadata": {
        "id": "936c0ef2"
      },
      "outputs": [],
      "source": [
        "# This will create a title \n",
        "\n",
        "### This will create a subtitle\n",
        "\n",
        "#### This will create a smaller subtitle\n",
        "\n",
        "#      *this will emphasise a word* (# not needed in the markdown cell for normal text)"
      ]
    },
    {
      "cell_type": "markdown",
      "id": "d597121e",
      "metadata": {
        "id": "d597121e"
      },
      "source": [
        "### Equations\n",
        "\n",
        "It is also possible to write equations out in a markdown cell, which makes them much clearer than in a code cell. These should be written in between $$, and with LateX. An example of how to write it can be seen below, with how it looks in a markdown cell after it.\n",
        "\n",
        "\n",
        "*Here is a link to a LateX cheat sheet if you are not familiar with it, https://wch.github.io/latexsheet/*"
      ]
    },
    {
      "cell_type": "code",
      "execution_count": 2,
      "id": "50fbf464",
      "metadata": {
        "id": "50fbf464"
      },
      "outputs": [],
      "source": [
        "#### This is the equation \n",
        "\n",
        "# $ f(x) = \\frac{x^3}{2x + 4} + \\sin{(3x)}$ (# is not needed in the markdown cell for the equation)"
      ]
    },
    {
      "cell_type": "markdown",
      "id": "a23c45c9",
      "metadata": {
        "id": "a23c45c9"
      },
      "source": [
        "### This is the equation \n",
        "\n",
        " $ f(x) = \\frac{x^3}{2x + 4} + \\sin{(3x)}$"
      ]
    },
    {
      "cell_type": "markdown",
      "id": "a59de44d",
      "metadata": {
        "id": "a59de44d"
      },
      "source": [
        "This is a link to a markdown cheat sheet if you want to expand beyond the basics!\n",
        "https://github.com/adam-p/markdown-here/wiki/Markdown-Cheatsheet"
      ]
    },
    {
      "cell_type": "markdown",
      "id": "0adef168",
      "metadata": {
        "id": "0adef168"
      },
      "source": [
        "# f-strings\n",
        "\n",
        "f-strings are an extremely useful tool for string formatting in python. \n",
        "\n",
        "#### How to use them?\n",
        "Begin by starting the string with an f or F and refer to the variables within the string between curly brackets '{}'. An example can be seen below."
      ]
    },
    {
      "cell_type": "code",
      "execution_count": 3,
      "id": "491f6c76",
      "metadata": {
        "id": "491f6c76",
        "outputId": "9f55aff5-9c40-4b83-f7e6-fb1acd473eb7",
        "colab": {
          "base_uri": "https://localhost:8080/"
        }
      },
      "outputs": [
        {
          "output_type": "stream",
          "name": "stdout",
          "text": [
            "I'm studying in UCD\n"
          ]
        }
      ],
      "source": [
        "# assign a variable\n",
        "\n",
        "place = 'UCD'\n",
        "\n",
        "# print out a statement\n",
        "\n",
        "print(f\"I'm studying in {place}\") # this gives an output"
      ]
    },
    {
      "cell_type": "markdown",
      "id": "38db68da",
      "metadata": {
        "id": "38db68da"
      },
      "source": [
        "These are also very useful when dealing with numbers as you can easily print out a desired number of decimal places."
      ]
    },
    {
      "cell_type": "code",
      "execution_count": 4,
      "id": "bb5b3bcc",
      "metadata": {
        "id": "bb5b3bcc",
        "outputId": "aa41052f-0cc6-4db8-c104-b54bf2da982f",
        "colab": {
          "base_uri": "https://localhost:8080/"
        }
      },
      "outputs": [
        {
          "output_type": "stream",
          "name": "stdout",
          "text": [
            "pi has a value of 3.141592653589793\n"
          ]
        }
      ],
      "source": [
        "#pi as an example \n",
        "\n",
        "import math\n",
        "pi = math.pi\n",
        "\n",
        "#print out variable\n",
        "print(f\"pi has a value of {pi}\")\n"
      ]
    },
    {
      "cell_type": "code",
      "execution_count": 5,
      "id": "2f4444a7",
      "metadata": {
        "id": "2f4444a7",
        "outputId": "c2790d1f-d56b-4631-9d92-a06a0a54875e",
        "colab": {
          "base_uri": "https://localhost:8080/"
        }
      },
      "outputs": [
        {
          "output_type": "stream",
          "name": "stdout",
          "text": [
            "pi has a value of  3.142\n"
          ]
        }
      ],
      "source": [
        "#to a certain number of decimal places\n",
        "print(f\"pi has a value of {pi: .3f}\") #e.g. 3"
      ]
    },
    {
      "cell_type": "code",
      "execution_count": 6,
      "id": "b554f148",
      "metadata": {
        "id": "b554f148",
        "outputId": "46739e42-347c-4d91-ca3a-269f092613e4",
        "colab": {
          "base_uri": "https://localhost:8080/"
        }
      },
      "outputs": [
        {
          "output_type": "stream",
          "name": "stdout",
          "text": [
            "pi has a value of 3.1416e+00\n"
          ]
        }
      ],
      "source": [
        "#using scientific notation\n",
        "print(f\"pi has a value of {pi:.4e}\")"
      ]
    },
    {
      "cell_type": "markdown",
      "id": "5719d349",
      "metadata": {
        "id": "5719d349"
      },
      "source": [
        "There are many different things you can do with f-strings, including easily making things all upper or lower case as well as getting the length of your variable. These are explained in more detail here https://realpython.com/python-f-strings/. \n",
        "\n",
        "*note: could also make supplementary material on f-strings and link that instead*\n"
      ]
    },
    {
      "cell_type": "markdown",
      "id": "f5bf8893",
      "metadata": {
        "id": "f5bf8893"
      },
      "source": [
        "### Lastly, it is extremely important to comment your code as you go\n",
        "This is easily done by just writing a '#' before your text. It can just be as simple as writing '#importing data' or '#assigning this to a variable' etc. It makes a huge difference in letting other people understand your code and can remind you of things you've forgotten. "
      ]
    },
    {
      "cell_type": "code",
      "execution_count": 6,
      "id": "fe4f3221",
      "metadata": {
        "id": "fe4f3221"
      },
      "outputs": [],
      "source": [
        ""
      ]
    }
  ],
  "metadata": {
    "kernelspec": {
      "display_name": "Python 3",
      "language": "python",
      "name": "python3"
    },
    "language_info": {
      "codemirror_mode": {
        "name": "ipython",
        "version": 3
      },
      "file_extension": ".py",
      "mimetype": "text/x-python",
      "name": "python",
      "nbconvert_exporter": "python",
      "pygments_lexer": "ipython3",
      "version": "3.8.8"
    },
    "colab": {
      "name": "How to use markdown cells.ipynb",
      "provenance": [],
      "include_colab_link": true
    }
  },
  "nbformat": 4,
  "nbformat_minor": 5
}
