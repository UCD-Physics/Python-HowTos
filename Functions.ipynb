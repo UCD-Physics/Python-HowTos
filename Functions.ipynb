{
  "cells": [
    {
      "cell_type": "markdown",
      "metadata": {
        "id": "view-in-github",
        "colab_type": "text"
      },
      "source": [
        "<a href=\"https://colab.research.google.com/github/UCD-Physics/Python-HowTos/blob/main/Functions.ipynb\" target=\"_parent\"><img src=\"https://colab.research.google.com/assets/colab-badge.svg\" alt=\"Open In Colab\"/></a>"
      ]
    },
    {
      "cell_type": "markdown",
      "id": "844a7c9a",
      "metadata": {
        "id": "844a7c9a"
      },
      "source": [
        "# Functions\n",
        "\n",
        "Defining your own functions in python can be very useful, especially if you're doing repeat calculations with the same equations. The easiest way to define your function is to use the 'def' command. You can name your function whatever you like, but a descriptive name is always best."
      ]
    },
    {
      "cell_type": "code",
      "execution_count": 1,
      "id": "ebacc2fd",
      "metadata": {
        "id": "ebacc2fd"
      },
      "outputs": [],
      "source": [
        "import numpy as np"
      ]
    },
    {
      "cell_type": "code",
      "execution_count": 2,
      "id": "21d167f0",
      "metadata": {
        "id": "21d167f0"
      },
      "outputs": [],
      "source": [
        "# example\n",
        "\n",
        "# changing degrees to radians\n",
        "\n",
        "def deg_to_rad(d):\n",
        "    #radians are equal to degrees multiplied by pi/180\n",
        "    r = d * np.pi/180\n",
        "    #return radians\n",
        "    return r"
      ]
    },
    {
      "cell_type": "code",
      "execution_count": 3,
      "id": "c044ced3",
      "metadata": {
        "id": "c044ced3",
        "outputId": "cfa19e85-29a0-45c5-c15d-8d4bcb303c62",
        "colab": {
          "base_uri": "https://localhost:8080/"
        }
      },
      "outputs": [
        {
          "output_type": "stream",
          "name": "stdout",
          "text": [
            "90 degrees is 1.571 rad\n"
          ]
        }
      ],
      "source": [
        "#see if it works\n",
        "print(f'90 degrees is {deg_to_rad(90):.3f} rad')"
      ]
    },
    {
      "cell_type": "markdown",
      "id": "6c4e0e6b",
      "metadata": {
        "id": "6c4e0e6b"
      },
      "source": [
        "When doing calculations with lots of variables, it is much more clear if all of them are defined before the equation. This can help avoid mistakes and keeps the code much neater. For example, in an experiment examining the hall effect, voltage and current are measured while the magnetic field is kept constant. This relationship follows the equation:\n",
        "\n",
        "$ R_H = \\frac{V_H w}{IB}$\n",
        "\n",
        "Putting in the form of a straight line:\n",
        "\n",
        "$V_H = \\frac{R_H B}{w}I$\n",
        "\n",
        "So in this case if you were looking for the hall constant($R_H$), the slope of the graph (m) achieved would be equal to\n",
        "\n",
        "$m = \\frac{R_H B}{w}$\n",
        "\n",
        "If looking at multiple graphs, you could easily make a function to make this calculation easier."
      ]
    },
    {
      "cell_type": "code",
      "execution_count": 4,
      "id": "76791060",
      "metadata": {
        "id": "76791060",
        "outputId": "9db021ba-52ee-463c-b373-13134098ff2d",
        "colab": {
          "base_uri": "https://localhost:8080/"
        }
      },
      "outputs": [
        {
          "output_type": "stream",
          "name": "stdout",
          "text": [
            "The hall constant was found to be 0.262\n"
          ]
        }
      ],
      "source": [
        "#define the variables (using random data)\n",
        "m = -8.5\n",
        "w = 0.0012\n",
        "B = -0.039\n",
        "\n",
        "def hall_constant(m, w, B):\n",
        "    R = (m*w)/B\n",
        "    return R\n",
        "\n",
        "#in this case\n",
        "print(f\"The hall constant was found to be {hall_constant(m, w, B):.3f}\")"
      ]
    },
    {
      "cell_type": "markdown",
      "id": "49ea9964",
      "metadata": {
        "id": "49ea9964"
      },
      "source": [
        "Creating functions like this allows you to easily see what you're doing and change the variables without having to rewrite the equation every time."
      ]
    },
    {
      "cell_type": "markdown",
      "source": [
        "#### Default arguments in functions"
      ],
      "metadata": {
        "id": "2frOTRiK99jn"
      },
      "id": "2frOTRiK99jn"
    },
    {
      "cell_type": "markdown",
      "source": [
        "Default argument values in functions can also be very useful. These are arguments that you set when defining the function and will automatically be used unless you specify a different value when using the function. \n",
        "\n",
        "For example:"
      ],
      "metadata": {
        "id": "J9IsKDCt0tAg"
      },
      "id": "J9IsKDCt0tAg"
    },
    {
      "cell_type": "code",
      "source": [
        "#creating a function to introduce someone\n",
        "\n",
        "#using default argument, only have to specify the name\n",
        "def introduction(name, prefix=\"Ms.\"):\n",
        "    print(\"Hello,\", prefix, name)\n",
        "\n",
        "introduction('Mary')\n",
        "\n",
        "\n",
        "#not using default argument, in the case of introducing a male\n",
        "introduction('John', prefix='Mr.')\n",
        "\n"
      ],
      "metadata": {
        "id": "CTUbTezCetHg",
        "outputId": "3ce3bcf6-f9f4-4adf-ad5e-bc211d507112",
        "colab": {
          "base_uri": "https://localhost:8080/"
        }
      },
      "id": "CTUbTezCetHg",
      "execution_count": 24,
      "outputs": [
        {
          "output_type": "stream",
          "name": "stdout",
          "text": [
            "Hello, Ms. Mary\n",
            "Hello, Mr. John\n"
          ]
        }
      ]
    },
    {
      "cell_type": "markdown",
      "source": [
        "#### Functions returning more than 1 value\n",
        "\n",
        "It is also possible to create functions that return more than one value. This can be useful for a range of things but something to make the output of functions like these much clearer is to use f strings. This ensures the reader knows exactly what each output relates to:"
      ],
      "metadata": {
        "id": "W-tn3Ujk-cfp"
      },
      "id": "W-tn3Ujk-cfp"
    },
    {
      "cell_type": "code",
      "source": [
        "# an example\n",
        "\n",
        "#creating a function to return the sum, difference, multiplication and division of two numbers\n",
        "\n",
        "def calculations(num1, num2):\n",
        "\n",
        "  sum = num1 + num2\n",
        "  diff = num1 - num2\n",
        "  mult = num1 * num2\n",
        "  div = num1/num2\n",
        "\n",
        "  print(f'the sum of these numbers is {sum}, the difference between these numbers is {diff}, the product of these numbers is {mult} and the division of these numbers is {div}')\n",
        "\n",
        "  return sum, diff, mult, div\n",
        "\n",
        " "
      ],
      "metadata": {
        "id": "vAaq8D6B5Ehi"
      },
      "id": "vAaq8D6B5Ehi",
      "execution_count": 25,
      "outputs": []
    },
    {
      "cell_type": "code",
      "source": [
        "calculations(2,3)"
      ],
      "metadata": {
        "id": "wzaDnS0x8AJE",
        "outputId": "59f94417-8650-49c8-fcef-556d7ac6e35a",
        "colab": {
          "base_uri": "https://localhost:8080/"
        }
      },
      "id": "wzaDnS0x8AJE",
      "execution_count": 26,
      "outputs": [
        {
          "output_type": "stream",
          "name": "stdout",
          "text": [
            "the sum of these numbers is 5, the difference between these numbers is -1, the product of these numbers is 6 and the division of these numbers is 0.6666666666666666\n"
          ]
        },
        {
          "output_type": "execute_result",
          "data": {
            "text/plain": [
              "(5, -1, 6, 0.6666666666666666)"
            ]
          },
          "metadata": {},
          "execution_count": 26
        }
      ]
    },
    {
      "cell_type": "code",
      "source": [
        ""
      ],
      "metadata": {
        "id": "FUTGLGUC8sew"
      },
      "id": "FUTGLGUC8sew",
      "execution_count": 26,
      "outputs": []
    },
    {
      "cell_type": "code",
      "source": [
        ""
      ],
      "metadata": {
        "id": "ZT4yYm2UA_XF"
      },
      "id": "ZT4yYm2UA_XF",
      "execution_count": null,
      "outputs": []
    }
  ],
  "metadata": {
    "kernelspec": {
      "display_name": "Python 3",
      "language": "python",
      "name": "python3"
    },
    "language_info": {
      "codemirror_mode": {
        "name": "ipython",
        "version": 3
      },
      "file_extension": ".py",
      "mimetype": "text/x-python",
      "name": "python",
      "nbconvert_exporter": "python",
      "pygments_lexer": "ipython3",
      "version": "3.8.8"
    },
    "colab": {
      "name": "Functions.ipynb",
      "provenance": [],
      "include_colab_link": true
    }
  },
  "nbformat": 4,
  "nbformat_minor": 5
}