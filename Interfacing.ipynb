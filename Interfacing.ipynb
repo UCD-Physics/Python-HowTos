{
  "cells": [
    {
      "cell_type": "markdown",
      "metadata": {
        "id": "view-in-github",
        "colab_type": "text"
      },
      "source": [
        "<a href=\"https://colab.research.google.com/github/alvaphelan/Python-HowTos/blob/main/Interfacing.ipynb\" target=\"_parent\"><img src=\"https://colab.research.google.com/assets/colab-badge.svg\" alt=\"Open In Colab\"/></a>"
      ]
    },
    {
      "cell_type": "markdown",
      "id": "3967672a",
      "metadata": {
        "id": "3967672a"
      },
      "source": [
        "# Interfacing\n",
        "\n"
      ]
    },
    {
      "cell_type": "markdown",
      "id": "87bc6918",
      "metadata": {
        "id": "87bc6918"
      },
      "source": [
        "## Communicating with the NI USB\n",
        "\n",
        "The main instructions on how to turn on and communicate with the national instrumments can be found [here](https://physicslabs.ucd.ie/docs/dacq/), but this is some helpful advice and tips!\n"
      ]
    },
    {
      "cell_type": "markdown",
      "id": "cdd54ed1",
      "metadata": {
        "id": "cdd54ed1"
      },
      "source": [
        "#### Loops\n",
        "\n",
        "Loops will be used frequently in order to collect data in the labs. Often in experiments you will need to take hundreds of data points and so the most efficient way to do this is by creating an algorithm. The basics of how to create a loop can be seen [here](https://github.com/UCD-Physics/Python-HowTos/blob/main/Writing_Loops.ipynb) but this will cover extra information.\n",
        "\n",
        "When collecting a lot of data points at once, it's important to store them efficiently. This can be done easily by creating an empty list before the loop and using the 'np.append' function at the end. An example can be seen below of seperating even and odd numbers in seperate lists from 1 to 100."
      ]
    },
    {
      "cell_type": "code",
      "execution_count": 1,
      "id": "fb2b761e",
      "metadata": {
        "id": "fb2b761e"
      },
      "outputs": [],
      "source": [
        "#example\n",
        "\n",
        "#create empty list\n",
        "even = []\n",
        "odd = []\n",
        "i = 1\n",
        "while i <= 100:\n",
        "    if i%2 == 0:\n",
        "        even.append(i)\n",
        "    else:\n",
        "        odd.append(i)\n",
        "    i += 1"
      ]
    },
    {
      "cell_type": "markdown",
      "id": "80d4864d",
      "metadata": {
        "id": "80d4864d"
      },
      "source": [
        "When taking measurements, a way to increase accuracy can be to use myADC.smaplevoltages(). This function allows multiple measurements to be taken at a certain frequency. For example 'data = myADC.smaplevoltages(2000, 4000)' will create an array called data with 2000 samples at a rate of 4000 samples per second (i.e. will take 0.5 seconds to take the data). This is very useful as it is then possible to use the mean of this array as your data point and the standard deviation divided by the square root of the number of samples as your error. This greatly increases the accuracy of your experiment and can lead to better results. Once again, ensure to create empty lists before the loop in order to store the information correctly.\n"
      ]
    },
    {
      "cell_type": "markdown",
      "id": "76d5bbe3",
      "metadata": {
        "id": "76d5bbe3"
      },
      "source": [
        "#### Time function\n",
        "\n",
        "The time function can be very helpful to include in these experiments. If you want to keep track of how much time has elapsed/if you want to graph your data against time. The best way to do this is is to 'start' the timer before your loop starts and then record the time elapsed at each data point by subtracting the start time from the time the point was taken. \n",
        "\n",
        "There is also a 'time.sleep()' function which will allow a break of whatever you place in the brackets (e.g. time.sleep(0.1) will allow a break of 0.1 seconds). This is often useful when taking many readings at once as it ensures a proper separation between data points.  "
      ]
    },
    {
      "cell_type": "markdown",
      "id": "07a1354e",
      "metadata": {
        "id": "07a1354e"
      },
      "source": [
        "#### Saving and graphing data\n",
        "\n",
        "Once all your data has been collected, it is always good to graph it in order to see if it' what you're expecting/if there's a problem. This can be done easily after your looop has finished running. However, it is *extremely* important to save your data as well as just plotting it, especially if you are collecting more than one set of data. This is done simply by using the 'np.savetxt()' function. This command has two parameters, the filename you want to save your data as and the array you want to save. An example of trying to save an array called 'voltage_error' to a file called 'first_volt_error' would be \n",
        "\n",
        "np.savetxt('first_volt_error.txt', voltage_error)"
      ]
    },
    {
      "cell_type": "code",
      "execution_count": 1,
      "id": "23baa034",
      "metadata": {
        "id": "23baa034"
      },
      "outputs": [],
      "source": [
        ""
      ]
    }
  ],
  "metadata": {
    "kernelspec": {
      "display_name": "Python 3",
      "language": "python",
      "name": "python3"
    },
    "language_info": {
      "codemirror_mode": {
        "name": "ipython",
        "version": 3
      },
      "file_extension": ".py",
      "mimetype": "text/x-python",
      "name": "python",
      "nbconvert_exporter": "python",
      "pygments_lexer": "ipython3",
      "version": "3.8.8"
    },
    "colab": {
      "name": "Interfacing.ipynb",
      "provenance": [],
      "include_colab_link": true
    }
  },
  "nbformat": 4,
  "nbformat_minor": 5
}