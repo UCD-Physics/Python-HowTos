{
 "cells": [
  {
   "cell_type": "markdown",
   "metadata": {
    "colab_type": "text",
    "id": "view-in-github"
   },
   "source": [
    "<a href=\"https://colab.research.google.com/github/UCD-Physics/Python-HowTos/blob/main/Dictionaries.ipynb\" target=\"_parent\"><img src=\"https://colab.research.google.com/assets/colab-badge.svg\" alt=\"Open In Colab\"/></a>"
   ]
  },
  {
   "cell_type": "markdown",
   "metadata": {
    "id": "5ZqFETjQxMX8"
   },
   "source": [
    "# How to use dictionaries\n",
    "\n",
    "Dictionaries are used extensively in Python.\n",
    "\n",
    "Dictionaries consist of key, value pairs where each key is used to look up the corresponding value.\n",
    "\n",
    "For more information on dictionaries see [here](https://docs.python.org/3/tutorial/datastructures.html#dictionaries) or type `help(dict)`.\n",
    "\n",
    "## Dictionary creation and lookup\n",
    "They are created using the `{,}` notation or the Python `dict()` functions (see link above for notation)\n",
    "\n",
    "Lookup and addition of items is achieved with the `[key]` notation.\n",
    "\n",
    "Examples:\n",
    "\n",
    "### create a telephone-directory dictionary:"
   ]
  },
  {
   "cell_type": "code",
   "execution_count": 15,
   "metadata": {
    "colab": {
     "base_uri": "https://localhost:8080/"
    },
    "id": "kxb1TcaAzHuy",
    "outputId": "01753194-5730-4841-8b71-4f47377ea1cb"
   },
   "outputs": [
    {
     "name": "stdout",
     "output_type": "stream",
     "text": [
      "4098\n"
     ]
    }
   ],
   "source": [
    "tel = {'jack': 4098, 'sape': 4139, 'george': 6543}  # create dictionary\n",
    "\n",
    "print(tel['jack'])   ## lookup 'jack' (access value using key)"
   ]
  },
  {
   "cell_type": "code",
   "execution_count": 16,
   "metadata": {},
   "outputs": [
    {
     "name": "stdout",
     "output_type": "stream",
     "text": [
      "{'jack': 4098, 'sape': 4139, 'george': 6543, 'guido': 4127}\n"
     ]
    }
   ],
   "source": [
    "tel['guido'] = 4127  # add a new element to the dictionary\n",
    "\n",
    "print(tel)"
   ]
  },
  {
   "cell_type": "markdown",
   "metadata": {},
   "source": [
    "## Get number of items in the dictionary using `len()` :"
   ]
  },
  {
   "cell_type": "code",
   "execution_count": 17,
   "metadata": {},
   "outputs": [
    {
     "data": {
      "text/plain": [
       "4"
      ]
     },
     "execution_count": 17,
     "metadata": {},
     "output_type": "execute_result"
    }
   ],
   "source": [
    "len(tel)"
   ]
  },
  {
   "cell_type": "markdown",
   "metadata": {
    "id": "W887hKC9z4Mt"
   },
   "source": [
    "## Dictionary comprehension\n",
    "\n",
    "Dictionary comprehension also works as for lists:"
   ]
  },
  {
   "cell_type": "code",
   "execution_count": 18,
   "metadata": {
    "colab": {
     "base_uri": "https://localhost:8080/"
    },
    "id": "6_CzSrLyzcCy",
    "outputId": "da06101f-cfd6-4aa0-a241-bddbac5ebe93"
   },
   "outputs": [
    {
     "data": {
      "text/plain": [
       "{2: 4, 4: 16, 6: 36}"
      ]
     },
     "execution_count": 18,
     "metadata": {},
     "output_type": "execute_result"
    }
   ],
   "source": [
    "sq_dict = {x: x**2 for x in (2, 4, 6)}\n",
    "sq_dict"
   ]
  },
  {
   "cell_type": "code",
   "execution_count": 19,
   "metadata": {
    "colab": {
     "base_uri": "https://localhost:8080/"
    },
    "id": "Qu3Zpurp2KZI",
    "outputId": "189104a0-ac3f-46fb-db20-910a9583bc57"
   },
   "outputs": [
    {
     "data": {
      "text/plain": [
       "16"
      ]
     },
     "execution_count": 19,
     "metadata": {},
     "output_type": "execute_result"
    }
   ],
   "source": [
    "# access elements using key:\n",
    "\n",
    "sq_dict[4]"
   ]
  },
  {
   "cell_type": "markdown",
   "metadata": {
    "id": "bFkwmZ9e0Bf7"
   },
   "source": [
    "## Accessing keys, values and items\n",
    "\n",
    "The method `keys()` returns a list of keys while the `values()` method returns the list of values and `items()` returns key, value tuples.\n",
    "\n",
    "Examples:\n",
    "\n",
    "### Create a dictionary and access all keys and all values"
   ]
  },
  {
   "cell_type": "code",
   "execution_count": 20,
   "metadata": {
    "colab": {
     "base_uri": "https://localhost:8080/"
    },
    "id": "VcPne3TF0Apw",
    "outputId": "50fdc0bc-3ffd-46aa-dc46-a29890d4d0bb"
   },
   "outputs": [
    {
     "data": {
      "text/plain": [
       "dict_keys(['sape', 'guido', 'jack', 'george', 'bill'])"
      ]
     },
     "execution_count": 20,
     "metadata": {},
     "output_type": "execute_result"
    }
   ],
   "source": [
    "tel = dict(sape=4139, guido=4127, jack=4098, george=6543, bill=8912)\n",
    "\n",
    "tel.keys()"
   ]
  },
  {
   "cell_type": "code",
   "execution_count": 21,
   "metadata": {},
   "outputs": [
    {
     "data": {
      "text/plain": [
       "dict_values([4139, 4127, 4098, 6543, 8912])"
      ]
     },
     "execution_count": 21,
     "metadata": {},
     "output_type": "execute_result"
    }
   ],
   "source": [
    "tel.values()"
   ]
  },
  {
   "cell_type": "markdown",
   "metadata": {},
   "source": [
    "### Accessing values using dict.keys()"
   ]
  },
  {
   "cell_type": "code",
   "execution_count": 6,
   "metadata": {},
   "outputs": [
    {
     "name": "stdout",
     "output_type": "stream",
     "text": [
      "sape 4139\n",
      "guido 4127\n",
      "jack 4098\n",
      "george 6543\n",
      "bill 8912\n"
     ]
    }
   ],
   "source": [
    "for k in tel.keys():\n",
    "    print(k, tel[k])"
   ]
  },
  {
   "cell_type": "markdown",
   "metadata": {},
   "source": [
    "### Accessing key, value pairs at the same time using dict.items()"
   ]
  },
  {
   "cell_type": "code",
   "execution_count": 22,
   "metadata": {},
   "outputs": [
    {
     "name": "stdout",
     "output_type": "stream",
     "text": [
      "sape 4139\n",
      "guido 4127\n",
      "jack 4098\n",
      "george 6543\n",
      "bill 8912\n"
     ]
    }
   ],
   "source": [
    "for k, val in tel.items():\n",
    "    print(k, val)"
   ]
  },
  {
   "cell_type": "markdown",
   "metadata": {
    "id": "xHuYvhNh4B-v"
   },
   "source": [
    "## What if the key does not exist?\n",
    "\n",
    "If you look up a dictionary using a key that does not exist using the `[]` method then an exception will be thrown. \n",
    "\n",
    "If you use the method `get()` it will return a default value (`None` by default but can be changed) if the key is not found instead of throwing an exception.\n",
    "\n",
    "Examples:"
   ]
  },
  {
   "cell_type": "code",
   "execution_count": 23,
   "metadata": {
    "id": "gIfnEdgwz9tA"
   },
   "outputs": [],
   "source": [
    "# None (default) returned if key not found\n",
    "\n",
    "tel = dict(sape=4139, guido=4127, jack=4098, george=6543, bill=8912)\n",
    "\n",
    "tel.get(\"dave\")"
   ]
  },
  {
   "cell_type": "code",
   "execution_count": 24,
   "metadata": {
    "colab": {
     "base_uri": "https://localhost:8080/"
    },
    "id": "-aQaH-Jg4tPB",
    "outputId": "de119b7c-ae96-4295-f7e2-5988eaf62824"
   },
   "outputs": [
    {
     "data": {
      "text/plain": [
       "0"
      ]
     },
     "execution_count": 24,
     "metadata": {},
     "output_type": "execute_result"
    }
   ],
   "source": [
    "# 0 returned if key not found since 0 is specified as the default value\n",
    "\n",
    "tel = dict(sape=4139, guido=4127, jack=4098, george=6543, bill=8912)\n",
    "\n",
    "tel.get(\"dave\", 0)"
   ]
  },
  {
   "cell_type": "code",
   "execution_count": 26,
   "metadata": {
    "colab": {
     "base_uri": "https://localhost:8080/",
     "height": 198
    },
    "id": "LJvUu1Z54BUk",
    "outputId": "ec9224a1-99dd-47d5-ad7e-a31d53cdc2f6"
   },
   "outputs": [
    {
     "ename": "KeyError",
     "evalue": "ignored",
     "output_type": "error",
     "traceback": [
      "\u001b[0;31m---------------------------------------------------------------------------\u001b[0m",
      "\u001b[0;31mKeyError\u001b[0m                                  Traceback (most recent call last)",
      "\u001b[0;32m<ipython-input-26-50e56e27eacb>\u001b[0m in \u001b[0;36m<module>\u001b[0;34m\u001b[0m\n\u001b[1;32m      3\u001b[0m \u001b[0mtel\u001b[0m \u001b[0;34m=\u001b[0m \u001b[0mdict\u001b[0m\u001b[0;34m(\u001b[0m\u001b[0msape\u001b[0m\u001b[0;34m=\u001b[0m\u001b[0;36m4139\u001b[0m\u001b[0;34m,\u001b[0m \u001b[0mguido\u001b[0m\u001b[0;34m=\u001b[0m\u001b[0;36m4127\u001b[0m\u001b[0;34m,\u001b[0m \u001b[0mjack\u001b[0m\u001b[0;34m=\u001b[0m\u001b[0;36m4098\u001b[0m\u001b[0;34m,\u001b[0m \u001b[0mgeorge\u001b[0m\u001b[0;34m=\u001b[0m\u001b[0;36m6543\u001b[0m\u001b[0;34m,\u001b[0m \u001b[0mbill\u001b[0m\u001b[0;34m=\u001b[0m\u001b[0;36m8912\u001b[0m\u001b[0;34m)\u001b[0m\u001b[0;34m\u001b[0m\u001b[0;34m\u001b[0m\u001b[0m\n\u001b[1;32m      4\u001b[0m \u001b[0;34m\u001b[0m\u001b[0m\n\u001b[0;32m----> 5\u001b[0;31m \u001b[0mtel\u001b[0m\u001b[0;34m[\u001b[0m\u001b[0;34m\"dave\"\u001b[0m\u001b[0;34m]\u001b[0m\u001b[0;34m\u001b[0m\u001b[0;34m\u001b[0m\u001b[0m\n\u001b[0m",
      "\u001b[0;31mKeyError\u001b[0m: 'dave'"
     ]
    }
   ],
   "source": [
    "# Exception thrown if key not found\n",
    "\n",
    "tel = dict(sape=4139, guido=4127, jack=4098, george=6543, bill=8912)\n",
    "\n",
    "tel[\"dave\"]"
   ]
  },
  {
   "cell_type": "code",
   "execution_count": null,
   "metadata": {
    "id": "J3T2666N4zpy"
   },
   "outputs": [],
   "source": []
  }
 ],
 "metadata": {
  "colab": {
   "authorship_tag": "ABX9TyNo6HEwj/yqU4wDQjFo1GxQ",
   "include_colab_link": true,
   "provenance": []
  },
  "kernelspec": {
   "display_name": "Python 3 (ipykernel)",
   "language": "python",
   "name": "python3"
  },
  "language_info": {
   "codemirror_mode": {
    "name": "ipython",
    "version": 3
   },
   "file_extension": ".py",
   "mimetype": "text/x-python",
   "name": "python",
   "nbconvert_exporter": "python",
   "pygments_lexer": "ipython3",
   "version": "3.9.7"
  },
  "latex_envs": {
   "LaTeX_envs_menu_present": true,
   "autoclose": true,
   "autocomplete": true,
   "bibliofile": "biblio.bib",
   "cite_by": "apalike",
   "current_citInitial": 1,
   "eqLabelWithNumbers": true,
   "eqNumInitial": 1,
   "hotkeys": {
    "equation": "Ctrl-E",
    "itemize": "Ctrl-I"
   },
   "labels_anchors": false,
   "latex_user_defs": false,
   "report_style_numbering": true,
   "user_envs_cfg": false
  },
  "toc": {
   "base_numbering": 1,
   "nav_menu": {},
   "number_sections": true,
   "sideBar": true,
   "skip_h1_title": false,
   "title_cell": "Table of Contents",
   "title_sidebar": "Contents",
   "toc_cell": false,
   "toc_position": {},
   "toc_section_display": true,
   "toc_window_display": false
  },
  "varInspector": {
   "cols": {
    "lenName": 16,
    "lenType": 16,
    "lenVar": 40
   },
   "kernels_config": {
    "python": {
     "delete_cmd_postfix": "",
     "delete_cmd_prefix": "del ",
     "library": "var_list.py",
     "varRefreshCmd": "print(var_dic_list())"
    },
    "r": {
     "delete_cmd_postfix": ") ",
     "delete_cmd_prefix": "rm(",
     "library": "var_list.r",
     "varRefreshCmd": "cat(var_dic_list()) "
    }
   },
   "types_to_exclude": [
    "module",
    "function",
    "builtin_function_or_method",
    "instance",
    "_Feature"
   ],
   "window_display": false
  }
 },
 "nbformat": 4,
 "nbformat_minor": 1
}
