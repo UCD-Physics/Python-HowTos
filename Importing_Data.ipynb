{
  "cells": [
    {
      "cell_type": "markdown",
      "metadata": {
        "id": "view-in-github",
        "colab_type": "text"
      },
      "source": [
        "<a href=\"https://colab.research.google.com/github/alvaphelan/Python-HowTos/blob/main/Importing_Data.ipynb\" target=\"_parent\"><img src=\"https://colab.research.google.com/assets/colab-badge.svg\" alt=\"Open In Colab\"/></a>"
      ]
    },
    {
      "cell_type": "markdown",
      "id": "b134353e",
      "metadata": {
        "id": "b134353e"
      },
      "source": [
        "# Importing Data\n",
        "\n",
        "Being able to import data efficiently is hugely important in order to analyse and graph it. There are many ways to do this but in this section we will go over the basic way to do it using numpy."
      ]
    },
    {
      "cell_type": "code",
      "execution_count": 1,
      "id": "80f89158",
      "metadata": {
        "id": "80f89158"
      },
      "outputs": [],
      "source": [
        "import numpy as np"
      ]
    },
    {
      "cell_type": "markdown",
      "id": "5ea582be",
      "metadata": {
        "id": "5ea582be"
      },
      "source": [
        "The easiest way to go about this is to save your data to a text file (.txt) or a csv file (.csv) and transfer it to the same folder your jupyter noebook is in. You can then use the function 'np.loadtxt('data.txt')' with the name of your file in the brackets. This will just load the data into the notebook.\n",
        "\n",
        "It is usually best to assign a variable to the data in order to easily manipulate it."
      ]
    },
    {
      "cell_type": "code",
      "execution_count": 2,
      "id": "439d12a9",
      "metadata": {
        "colab": {
          "base_uri": "https://localhost:8080/"
        },
        "id": "439d12a9",
        "outputId": "91958576-3dec-4b94-846b-a97fc977dc51"
      },
      "outputs": [
        {
          "output_type": "stream",
          "name": "stdout",
          "text": [
            "[2.30770842 2.30797343 2.30820785 2.30822824 2.30824862 2.30822824\n",
            " 2.30817727 2.30859516 2.30847285 2.30875824 2.30882959 2.30878882\n",
            " 2.30891113 2.27945513 2.23846134 2.23949078 2.24038771 2.2413356\n",
            " 2.24198791 2.24296638 2.24407735 2.24496409 2.24568775 2.24687006\n",
            " 2.24742045 2.24821546 2.24935701 2.25039663 2.25076356 2.25179299\n",
            " 2.25236376 2.25304665 2.25357665 2.25420858 2.25406589]\n"
          ]
        }
      ],
      "source": [
        "#example data\n",
        "\n",
        "data = np.loadtxt(\"mass_volt1.txt\")\n",
        "print(data)"
      ]
    },
    {
      "cell_type": "markdown",
      "id": "22160e9d",
      "metadata": {
        "id": "22160e9d"
      },
      "source": [
        "There are many parameters that can be used in order to load your data in a more efficient manner and to get it the way you want. First, if there's more than one column of data, you can assign multiple variables to it in order to easily split it up.\n",
        "\n",
        "e.g.\n",
        "\n",
        "data, data_error, time = np.loadtxt('sampledata.txt')\n",
        "\n",
        "*note: the number of variables you assign must be equal to the number of columns saved to your data, or there will be an error*"
      ]
    },
    {
      "cell_type": "markdown",
      "id": "7fbe58af",
      "metadata": {
        "id": "7fbe58af"
      },
      "source": [
        "There are also lots of options to include in the 'loadtxt' function. If the data you are importing has a header, you can skip this and only include numerical data by the command \n",
        "\n",
        "skiprows = 1\n",
        "\n",
        "If your data is seperated by commas you can use the delimiter function to seperate the data points\n",
        "\n",
        "delimiter =','\n",
        "\n",
        "It can also be useful to tell what type is being read, e.g. float, integer, string \n",
        "\n",
        "dtype = 'float, int, S24'\n",
        "*note S24 means to expect a string with a max of 24 characters*\n",
        "\n",
        "In order to only use certain columns, you can use the following function, remembering that it begins at 0\n",
        "\n",
        "usecols = (0,2,4) for the first, third and fifth columns\n",
        "\n",
        "It is also important to set unpack = True when loading the data into more than 1 variable. \n",
        "\n",
        "An example of what this could look like is:\n",
        "\n",
        "blue_data, blue_data_error, blueext, blueint = np.loadtxt(\"data.csv\", delimiter=',', skiprows =1,  unpack = True, usecols = range(8,12))\n"
      ]
    },
    {
      "cell_type": "code",
      "execution_count": 2,
      "id": "dd226cbd",
      "metadata": {
        "id": "dd226cbd"
      },
      "outputs": [],
      "source": [
        ""
      ]
    },
    {
      "cell_type": "code",
      "execution_count": 2,
      "id": "c1a187ca",
      "metadata": {
        "id": "c1a187ca"
      },
      "outputs": [],
      "source": [
        ""
      ]
    }
  ],
  "metadata": {
    "kernelspec": {
      "display_name": "Python 3",
      "language": "python",
      "name": "python3"
    },
    "language_info": {
      "codemirror_mode": {
        "name": "ipython",
        "version": 3
      },
      "file_extension": ".py",
      "mimetype": "text/x-python",
      "name": "python",
      "nbconvert_exporter": "python",
      "pygments_lexer": "ipython3",
      "version": "3.8.8"
    },
    "colab": {
      "name": "Importing Data.ipynb",
      "provenance": [],
      "include_colab_link": true
    }
  },
  "nbformat": 4,
  "nbformat_minor": 5
}