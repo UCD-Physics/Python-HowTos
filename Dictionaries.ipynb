{
  "nbformat": 4,
  "nbformat_minor": 0,
  "metadata": {
    "colab": {
      "provenance": [],
      "authorship_tag": "ABX9TyNo6HEwj/yqU4wDQjFo1GxQ",
      "include_colab_link": true
    },
    "kernelspec": {
      "name": "python3",
      "display_name": "Python 3"
    },
    "language_info": {
      "name": "python"
    }
  },
  "cells": [
    {
      "cell_type": "markdown",
      "metadata": {
        "id": "view-in-github",
        "colab_type": "text"
      },
      "source": [
        "<a href=\"https://colab.research.google.com/github/UCD-Physics/Python-HowTos/blob/main/Dictionaries.ipynb\" target=\"_parent\"><img src=\"https://colab.research.google.com/assets/colab-badge.svg\" alt=\"Open In Colab\"/></a>"
      ]
    },
    {
      "cell_type": "markdown",
      "source": [
        "# How to use dictionaries\n",
        "\n",
        "Dictionaries are used extensively in Python.\n",
        "\n",
        "Dictionaries consist of key, value pairs where each key is used to look up the corresponding value.\n",
        "\n",
        "For more information on dictionaries see [here](https://docs.python.org/3/tutorial/datastructures.html#dictionaries) or type `help(dict)`.\n",
        "\n",
        "## Dictionary creation and lookup\n",
        "They are created using the `{,}` notation or the Python `dict()` functions (see link above for notation)\n",
        "\n",
        "Lookup and addition of items is achieved with the `[key]` notation.\n",
        "\n",
        "Examples:"
      ],
      "metadata": {
        "id": "5ZqFETjQxMX8"
      }
    },
    {
      "cell_type": "code",
      "source": [
        "tel = {'jack': 4098, 'sape': 4139}\n",
        "print(tel['jack'])\n",
        "\n",
        "tel['guido'] = 4127\n",
        "print(tel)"
      ],
      "metadata": {
        "colab": {
          "base_uri": "https://localhost:8080/"
        },
        "id": "kxb1TcaAzHuy",
        "outputId": "01753194-5730-4841-8b71-4f47377ea1cb"
      },
      "execution_count": 1,
      "outputs": [
        {
          "output_type": "stream",
          "name": "stdout",
          "text": [
            "4098\n",
            "{'jack': 4098, 'sape': 4139, 'guido': 4127}\n"
          ]
        }
      ]
    },
    {
      "cell_type": "markdown",
      "source": [
        "## Dictionary comprehension\n",
        "\n",
        "Dictionary comprehension also works as for lists:"
      ],
      "metadata": {
        "id": "W887hKC9z4Mt"
      }
    },
    {
      "cell_type": "code",
      "source": [
        "sq_dict = {x: x**2 for x in (2, 4, 6)}\n",
        "sq_dict"
      ],
      "metadata": {
        "colab": {
          "base_uri": "https://localhost:8080/"
        },
        "id": "6_CzSrLyzcCy",
        "outputId": "da06101f-cfd6-4aa0-a241-bddbac5ebe93"
      },
      "execution_count": 16,
      "outputs": [
        {
          "output_type": "execute_result",
          "data": {
            "text/plain": [
              "{2: 4, 4: 16, 6: 36}"
            ]
          },
          "metadata": {},
          "execution_count": 16
        }
      ]
    },
    {
      "cell_type": "code",
      "source": [
        "# access elements using key:\n",
        "\n",
        "sq_dict[4]"
      ],
      "metadata": {
        "colab": {
          "base_uri": "https://localhost:8080/"
        },
        "id": "Qu3Zpurp2KZI",
        "outputId": "189104a0-ac3f-46fb-db20-910a9583bc57"
      },
      "execution_count": 18,
      "outputs": [
        {
          "output_type": "execute_result",
          "data": {
            "text/plain": [
              "16"
            ]
          },
          "metadata": {},
          "execution_count": 18
        }
      ]
    },
    {
      "cell_type": "markdown",
      "source": [
        "## Accessing keys, values and items\n",
        "\n",
        "The method `keys()` returns a list of keys while the `values()` method returns the list of values and `items()` returns key, value tuples.\n",
        "\n",
        "Examples:"
      ],
      "metadata": {
        "id": "bFkwmZ9e0Bf7"
      }
    },
    {
      "cell_type": "code",
      "source": [
        "tel = dict(sape=4139, guido=4127, jack=4098, george=6543, bill=8912)\n",
        "\n",
        "print(\"Keys  :\", tel.keys())\n",
        "print(\"Values:\", tel.values())\n",
        "\n",
        "print()\n",
        "\n",
        "# Accessing values using keys\n",
        "for k in tel.keys():\n",
        "  print(k, tel[k])\n",
        "\n",
        "print()\n",
        "\n",
        "# Accessing kev, value pairs\n",
        "for k, val in tel.items():\n",
        "  print(k, val)"
      ],
      "metadata": {
        "colab": {
          "base_uri": "https://localhost:8080/"
        },
        "id": "VcPne3TF0Apw",
        "outputId": "50fdc0bc-3ffd-46aa-dc46-a29890d4d0bb"
      },
      "execution_count": 15,
      "outputs": [
        {
          "output_type": "stream",
          "name": "stdout",
          "text": [
            "Keys  : dict_keys(['sape', 'guido', 'jack', 'george', 'bill'])\n",
            "Values: dict_values([4139, 4127, 4098, 6543, 8912])\n",
            "\n",
            "sape 4139\n",
            "guido 4127\n",
            "jack 4098\n",
            "george 6543\n",
            "bill 8912\n",
            "\n",
            "sape 4139\n",
            "guido 4127\n",
            "jack 4098\n",
            "george 6543\n",
            "bill 8912\n"
          ]
        }
      ]
    },
    {
      "cell_type": "markdown",
      "source": [
        "## What if the key does not exist?\n",
        "\n",
        "If you look up a dictionary using a key that does not exist using the `[]` method then an exception will be thrown. \n",
        "\n",
        "If you use the method `get()` it will return a default value (`None` by default but can be changed) if the key is not found instead of throwing an exception.\n",
        "\n",
        "Examples:"
      ],
      "metadata": {
        "id": "xHuYvhNh4B-v"
      }
    },
    {
      "cell_type": "code",
      "source": [
        "# None (default) returned if key not found\n",
        "\n",
        "tel = dict(sape=4139, guido=4127, jack=4098, george=6543, bill=8912)\n",
        "\n",
        "tel.get(\"dave\")"
      ],
      "metadata": {
        "id": "gIfnEdgwz9tA"
      },
      "execution_count": 24,
      "outputs": []
    },
    {
      "cell_type": "code",
      "source": [
        "# 0 returned if key not found\n",
        "\n",
        "tel = dict(sape=4139, guido=4127, jack=4098, george=6543, bill=8912)\n",
        "\n",
        "tel.get(\"dave\", 0)"
      ],
      "metadata": {
        "colab": {
          "base_uri": "https://localhost:8080/"
        },
        "id": "-aQaH-Jg4tPB",
        "outputId": "de119b7c-ae96-4295-f7e2-5988eaf62824"
      },
      "execution_count": 25,
      "outputs": [
        {
          "output_type": "execute_result",
          "data": {
            "text/plain": [
              "0"
            ]
          },
          "metadata": {},
          "execution_count": 25
        }
      ]
    },
    {
      "cell_type": "code",
      "source": [
        "# Exception thrown if key not found\n",
        "\n",
        "tel = dict(sape=4139, guido=4127, jack=4098, george=6543, bill=8912)\n",
        "\n",
        "tel[\"dave\"]"
      ],
      "metadata": {
        "colab": {
          "base_uri": "https://localhost:8080/",
          "height": 198
        },
        "id": "LJvUu1Z54BUk",
        "outputId": "ec9224a1-99dd-47d5-ad7e-a31d53cdc2f6"
      },
      "execution_count": 26,
      "outputs": [
        {
          "output_type": "error",
          "ename": "KeyError",
          "evalue": "ignored",
          "traceback": [
            "\u001b[0;31m---------------------------------------------------------------------------\u001b[0m",
            "\u001b[0;31mKeyError\u001b[0m                                  Traceback (most recent call last)",
            "\u001b[0;32m<ipython-input-26-50e56e27eacb>\u001b[0m in \u001b[0;36m<module>\u001b[0;34m\u001b[0m\n\u001b[1;32m      3\u001b[0m \u001b[0mtel\u001b[0m \u001b[0;34m=\u001b[0m \u001b[0mdict\u001b[0m\u001b[0;34m(\u001b[0m\u001b[0msape\u001b[0m\u001b[0;34m=\u001b[0m\u001b[0;36m4139\u001b[0m\u001b[0;34m,\u001b[0m \u001b[0mguido\u001b[0m\u001b[0;34m=\u001b[0m\u001b[0;36m4127\u001b[0m\u001b[0;34m,\u001b[0m \u001b[0mjack\u001b[0m\u001b[0;34m=\u001b[0m\u001b[0;36m4098\u001b[0m\u001b[0;34m,\u001b[0m \u001b[0mgeorge\u001b[0m\u001b[0;34m=\u001b[0m\u001b[0;36m6543\u001b[0m\u001b[0;34m,\u001b[0m \u001b[0mbill\u001b[0m\u001b[0;34m=\u001b[0m\u001b[0;36m8912\u001b[0m\u001b[0;34m)\u001b[0m\u001b[0;34m\u001b[0m\u001b[0;34m\u001b[0m\u001b[0m\n\u001b[1;32m      4\u001b[0m \u001b[0;34m\u001b[0m\u001b[0m\n\u001b[0;32m----> 5\u001b[0;31m \u001b[0mtel\u001b[0m\u001b[0;34m[\u001b[0m\u001b[0;34m\"dave\"\u001b[0m\u001b[0;34m]\u001b[0m\u001b[0;34m\u001b[0m\u001b[0;34m\u001b[0m\u001b[0m\n\u001b[0m",
            "\u001b[0;31mKeyError\u001b[0m: 'dave'"
          ]
        }
      ]
    },
    {
      "cell_type": "code",
      "source": [],
      "metadata": {
        "id": "J3T2666N4zpy"
      },
      "execution_count": null,
      "outputs": []
    }
  ]
}