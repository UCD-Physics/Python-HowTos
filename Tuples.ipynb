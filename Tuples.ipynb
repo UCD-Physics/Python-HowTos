{
  "nbformat": 4,
  "nbformat_minor": 0,
  "metadata": {
    "colab": {
      "provenance": [],
      "authorship_tag": "ABX9TyNcQ8AZ73HGUDOkJW8ij7Dg",
      "include_colab_link": true
    },
    "kernelspec": {
      "name": "python3",
      "display_name": "Python 3"
    },
    "language_info": {
      "name": "python"
    }
  },
  "cells": [
    {
      "cell_type": "markdown",
      "metadata": {
        "id": "view-in-github",
        "colab_type": "text"
      },
      "source": [
        "<a href=\"https://colab.research.google.com/github/UCD-Physics/Python-HowTos/blob/main/Tuples.ipynb\" target=\"_parent\"><img src=\"https://colab.research.google.com/assets/colab-badge.svg\" alt=\"Open In Colab\"/></a>"
      ]
    },
    {
      "cell_type": "markdown",
      "source": [
        "# How to use tuples\n",
        "\n",
        "Python tuples are in many ways similar to lists except that they cannot be modified. Their elements cannot be changed (unless the element is a mutable objects such as a `list`) and lists cannot be extended for have elements removed. \n",
        "\n",
        "Tuples are indexed in the same way as lists (e.g. `[0]`, `[1]` and slice notation) and the length of a tuple can be found using the Python `len()` function. \n",
        "\n",
        "Tuples can be created using the `()` notation (single element tuples need a comma) or the `tuple()` command. \n",
        "\n",
        "A tuple can be converted (copied) to a list using the `list()` command.\n",
        "\n",
        "Examples:"
      ],
      "metadata": {
        "id": "2NY0sM89r5rh"
      }
    },
    {
      "cell_type": "code",
      "source": [
        "data = (1, 2, 3)\n",
        "type(data)"
      ],
      "metadata": {
        "colab": {
          "base_uri": "https://localhost:8080/"
        },
        "id": "OcB42jQ_r41b",
        "outputId": "8d804ed3-fd4c-4a9d-f7d9-8b467aa57c51"
      },
      "execution_count": 3,
      "outputs": [
        {
          "output_type": "execute_result",
          "data": {
            "text/plain": [
              "tuple"
            ]
          },
          "metadata": {},
          "execution_count": 3
        }
      ]
    },
    {
      "cell_type": "code",
      "source": [
        "data[0]"
      ],
      "metadata": {
        "colab": {
          "base_uri": "https://localhost:8080/"
        },
        "id": "THEYYeLotY-v",
        "outputId": "ccb69603-cce7-4379-fc5d-1912311b2508"
      },
      "execution_count": 4,
      "outputs": [
        {
          "output_type": "execute_result",
          "data": {
            "text/plain": [
              "1"
            ]
          },
          "metadata": {},
          "execution_count": 4
        }
      ]
    },
    {
      "cell_type": "code",
      "source": [
        "data[:]"
      ],
      "metadata": {
        "colab": {
          "base_uri": "https://localhost:8080/"
        },
        "id": "iX61n3Y9tcxz",
        "outputId": "b6d789d7-f60b-45a7-fbe4-a97539dd2f87"
      },
      "execution_count": 5,
      "outputs": [
        {
          "output_type": "execute_result",
          "data": {
            "text/plain": [
              "(1, 2, 3)"
            ]
          },
          "metadata": {},
          "execution_count": 5
        }
      ]
    },
    {
      "cell_type": "code",
      "source": [
        "len(data)"
      ],
      "metadata": {
        "colab": {
          "base_uri": "https://localhost:8080/"
        },
        "id": "rEa0M5o_td3b",
        "outputId": "5bd58fd1-f3ec-43bf-a909-d367eeb9af87"
      },
      "execution_count": 6,
      "outputs": [
        {
          "output_type": "execute_result",
          "data": {
            "text/plain": [
              "3"
            ]
          },
          "metadata": {},
          "execution_count": 6
        }
      ]
    },
    {
      "cell_type": "code",
      "source": [
        "datal = list(data)\n",
        "type(datal)"
      ],
      "metadata": {
        "colab": {
          "base_uri": "https://localhost:8080/"
        },
        "id": "nppDnvYfuXM1",
        "outputId": "4218dd44-11a9-46bd-b30d-f0d9302ab5c5"
      },
      "execution_count": 15,
      "outputs": [
        {
          "output_type": "execute_result",
          "data": {
            "text/plain": [
              "list"
            ]
          },
          "metadata": {},
          "execution_count": 15
        }
      ]
    },
    {
      "cell_type": "code",
      "source": [],
      "metadata": {
        "id": "FdJtz-4Tuqy5"
      },
      "execution_count": null,
      "outputs": []
    }
  ]
}