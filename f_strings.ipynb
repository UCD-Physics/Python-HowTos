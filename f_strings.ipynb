{
  "nbformat": 4,
  "nbformat_minor": 0,
  "metadata": {
    "colab": {
      "name": "f_strings.ipynb",
      "provenance": [],
      "authorship_tag": "ABX9TyNXNiGP2HUGxWz1SrXsn0E3",
      "include_colab_link": true
    },
    "kernelspec": {
      "name": "python3",
      "display_name": "Python 3"
    },
    "language_info": {
      "name": "python"
    }
  },
  "cells": [
    {
      "cell_type": "markdown",
      "metadata": {
        "id": "view-in-github",
        "colab_type": "text"
      },
      "source": [
        "<a href=\"https://colab.research.google.com/github/UCD-Physics/Python-HowTos/blob/main/f_strings.ipynb\" target=\"_parent\"><img src=\"https://colab.research.google.com/assets/colab-badge.svg\" alt=\"Open In Colab\"/></a>"
      ]
    },
    {
      "cell_type": "markdown",
      "source": [
        "# f-strings\n",
        "\n",
        "f-strings are an extremely useful tool for string formatting in python. \n",
        "\n",
        "#### How to use them?\n",
        "Begin by starting the string with an f or F and refer to the variables within the string between curly brackets '{}'. An example can be seen below."
      ],
      "metadata": {
        "id": "akKpxgrffaoA"
      }
    },
    {
      "cell_type": "code",
      "source": [
        "# assign a variable\n",
        "\n",
        "place = 'UCD'\n",
        "\n",
        "# print out a statement\n",
        "\n",
        "print(f\"I'm studying in {place}\") # this gives an output"
      ],
      "metadata": {
        "colab": {
          "base_uri": "https://localhost:8080/"
        },
        "id": "CFNjdKKafTiQ",
        "outputId": "40e1471f-0b48-4312-c4f4-346b2b79e649"
      },
      "execution_count": 3,
      "outputs": [
        {
          "output_type": "stream",
          "name": "stdout",
          "text": [
            "I'm studying in UCD\n"
          ]
        }
      ]
    },
    {
      "cell_type": "markdown",
      "source": [
        "These are also very useful when dealing with numbers as you can easily print out a desired number of decimal places."
      ],
      "metadata": {
        "id": "45b7o42WfkRP"
      }
    },
    {
      "cell_type": "code",
      "source": [
        "#pi as an example \n",
        "\n",
        "import math\n",
        "pi = math.pi\n",
        "\n",
        "#print out variable\n",
        "print(f\"pi has a value of {pi}\")"
      ],
      "metadata": {
        "colab": {
          "base_uri": "https://localhost:8080/"
        },
        "id": "p0VGHSxiffCb",
        "outputId": "f3b1b234-b14a-4fae-aa84-2a6f6fa3ff65"
      },
      "execution_count": 4,
      "outputs": [
        {
          "output_type": "stream",
          "name": "stdout",
          "text": [
            "pi has a value of 3.141592653589793\n"
          ]
        }
      ]
    },
    {
      "cell_type": "code",
      "source": [
        "#to a certain number of decimal places\n",
        "print(f\"pi has a value of {pi: .3f}\") #e.g. 3"
      ],
      "metadata": {
        "colab": {
          "base_uri": "https://localhost:8080/"
        },
        "id": "oQL6HYfkfnK_",
        "outputId": "ddd4e12a-1e18-40f0-ba84-bf0234507a0c"
      },
      "execution_count": 5,
      "outputs": [
        {
          "output_type": "stream",
          "name": "stdout",
          "text": [
            "pi has a value of  3.142\n"
          ]
        }
      ]
    },
    {
      "cell_type": "code",
      "source": [
        "#using scientific notation\n",
        "print(f\"pi has a value of {pi:.4e}\")"
      ],
      "metadata": {
        "colab": {
          "base_uri": "https://localhost:8080/"
        },
        "id": "wj31h4Ipfp1i",
        "outputId": "7c243bad-5439-416e-c33a-543b5a25277c"
      },
      "execution_count": 6,
      "outputs": [
        {
          "output_type": "stream",
          "name": "stdout",
          "text": [
            "pi has a value of 3.1416e+00\n"
          ]
        }
      ]
    },
    {
      "cell_type": "markdown",
      "source": [
        "There are many different things you can do with f-strings, including easily making things all upper or lower case as well as getting the length of your variable. These are explained in more detail here https://realpython.com/python-f-strings/. \n"
      ],
      "metadata": {
        "id": "_KabFsNKfvWF"
      }
    },
    {
      "cell_type": "code",
      "source": [
        ""
      ],
      "metadata": {
        "id": "08dCeXjNfslA"
      },
      "execution_count": null,
      "outputs": []
    }
  ]
}