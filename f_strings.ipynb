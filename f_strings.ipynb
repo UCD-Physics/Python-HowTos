{
 "cells": [
  {
   "cell_type": "markdown",
   "metadata": {
    "colab_type": "text",
    "id": "view-in-github"
   },
   "source": [
    "<a href=\"https://colab.research.google.com/github/UCD-Physics/Python-HowTos/blob/main/f_strings.ipynb\" target=\"_parent\"><img src=\"https://colab.research.google.com/assets/colab-badge.svg\" alt=\"Open In Colab\"/></a>"
   ]
  },
  {
   "cell_type": "markdown",
   "metadata": {
    "id": "akKpxgrffaoA"
   },
   "source": [
    "# f-strings\n",
    "\n",
    "f-strings are an extremely useful tool for string formatting in python. \n",
    "\n",
    "They can be used for formatting for printing, saving to text files, and for formatting titles etc. for Matplotlib graphs.\n",
    "\n",
    "While there are other (older) ways to format strings in Python, f-strings are the modern and preferred way to format strings."
   ]
  },
  {
   "cell_type": "markdown",
   "metadata": {
    "id": "7WeiTJMl20H2"
   },
   "source": [
    "## How to use f-strings?\n",
    "Begin by starting the string with an `f` or `F` and refer to the variables within the string between curly brackets `'{}'`, \n",
    "e.g. `f\"{pi}\" ` \n",
    "\n",
    "Optionally formatting can be specified using the ':' after the variable name and using format instructions (see here for the Python [format specification](https://docs.python.org/3/library/string.html#formatspec), e.g. `f\"{pi:.3f}\"`\n",
    "\n",
    "Calculations and functions can be done where the variable is specified, e.g. `f\"{2*pi}\" "
   ]
  },
  {
   "cell_type": "markdown",
   "metadata": {
    "id": "jHGhQznf9Sby"
   },
   "source": [
    "### Examples with strings"
   ]
  },
  {
   "cell_type": "code",
   "execution_count": 27,
   "metadata": {
    "colab": {
     "base_uri": "https://localhost:8080/"
    },
    "id": "CFNjdKKafTiQ",
    "outputId": "e533148b-40b9-4d8e-975f-208a0f0ee5fa"
   },
   "outputs": [
    {
     "name": "stdout",
     "output_type": "stream",
     "text": [
      "I'm studying in ucd\n",
      "I'm studying in UCD\n"
     ]
    }
   ],
   "source": [
    "# assign a variable\n",
    "\n",
    "place = 'ucd'\n",
    "\n",
    "# print out a statement\n",
    "\n",
    "print(f\"I'm studying in {place}\") # this gives an output\n",
    "\n",
    "print(f\"I'm studying in {place.upper()}\") # this gives an output"
   ]
  },
  {
   "cell_type": "markdown",
   "metadata": {
    "id": "45b7o42WfkRP"
   },
   "source": [
    "## Examples with numbers\n",
    "\n",
    "These are also very useful when dealing with numbers as you can easily print out a desired number of decimal places."
   ]
  },
  {
   "cell_type": "code",
   "execution_count": 2,
   "metadata": {
    "colab": {
     "base_uri": "https://localhost:8080/"
    },
    "id": "p0VGHSxiffCb",
    "outputId": "3dadf51f-8c7f-48dd-fdc7-c7f97c541dc0"
   },
   "outputs": [
    {
     "name": "stdout",
     "output_type": "stream",
     "text": [
      "pi has a value of 3.141592653589793\n"
     ]
    }
   ],
   "source": [
    "# pi as an example \n",
    "\n",
    "import math\n",
    "pi = math.pi\n",
    "\n",
    "#print out variable\n",
    "print(f\"pi has a value of {pi}\")"
   ]
  },
  {
   "cell_type": "markdown",
   "metadata": {},
   "source": [
    "### format to to a certain number of decimal places"
   ]
  },
  {
   "cell_type": "code",
   "execution_count": 3,
   "metadata": {
    "colab": {
     "base_uri": "https://localhost:8080/"
    },
    "id": "oQL6HYfkfnK_",
    "outputId": "1bb8560b-3388-452a-b2df-1c08e35b19f8"
   },
   "outputs": [
    {
     "name": "stdout",
     "output_type": "stream",
     "text": [
      "pi has a value of 3.142\n"
     ]
    }
   ],
   "source": [
    "print(f\"pi has a value of {pi:.3f}\") #e.g. 3"
   ]
  },
  {
   "cell_type": "markdown",
   "metadata": {},
   "source": [
    "### format to a certain number of total and decimal places & padding"
   ]
  },
  {
   "cell_type": "code",
   "execution_count": 5,
   "metadata": {
    "colab": {
     "base_uri": "https://localhost:8080/"
    },
    "id": "rEz4liLs6U6s",
    "outputId": "a687fe41-7850-4a76-9128-4ab6814a7bdd"
   },
   "outputs": [
    {
     "name": "stdout",
     "output_type": "stream",
     "text": [
      "pi has a value of      3.142\n",
      "pi has a value of 000003.142\n"
     ]
    }
   ],
   "source": [
    "print(f\"pi has a value of {pi:10.3f}\") #e.g. 10 characters with 3 decimal places\n",
    "print(f\"pi has a value of {pi:010.3f}\") #e.g. 10 characters with 3 decimal places, 0 padded"
   ]
  },
  {
   "cell_type": "markdown",
   "metadata": {},
   "source": [
    "### using scientific notation"
   ]
  },
  {
   "cell_type": "code",
   "execution_count": 6,
   "metadata": {
    "colab": {
     "base_uri": "https://localhost:8080/"
    },
    "id": "wj31h4Ipfp1i",
    "outputId": "2640f031-0038-4999-ec8e-7bdae9707e8b"
   },
   "outputs": [
    {
     "name": "stdout",
     "output_type": "stream",
     "text": [
      "Planck's constant has the value of 6.6260e-34\n"
     ]
    }
   ],
   "source": [
    "h = 6.626e-34\n",
    "print(f\"Planck's constant has the value of {h:.4e}\")"
   ]
  },
  {
   "cell_type": "markdown",
   "metadata": {},
   "source": [
    "### automatically selecting whether to use scientific notation using :g"
   ]
  },
  {
   "cell_type": "code",
   "execution_count": 7,
   "metadata": {
    "colab": {
     "base_uri": "https://localhost:8080/",
     "height": 37
    },
    "id": "WzqcyTJs9y-l",
    "outputId": "6dbeb186-793f-4fee-a42f-b46b92fb5a17"
   },
   "outputs": [
    {
     "data": {
      "text/plain": [
       "'12.6 6.626e-34 6.626E-34'"
      ]
     },
     "execution_count": 7,
     "metadata": {},
     "output_type": "execute_result"
    }
   ],
   "source": [
    "x = 12.6\n",
    "h = 6.626e-34\n",
    "f\"{x:g} {h:g} {h:G}\""
   ]
  },
  {
   "cell_type": "markdown",
   "metadata": {},
   "source": [
    "### calculations can be performed:"
   ]
  },
  {
   "cell_type": "code",
   "execution_count": 8,
   "metadata": {
    "colab": {
     "base_uri": "https://localhost:8080/"
    },
    "id": "IxzRf0mb622D",
    "outputId": "9199742e-1915-4777-c0ef-110da5bd01e2"
   },
   "outputs": [
    {
     "name": "stdout",
     "output_type": "stream",
     "text": [
      "angle: 90.00 degrees = 1.57 radians\n"
     ]
    }
   ],
   "source": [
    "angle_deg = 90\n",
    "print(f\"angle: {angle_deg:.2f} degrees = {angle_deg*pi/180.0:.2f} radians\")"
   ]
  },
  {
   "cell_type": "markdown",
   "metadata": {},
   "source": [
    "### functions can be called:"
   ]
  },
  {
   "cell_type": "code",
   "execution_count": 9,
   "metadata": {
    "colab": {
     "base_uri": "https://localhost:8080/"
    },
    "id": "vFa1xl-g68D8",
    "outputId": "a8f549ce-4f46-4001-8c61-8d5452b2662f"
   },
   "outputs": [
    {
     "name": "stdout",
     "output_type": "stream",
     "text": [
      "angle: 90.00 degrees = 1.57 radians\n"
     ]
    }
   ],
   "source": [
    "import numpy as np\n",
    "\n",
    "angle_deg = 90\n",
    "print(f\"angle: {angle_deg:.2f} degrees = {np.deg2rad(angle_deg):.2f} radians\")"
   ]
  },
  {
   "cell_type": "markdown",
   "metadata": {
    "id": "_KabFsNKfvWF"
   },
   "source": [
    "## Further reading\n",
    "\n",
    "There are many different things you can do with f-strings, including easily making things all upper or lower case as well as getting the length of your variable. These are explained in more detail here https://realpython.com/python-f-strings/. \n"
   ]
  },
  {
   "cell_type": "code",
   "execution_count": null,
   "metadata": {
    "id": "08dCeXjNfslA"
   },
   "outputs": [],
   "source": []
  }
 ],
 "metadata": {
  "colab": {
   "include_colab_link": true,
   "name": "f_strings.ipynb",
   "provenance": []
  },
  "kernelspec": {
   "display_name": "Python 3 (ipykernel)",
   "language": "python",
   "name": "python3"
  },
  "language_info": {
   "codemirror_mode": {
    "name": "ipython",
    "version": 3
   },
   "file_extension": ".py",
   "mimetype": "text/x-python",
   "name": "python",
   "nbconvert_exporter": "python",
   "pygments_lexer": "ipython3",
   "version": "3.9.7"
  },
  "latex_envs": {
   "LaTeX_envs_menu_present": true,
   "autoclose": true,
   "autocomplete": true,
   "bibliofile": "biblio.bib",
   "cite_by": "apalike",
   "current_citInitial": 1,
   "eqLabelWithNumbers": true,
   "eqNumInitial": 1,
   "hotkeys": {
    "equation": "Ctrl-E",
    "itemize": "Ctrl-I"
   },
   "labels_anchors": false,
   "latex_user_defs": false,
   "report_style_numbering": true,
   "user_envs_cfg": false
  },
  "toc": {
   "base_numbering": 1,
   "nav_menu": {},
   "number_sections": true,
   "sideBar": true,
   "skip_h1_title": false,
   "title_cell": "Table of Contents",
   "title_sidebar": "Contents",
   "toc_cell": false,
   "toc_position": {},
   "toc_section_display": true,
   "toc_window_display": false
  },
  "varInspector": {
   "cols": {
    "lenName": 16,
    "lenType": 16,
    "lenVar": 40
   },
   "kernels_config": {
    "python": {
     "delete_cmd_postfix": "",
     "delete_cmd_prefix": "del ",
     "library": "var_list.py",
     "varRefreshCmd": "print(var_dic_list())"
    },
    "r": {
     "delete_cmd_postfix": ") ",
     "delete_cmd_prefix": "rm(",
     "library": "var_list.r",
     "varRefreshCmd": "cat(var_dic_list()) "
    }
   },
   "types_to_exclude": [
    "module",
    "function",
    "builtin_function_or_method",
    "instance",
    "_Feature"
   ],
   "window_display": false
  }
 },
 "nbformat": 4,
 "nbformat_minor": 1
}
