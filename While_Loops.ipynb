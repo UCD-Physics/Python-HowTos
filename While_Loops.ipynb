{
 "cells": [
  {
   "cell_type": "markdown",
   "id": "e8568625",
   "metadata": {
    "colab_type": "text",
    "id": "view-in-github"
   },
   "source": [
    "<a href=\"https://colab.research.google.com/github/UCD-Physics/Python-HowTos/blob/main/While_Loops.ipynb\" target=\"_parent\"><img src=\"https://colab.research.google.com/assets/colab-badge.svg\" alt=\"Open In Colab\"/></a>"
   ]
  },
  {
   "cell_type": "markdown",
   "id": "98a40503",
   "metadata": {
    "id": "98a40503"
   },
   "source": [
    "# How to write 'While' loops\n",
    "\n",
    "Loops are very helpful for iterating a calculation and are used a lot when interfacing in order to collect data. \n",
    "\n",
    "In Python there are two main type of loops: `for` loops and `while` loops.\n",
    "\n",
    "Note: for lists and dictionaries, looping can often be replaced with List Comprehensions, for example see the appropriate section in this notebook: [Lists.ipynb](https://github.com/UCD-Physics/Python-HowTos/blob/main/Lists.ipynb)"
   ]
  },
  {
   "cell_type": "markdown",
   "id": "882b2ba1",
   "metadata": {
    "id": "882b2ba1"
   },
   "source": [
    "There are often many ways to execute a loop, just ensure to do what makes sense to you."
   ]
  },
  {
   "cell_type": "markdown",
   "id": "db84eda9",
   "metadata": {
    "id": "db84eda9"
   },
   "source": [
    "## `While` loops\n",
    "\n",
    "`while` loops repeatedly execute while some condition is true.\n",
    "\n",
    "The basic `while` loop syntax is:\n",
    "```\n",
    "while condition:\n",
    "    execute_statements1\n",
    "else:\n",
    "    execute_statements2\n",
    "```\n",
    "where\n",
    " * `condition` is bool and the loop gets executed as long as it is true \n",
    " * `execute_statements` are blocks of statements defined by indentation.\n",
    " * the `else` clause is optional and rarely used - it only gets executed if the main loop terminates without a break statement.\n",
    "\n",
    "After each iteration of the while loop, it returns and checks the condition agin, and if still true, it executes the loop again. \n",
    "\n",
    "This is best illustrated through examples:"
   ]
  },
  {
   "cell_type": "markdown",
   "id": "u13epN8cGG_K",
   "metadata": {
    "id": "u13epN8cGG_K"
   },
   "source": [
    "Suppose you want every number from 0 to 5 to be multiplied by 2.\n",
    "- Create a counter variable and set it to your start point (`i=0`)\n",
    "- Set the logical condition (`while i <= 5:`) \n",
    "- Print the operation of the loop `(print(2*i))` \n",
    "- Add 1 to your counter variable `(i += 1)`"
   ]
  },
  {
   "cell_type": "code",
   "execution_count": 4,
   "id": "OPC1tgoOGPhf",
   "metadata": {
    "colab": {
     "base_uri": "https://localhost:8080/"
    },
    "id": "OPC1tgoOGPhf",
    "outputId": "3f503c23-7709-4f0e-b8c7-d34313bf49bc"
   },
   "outputs": [
    {
     "name": "stdout",
     "output_type": "stream",
     "text": [
      "0\n",
      "2\n",
      "4\n",
      "6\n",
      "8\n",
      "10\n"
     ]
    }
   ],
   "source": [
    "# while loop example\n",
    "\n",
    "i = 0\n",
    "\n",
    "while i <= 5:\n",
    "    print(2 * i)\n",
    "    i += 1"
   ]
  },
  {
   "cell_type": "markdown",
   "id": "e0f1b63e",
   "metadata": {},
   "source": [
    "## Continue"
   ]
  },
  {
   "cell_type": "code",
   "execution_count": null,
   "id": "21e6d6bf",
   "metadata": {},
   "outputs": [],
   "source": []
  },
  {
   "cell_type": "markdown",
   "id": "2dd515d2",
   "metadata": {},
   "source": [
    "## Break"
   ]
  },
  {
   "cell_type": "markdown",
   "id": "dcc2e854",
   "metadata": {
    "id": "dcc2e854"
   },
   "source": [
    "## Nested loops\n",
    "\n",
    "It is possible to combine all of these types of loops to create a sophisticated command. However, when doing this it is *extremely* important to comment your code as you go.\n",
    "\n"
   ]
  },
  {
   "cell_type": "code",
   "execution_count": null,
   "id": "0732fad2",
   "metadata": {
    "colab": {
     "base_uri": "https://localhost:8080/"
    },
    "id": "0732fad2",
    "outputId": "1cdfb03b-d773-4032-c947-d2f8dbb24180"
   },
   "outputs": [
    {
     "name": "stdout",
     "output_type": "stream",
     "text": [
      "v is between 100 and 300\n"
     ]
    }
   ],
   "source": [
    "z = 70\n",
    "w = 3\n",
    "v = z*w\n",
    "\n",
    "#if v is greater than 100\n",
    "if v > 100:\n",
    "    #all these conditions are indented as they only apply if v>100\n",
    "    \n",
    "    #if v is greater than 500\n",
    "    if v > 500:\n",
    "        print('v is greater than 500')\n",
    "        \n",
    "    #if v is not greater than 500\n",
    "    else:\n",
    "        #these are indented as they only apply if 100<v<500\n",
    "        \n",
    "        #if v is between 400 and 500\n",
    "        if 400 < v < 500 :\n",
    "            print('v is between 400 and 500')\n",
    "        #else if v is between 300 and 400    \n",
    "        elif 300 < v < 400:\n",
    "            print('v is between 300 and 400')\n",
    "        #else it is between 100 and 300    \n",
    "        else:\n",
    "            print('v is between 100 and 300')\n",
    "        \n",
    "#this is not indented as it only applies if v is not greater than 100\n",
    "\n",
    "#if v is equal to 100\n",
    "elif v == 100:\n",
    "    print('v is 100')\n",
    "#otherwise v is less than 100    \n",
    "else:\n",
    "    print('v is less than 100')\n",
    "    \n",
    "    \n",
    "#feel free to chnage the varibales and see if it still works!"
   ]
  },
  {
   "cell_type": "code",
   "execution_count": null,
   "id": "6baac464",
   "metadata": {
    "id": "6baac464"
   },
   "outputs": [],
   "source": []
  }
 ],
 "metadata": {
  "colab": {
   "include_colab_link": true,
   "name": "Writing Loops.ipynb",
   "provenance": []
  },
  "kernelspec": {
   "display_name": "Python 3 (ipykernel)",
   "language": "python",
   "name": "python3"
  },
  "language_info": {
   "codemirror_mode": {
    "name": "ipython",
    "version": 3
   },
   "file_extension": ".py",
   "mimetype": "text/x-python",
   "name": "python",
   "nbconvert_exporter": "python",
   "pygments_lexer": "ipython3",
   "version": "3.9.12"
  }
 },
 "nbformat": 4,
 "nbformat_minor": 5
}
