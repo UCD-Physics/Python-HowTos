{
  "cells": [
    {
      "cell_type": "markdown",
      "metadata": {
        "id": "view-in-github",
        "colab_type": "text"
      },
      "source": [
        "<a href=\"https://colab.research.google.com/github/alvaphelan/Python-HowTos/blob/main/Curve_fit.ipynb\" target=\"_parent\"><img src=\"https://colab.research.google.com/assets/colab-badge.svg\" alt=\"Open In Colab\"/></a>"
      ]
    },
    {
      "cell_type": "markdown",
      "id": "580c91fe",
      "metadata": {
        "id": "580c91fe"
      },
      "source": [
        "## Fitting curves to data\n",
        "\n",
        "Another extremely important aspect of this package is using curve_fit in order to fit lines and curves to data. This is useful when comparing theoretical and experimental values.\n",
        "\n",
        "### How it works\n",
        "\n",
        "First, you must import the curve fit function from scipy"
      ]
    },
    {
      "cell_type": "code",
      "execution_count": null,
      "id": "c8ba3ec7",
      "metadata": {
        "id": "c8ba3ec7"
      },
      "outputs": [],
      "source": [
        "from scipy.optimize import curve_fit\n",
        "\n",
        "import numpy as np\n",
        "import matplotlib.pyplot as plt"
      ]
    },
    {
      "cell_type": "code",
      "execution_count": null,
      "id": "2d5a1996",
      "metadata": {
        "id": "2d5a1996"
      },
      "outputs": [],
      "source": [
        "#creating x and y to work with\n",
        "x = np.linspace(-50, 50, 40)\n",
        "y = 6*x -4 "
      ]
    },
    {
      "cell_type": "markdown",
      "id": "d1f27092",
      "metadata": {
        "id": "d1f27092"
      },
      "source": [
        "Then, you must define the function you want to fit to the data. In this example, we will go through a simple straight linear line but this can be done with quadratics, exponentials etc. "
      ]
    },
    {
      "cell_type": "code",
      "execution_count": null,
      "id": "936062d5",
      "metadata": {
        "id": "936062d5"
      },
      "outputs": [],
      "source": [
        "def func(x, m, c):\n",
        "    y = m*x + c\n",
        "    return y"
      ]
    },
    {
      "cell_type": "markdown",
      "id": "8954d366",
      "metadata": {
        "id": "8954d366"
      },
      "source": [
        "Taking m as the slope and c as the intercept, this is the generic form for a straight line. \n",
        "\n",
        "Then, it is time to use curve_fit. This will provide you with two matruces, popt and pcov."
      ]
    },
    {
      "cell_type": "code",
      "execution_count": null,
      "id": "eb208907",
      "metadata": {
        "id": "eb208907"
      },
      "outputs": [],
      "source": [
        "popt, pcov = curve_fit(func, x, y)"
      ]
    },
    {
      "cell_type": "markdown",
      "id": "cf23f016",
      "metadata": {
        "id": "cf23f016"
      },
      "source": [
        "Popt is an array with the optimum parameters for the function (m and c in this case), and they are in the same order as defined in the function. They can be accessed by the following (*as explained in section (link)*)"
      ]
    },
    {
      "cell_type": "code",
      "execution_count": null,
      "id": "be6d8980",
      "metadata": {
        "id": "be6d8980",
        "outputId": "10f2f288-59df-4642-c9b8-ce7d2e21e97d"
      },
      "outputs": [
        {
          "name": "stdout",
          "output_type": "stream",
          "text": [
            "The optimum slope for this function is 6.0 and intercept is -3.999999999999995\n"
          ]
        }
      ],
      "source": [
        "m = popt[0]\n",
        "c = popt[1]\n",
        "print(f\"The optimum slope for this function is {m} and intercept is {c}\")"
      ]
    },
    {
      "cell_type": "markdown",
      "id": "119e9740",
      "metadata": {
        "id": "119e9740"
      },
      "source": [
        "Pcov returns the covariance matrix (explained in more detail here (link)), but simply the errors on the parameters are the square root of the diagonal elements of the matrix, in this case"
      ]
    },
    {
      "cell_type": "code",
      "execution_count": null,
      "id": "c4b6b364",
      "metadata": {
        "id": "c4b6b364"
      },
      "outputs": [],
      "source": [
        "m_error = np.sqrt(pcov[0, 0])\n",
        "c_error = np.sqrt(pcov[1, 1])\n"
      ]
    },
    {
      "cell_type": "markdown",
      "id": "c02a42dc",
      "metadata": {
        "id": "c02a42dc"
      },
      "source": [
        "It is then possible to create a yfit to this function"
      ]
    },
    {
      "cell_type": "code",
      "execution_count": null,
      "id": "8cf9b590",
      "metadata": {
        "id": "8cf9b590",
        "outputId": "7951d916-ce07-46f5-811d-c019a3c96531"
      },
      "outputs": [
        {
          "data": {
            "text/plain": [
              "<matplotlib.legend.Legend at 0x22698b1be80>"
            ]
          },
          "execution_count": 25,
          "metadata": {},
          "output_type": "execute_result"
        },
        {
          "data": {
            "image/png": "[encoded data removed]",
            "text/plain": [
              "<Figure size 432x288 with 1 Axes>"
            ]
          },
          "metadata": {
            "needs_background": "light"
          },
          "output_type": "display_data"
        }
      ],
      "source": [
        "yfit = popt[0]*x + popt[1]\n",
        "\n",
        "#and can then graph the data and yfit\n",
        "plt.scatter(x, y, marker = '.', color = 'black', label = 'data')\n",
        "plt.plot(x, yfit, color = 'red', label = 'yfit using curve_fit')\n",
        "plt.xlabel('X axis')\n",
        "plt.ylabel('Y axis')\n",
        "plt.title('Example Graph')\n",
        "plt.grid(True)\n",
        "plt.legend(loc = 'lower right')"
      ]
    },
    {
      "cell_type": "code",
      "execution_count": null,
      "id": "b9fce21a",
      "metadata": {
        "id": "b9fce21a"
      },
      "outputs": [],
      "source": [
        ""
      ]
    },
    {
      "cell_type": "code",
      "execution_count": null,
      "id": "0407ae7d",
      "metadata": {
        "id": "0407ae7d"
      },
      "outputs": [],
      "source": [
        ""
      ]
    }
  ],
  "metadata": {
    "kernelspec": {
      "display_name": "Python 3",
      "language": "python",
      "name": "python3"
    },
    "language_info": {
      "codemirror_mode": {
        "name": "ipython",
        "version": 3
      },
      "file_extension": ".py",
      "mimetype": "text/x-python",
      "name": "python",
      "nbconvert_exporter": "python",
      "pygments_lexer": "ipython3",
      "version": "3.8.8"
    },
    "colab": {
      "name": "Curve_fit.ipynb",
      "provenance": [],
      "include_colab_link": true
    }
  },
  "nbformat": 4,
  "nbformat_minor": 5
}