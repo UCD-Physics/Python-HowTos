{
 "cells": [
  {
   "cell_type": "markdown",
   "id": "6eae5b96",
   "metadata": {
    "colab_type": "text",
    "id": "view-in-github"
   },
   "source": [
    "<a href=\"https://colab.research.google.com/github/UCD-Physics/Python-HowTos/blob/main/Functions.ipynb\" target=\"_parent\"><img src=\"https://colab.research.google.com/assets/colab-badge.svg\" alt=\"Open In Colab\"/></a>"
   ]
  },
  {
   "cell_type": "markdown",
   "id": "844a7c9a",
   "metadata": {
    "id": "844a7c9a"
   },
   "source": [
    "# Functions\n",
    "\n",
    "## Why use functions?\n",
    "Defining your own functions in Python can be very useful, especially if you're doing repeat calculations with the same equations. \n",
    "\n",
    "Functions make code easier to read and avoid code duplication, which is especially important for maintaining and updating code since modifications will only need to be made in one place.\n",
    "\n",
    "## How to make a function\n",
    "\n",
    "### Definition\n",
    "The way to define your function is to use the `def` command. \n",
    "\n",
    "You can name your function whatever you like (as long as it does not conflict with a Python keyword), but a descriptive name is always best. \n",
    "\n",
    "The recommended way to name Python functions is in lowercase with underscores separating words to improve readability.\n",
    "\n",
    "Functions may take arguments, some of which may be specified as default arguments, and may or may not return values.\n",
    "\n",
    "You may also optionally provide type hints to show the type(s) of the arguments and return values. \n",
    "\n",
    "### Docstring\n",
    "You can (should) specify a documentation string for the function. This is achieved by placing the documentation string in triple quotes (which allows multi-line strings). \n",
    "\n",
    "If you type `help(function_name)` then the docstring will printed."
   ]
  },
  {
   "cell_type": "markdown",
   "id": "b5f89e1c",
   "metadata": {},
   "source": [
    "## Example: convert degrees to radians"
   ]
  },
  {
   "cell_type": "code",
   "execution_count": 56,
   "id": "21d167f0",
   "metadata": {
    "id": "21d167f0"
   },
   "outputs": [],
   "source": [
    "import numpy as np\n",
    "\n",
    "def deg_to_rad(deg):\n",
    "    \"\"\"Convert degrees to radians\"\"\"\n",
    "\n",
    "    return deg * np.pi / 180.0"
   ]
  },
  {
   "cell_type": "code",
   "execution_count": 57,
   "id": "c044ced3",
   "metadata": {
    "colab": {
     "base_uri": "https://localhost:8080/"
    },
    "id": "c044ced3",
    "outputId": "cfa19e85-29a0-45c5-c15d-8d4bcb303c62"
   },
   "outputs": [
    {
     "name": "stdout",
     "output_type": "stream",
     "text": [
      "Help on function deg_to_rad in module __main__:\n",
      "\n",
      "deg_to_rad(deg)\n",
      "    Convert degrees to radians\n",
      "\n"
     ]
    }
   ],
   "source": [
    "# Test\n",
    "\n",
    "help(deg_to_rad)"
   ]
  },
  {
   "cell_type": "code",
   "execution_count": 58,
   "id": "60a8a937",
   "metadata": {},
   "outputs": [
    {
     "name": "stdout",
     "output_type": "stream",
     "text": [
      "90 degrees is 1.571 radians\n"
     ]
    }
   ],
   "source": [
    "print(f'90 degrees is {deg_to_rad(90):.3f} radians')"
   ]
  },
  {
   "cell_type": "markdown",
   "id": "1779af03",
   "metadata": {},
   "source": [
    "### Repeat using type hints\n",
    "\n",
    "In this case we annotate the function definition to tell the user that it takes a float and returns a float. This is only for informational reasons for the user and is not checked by the Python interpreter."
   ]
  },
  {
   "cell_type": "code",
   "execution_count": 59,
   "id": "99e24f96",
   "metadata": {},
   "outputs": [],
   "source": [
    "def deg_to_rad(deg: float) -> float:\n",
    "    \"\"\"Convert degrees to radians\"\"\"\n",
    "\n",
    "    rad = deg * np.pi / 180.0\n",
    "    return rad"
   ]
  },
  {
   "cell_type": "code",
   "execution_count": 60,
   "id": "a1aef778",
   "metadata": {},
   "outputs": [
    {
     "name": "stdout",
     "output_type": "stream",
     "text": [
      "Help on function deg_to_rad in module __main__:\n",
      "\n",
      "deg_to_rad(deg: float) -> float\n",
      "    Convert degrees to radians\n",
      "\n"
     ]
    }
   ],
   "source": [
    "# Test\n",
    "\n",
    "help(deg_to_rad)"
   ]
  },
  {
   "cell_type": "code",
   "execution_count": 61,
   "id": "bc7a3628",
   "metadata": {},
   "outputs": [
    {
     "name": "stdout",
     "output_type": "stream",
     "text": [
      "90 degrees is 1.571 radians\n"
     ]
    }
   ],
   "source": [
    "print(f'90 degrees is {deg_to_rad(90):.3f} radians')"
   ]
  },
  {
   "cell_type": "markdown",
   "id": "e0185de2",
   "metadata": {},
   "source": [
    "## Default argument values\n",
    "\n",
    "When a function is defined you can give some of the parameters default values that will be used if the values are not specified. They must come after required arguments.\n",
    "\n",
    "Example: academic introductions!"
   ]
  },
  {
   "cell_type": "code",
   "execution_count": 62,
   "id": "062131d0",
   "metadata": {},
   "outputs": [
    {
     "name": "stdout",
     "output_type": "stream",
     "text": [
      "Hello Dr. Newton\n",
      "Hello Prof. Einstein\n"
     ]
    }
   ],
   "source": [
    "def introduce(name: str, prefix: str = \"Dr.\") -> None:\n",
    "    \"\"\"Print a greeting to an academic!\"\"\"\n",
    "    \n",
    "    print(f\"Hello {prefix:} {name}\")\n",
    "\n",
    "introduce('Newton')\n",
    "\n",
    "introduce('Einstein', prefix='Prof.')"
   ]
  },
  {
   "cell_type": "markdown",
   "id": "1999fc13",
   "metadata": {},
   "source": [
    "Arguments may also be specified by name, which means the order can be changed.\n",
    "\n",
    "Example:"
   ]
  },
  {
   "cell_type": "code",
   "execution_count": 73,
   "id": "697fcc92",
   "metadata": {},
   "outputs": [
    {
     "name": "stdout",
     "output_type": "stream",
     "text": [
      "111\n",
      "121\n",
      "221\n"
     ]
    }
   ],
   "source": [
    "def fnc(a=100, b=10, c=1):\n",
    "    \"\"\"sum three numbers\"\"\"\n",
    "    return a + b + c\n",
    "\n",
    "\n",
    "print(fnc())  # use all default arguments\n",
    "\n",
    "print(fnc(b=20))  # just change b using argument name\n",
    "\n",
    "print(fnc(b=20, a=200))  # change a and b using argument names"
   ]
  },
  {
   "cell_type": "markdown",
   "id": "431cac89",
   "metadata": {},
   "source": [
    "## Return multiple values\n",
    "\n",
    "Functions may return more than one value. In this case they are returned as a tuple or may be unpacked if the caller provides the appropriate number of variables to return to.\n",
    "\n",
    "### Example of multiple return values"
   ]
  },
  {
   "cell_type": "code",
   "execution_count": 47,
   "id": "7e387fda",
   "metadata": {},
   "outputs": [
    {
     "data": {
      "text/plain": [
       "(21, -1, 110, 0.9090909090909091)"
      ]
     },
     "execution_count": 47,
     "metadata": {},
     "output_type": "execute_result"
    }
   ],
   "source": [
    "def calculations(num1, num2):\n",
    "    \"\"\"Returns the sum, differernce, product and divisor of two numbers\"\"\"\n",
    "    nsum = num1 + num2\n",
    "    ndiff = num1 - num2\n",
    "    nmult = num1 * num2\n",
    "    ndiv = num1/num2\n",
    "\n",
    "    return nsum, ndiff, nmult, ndiv\n",
    "\n",
    "ans = calculations(10,11)\n",
    "ans   # ans is a tuple, access using ans[0], ans[1] ...."
   ]
  },
  {
   "cell_type": "code",
   "execution_count": 48,
   "id": "93db3a4e",
   "metadata": {},
   "outputs": [
    {
     "name": "stdout",
     "output_type": "stream",
     "text": [
      "21\n",
      "-1\n",
      "110\n",
      "0.9090909090909091\n"
     ]
    }
   ],
   "source": [
    "nsum, ndiff, nmult, ndiv = calculations(10,11)  # unpacks the return values.\n",
    "\n",
    "print(nsum, ndiff, nmult, ndiv, sep=\"\\n\")"
   ]
  },
  {
   "cell_type": "markdown",
   "id": "53187806",
   "metadata": {},
   "source": [
    "Here is how to use type hints for multiple return values."
   ]
  },
  {
   "cell_type": "code",
   "execution_count": 78,
   "id": "0d5b3a89",
   "metadata": {},
   "outputs": [
    {
     "data": {
      "text/plain": [
       "(21, -1, 110, 0.9090909090909091)"
      ]
     },
     "execution_count": 78,
     "metadata": {},
     "output_type": "execute_result"
    }
   ],
   "source": [
    "def calculations(num1: float , num2: float) -> tuple[float, float, float, float] :\n",
    "    \"\"\"Returns the sum, differernce, product and divisor of two numbers\"\"\"\n",
    "    nsum = num1 + num2\n",
    "    ndiff = num1 - num2\n",
    "    nmult = num1 * num2\n",
    "    ndiv = num1/num2\n",
    "\n",
    "    return nsum, ndiff, nmult, ndiv\n",
    "\n",
    "ans = calculations(10,11)\n",
    "ans   # ans is a tuple, access using ans[0], ans[1] ...."
   ]
  },
  {
   "cell_type": "markdown",
   "id": "855031f6",
   "metadata": {},
   "source": [
    "## Multiple argument (iterable) unpacking\n",
    "\n",
    "If a function takes several arguments they may be passed as a tuple or list using the `*args` notation (known as iterable unpacking)). \n",
    "\n",
    "This can be very useful when, for example, plotting a function with best-fit values returned by `curve_fit()`\n",
    "\n",
    "It is easier to explain with an example:"
   ]
  },
  {
   "cell_type": "code",
   "execution_count": 49,
   "id": "55f3078b",
   "metadata": {},
   "outputs": [
    {
     "name": "stdout",
     "output_type": "stream",
     "text": [
      "2530.1\n",
      "2530.1\n"
     ]
    }
   ],
   "source": [
    "def poly3(x, a, b, c):\n",
    "    \"\"\"Polynomial with equation a*x**2 + b*x +c\"\"\"\n",
    "    \n",
    "    return a*x**2 + b*x + c\n",
    "\n",
    "bestfit_pars = [25, 3, 0.1]\n",
    "\n",
    "x = 10\n",
    "\n",
    "# pass each value individually\n",
    "value = poly3(x, bestfit_pars[0], bestfit_pars[1], bestfit_pars[2])\n",
    "print(value)\n",
    "\n",
    "# or, with iterable unpacking\n",
    "value = poly3(x, *bestfit_pars)\n",
    "print(value)"
   ]
  },
  {
   "cell_type": "markdown",
   "id": "f5bc7a74",
   "metadata": {},
   "source": [
    "## Variable Scope and Global Variables\n",
    "\n",
    "If inside a function you try to access a variable that is not passed to it as an argument, then Python searches for them in the main program scope (global variables). Be careful if you are using global variables as it can be lead to unexpected results if their values change. Note: this was impicitly done in the example above where `np.pi` was not passed as a function argument! \n",
    "\n",
    "\n",
    "Variables must be defined before the function is called, they do not have to exist when the function is defined. \n",
    "\n",
    "### Example: calculate weight using global acceleration due to gravity (constant)"
   ]
  },
  {
   "cell_type": "code",
   "execution_count": 50,
   "id": "5c67505d",
   "metadata": {},
   "outputs": [
    {
     "data": {
      "text/plain": [
       "735.75"
      ]
     },
     "execution_count": 50,
     "metadata": {},
     "output_type": "execute_result"
    }
   ],
   "source": [
    "g = 9.81  # acceleration due to gravity\n",
    "\n",
    "def weight(mass: float) -> float:\n",
    "    \"\"\"Calculate the weight on Earth's surface given mass (in kg)\"\"\"\n",
    "    \n",
    "    return mass * g\n",
    "    \n",
    "weight(75)"
   ]
  },
  {
   "cell_type": "markdown",
   "id": "b5e8dc29",
   "metadata": {},
   "source": [
    "It is strongly recommended to only access global variables in functions for things that are truly constant and will not be changed (such as Physics constants) and to pass all other variables as arguments.\n",
    "\n",
    "### Example with Hall Effect\n",
    "\n",
    "When doing calculations with lots of variables, it is much more clear if all of them are defined before the equation. This can help avoid mistakes and keeps the code much neater. For example, in an experiment examining the hall effect, voltage and current are measured while the magnetic field is kept constant. This relationship follows the equation:\n",
    "\n",
    "$$ R_H = \\frac{V_H w}{IB}$$ \n",
    "\n",
    "where $V_H$ is the Hall voltage, $w$ is the width of the conductor, $I$ is the current and $B$ is the magnetic field strength.\n",
    "\n",
    "Putting in the form of a straight line for when $V_H$ is plotted against $I$:\n",
    "\n",
    "$$V_H = \\frac{R_H B}{w}I$$\n",
    "\n",
    "So in this case if you were looking for the hall constant($R_H$), the slope of the graph ($m$) achieved would be equal to\n",
    "\n",
    "$$m = \\frac{R_H B}{w}$$\n",
    "\n",
    "or\n",
    "\n",
    "$$ R_H = \\frac{m w}{B} $$\n",
    "\n",
    "In this case we would define a function which takes the slope $m$, width $w$ and magnetic field ($B$) as arguments and return the Hall constant"
   ]
  },
  {
   "cell_type": "code",
   "execution_count": 79,
   "id": "4ad7a6e1",
   "metadata": {},
   "outputs": [
    {
     "name": "stdout",
     "output_type": "stream",
     "text": [
      "The hall constant was found to be 0.262 m3/C\n"
     ]
    }
   ],
   "source": [
    "def hall_constant(m: float, w: float, B: float) -> float:\n",
    "    \"\"\"Calculate the Hall constant R_H from arguments:\n",
    "    m: the slope of the V_H vs I graph\n",
    "    w: the conductor width (m)\n",
    "    B: the magnetic field (T)\"\"\"\n",
    "    \n",
    "    R_H = (m*w)/B\n",
    "    return R_H\n",
    "\n",
    "\n",
    "#define the variables (using made-up data)\n",
    "m = -8.5\n",
    "w = 0.0012\n",
    "B = -0.039\n",
    "\n",
    "#in this case\n",
    "print(f\"The hall constant was found to be {hall_constant(m, w, B):.3f} m3/C\")"
   ]
  },
  {
   "cell_type": "markdown",
   "id": "a654542b",
   "metadata": {},
   "source": [
    "Local variables inside a function only exist there and not outside the function.\n",
    "Local variable names which match the names of global variables do not over-write the global variables.\n",
    "\n",
    "### Example of local names"
   ]
  },
  {
   "cell_type": "code",
   "execution_count": 80,
   "id": "e14337b0",
   "metadata": {},
   "outputs": [
    {
     "name": "stdout",
     "output_type": "stream",
     "text": [
      "Hello Isaac\n",
      "Albert\n"
     ]
    }
   ],
   "source": [
    "name = \"Albert\"\n",
    "\n",
    "def say_hello():\n",
    "    name = \"Isaac\"       # local to this function only\n",
    "    print(\"Hello\",name)\n",
    "\n",
    "say_hello()\n",
    "print(name) # should still be Albert"
   ]
  },
  {
   "cell_type": "code",
   "execution_count": 81,
   "id": "e0919222",
   "metadata": {},
   "outputs": [
    {
     "name": "stdout",
     "output_type": "stream",
     "text": [
      "10\n"
     ]
    },
    {
     "ename": "NameError",
     "evalue": "name 'variable' is not defined",
     "output_type": "error",
     "traceback": [
      "\u001b[0;31m---------------------------------------------------------------------------\u001b[0m",
      "\u001b[0;31mNameError\u001b[0m                                 Traceback (most recent call last)",
      "\u001b[0;32m/var/folders/58/90qr97l143999231xxl1m_s80000gn/T/ipykernel_6119/4128832124.py\u001b[0m in \u001b[0;36m<cell line: 8>\u001b[0;34m()\u001b[0m\n\u001b[1;32m      6\u001b[0m \u001b[0;34m\u001b[0m\u001b[0m\n\u001b[1;32m      7\u001b[0m \u001b[0mprint_local_variable\u001b[0m\u001b[0;34m(\u001b[0m\u001b[0;34m)\u001b[0m\u001b[0;34m\u001b[0m\u001b[0;34m\u001b[0m\u001b[0m\n\u001b[0;32m----> 8\u001b[0;31m \u001b[0mprint\u001b[0m\u001b[0;34m(\u001b[0m\u001b[0mvariable\u001b[0m\u001b[0;34m)\u001b[0m     \u001b[0;31m# should give a NameError\u001b[0m\u001b[0;34m\u001b[0m\u001b[0;34m\u001b[0m\u001b[0m\n\u001b[0m",
      "\u001b[0;31mNameError\u001b[0m: name 'variable' is not defined"
     ]
    }
   ],
   "source": [
    "# local variable error:\n",
    "\n",
    "def print_local_variable():\n",
    "    variable = 10    # variable is local and only exists in the function\n",
    "    print(variable)\n",
    "\n",
    "print_local_variable()\n",
    "print(variable)     # should give a NameError"
   ]
  },
  {
   "cell_type": "code",
   "execution_count": null,
   "id": "32c0df03",
   "metadata": {},
   "outputs": [],
   "source": []
  }
 ],
 "metadata": {
  "colab": {
   "include_colab_link": true,
   "name": "Functions.ipynb",
   "provenance": []
  },
  "kernelspec": {
   "display_name": "Python 3 (ipykernel)",
   "language": "python",
   "name": "python3"
  },
  "language_info": {
   "codemirror_mode": {
    "name": "ipython",
    "version": 3
   },
   "file_extension": ".py",
   "mimetype": "text/x-python",
   "name": "python",
   "nbconvert_exporter": "python",
   "pygments_lexer": "ipython3",
   "version": "3.9.7"
  },
  "latex_envs": {
   "LaTeX_envs_menu_present": true,
   "autoclose": true,
   "autocomplete": true,
   "bibliofile": "biblio.bib",
   "cite_by": "apalike",
   "current_citInitial": 1,
   "eqLabelWithNumbers": true,
   "eqNumInitial": 1,
   "hotkeys": {
    "equation": "Ctrl-E",
    "itemize": "Ctrl-I"
   },
   "labels_anchors": false,
   "latex_user_defs": false,
   "report_style_numbering": true,
   "user_envs_cfg": false
  },
  "toc": {
   "base_numbering": 1,
   "nav_menu": {},
   "number_sections": true,
   "sideBar": true,
   "skip_h1_title": false,
   "title_cell": "Table of Contents",
   "title_sidebar": "Contents",
   "toc_cell": false,
   "toc_position": {},
   "toc_section_display": true,
   "toc_window_display": false
  },
  "varInspector": {
   "cols": {
    "lenName": 16,
    "lenType": 16,
    "lenVar": 40
   },
   "kernels_config": {
    "python": {
     "delete_cmd_postfix": "",
     "delete_cmd_prefix": "del ",
     "library": "var_list.py",
     "varRefreshCmd": "print(var_dic_list())"
    },
    "r": {
     "delete_cmd_postfix": ") ",
     "delete_cmd_prefix": "rm(",
     "library": "var_list.r",
     "varRefreshCmd": "cat(var_dic_list()) "
    }
   },
   "types_to_exclude": [
    "module",
    "function",
    "builtin_function_or_method",
    "instance",
    "_Feature"
   ],
   "window_display": false
  }
 },
 "nbformat": 4,
 "nbformat_minor": 5
}
