{
 "cells": [
  {
   "cell_type": "markdown",
   "id": "e8568625",
   "metadata": {
    "colab_type": "text",
    "id": "view-in-github"
   },
   "source": [
    "<a href=\"https://colab.research.google.com/github/UCD-Physics/Python-HowTos/blob/main/For_Loops.ipynb\" target=\"_parent\"><img src=\"https://colab.research.google.com/assets/colab-badge.svg\" alt=\"Open In Colab\"/></a>"
   ]
  },
  {
   "cell_type": "markdown",
   "id": "98a40503",
   "metadata": {
    "id": "98a40503"
   },
   "source": [
    "# How to write 'For' loops\n",
    "\n",
    "Loops are very helpful for iterating a calculation and are used a lot when interfacing in order to collect data. \n",
    "\n",
    "In Python there are two main type of loops: `for` loops and `while` loops.\n",
    "\n",
    "Note: for lists and dictionaries, looping can often be replaced with List Comprehensions, for example see the appropriate section in this notebook: [Lists.ipynb](https://github.com/UCD-Physics/Python-HowTos/blob/main/Lists.ipynb)"
   ]
  },
  {
   "cell_type": "markdown",
   "id": "882b2ba1",
   "metadata": {
    "id": "882b2ba1"
   },
   "source": [
    "There are often many ways to execute a loop, just ensure to do what makes sense to you."
   ]
  },
  {
   "cell_type": "markdown",
   "id": "db84eda9",
   "metadata": {
    "id": "db84eda9"
   },
   "source": [
    "## `For` loops\n",
    "\n",
    "For loops are very useful to iterate over an array of elements in a container, or execute a lop a set number of times (it is possible to skip a loop or break out from the loop when some condition is met).\n",
    "\n",
    "The basic `for` loop syntax is:\n",
    "```\n",
    "for value in iterable:\n",
    "    execute_statements1\n",
    "else:\n",
    "    execute_statements2\n",
    "```\n",
    "where\n",
    " * `iterable` is something that can be iterated over, like a list or a range\n",
    " * `execute_statements` are blocks of statements defined by indentation.\n",
    " * the `else` clause is optional and rarely used - it only gets \n",
    "\n",
    "This is best illustrated through examples:"
   ]
  },
  {
   "cell_type": "code",
   "execution_count": 1,
   "id": "3036abc0",
   "metadata": {
    "colab": {
     "base_uri": "https://localhost:8080/"
    },
    "id": "3036abc0",
    "outputId": "9cb11c1f-57b9-4d95-f4bc-2f79629aac04"
   },
   "outputs": [
    {
     "name": "stdout",
     "output_type": "stream",
     "text": [
      "sunny\n",
      "cloudy\n",
      "rainy\n",
      "windy\n"
     ]
    }
   ],
   "source": [
    "# to print out all the values in an array\n",
    "\n",
    "#start with some array, weather for example\n",
    "weather = [\"sunny\", \"cloudy\", \"rainy\", \"windy\"]\n",
    "\n",
    "#then say for the variables (x) in the array (weather), print out the variables\n",
    "for x in weather:\n",
    "    print(x)"
   ]
  },
  {
   "cell_type": "markdown",
   "id": "b8b06957",
   "metadata": {},
   "source": [
    "### `range()`\n",
    "\n",
    "To loop a set number of times you can use the `range()` generator.\n",
    "\n",
    "`range()` takes one to three arguments\n",
    " * `range(end)`: produces numbers in the range 0 to end-1\n",
    " * `range(begin, end)`: produces numbers in the range begin to end-1\n",
    " * `range(begin, end, step)`: produces numbers in the range begin to end-1 in given steps:\n",
    "\n",
    "Note: a python generator generates a new value for you each time through the loop - it does not generate all of the values at once - if you want all the values in list or tuple convert it to a list with `list(range(N))` or a tuple with `tuple(range(N))`.\n",
    "\n",
    "Examples of `range()`:"
   ]
  },
  {
   "cell_type": "code",
   "execution_count": 11,
   "id": "78ba3f79",
   "metadata": {},
   "outputs": [
    {
     "name": "stdout",
     "output_type": "stream",
     "text": [
      "0\n",
      "1\n",
      "2\n",
      "3\n",
      "4\n",
      "5\n"
     ]
    }
   ],
   "source": [
    "# example to loop a set number of times\n",
    "\n",
    "for i in range(6):\n",
    "    print(i)"
   ]
  },
  {
   "cell_type": "code",
   "execution_count": 12,
   "id": "b513acb7",
   "metadata": {},
   "outputs": [
    {
     "name": "stdout",
     "output_type": "stream",
     "text": [
      "3\n",
      "4\n",
      "5\n"
     ]
    }
   ],
   "source": [
    "# example to loop a set number of times\n",
    "\n",
    "for i in range(3,6):\n",
    "    print(i)"
   ]
  },
  {
   "cell_type": "code",
   "execution_count": 13,
   "id": "074c6670",
   "metadata": {},
   "outputs": [
    {
     "name": "stdout",
     "output_type": "stream",
     "text": [
      "0\n",
      "2\n",
      "4\n"
     ]
    }
   ],
   "source": [
    "# example to loop a set number of times\n",
    "\n",
    "for i in range(0,6,2):\n",
    "    print(i)"
   ]
  },
  {
   "cell_type": "markdown",
   "id": "647939a9",
   "metadata": {
    "id": "647939a9"
   },
   "source": [
    "### Skip rest of this loop iteration with  `continue`\n",
    "\n",
    "It is possible to skip the rest of the current iteration and go to the start of the next iterations by the command ``continue`:"
   ]
  },
  {
   "cell_type": "code",
   "execution_count": 14,
   "id": "596d12de",
   "metadata": {
    "colab": {
     "base_uri": "https://localhost:8080/"
    },
    "id": "596d12de",
    "outputId": "04e3ca3e-f9b3-4012-d134-01d968afcab0"
   },
   "outputs": [
    {
     "name": "stdout",
     "output_type": "stream",
     "text": [
      "7\n",
      "14\n",
      "21\n",
      "28\n",
      "35\n",
      "42\n",
      "49\n"
     ]
    }
   ],
   "source": [
    "# example to print out numbers evenly divisible by 7 in the range 1 to 50\n",
    "\n",
    "for n in range(1,50):\n",
    "    if n % 7:     # could have done: if (n % 7) != 0 but here using non-zero as True\n",
    "        continue\n",
    "    print(n)"
   ]
  },
  {
   "cell_type": "markdown",
   "id": "60229b91",
   "metadata": {
    "id": "60229b91"
   },
   "source": [
    "### Exit the loop with `break`\n",
    "\n",
    "It is also possible to stop the iteration and jump out of the loop by the command `break`.\n",
    "\n",
    "Note: if we have one loop nested within another loop, the `break` statement only breaks out of the loop within which it is executing."
   ]
  },
  {
   "cell_type": "code",
   "execution_count": 25,
   "id": "21b78173",
   "metadata": {
    "colab": {
     "base_uri": "https://localhost:8080/"
    },
    "id": "21b78173",
    "outputId": "296af6f8-9982-4dd7-f673-b5141f9fce4a"
   },
   "outputs": [
    {
     "name": "stdout",
     "output_type": "stream",
     "text": [
      "Please enter maximum number of iterations: 100\n",
      "Total 105 found at iteration 14\n"
     ]
    }
   ],
   "source": [
    "# example to stop the loop when a certain condition is reached\n",
    "\n",
    "# find how many integers in sequence (0, 1, 2, 3...) are needed to sum to 100.\n",
    "\n",
    "max_iter = int(input(\"Please enter maximum number of iterations: \"))\n",
    "\n",
    "total = 0\n",
    "for n in range(max_iter):\n",
    "    total += n\n",
    "    if total >= 100:\n",
    "        print(f\"Total {total} found at iteration {n}\")\n",
    "        break\n",
    "else:                     # else clause only execute if loop ends normally and no break\n",
    "    print(f\"Not enough iterations - only {total} reached!\")\n"
   ]
  },
  {
   "cell_type": "markdown",
   "id": "cb645942",
   "metadata": {
    "id": "cb645942"
   },
   "source": [
    "### Looping and indexing at the same time with `enumerate()`.\n",
    "\n",
    "Sometimes it is desireable to loop over an iterable which also knowing the index of each element. \n",
    "\n",
    "This can be achieved using `for i, item in enumerate(iterable)` which returns, `i`, the index along with the `item` for evey object in the list..\n"
   ]
  },
  {
   "cell_type": "code",
   "execution_count": 6,
   "id": "7dec743c",
   "metadata": {
    "colab": {
     "base_uri": "https://localhost:8080/"
    },
    "id": "7dec743c",
    "outputId": "82302376-dcf1-44a0-880c-060659c09c5b"
   },
   "outputs": [
    {
     "name": "stdout",
     "output_type": "stream",
     "text": [
      "0: July 2nd\n",
      "1: July 3rd\n",
      "2: July 4th\n",
      "3: July 5th\n",
      "4: July 6th\n"
     ]
    }
   ],
   "source": [
    "# example of using enumerate\n",
    "\n",
    "# to loop over list and print index and item of each \n",
    "\n",
    "date = ['July 2nd', 'July 3rd', 'July 4th', 'July 5th', 'July 6th']\n",
    "wind_speed = [22, 25, 36, 11, 15]\n",
    "\n",
    "#to number the dates\n",
    "for i, day in enumerate(date):\n",
    "    print(i, day, sep=\": \")\n"
   ]
  },
  {
   "cell_type": "markdown",
   "id": "4ebffd6e",
   "metadata": {},
   "source": [
    "### Looping over several iterables at the same time \n",
    "\n",
    "Sometimes it is desireable to loop over several iterables at the same time, for example if we have multiple lists of corresponding items.  \n",
    "\n",
    "This can be achieved using `for item1, item2 in zip(iterable1, iterable2)` and it can be extended to more than two iterables."
   ]
  },
  {
   "cell_type": "code",
   "execution_count": 4,
   "id": "0db452fb",
   "metadata": {
    "colab": {
     "base_uri": "https://localhost:8080/"
    },
    "id": "0db452fb",
    "outputId": "d5a6839f-a358-450a-abe3-6ebc5a54c835"
   },
   "outputs": [
    {
     "name": "stdout",
     "output_type": "stream",
     "text": [
      "July 2nd, 22\n",
      "July 3rd, 25\n",
      "July 4th, 36\n",
      "July 5th, 11\n",
      "July 6th, 15\n"
     ]
    }
   ],
   "source": [
    "# example of using zip\n",
    "\n",
    "# to print out the date next to the wind speed\n",
    "\n",
    "date = ['July 2nd', 'July 3rd', 'July 4th', 'July 5th', 'July 6th']\n",
    "wind_speed = [22, 25, 36, 11, 15]\n",
    "\n",
    "for day, speed in zip(date, wind_speed):\n",
    "    print(day, speed, sep=\", \")"
   ]
  },
  {
   "cell_type": "markdown",
   "id": "u13epN8cGG_K",
   "metadata": {
    "id": "u13epN8cGG_K"
   },
   "source": [
    "## While loops\n",
    "\n",
    "While loops work by setting a condition that must be true while the loop does something, and the loop stops once the condition is not met anymore. These are best understood by an example:\n",
    "Suppose you want every number from 0 to 5 to be multiplied by 2.\n",
    "- Create a variable and set it to your start point (i=0)\n",
    "- Set the condition (while i <= 5:) (*<= i less than or equal to*)\n",
    "- Print the operation of the loop (print(2*i)) \n",
    "- Add 1 to your variable (i = 1 + i)"
   ]
  },
  {
   "cell_type": "code",
   "execution_count": null,
   "id": "OPC1tgoOGPhf",
   "metadata": {
    "colab": {
     "base_uri": "https://localhost:8080/"
    },
    "id": "OPC1tgoOGPhf",
    "outputId": "3f503c23-7709-4f0e-b8c7-d34313bf49bc"
   },
   "outputs": [
    {
     "name": "stdout",
     "output_type": "stream",
     "text": [
      "0\n",
      "2\n",
      "4\n",
      "6\n",
      "8\n",
      "10\n"
     ]
    }
   ],
   "source": [
    "#in code \n",
    "\n",
    "#creating variable\n",
    "i = 0\n",
    "#creating condition that must be satisfied\n",
    "while i<=5:\n",
    "    #print the outcome of the operation\n",
    "    print(2*i)\n",
    "    ##move to the next number\n",
    "    i = i +1"
   ]
  },
  {
   "cell_type": "markdown",
   "id": "dcc2e854",
   "metadata": {
    "id": "dcc2e854"
   },
   "source": [
    "## Nested loops\n",
    "\n",
    "It is possible to combine all of these types of loops to create a sophisticated command. However, when doing this it is *extremely* important to comment your code as you go.\n",
    "\n"
   ]
  },
  {
   "cell_type": "code",
   "execution_count": null,
   "id": "0732fad2",
   "metadata": {
    "colab": {
     "base_uri": "https://localhost:8080/"
    },
    "id": "0732fad2",
    "outputId": "1cdfb03b-d773-4032-c947-d2f8dbb24180"
   },
   "outputs": [
    {
     "name": "stdout",
     "output_type": "stream",
     "text": [
      "v is between 100 and 300\n"
     ]
    }
   ],
   "source": [
    "z = 70\n",
    "w = 3\n",
    "v = z*w\n",
    "\n",
    "#if v is greater than 100\n",
    "if v > 100:\n",
    "    #all these conditions are indented as they only apply if v>100\n",
    "    \n",
    "    #if v is greater than 500\n",
    "    if v > 500:\n",
    "        print('v is greater than 500')\n",
    "        \n",
    "    #if v is not greater than 500\n",
    "    else:\n",
    "        #these are indented as they only apply if 100<v<500\n",
    "        \n",
    "        #if v is between 400 and 500\n",
    "        if 400 < v < 500 :\n",
    "            print('v is between 400 and 500')\n",
    "        #else if v is between 300 and 400    \n",
    "        elif 300 < v < 400:\n",
    "            print('v is between 300 and 400')\n",
    "        #else it is between 100 and 300    \n",
    "        else:\n",
    "            print('v is between 100 and 300')\n",
    "        \n",
    "#this is not indented as it only applies if v is not greater than 100\n",
    "\n",
    "#if v is equal to 100\n",
    "elif v == 100:\n",
    "    print('v is 100')\n",
    "#otherwise v is less than 100    \n",
    "else:\n",
    "    print('v is less than 100')\n",
    "    \n",
    "    \n",
    "#feel free to chnage the varibales and see if it still works!"
   ]
  },
  {
   "cell_type": "code",
   "execution_count": null,
   "id": "6baac464",
   "metadata": {
    "id": "6baac464"
   },
   "outputs": [],
   "source": []
  }
 ],
 "metadata": {
  "colab": {
   "include_colab_link": true,
   "name": "Writing Loops.ipynb",
   "provenance": []
  },
  "kernelspec": {
   "display_name": "Python 3 (ipykernel)",
   "language": "python",
   "name": "python3"
  },
  "language_info": {
   "codemirror_mode": {
    "name": "ipython",
    "version": 3
   },
   "file_extension": ".py",
   "mimetype": "text/x-python",
   "name": "python",
   "nbconvert_exporter": "python",
   "pygments_lexer": "ipython3",
   "version": "3.9.12"
  }
 },
 "nbformat": 4,
 "nbformat_minor": 5
}
