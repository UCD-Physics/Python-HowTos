{
  "cells": [
    {
      "cell_type": "markdown",
      "metadata": {
        "id": "view-in-github",
        "colab_type": "text"
      },
      "source": [
        "<a href=\"https://colab.research.google.com/github/UCD-Physics/Python-HowTos/blob/main/Error_Bars.ipynb\" target=\"_parent\"><img src=\"https://colab.research.google.com/assets/colab-badge.svg\" alt=\"Open In Colab\"/></a>"
      ]
    },
    {
      "cell_type": "markdown",
      "id": "a1913bed",
      "metadata": {
        "id": "a1913bed"
      },
      "source": [
        "# Error Analysis"
      ]
    },
    {
      "cell_type": "markdown",
      "id": "7fb20f12",
      "metadata": {
        "id": "7fb20f12"
      },
      "source": [
        "In physics experiments, errors are extremely important. More information on them can be found [here](https://veritas.ucd.ie/~apl/labs_master/docs/2020/DA/Measurement_Probability_Distributions.pdf), but in this section, we will just be focusing on how to deal with them when graphing.\n",
        "\n",
        "For this example, suppose you are doing an experiment where voltage is supposed to increase linearly with time.\n",
        "Starting with importing the relevant packages and your data:"
      ]
    },
    {
      "cell_type": "code",
      "execution_count": 1,
      "id": "ba51c7d4",
      "metadata": {
        "id": "ba51c7d4"
      },
      "outputs": [],
      "source": [
        "import numpy as np\n",
        "import matplotlib.pyplot as plt\n",
        "from scipy.optimize import curve_fit"
      ]
    },
    {
      "cell_type": "markdown",
      "source": [
        "*In order to upload the sample data used in this section, run the following line of code in order to clone the UCD Physics 'how-to' repository. Then, in the 'files' section on the left hand-side of the screen, click the 'Python-HowTos' to see the drop-down of files. Lastly, drag the 'sample_data1.txt' file out of the python how-tos and drop them in order to upload them to the session storage.*"
      ],
      "metadata": {
        "id": "i986q9ZySDUV"
      },
      "id": "i986q9ZySDUV"
    },
    {
      "cell_type": "code",
      "source": [
        "!git clone https://github.com/UCD-Physics/Python-HowTos"
      ],
      "metadata": {
        "id": "7tolLG7SSEo8",
        "outputId": "80f4a62c-0708-4fe9-d7fe-7fdec7370396",
        "colab": {
          "base_uri": "https://localhost:8080/"
        }
      },
      "id": "7tolLG7SSEo8",
      "execution_count": 2,
      "outputs": [
        {
          "output_type": "stream",
          "name": "stdout",
          "text": [
            "Cloning into 'Python-HowTos'...\n",
            "remote: Enumerating objects: 172, done.\u001b[K\n",
            "remote: Counting objects: 100% (85/85), done.\u001b[K\n",
            "remote: Compressing objects: 100% (54/54), done.\u001b[K\n",
            "remote: Total 172 (delta 58), reused 36 (delta 31), pack-reused 87\u001b[K\n",
            "Receiving objects: 100% (172/172), 317.01 KiB | 5.98 MiB/s, done.\n",
            "Resolving deltas: 100% (95/95), done.\n"
          ]
        }
      ]
    },
    {
      "cell_type": "code",
      "execution_count": 3,
      "id": "92e2e1e4",
      "metadata": {
        "id": "92e2e1e4"
      },
      "outputs": [],
      "source": [
        "volt, time = np.loadtxt('sample_data1.txt', skiprows = 1, unpack = True)"
      ]
    },
    {
      "cell_type": "markdown",
      "id": "8f3d47c2",
      "metadata": {
        "id": "8f3d47c2"
      },
      "source": [
        "Then, plot the raw data and create a line of best fit:"
      ]
    },
    {
      "cell_type": "code",
      "execution_count": 4,
      "id": "a5b1c7c0",
      "metadata": {
        "colab": {
          "base_uri": "https://localhost:8080/",
          "height": 312
        },
        "id": "a5b1c7c0",
        "outputId": "26920674-2146-4658-fe6d-1701d848e44a"
      },
      "outputs": [
        {
          "output_type": "execute_result",
          "data": {
            "text/plain": [
              "<matplotlib.legend.Legend at 0x7f218e4f0710>"
            ]
          },
          "metadata": {},
          "execution_count": 4
        },
        {
          "output_type": "display_data",
          "data": {
            "text/plain": [
              "<Figure size 432x288 with 1 Axes>"
            ],
            "image/png": "[encoded data removed]"
          },
          "metadata": {
            "needs_background": "light"
          }
        }
      ],
      "source": [
        "#plotting data\n",
        "plt.scatter(time, volt, marker = '.', color = 'black', label = 'data')\n",
        "plt.xlabel('time (s)')\n",
        "plt.ylabel('voltage (mV)')\n",
        "plt.title('Graph of voltage vs. time')\n",
        "plt.grid(True)\n",
        "\n",
        "#line of best fit\n",
        "\n",
        "#define linear function\n",
        "def func(x, m, c):\n",
        "    y = m*x + c\n",
        "    return y\n",
        "#using curve_fit\n",
        "popt, pcov = curve_fit(func, time, volt)\n",
        "m = popt[0]\n",
        "m_error = np.sqrt(pcov[0,0])\n",
        "c = popt[1]\n",
        "c_error = np.sqrt(pcov[1,1])\n",
        "#plotting best fit\n",
        "plt.plot(time, m*time + c, label = 'best fit', color = 'red')\n",
        "plt.legend(loc = 'lower right')"
      ]
    },
    {
      "cell_type": "markdown",
      "id": "09921f74",
      "metadata": {
        "id": "09921f74"
      },
      "source": [
        "At this stage, as done previously [here](https://github.com/UCD-Physics/Python-HowTos/blob/main/Curve_fit.ipynb), the best fit line gains an estimate for the slope and intercept of this line. However, these parameters and their errors can portray a more accurate reflection of the true value by including the errors on voltage and time in these calculations.\n",
        "\n",
        "There are many aspects to errors and different ways to attain them, (as seen in link at top of page), but in this simple example we will take the error on the voltage to be +/- 1 (taken as the voltage reading was fluctuating between two values) and the error on the time to be +/- 0.1 (the accuracy of the equipment used to measure time.)\n",
        "\n",
        "The function plt.errorbars() is used here, for more information on this function, especially that of customising size and/or colour, click [here](https://matplotlib.org/stable/api/_as_gen/matplotlib.pyplot.errorbar.html)"
      ]
    },
    {
      "cell_type": "code",
      "execution_count": 5,
      "id": "64733b31",
      "metadata": {
        "colab": {
          "base_uri": "https://localhost:8080/",
          "height": 312
        },
        "id": "64733b31",
        "outputId": "cb845ebf-2d40-4678-b568-ed056f7bc140"
      },
      "outputs": [
        {
          "output_type": "execute_result",
          "data": {
            "text/plain": [
              "<matplotlib.legend.Legend at 0x7f218dfb9290>"
            ]
          },
          "metadata": {},
          "execution_count": 5
        },
        {
          "output_type": "display_data",
          "data": {
            "text/plain": [
              "<Figure size 432x288 with 1 Axes>"
            ],
            "image/png": "[encoded data removed]"
          },
          "metadata": {
            "needs_background": "light"
          }
        }
      ],
      "source": [
        "#first define the errors\n",
        "volt_error = np.repeat(1, 11)\n",
        "time_error = np.repeat(0.1, 11)\n",
        "\n",
        "#set up the graph again\n",
        "plt.scatter(time, volt, marker = '.', color = 'black', label = 'data')\n",
        "plt.xlabel('time (s)')\n",
        "plt.ylabel('voltage (mV)')\n",
        "plt.title('Graph of voltage vs. time with errorbars')\n",
        "plt.grid(True)\n",
        "\n",
        "#then use the pyplot.errorbar() function\n",
        "plt.errorbar(time, volt, yerr = volt_error, xerr = time_error, fmt = '.', color = 'blue', label = 'errors')\n",
        "\n",
        "#using curve_fit\n",
        "popt, pcov = curve_fit(func, time, volt, sigma = volt_error, absolute_sigma = True)\n",
        "m1 = popt[0]\n",
        "m1_error = np.sqrt(pcov[0,0])\n",
        "c1 = popt[1]\n",
        "c1_error = np.sqrt(pcov[1,1])\n",
        "#plotting best fit\n",
        "plt.plot(time, m1*time + c1, label = 'best fit', color = 'red')\n",
        "\n",
        "plt.legend(loc = 'lower right')\n"
      ]
    },
    {
      "cell_type": "code",
      "execution_count": 6,
      "id": "7b9d0005",
      "metadata": {
        "colab": {
          "base_uri": "https://localhost:8080/"
        },
        "id": "7b9d0005",
        "outputId": "fa49e56c-8bdc-48a8-f1ae-64de35fac8db"
      },
      "outputs": [
        {
          "output_type": "stream",
          "name": "stdout",
          "text": [
            "The slope of the data without included errors was found to be 2.491 +/- 0.057 while with included errors was found to be 2.491 +/- 0.048\n",
            "The intercept of the data without included errors was found to be 0.564 +/- 0.768 while with included errors was found to be 0.564 +/- 0.647\n"
          ]
        }
      ],
      "source": [
        "#comparing values\n",
        "print(f\"The slope of the data without included errors was found to be {m:.3f} +/- {m_error:.3f} while with included errors was found to be {m1:.3f} +/- {m1_error:.3f}\")\n",
        "print(f\"The intercept of the data without included errors was found to be {c:.3f} +/- {c_error:.3f} while with included errors was found to be {c1:.3f} +/- {c1_error:.3f}\")"
      ]
    },
    {
      "cell_type": "markdown",
      "id": "dc6b1840",
      "metadata": {
        "id": "dc6b1840"
      },
      "source": [
        "From the values seen above, it is clear that including errors in your data greatly reduces the overall error of the slope and intercept, leading to more accurate conclusions. "
      ]
    },
    {
      "cell_type": "markdown",
      "id": "5fb80f3b",
      "metadata": {
        "id": "5fb80f3b"
      },
      "source": [
        ""
      ]
    }
  ],
  "metadata": {
    "kernelspec": {
      "display_name": "Python 3",
      "language": "python",
      "name": "python3"
    },
    "language_info": {
      "codemirror_mode": {
        "name": "ipython",
        "version": 3
      },
      "file_extension": ".py",
      "mimetype": "text/x-python",
      "name": "python",
      "nbconvert_exporter": "python",
      "pygments_lexer": "ipython3",
      "version": "3.8.8"
    },
    "colab": {
      "name": "Error Bars.ipynb",
      "provenance": [],
      "include_colab_link": true
    }
  },
  "nbformat": 4,
  "nbformat_minor": 5
}