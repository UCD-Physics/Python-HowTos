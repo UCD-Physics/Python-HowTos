{
  "cells": [
    {
      "cell_type": "markdown",
      "metadata": {
        "id": "view-in-github",
        "colab_type": "text"
      },
      "source": [
        "<a href=\"https://colab.research.google.com/github/alvaphelan/Python-HowTos/blob/main/Functions.ipynb\" target=\"_parent\"><img src=\"https://colab.research.google.com/assets/colab-badge.svg\" alt=\"Open In Colab\"/></a>"
      ]
    },
    {
      "cell_type": "markdown",
      "id": "844a7c9a",
      "metadata": {
        "id": "844a7c9a"
      },
      "source": [
        "# Funtions\n",
        "\n",
        "Defining your own functions in python can be very useful, especially if you're doing repeat calculations with the same equations. The easiest way to define your function is to use the 'def' command. You can name your function whatever you like, but a descriptive name is always best."
      ]
    },
    {
      "cell_type": "code",
      "execution_count": null,
      "id": "ebacc2fd",
      "metadata": {
        "id": "ebacc2fd"
      },
      "outputs": [],
      "source": [
        "import numpy as np"
      ]
    },
    {
      "cell_type": "code",
      "execution_count": null,
      "id": "21d167f0",
      "metadata": {
        "id": "21d167f0"
      },
      "outputs": [],
      "source": [
        "# example\n",
        "\n",
        "# changing degrees to radians\n",
        "\n",
        "def deg_to_rad(d):\n",
        "    #radians are equal to degrees multiplied by pi/180\n",
        "    r = d * np.pi/180\n",
        "    #return radians\n",
        "    return r"
      ]
    },
    {
      "cell_type": "code",
      "execution_count": null,
      "id": "c044ced3",
      "metadata": {
        "id": "c044ced3",
        "outputId": "9821897b-1aa1-48d9-db20-7c208a30efdf"
      },
      "outputs": [
        {
          "name": "stdout",
          "output_type": "stream",
          "text": [
            "90 degrees is 1.571 rad\n"
          ]
        }
      ],
      "source": [
        "#see if it works\n",
        "print(f'90 degrees is {deg_to_rad(90):.3f} rad')"
      ]
    },
    {
      "cell_type": "markdown",
      "id": "6c4e0e6b",
      "metadata": {
        "id": "6c4e0e6b"
      },
      "source": [
        "When doing calculations with lots of variables, it is much more clear if all of them are defined before the equation. This can help avoid mistakes and keeps the code much neater. For example, in an experiment examining the hall effect, voltage and current are measured while the magnetic field is kept constant. This relationship follows the equation:\n",
        "\n",
        "$ R_H = \\frac{V_H w}{IB}$\n",
        "\n",
        "Putting in the form of a straight line:\n",
        "\n",
        "$V_H = \\frac{R_H B}{w}I$\n",
        "\n",
        "So in this case if you were looking for the hall constant($R_H$), the slope of the graph (m) achieved would be equal to\n",
        "\n",
        "$m = \\frac{R_H B}{w}$\n",
        "\n",
        "If looking at multiple graphs, you could easily make a function to make this calculation easier."
      ]
    },
    {
      "cell_type": "code",
      "execution_count": null,
      "id": "76791060",
      "metadata": {
        "id": "76791060",
        "outputId": "92f6bb4a-211a-4884-eae7-6cfd5a656ebf"
      },
      "outputs": [
        {
          "name": "stdout",
          "output_type": "stream",
          "text": [
            "The hall constant was found to be 0.262\n"
          ]
        }
      ],
      "source": [
        "#define the variables (using random data)\n",
        "m = -8.5\n",
        "w = 0.0012\n",
        "B = -0.039\n",
        "\n",
        "def hall_constant(m, w, B):\n",
        "    R = (m*w)/B\n",
        "    return R\n",
        "\n",
        "#in this case\n",
        "print(f\"The hall constant was found to be {hall_constant(m, w, B):.3f}\")"
      ]
    },
    {
      "cell_type": "markdown",
      "id": "49ea9964",
      "metadata": {
        "id": "49ea9964"
      },
      "source": [
        "Creating functions like this allows you to easily see what you're doing and change the variables without having to rewrite the equation every time."
      ]
    },
    {
      "cell_type": "code",
      "execution_count": null,
      "id": "6842e092",
      "metadata": {
        "id": "6842e092"
      },
      "outputs": [],
      "source": [
        ""
      ]
    }
  ],
  "metadata": {
    "kernelspec": {
      "display_name": "Python 3",
      "language": "python",
      "name": "python3"
    },
    "language_info": {
      "codemirror_mode": {
        "name": "ipython",
        "version": 3
      },
      "file_extension": ".py",
      "mimetype": "text/x-python",
      "name": "python",
      "nbconvert_exporter": "python",
      "pygments_lexer": "ipython3",
      "version": "3.8.8"
    },
    "colab": {
      "name": "Functions.ipynb",
      "provenance": [],
      "include_colab_link": true
    }
  },
  "nbformat": 4,
  "nbformat_minor": 5
}