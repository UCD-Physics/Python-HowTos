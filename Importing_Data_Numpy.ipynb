{
 "cells": [
  {
   "cell_type": "markdown",
   "id": "2a7cac8c",
   "metadata": {
    "colab_type": "text",
    "id": "view-in-github"
   },
   "source": [
    "<a href=\"https://colab.research.google.com/github/UCD-Physics/Python-HowTos/blob/main/Importing_Data_Numpy.ipynb\" target=\"_parent\"><img src=\"https://colab.research.google.com/assets/colab-badge.svg\" alt=\"Open In Colab\"/></a>"
   ]
  },
  {
   "cell_type": "markdown",
   "id": "b134353e",
   "metadata": {
    "id": "b134353e"
   },
   "source": [
    "# Importing data from text files with Numpy\n",
    "\n",
    "Being able to import data easily is hugely important in order to analyse and graph it. \n",
    "\n",
    "There are several ways to do this but in this section we will go over the basic way to do it using Numpy's `loadtxt()`.\n",
    "\n",
    "For for information see the [Numpy loadtxt documentation](https://numpy.org/doc/stable/reference/generated/numpy.loadtxt.html) "
   ]
  },
  {
   "cell_type": "code",
   "execution_count": 1,
   "id": "80f89158",
   "metadata": {
    "id": "80f89158"
   },
   "outputs": [],
   "source": [
    "import numpy as np"
   ]
  },
  {
   "cell_type": "markdown",
   "id": "dfda8aab",
   "metadata": {},
   "source": [
    "## Download sample data files\n",
    "\n",
    "Download the sample text files from Github by running the cell below (note: you need wget installed - it is already installed in Google colab but may not be on your own machine. In that case you can either install wget or just enter the URL of the files directly in a browser and save them):"
   ]
  },
  {
   "cell_type": "code",
   "execution_count": null,
   "id": "0d4f392e",
   "metadata": {
    "scrolled": true
   },
   "outputs": [],
   "source": [
    "!wget https://raw.githubusercontent.com/UCD-Physics/Python-HowTos/main/sample_data_1.txt\n",
    "!wget https://raw.githubusercontent.com/UCD-Physics/Python-HowTos/main/sample_data_2.txt\n"
   ]
  },
  {
   "cell_type": "markdown",
   "id": "5ea582be",
   "metadata": {
    "id": "5ea582be"
   },
   "source": [
    "It the following sections we assume the data has been downloaded and is in the same folder as this notebook."
   ]
  },
  {
   "cell_type": "markdown",
   "id": "1f8f052a",
   "metadata": {},
   "source": [
    "## Numpy loadtxt()\n",
    "\n",
    "Note: Numpy `loadtxt()` will skip comment lines (starting with a '#') by default.\n",
    "\n",
    "The simplest usage is \n",
    "```python\n",
    "data = np.loadtxt(filename)\n",
    "```\n",
    "where the data gets loaded into the variable called `data`."
   ]
  },
  {
   "cell_type": "markdown",
   "id": "82cf0bef",
   "metadata": {
    "code_folding": []
   },
   "source": [
    "## Loading data with a single column\n",
    "\n",
    "to load data with a single "
   ]
  },
  {
   "cell_type": "code",
   "execution_count": 2,
   "id": "439d12a9",
   "metadata": {
    "colab": {
     "base_uri": "https://localhost:8080/"
    },
    "id": "439d12a9",
    "outputId": "a0d78d19-eb8f-45d7-86f5-79b4d54f31ba"
   },
   "outputs": [
    {
     "data": {
      "text/plain": [
       "array([2.30770842, 2.30797343, 2.30820785, 2.30822824, 2.30824862,\n",
       "       2.30822824, 2.30817727, 2.30859516, 2.30847285, 2.30875824,\n",
       "       2.30882959, 2.30878882, 2.30891113, 2.27945513, 2.23846134,\n",
       "       2.23949078, 2.24038771, 2.2413356 , 2.24198791, 2.24296638,\n",
       "       2.24407735, 2.24496409, 2.24568775, 2.24687006, 2.24742045,\n",
       "       2.24821546, 2.24935701, 2.25039663, 2.25076356, 2.25179299,\n",
       "       2.25236376, 2.25304665, 2.25357665, 2.25420858, 2.25406589])"
      ]
     },
     "execution_count": 2,
     "metadata": {},
     "output_type": "execute_result"
    }
   ],
   "source": [
    "#example data\n",
    "\n",
    "data = np.loadtxt(\"sample_data_1.txt\")\n",
    "data"
   ]
  },
  {
   "cell_type": "markdown",
   "id": "793c9746",
   "metadata": {},
   "source": [
    "## Loading data with more than one column\n",
    "\n",
    "There are two ways to load data with more than one column:\n",
    "1. Load it as above into a single variable (it will be loaded as a 2D array) and then extract the columns\n",
    "2. for every column specify a variable and use the `unpack=True` option (preferred!)\n",
    "\n",
    "Both are illustrated below:"
   ]
  },
  {
   "cell_type": "markdown",
   "id": "f93dac0d",
   "metadata": {},
   "source": [
    "### Load as single 2D array and extract columns"
   ]
  },
  {
   "cell_type": "code",
   "execution_count": 3,
   "id": "U022h1NJcsr4",
   "metadata": {
    "id": "U022h1NJcsr4"
   },
   "outputs": [
    {
     "name": "stdout",
     "output_type": "stream",
     "text": [
      "Voltage:  [1. 2. 3. 4. 5. 6. 7. 8. 9.]\n",
      "Current:  [10. 20. 30. 40. 50. 60. 70. 80. 90.]\n"
     ]
    }
   ],
   "source": [
    "# sample_data_2 has two columns, say voltage and current\n",
    "\n",
    "data = np.loadtxt('sample_data_2.txt')  \n",
    "voltage = data[:,0]\n",
    "current = data[:,1]\n",
    "\n",
    "print(\"Voltage: \",voltage)\n",
    "print(\"Current: \",current)"
   ]
  },
  {
   "cell_type": "markdown",
   "id": "22160e9d",
   "metadata": {
    "id": "22160e9d"
   },
   "source": [
    "### Load into individual arrays"
   ]
  },
  {
   "cell_type": "code",
   "execution_count": 4,
   "id": "6axs0mOzclbG",
   "metadata": {
    "id": "6axs0mOzclbG"
   },
   "outputs": [
    {
     "name": "stdout",
     "output_type": "stream",
     "text": [
      "Voltage:  [1. 2. 3. 4. 5. 6. 7. 8. 9.]\n",
      "Current:  [10. 20. 30. 40. 50. 60. 70. 80. 90.]\n"
     ]
    }
   ],
   "source": [
    "voltage, current = np.loadtxt('sample_data_2.txt', unpack = 'true')\n",
    "\n",
    "print(\"Voltage: \",voltage)\n",
    "print(\"Current: \",current)"
   ]
  },
  {
   "cell_type": "markdown",
   "id": "i_TQUr2bcra5",
   "metadata": {
    "id": "i_TQUr2bcra5"
   },
   "source": [
    "or"
   ]
  },
  {
   "cell_type": "markdown",
   "id": "7fbe58af",
   "metadata": {
    "id": "7fbe58af"
   },
   "source": [
    "## More advanced options\n",
    "\n",
    "There are also lots of options to include in the 'loadtxt' function. If the data you are importing has a header, you can skip this and only include numerical data by the option \n",
    "```python\n",
    "skiprows = 1\n",
    "```\n",
    "\n",
    "---\n",
    "\n",
    "If your data is separated by commas you can use the delimiter option to separate the data points\n",
    "```python\n",
    "delimiter =','\n",
    "```\n",
    "\n",
    "---\n",
    "\n",
    "It can also be useful to specify what type of data is being read, e.g. float, integer, string \n",
    "```python\n",
    "dtype = 'float, int, S24'\n",
    "```\n",
    "*note S24 means to expect a string with a max of 24 characters*\n",
    "\n",
    "---\n",
    "\n",
    "In order to only use certain columns, you can use the following function, remembering that it begins at 0\n",
    "```python\n",
    "usecols = (0,2,4) \n",
    "```\n",
    "to read the first, third and fifth columns.\n",
    "\n"
   ]
  },
  {
   "cell_type": "code",
   "execution_count": null,
   "id": "110c28c0",
   "metadata": {},
   "outputs": [],
   "source": []
  }
 ],
 "metadata": {
  "colab": {
   "include_colab_link": true,
   "name": "Importing Data.ipynb",
   "provenance": []
  },
  "kernelspec": {
   "display_name": "Python 3 (ipykernel)",
   "language": "python",
   "name": "python3"
  },
  "language_info": {
   "codemirror_mode": {
    "name": "ipython",
    "version": 3
   },
   "file_extension": ".py",
   "mimetype": "text/x-python",
   "name": "python",
   "nbconvert_exporter": "python",
   "pygments_lexer": "ipython3",
   "version": "3.9.7"
  },
  "latex_envs": {
   "LaTeX_envs_menu_present": true,
   "autoclose": true,
   "autocomplete": true,
   "bibliofile": "biblio.bib",
   "cite_by": "apalike",
   "current_citInitial": 1,
   "eqLabelWithNumbers": true,
   "eqNumInitial": 1,
   "hotkeys": {
    "equation": "Ctrl-E",
    "itemize": "Ctrl-I"
   },
   "labels_anchors": false,
   "latex_user_defs": false,
   "report_style_numbering": true,
   "user_envs_cfg": false
  },
  "toc": {
   "base_numbering": 1,
   "nav_menu": {},
   "number_sections": true,
   "sideBar": true,
   "skip_h1_title": false,
   "title_cell": "Table of Contents",
   "title_sidebar": "Contents",
   "toc_cell": false,
   "toc_position": {},
   "toc_section_display": true,
   "toc_window_display": false
  },
  "varInspector": {
   "cols": {
    "lenName": 16,
    "lenType": 16,
    "lenVar": 40
   },
   "kernels_config": {
    "python": {
     "delete_cmd_postfix": "",
     "delete_cmd_prefix": "del ",
     "library": "var_list.py",
     "varRefreshCmd": "print(var_dic_list())"
    },
    "r": {
     "delete_cmd_postfix": ") ",
     "delete_cmd_prefix": "rm(",
     "library": "var_list.r",
     "varRefreshCmd": "cat(var_dic_list()) "
    }
   },
   "types_to_exclude": [
    "module",
    "function",
    "builtin_function_or_method",
    "instance",
    "_Feature"
   ],
   "window_display": false
  }
 },
 "nbformat": 4,
 "nbformat_minor": 5
}
