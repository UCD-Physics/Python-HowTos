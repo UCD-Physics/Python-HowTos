{
 "cells": [
  {
   "cell_type": "markdown",
   "id": "1f5fb937",
   "metadata": {},
   "source": [
    "<a href=\"https://colab.research.google.com/github/UCD-Physics/Python-HowTos/blob/main/Bitwise_operations.ipynb\" target=\"_parent\"><img src=\"https://colab.research.google.com/assets/colab-badge.svg\" alt=\"Open In Colab\"/></a>"
   ]
  },
  {
   "cell_type": "markdown",
   "id": "9441959f",
   "metadata": {},
   "source": [
    "# Checking and manipulating individual bits in Python\n",
    "\n",
    "In the Advanced Labs Python is used for interfacing and experiment control and some experiments (in particular the Stage 3 Surface Plasmons experiment) need manipulation of individual bits.\n",
    "\n",
    "Python lets you print numbers in binary to see individual bit values and has a whole range of bitwise operations.\n",
    "\n",
    "\n",
    "| Operation | Symbol | \n",
    "|-----------|--------|\n",
    "| Bitwise AND | &    |  \n",
    "| Bitwise OR |  \\| | \n",
    "| Bitwise NOT |  ~ | \n",
    "| Bitwise XOR |  ^ |\n",
    "| Bitwise shift left | << |\n",
    "| Bitwise shift right | << |\n",
    "\n",
    "Here are some examples:"
   ]
  },
  {
   "cell_type": "code",
   "execution_count": 19,
   "id": "8876bdcc",
   "metadata": {},
   "outputs": [
    {
     "name": "stdout",
     "output_type": "stream",
     "text": [
      "b has value 57 (decimal) and 00111001 (binary)\n"
     ]
    }
   ],
   "source": [
    "# create and bring a binary number 00111001:\n",
    "\n",
    "b = 0b00111001\n",
    "print(f\"b has value {b:} (decimal) and {b:08b} (binary)\")"
   ]
  },
  {
   "cell_type": "code",
   "execution_count": 20,
   "id": "2bcdeb5a",
   "metadata": {},
   "outputs": [
    {
     "name": "stdout",
     "output_type": "stream",
     "text": [
      "00001000\n",
      "Yes - that bit is set!\n"
     ]
    }
   ],
   "source": [
    "# check if bit 3 (counting from 0) of b is high or low\n",
    "#\n",
    "# to do this we will Bitwise AND with 0x00001000\n",
    "\n",
    "print(f\"{ b & 0b00001000 :08b}\")\n",
    "\n",
    "# since this is a non-zero value and has a boolean equivalent of True,\n",
    "# we can make a logical decision using it:\n",
    "\n",
    "if b & 0b00001000:\n",
    "    print(\"Yes - that bit is set!\")\n",
    "else:\n",
    "    print(\"No = that bit is not set!\")"
   ]
  },
  {
   "cell_type": "code",
   "execution_count": 21,
   "id": "f8998a6c",
   "metadata": {},
   "outputs": [
    {
     "name": "stdout",
     "output_type": "stream",
     "text": [
      "00000001\n",
      "00000010\n",
      "00000100\n",
      "00001000\n",
      "00010000\n",
      "00100000\n",
      "01000000\n",
      "10000000\n"
     ]
    }
   ],
   "source": [
    "# here is an example of using bitshift:\n",
    "\n",
    "b = 1\n",
    "\n",
    "for i in range(8):\n",
    "    print(f\"{b:08b}\")\n",
    "    b = b << 1\n"
   ]
  },
  {
   "cell_type": "code",
   "execution_count": 22,
   "id": "0091ee09",
   "metadata": {},
   "outputs": [
    {
     "name": "stdout",
     "output_type": "stream",
     "text": [
      "b before: 00000001\n",
      "b after:  00010001\n"
     ]
    }
   ],
   "source": [
    "# Example: using bitwise OR to set a bit to 1\n",
    "\n",
    "b = 0b00000001\n",
    "\n",
    "print(f\"b before: {b:08b}\")\n",
    "\n",
    "b = b | 0b00010000\n",
    "\n",
    "print(f\"b after:  {b:08b}\")"
   ]
  },
  {
   "cell_type": "code",
   "execution_count": 23,
   "id": "d4183a9f",
   "metadata": {},
   "outputs": [
    {
     "name": "stdout",
     "output_type": "stream",
     "text": [
      "b before: 10010001\n",
      "b after:  10010000\n"
     ]
    }
   ],
   "source": [
    "# Example: using bitwise AND to set a bit to 0\n",
    "\n",
    "b = 0b10010001\n",
    "\n",
    "print(f\"b before: {b:08b}\")\n",
    "\n",
    "# we will only set the least significant bit to 0 \n",
    "# and leave all other bits unchanged\n",
    "b = b & 0b11111110\n",
    "\n",
    "print(f\"b after:  {b:08b}\")"
   ]
  },
  {
   "cell_type": "code",
   "execution_count": 2,
   "id": "aec5b41d",
   "metadata": {},
   "outputs": [
    {
     "name": "stdout",
     "output_type": "stream",
     "text": [
      "10010001\n",
      "10010000\n"
     ]
    }
   ],
   "source": [
    "# Making code readable\n",
    "#\n",
    "# Code readability can be improved by using variables and Bitwise ORing them together.\n",
    "# Example: say bit 4 is to enable a motor, bit 8 sets the direction\n",
    "# and it is stepped by making bit 0 low then high (clock steps) with the clock\n",
    "# pulse requring a minimum of 100 ms high and low\n",
    "\n",
    "from time import sleep\n",
    "\n",
    "def write_data(bits):\n",
    "    \"\"\"Dummy function to sumulate writing to hardware but just prints binary\"\"\"\n",
    "    print(f\"{bits:08b}\")\n",
    "\n",
    "enable = 0b00010000\n",
    "dir_cw = 0b10000000\n",
    "dir_ccw = 0b00000000\n",
    "clock_high = 0b00000001\n",
    "clock_low = 0b00000000\n",
    "\n",
    "\n",
    "# to move one step in CW direction\n",
    "write_data(enable | dir_cw | clock_high)\n",
    "sleep(0.1)\n",
    "write_data(enable | dir_cw | clock_low)\n",
    "sleep(0.1)\n",
    "\n",
    "# functions can be made to make the code very readable and user friendly"
   ]
  },
  {
   "cell_type": "code",
   "execution_count": null,
   "id": "3837d887",
   "metadata": {},
   "outputs": [],
   "source": []
  }
 ],
 "metadata": {
  "kernelspec": {
   "display_name": "Python 3 (ipykernel)",
   "language": "python",
   "name": "python3"
  },
  "language_info": {
   "codemirror_mode": {
    "name": "ipython",
    "version": 3
   },
   "file_extension": ".py",
   "mimetype": "text/x-python",
   "name": "python",
   "nbconvert_exporter": "python",
   "pygments_lexer": "ipython3",
   "version": "3.9.7"
  },
  "latex_envs": {
   "LaTeX_envs_menu_present": true,
   "autoclose": true,
   "autocomplete": true,
   "bibliofile": "biblio.bib",
   "cite_by": "apalike",
   "current_citInitial": 1,
   "eqLabelWithNumbers": true,
   "eqNumInitial": 1,
   "hotkeys": {
    "equation": "Ctrl-E",
    "itemize": "Ctrl-I"
   },
   "labels_anchors": false,
   "latex_user_defs": false,
   "report_style_numbering": true,
   "user_envs_cfg": false
  },
  "toc": {
   "base_numbering": 1,
   "nav_menu": {},
   "number_sections": true,
   "sideBar": true,
   "skip_h1_title": false,
   "title_cell": "Table of Contents",
   "title_sidebar": "Contents",
   "toc_cell": false,
   "toc_position": {},
   "toc_section_display": true,
   "toc_window_display": false
  },
  "varInspector": {
   "cols": {
    "lenName": 16,
    "lenType": 16,
    "lenVar": 40
   },
   "kernels_config": {
    "python": {
     "delete_cmd_postfix": "",
     "delete_cmd_prefix": "del ",
     "library": "var_list.py",
     "varRefreshCmd": "print(var_dic_list())"
    },
    "r": {
     "delete_cmd_postfix": ") ",
     "delete_cmd_prefix": "rm(",
     "library": "var_list.r",
     "varRefreshCmd": "cat(var_dic_list()) "
    }
   },
   "types_to_exclude": [
    "module",
    "function",
    "builtin_function_or_method",
    "instance",
    "_Feature"
   ],
   "window_display": false
  }
 },
 "nbformat": 4,
 "nbformat_minor": 5
}
